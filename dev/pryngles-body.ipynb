{
 "cells": [
  {
   "cell_type": "markdown",
   "id": "5c9f509d",
   "metadata": {},
   "source": [
    "# Pryngles module: body "
   ]
  },
  {
   "cell_type": "code",
   "execution_count": 12,
   "id": "c9a439e5",
   "metadata": {},
   "outputs": [],
   "source": [
    "from pryngles import *"
   ]
  },
  {
   "cell_type": "markdown",
   "id": "b3b68845",
   "metadata": {},
   "source": [
    "## External modules"
   ]
  },
  {
   "cell_type": "code",
   "execution_count": null,
   "id": "aaa41b53",
   "metadata": {},
   "outputs": [],
   "source": []
  },
  {
   "cell_type": "markdown",
   "id": "c2268fe1",
   "metadata": {},
   "source": [
    "## The body class\n",
    "\n",
    "The Body class is one of the most important classes in the package. "
   ]
  },
  {
   "cell_type": "code",
   "execution_count": 13,
   "id": "26bccc1b",
   "metadata": {},
   "outputs": [],
   "source": [
    "Body_doc=\\\n",
    "\"\"\"A general body.  This calss is not intended to be used independently, just for inheritance purposes.\n",
    "    \n",
    "Initialization attributes:\n",
    "\n",
    "    kind : string\n",
    "        One of the kind of bodies defined in the package (see _BODY_KINDS)\n",
    "\n",
    "    primary: Body\n",
    "        Object in the center of the orbit of this body.\n",
    "\n",
    "    orbit: Props\n",
    "        Object with the orbital properties of the body (eg. orbit.m is the mass)\n",
    "        see each specific Body definition for attributes.\n",
    "        orbit must be compatible with rebound.\n",
    "\n",
    "    physics: Props\n",
    "        Object with the physical properties of the body (eg. physics.radius)\n",
    "        see each specific Body definition for attributes.\n",
    "\n",
    "    optics: Props\n",
    "        Object with the optical properties of the body (eg. physics.lamb_albedo)\n",
    "        see each specific Body definition for attributes.\n",
    "\n",
    "Secondary attributes:\n",
    "\n",
    "    hash: string\n",
    "        Hash of the object, ie. a unique string identifying the object \n",
    "        (see hash Python function)\n",
    "\n",
    "    parent: Body\n",
    "        Body around this body is.  Attribute parent is the same as body.\n",
    "\n",
    "    childs: list\n",
    "        List with child bodies (bodies which have this body) as the center.\n",
    "\n",
    "Public methods:\n",
    "\n",
    "    update_body(props):\n",
    "        Update a given property.\n",
    "\"\"\""
   ]
  },
  {
   "cell_type": "code",
   "execution_count": 14,
   "id": "e814fdf8",
   "metadata": {},
   "outputs": [],
   "source": [
    "BODY_KINDS=[]\n",
    "class Body(PrynglesCommon):\n",
    "    \n",
    "    def __init__(self,defaults,kind,primary,orbit,physics,optics):\n",
    "        \n",
    "        #Update default properties\n",
    "        new_orbit=defaults.orbit.copy()\n",
    "        new_physics=defaults.physics.copy()\n",
    "        new_optics=defaults.optics.copy()\n",
    "        \n",
    "        new_orbit.update(**orbit)\n",
    "        new_physics.update(**physics)\n",
    "        new_optics.update(**optics)\n",
    "        \n",
    "        self.kind=kind\n",
    "        self.primary=primary\n",
    "        if self.primary is not None:\n",
    "            if not isinstance(self.primary,Body):\n",
    "                raise AssertionError(f\"Primary is not a valid Object\")            \n",
    "        \n",
    "        self.orbit=Props(**new_orbit)\n",
    "        self.physics=Props(**new_physics)\n",
    "        self.optics=Props(**new_optics)\n",
    "        if 'hash' in self.orbit.__dict__:\n",
    "            self.hash=self.orbit.hash\n",
    "        else:\n",
    "            self.hash=str(hash(self))\n",
    "    \n",
    "    def update_body(self,**props):\n",
    "        \"\"\"Update properties of the Body.\n",
    "        \n",
    "        Parametes:\n",
    "            orbit: Props                \n",
    "            physics: Props\n",
    "            optics: Props\n",
    "                Properties to update. The current object orbit is updated with new \n",
    "                values provided in this new object\n",
    "                \n",
    "        Example:\n",
    "        \n",
    "            B.update_body(orbit=dict(m=2))\n",
    "                This only update the attribute m of orbit.\n",
    "        \"\"\"\n",
    "        for prop in PROP_TYPES:\n",
    "            if prop in props and type(props[prop]) is dict:\n",
    "                new_prop=self.__dict__[prop].__dict__\n",
    "                new_prop.update(**props[prop])\n",
    "                props[prop]=Props(**new_prop)\n",
    "        \n",
    "        self.__dict__.update(props)\n",
    "        self._update_childs()\n",
    "        self._update_parent()\n",
    "    \n",
    "    def _update_childs(self,child=None):\n",
    "        if 'childs' not in self.__dict__:\n",
    "            self.childs=[]\n",
    "        if child is not None:\n",
    "            self.childs+=[child]\n",
    "            \n",
    "    def _update_parent(self,parent=None):\n",
    "        if 'parent' not in self.__dict__:\n",
    "            self.parent=parent\n",
    "        elif parent is not None:\n",
    "            self.parent=parent\n",
    "\n",
    "Body.__doc__=Body_doc"
   ]
  },
  {
   "cell_type": "markdown",
   "id": "f65ea338",
   "metadata": {},
   "source": [
    "## Testing"
   ]
  },
  {
   "cell_type": "code",
   "execution_count": 15,
   "id": "5eb7d532",
   "metadata": {},
   "outputs": [
    {
     "name": "stderr",
     "output_type": "stream",
     "text": [
      ".\n",
      "----------------------------------------------------------------------\n",
      "Ran 1 test in 0.001s\n",
      "\n",
      "OK\n"
     ]
    }
   ],
   "source": [
    "if IN_JUPYTER:\n",
    "    def test_fun(self):\n",
    "        \"\"\"\n",
    "        self.assertEqual(np.isclose([P.physics.wrot],\n",
    "                                    [2*np.pi/PlanetDefaults.physics[\"prot\"]],\n",
    "                                    rtol=1e-7),\n",
    "                         [True]*1)\n",
    "        self.assertRaises(AssertionError,lambda:Observer(primary=\"Nada\"))\n",
    "        \"\"\"\n",
    "        \n",
    "    class Test(unittest.TestCase):pass\n",
    "    Test.test_fun=test_fun\n",
    "    unittest.main(argv=['first-arg-is-ignored'],exit=False)"
   ]
  },
  {
   "cell_type": "markdown",
   "id": "7918ce69",
   "metadata": {},
   "source": [
    "--End--"
   ]
  }
 ],
 "metadata": {
  "kernelspec": {
   "display_name": "Python 3 (ipykernel)",
   "language": "python",
   "name": "python3"
  },
  "language_info": {
   "codemirror_mode": {
    "name": "ipython",
    "version": 3
   },
   "file_extension": ".py",
   "mimetype": "text/x-python",
   "name": "python",
   "nbconvert_exporter": "python",
   "pygments_lexer": "ipython3",
   "version": "3.9.7"
  }
 },
 "nbformat": 4,
 "nbformat_minor": 5
}
