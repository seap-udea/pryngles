{
 "cells": [
  {
   "cell_type": "markdown",
   "id": "5c9f509d",
   "metadata": {},
   "source": [
    "# Pryngles module: Miscellaneous"
   ]
  },
  {
   "cell_type": "markdown",
   "id": "b3b68845",
   "metadata": {},
   "source": [
    "## External modules"
   ]
  },
  {
   "cell_type": "code",
   "execution_count": 1,
   "id": "aaa41b53",
   "metadata": {},
   "outputs": [],
   "source": [
    "#@external\n",
    "from pryngles import *\n",
    "from collections import OrderedDict as odict\n",
    "from collections.abc import Iterable\n",
    "import inspect\n",
    "import os\n",
    "#@end:external"
   ]
  },
  {
   "cell_type": "markdown",
   "id": "1b43b0ee",
   "metadata": {},
   "source": [
    "## Miscelaneous Class"
   ]
  },
  {
   "cell_type": "code",
   "execution_count": 2,
   "id": "8ec556c4",
   "metadata": {},
   "outputs": [],
   "source": [
    "#@docstring:Misc\n",
    "Misc_doc=\\\n",
    "\"\"\"\n",
    "Miscelaneous routines.\n",
    "\n",
    "This is a set of util routines intended for a diversity of purposes.\n",
    "\n",
    "Routines included:\n",
    "\n",
    "    get_data(file)\n",
    "\"\"\";\n",
    "#@end:docstring"
   ]
  },
  {
   "cell_type": "code",
   "execution_count": 3,
   "id": "99657ffc",
   "metadata": {},
   "outputs": [],
   "source": [
    "#@class\n",
    "class Misc(object):\n",
    "    \n",
    "    def get_data(path):\n",
    "        \"\"\"\n",
    "        Get the full path of the `datafile` which is one of the datafiles provided with the package.\n",
    "        \n",
    "        Parameters:\n",
    "            datafile: Name of the data file, string.\n",
    "            \n",
    "        Return:\n",
    "            Full path to package datafile in the python environment.\n",
    "            \n",
    "        \"\"\"\n",
    "        return os.path.join(ROOTDIR,'data',path);\n",
    "    \n",
    "    def print_df(df):\n",
    "        \"\"\"Print DataFrame.\n",
    "        \n",
    "        Parameters:\n",
    "            df: Pandas DataFrame:\n",
    "                DataFrame to print.\n",
    "        \"\"\"\n",
    "        display(HTML(df.to_html()))\n",
    "        \n",
    "    def flatten(collection):\n",
    "        \"\"\"Flatten a list of objects\n",
    "\n",
    "        Examples:\n",
    "            list(Misc.flatten([\"cosa\"]))\n",
    "            list(Misc.flatten([[\"cosa\"]]))\n",
    "            list(Misc.flatten([[\"cosa\",\"perro\"]]))\n",
    "            list(Misc.flatten([[1,\"perro\"],object,float]))\n",
    "        \"\"\"\n",
    "        for i in collection:\n",
    "            if isinstance(i, Iterable) and not isinstance(i, basestring):\n",
    "                for subc in Misc.flatten(i):\n",
    "                    yield subc\n",
    "            else:\n",
    "                yield i\n",
    "                \n",
    "    def get_methods(my_class):\n",
    "        \"\"\"Get a list of the methods for class my_class\n",
    "        \"\"\"\n",
    "        return sorted([member[0] for member in inspect.getmembers(my_class) if '__' not in member[0]])\n",
    "\n",
    "#@end:class      \n",
    "\n",
    "Misc.__doc__=Misc_doc"
   ]
  },
  {
   "cell_type": "code",
   "execution_count": null,
   "id": "95359242",
   "metadata": {},
   "outputs": [],
   "source": []
  },
  {
   "cell_type": "code",
   "execution_count": 4,
   "id": "10dcf758",
   "metadata": {
    "scrolled": false
   },
   "outputs": [
    {
     "name": "stdout",
     "output_type": "stream",
     "text": [
      "/Users/jorgezuluagacallejas/Dropbox/MiInvestigacion/PapersEnProceso/Exorings/pryngles/src/pryngles/data/diffuse_reflection_function.data\n"
     ]
    },
    {
     "data": {
      "text/html": [
       "<table border=\"1\" class=\"dataframe\">\n",
       "  <thead>\n",
       "    <tr style=\"text-align: right;\">\n",
       "      <th></th>\n",
       "      <th>a</th>\n",
       "      <th>b</th>\n",
       "      <th>c</th>\n",
       "    </tr>\n",
       "  </thead>\n",
       "  <tbody>\n",
       "    <tr>\n",
       "      <th>0</th>\n",
       "      <td>0.0</td>\n",
       "      <td>0.0</td>\n",
       "      <td>0.0</td>\n",
       "    </tr>\n",
       "    <tr>\n",
       "      <th>1</th>\n",
       "      <td>0.0</td>\n",
       "      <td>0.0</td>\n",
       "      <td>0.0</td>\n",
       "    </tr>\n",
       "    <tr>\n",
       "      <th>2</th>\n",
       "      <td>0.0</td>\n",
       "      <td>0.0</td>\n",
       "      <td>0.0</td>\n",
       "    </tr>\n",
       "    <tr>\n",
       "      <th>3</th>\n",
       "      <td>0.0</td>\n",
       "      <td>0.0</td>\n",
       "      <td>0.0</td>\n",
       "    </tr>\n",
       "    <tr>\n",
       "      <th>4</th>\n",
       "      <td>0.0</td>\n",
       "      <td>0.0</td>\n",
       "      <td>0.0</td>\n",
       "    </tr>\n",
       "  </tbody>\n",
       "</table>"
      ],
      "text/plain": [
       "<IPython.core.display.HTML object>"
      ]
     },
     "metadata": {},
     "output_type": "display_data"
    },
    {
     "name": "stderr",
     "output_type": "stream",
     "text": [
      "."
     ]
    },
    {
     "name": "stdout",
     "output_type": "stream",
     "text": [
      "['hola']\n",
      "['hola', 'perro', 'gato']\n",
      "['flatten', 'get_data', 'get_methods', 'print_df']\n"
     ]
    },
    {
     "name": "stderr",
     "output_type": "stream",
     "text": [
      "\n",
      "----------------------------------------------------------------------\n",
      "Ran 1 test in 0.011s\n",
      "\n",
      "OK\n"
     ]
    },
    {
     "data": {
      "text/plain": [
       "<unittest.main.TestProgram at 0x7ff291e8bd90>"
      ]
     },
     "execution_count": 4,
     "metadata": {},
     "output_type": "execute_result"
    }
   ],
   "source": [
    "#@test:misc\n",
    "def test_misc(self):\n",
    "\n",
    "    #Get path\n",
    "    filepath=Misc.get_data(\"diffuse_reflection_function.data\")\n",
    "    print(filepath)\n",
    "\n",
    "    #print_df dataframe\n",
    "    import pandas as pd\n",
    "    import numpy as np\n",
    "    df=pd.DataFrame(np.zeros((5,3)),columns=[\"a\",\"b\",\"c\"])\n",
    "    Misc.print_df(df)\n",
    "\n",
    "    #Flatten\n",
    "    print(list(Misc.flatten([\"hola\"])))\n",
    "    print(list(Misc.flatten([\"hola\",[\"perro\",\"gato\"]])))\n",
    "\n",
    "    #Get methods\n",
    "    print(Misc.get_methods(Misc))\n",
    "\n",
    "class Test(unittest.TestCase):pass    \n",
    "Test.test_misc=test_misc\n",
    "unittest.main(argv=['first-arg-is-ignored'],exit=False)\n",
    "#@end:test"
   ]
  },
  {
   "cell_type": "markdown",
   "id": "150b0a66",
   "metadata": {},
   "source": [
    "### Test"
   ]
  },
  {
   "cell_type": "code",
   "execution_count": 5,
   "id": "46fdcad7",
   "metadata": {},
   "outputs": [],
   "source": [
    "#@end:module"
   ]
  },
  {
   "cell_type": "markdown",
   "id": "4bdb2b79",
   "metadata": {},
   "source": [
    "## Playing ground"
   ]
  },
  {
   "cell_type": "code",
   "execution_count": null,
   "id": "ce4eaf6c",
   "metadata": {},
   "outputs": [],
   "source": []
  }
 ],
 "metadata": {
  "kernelspec": {
   "display_name": "Python 3 (ipykernel)",
   "language": "python",
   "name": "python3"
  },
  "language_info": {
   "codemirror_mode": {
    "name": "ipython",
    "version": 3
   },
   "file_extension": ".py",
   "mimetype": "text/x-python",
   "name": "python",
   "nbconvert_exporter": "python",
   "pygments_lexer": "ipython3",
   "version": "3.9.7"
  }
 },
 "nbformat": 4,
 "nbformat_minor": 5
}
