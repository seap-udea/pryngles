{
 "cells": [
  {
   "cell_type": "markdown",
   "id": "5c9f509d",
   "metadata": {},
   "source": [
    "# PlanetaRY spanGLES"
   ]
  },
  {
   "cell_type": "markdown",
   "id": "b489a929",
   "metadata": {},
   "source": [
    "This is the initialization file of the `Pryngles` package.  \n",
    "\n",
    "> **Note for `JupDev`**: This is the only module that should be converted as it is without using any decorator `#@``"
   ]
  },
  {
   "cell_type": "markdown",
   "id": "e5102178",
   "metadata": {},
   "source": [
    "## Packages common to all modules"
   ]
  },
  {
   "cell_type": "code",
   "execution_count": 1,
   "id": "c9a439e5",
   "metadata": {},
   "outputs": [],
   "source": [
    "#@external:__init__\n",
    "import unittest\n",
    "import warnings\n",
    "import dill\n",
    "import inspect\n",
    "import sigfig\n",
    "from copy import deepcopy\n",
    "import sys\n",
    "from collections import OrderedDict as odict\n",
    "warnings.filterwarnings('ignore')\n",
    "\n",
    "#JupDev: Jupyter compatibility\n",
    "from IPython.display import HTML, Image, display\n",
    "import IPython.core.autocall as autocall\n",
    "from IPython import get_ipython\n",
    "#@end:external"
   ]
  },
  {
   "cell_type": "markdown",
   "id": "6eb12075",
   "metadata": {},
   "source": [
    "## Jupyter compatibilty"
   ]
  },
  {
   "cell_type": "code",
   "execution_count": 2,
   "id": "cc1c2a8f",
   "metadata": {},
   "outputs": [],
   "source": [
    "#@standalone\n",
    "\"\"\"\n",
    "The purpose of the get_ipython class is to provide some response in the python \n",
    "script resulting from the conversion of this notebook.\n",
    "\n",
    "If you want to add another IPyhton function resulting from a magic command to the class, \n",
    "please verify in the resulting python script the corresponding IPython command.\n",
    "\n",
    "For instance, the magic \"%matplotlib nbagg\" is converted into:\n",
    "\n",
    "    get_ipython().magic('matplotlib nbagg',globals())\n",
    "\n",
    "So, the method \"magic\" should be add to the get_ipython() class.        \n",
    "\"\"\"\n",
    "try:\n",
    "    cfg=get_ipython().config\n",
    "except AttributeError:\n",
    "    def Image(url=\"\",filename=\"\",f=\"\"):\n",
    "        pass\n",
    "    class get_ipython(object):\n",
    "        def run_line_magic(self,*args):\n",
    "            pass\n",
    "        def run_cell_magic(self,x,y,z):\n",
    "            pass\n",
    "        def magic(self,command,scope=globals()):\n",
    "            pass\n",
    "\n",
    "#Magics can only be located starting from here\n",
    "%load_ext autoreload\n",
    "%autoreload 2\n",
    "#@end:standalone"
   ]
  },
  {
   "cell_type": "markdown",
   "id": "357fc6fd",
   "metadata": {},
   "source": [
    "## Verbosity"
   ]
  },
  {
   "cell_type": "code",
   "execution_count": 3,
   "id": "88851279",
   "metadata": {},
   "outputs": [],
   "source": [
    "#@standalone\n",
    "#Verbosity levels: see help(Verbose)\n",
    "VERB_NONE=0\n",
    "VERB_SIMPLE=1\n",
    "VERB_SYSTEM=2\n",
    "VERB_VERIFY=3\n",
    "VERB_DEEP=4\n",
    "VERB_ALL=100\n",
    "\n",
    "class Verbose(object):\n",
    "    \"\"\"Verbose print in the package\n",
    "    \n",
    "    Attributes:\n",
    "        VERBOSITY: int, default = 0:\n",
    "            Level of verbosity.\n",
    "            \n",
    "            Verbosity levels:\n",
    "                SIMPLE: Simple messages.\n",
    "                SYSTEM: System operations.\n",
    "                VERIFY: Message to verify operations\n",
    "                DEEP: Deep debugging messages\n",
    "                ALL: All debugging messages\n",
    "                \n",
    "    Methods:\n",
    "        print(level,msg):\n",
    "            Print a message if level<=VERBOSITY.\n",
    "    \n",
    "    Example:\n",
    "    \n",
    "        Verbose.print(1,\"Hello world\") #No print\n",
    "        \n",
    "        Verbose.print(0,\"Hello world\") #Print\n",
    "\n",
    "        Verbose.VERBOSITY=1\n",
    "        Verbose.print(1,\"Hello world\") #Print\n",
    "        \n",
    "        Verbose.VERBOSITY=2\n",
    "        Verbose.print(1,\"Hello world\") #Print\n",
    "        \n",
    "        Verbose.VERBOSITY=2\n",
    "        Verbose.print(4,\"Hello world\") #No print\n",
    "    \"\"\"\n",
    "    VERBOSITY=VERB_ALL\n",
    "    def print(level,*args):\n",
    "        if level<=Verbose.VERBOSITY:\n",
    "            print(\"  \"*level+f\"VERB{level}::{inspect.stack()[1][3]}::\",*args)\n",
    "            \n",
    "#Alias\n",
    "verbose=Verbose.print\n",
    "#@end:standalone"
   ]
  },
  {
   "cell_type": "markdown",
   "id": "3e56fbb2",
   "metadata": {},
   "source": [
    "## PrynglesCommon\n",
    "\n",
    "Many of the classes in Pryngles inherite methods of this common class"
   ]
  },
  {
   "cell_type": "code",
   "execution_count": 4,
   "id": "26b0f280",
   "metadata": {},
   "outputs": [],
   "source": [
    "#@standalone\n",
    "class PrynglesCommon(object):\n",
    "    \"\"\"Base class of the package.\n",
    "    \n",
    "    All major classes are children of PrynglesCommon class.\n",
    "    \"\"\"\n",
    "    def __init__(self):\n",
    "        pass\n",
    "    \n",
    "    def save_to(self,filename):\n",
    "        \"\"\"Save object to a binary file\n",
    "        \n",
    "        Parameters:\n",
    "            filename: string:\n",
    "                Name of the file where the object will be stored.\n",
    "        \n",
    "        Notes:\n",
    "            Based on https://betterprogramming.pub/load-fast-load-big-with-compressed-pickles-5f311584507e.\n",
    "        \"\"\"\n",
    "        verbose(VERB_SYSTEM,f\"Saving object to {filename}\")\n",
    "        pikd = open(filename,\"wb\")\n",
    "        dill.dump(self, pikd)\n",
    "        pikd.close()\n",
    "            \n",
    "    def load_from(self,filename):\n",
    "        \"\"\"Read object from a binary file.\n",
    "        \n",
    "        Parameters:\n",
    "            filename: string:\n",
    "                Name of the file where the object is stored.        \n",
    "        \"\"\"\n",
    "        verbose(VERB_SYSTEM,f\"Loading object from {filename}\")\n",
    "        pikd = open(filename,\"rb\")\n",
    "        data = dill.load(pikd)\n",
    "        pikd.close()\n",
    "        verbose(VERB_VERIFY,f\"Transferring data to new object\")\n",
    "        self.__dict__=data.__dict__\n",
    "        return data\n",
    "    \n",
    "    def __str__(self):\n",
    "        \"\"\"Show content of an object\n",
    "        \n",
    "        This method determines the default behavior of the command:\n",
    "        \n",
    "            print(object)\n",
    "        \"\"\"\n",
    "        #Remove private attributes\n",
    "        return str({k:v for k,v in self.__dict__.items() if k[0]!='_'})\n",
    "#@end:standalone"
   ]
  },
  {
   "cell_type": "markdown",
   "id": "9e21dd5e",
   "metadata": {},
   "source": [
    "## Pryngles modules"
   ]
  },
  {
   "cell_type": "code",
   "execution_count": 5,
   "id": "0f76f947",
   "metadata": {},
   "outputs": [
    {
     "name": "stdout",
     "output_type": "stream",
     "text": [
      "The autoreload extension is already loaded. To reload it, use:\n",
      "  %reload_ext autoreload\n"
     ]
    }
   ],
   "source": [
    "#@standalone\n",
    "from pryngles.version import *\n",
    "\n",
    "#Constants\n",
    "from pryngles.consts import *\n",
    "\n",
    "#Utility modules\n",
    "from pryngles.misc import *\n",
    "from pryngles.extensions import *\n",
    "from pryngles.science import *\n",
    "from pryngles.plot import *\n",
    "from pryngles.orbit import *\n",
    "from pryngles.scatterer import *\n",
    "\n",
    "#Legacy module\n",
    "from pryngles.legacy import *\n",
    "\n",
    "#Core modules\n",
    "from pryngles.sampler import *\n",
    "from pryngles.spangler import *\n",
    "from pryngles.body import *\n",
    "from pryngles.system import *\n",
    "\n",
    "#Reset verbosity\n",
    "Verbose.VERBOSITY=VERB_NONE\n",
    "#@end:standalone"
   ]
  },
  {
   "cell_type": "markdown",
   "id": "409134ae",
   "metadata": {},
   "source": [
    "## Aliases"
   ]
  },
  {
   "cell_type": "code",
   "execution_count": 6,
   "id": "b9193206",
   "metadata": {},
   "outputs": [],
   "source": [
    "#@standalone\n",
    "#This aliases does not work in modules\n",
    "print_df=Misc.print_df\n",
    "sci=Science\n",
    "#@end:standalone"
   ]
  },
  {
   "cell_type": "markdown",
   "id": "21de3ee3",
   "metadata": {},
   "source": [
    "## Tests"
   ]
  },
  {
   "cell_type": "code",
   "execution_count": 7,
   "id": "3159b274",
   "metadata": {
    "scrolled": true
   },
   "outputs": [
    {
     "name": "stderr",
     "output_type": "stream",
     "text": [
      "."
     ]
    },
    {
     "name": "stdout",
     "output_type": "stream",
     "text": [
      "    VERB2::save_to:: Saving object to /tmp/save.pck\n",
      "File size: 3.200736  Mb\n",
      "    VERB2::load_from:: Loading object from /tmp/save.pck\n",
      "      VERB3::load_from:: Transferring data to new object\n",
      "{'perro': 0, 'gato': 3} (4000, 100)\n"
     ]
    },
    {
     "name": "stderr",
     "output_type": "stream",
     "text": [
      "\n",
      "----------------------------------------------------------------------\n",
      "Ran 1 test in 0.132s\n",
      "\n",
      "OK\n"
     ]
    },
    {
     "data": {
      "text/plain": [
       "<unittest.main.TestProgram at 0x7fdb42bfcf40>"
      ]
     },
     "execution_count": 7,
     "metadata": {},
     "output_type": "execute_result"
    }
   ],
   "source": [
    "#@test:__init__\n",
    "def test_common(self):\n",
    "    import numpy as np\n",
    "    import pandas as pd\n",
    "    import os\n",
    "\n",
    "    Verbose.VERBOSITY=VERB_ALL\n",
    "\n",
    "    p=PrynglesCommon()\n",
    "    p.casa=dict(perro=0,gato=3)\n",
    "    p.data=pd.DataFrame(np.random.rand(4000,100))\n",
    "    p.save_to(\"/tmp/save.pck\")\n",
    "    print(\"File size:\",os.path.getsize(\"/tmp/save.pck\")/1e6,\" Mb\")\n",
    "    g=PrynglesCommon()\n",
    "    g.load_from(\"/tmp/save.pck\")\n",
    "    print(g.casa,np.array(g.data).shape)\n",
    "\n",
    "    Verbose.VERBOSITY=VERB_NONE\n",
    "\n",
    "class Test(unittest.TestCase):pass    \n",
    "Test.test_common=test_common\n",
    "unittest.main(argv=['first-arg-is-ignored'],exit=False)\n",
    "#@end:test"
   ]
  },
  {
   "cell_type": "markdown",
   "id": "a3d7b371",
   "metadata": {},
   "source": [
    "### The end"
   ]
  },
  {
   "cell_type": "code",
   "execution_count": 8,
   "id": "b36e296c",
   "metadata": {},
   "outputs": [],
   "source": [
    "#@end:module"
   ]
  },
  {
   "cell_type": "markdown",
   "id": "b1c5d6af",
   "metadata": {},
   "source": [
    "## Playing ground"
   ]
  },
  {
   "cell_type": "code",
   "execution_count": null,
   "id": "15327dc1",
   "metadata": {},
   "outputs": [],
   "source": []
  }
 ],
 "metadata": {
  "kernelspec": {
   "display_name": "Python 3 (ipykernel)",
   "language": "python",
   "name": "python3"
  },
  "language_info": {
   "codemirror_mode": {
    "name": "ipython",
    "version": 3
   },
   "file_extension": ".py",
   "mimetype": "text/x-python",
   "name": "python",
   "nbconvert_exporter": "python",
   "pygments_lexer": "ipython3",
   "version": "3.11.2"
  }
 },
 "nbformat": 4,
 "nbformat_minor": 5
}
