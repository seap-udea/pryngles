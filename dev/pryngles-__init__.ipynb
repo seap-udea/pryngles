{
 "cells": [
  {
   "cell_type": "markdown",
   "id": "5c9f509d",
   "metadata": {},
   "source": [
    "# PlanetaRY spanGLES"
   ]
  },
  {
   "cell_type": "markdown",
   "id": "b489a929",
   "metadata": {},
   "source": [
    "This is the initialization file of the `Pryngles` package."
   ]
  },
  {
   "cell_type": "markdown",
   "id": "e5102178",
   "metadata": {},
   "source": [
    "## Warnings"
   ]
  },
  {
   "cell_type": "code",
   "execution_count": 1,
   "id": "c9a439e5",
   "metadata": {},
   "outputs": [],
   "source": [
    "import unittest\n",
    "import warnings\n",
    "import dill\n",
    "warnings.filterwarnings('ignore')"
   ]
  },
  {
   "cell_type": "markdown",
   "id": "6eb12075",
   "metadata": {},
   "source": [
    "## Jupyter compatibilty"
   ]
  },
  {
   "cell_type": "code",
   "execution_count": 3,
   "id": "cc1c2a8f",
   "metadata": {},
   "outputs": [
    {
     "name": "stdout",
     "output_type": "stream",
     "text": [
      "The autoreload extension is already loaded. To reload it, use:\n",
      "  %reload_ext autoreload\n"
     ]
    }
   ],
   "source": [
    "\"\"\"\n",
    "The purpose of the get_ipython class is to provide some response in the python \n",
    "script resulting from the conversion of this notebook.\n",
    "\n",
    "If you want to add another IPyhton function resulting from a magic command to the class, \n",
    "please verify in the resulting python script the corresponding IPython command.\n",
    "\n",
    "For instance, the magic \"%matplotlib nbagg\" is converted into:\n",
    "\n",
    "    get_ipython().magic('matplotlib nbagg',globals())\n",
    "\n",
    "So, the method \"magic\" should be add to the get_ipython() class.        \n",
    "\"\"\"\n",
    "from IPython.display import HTML, Image, display\n",
    "import IPython.core.autocall as autocall\n",
    "from IPython import get_ipython\n",
    "import sys\n",
    "\n",
    "try:\n",
    "    cfg=get_ipython().config\n",
    "except AttributeError:\n",
    "    def Image(url=\"\",filename=\"\",f=\"\"):\n",
    "        pass\n",
    "    class get_ipython(object):\n",
    "        def run_line_magic(self,*args):\n",
    "            pass\n",
    "        def run_cell_magic(self,x,y,z):\n",
    "            pass\n",
    "        def magic(self,command,scope=globals()):\n",
    "            pass\n",
    "\n",
    "#Magics can only be located from here\n",
    "%load_ext autoreload\n",
    "%autoreload 2"
   ]
  },
  {
   "cell_type": "markdown",
   "id": "3e56fbb2",
   "metadata": {},
   "source": [
    "## PrynglesCommon\n",
    "\n",
    "Many of the classes in Pryngles inherite methods of this common class"
   ]
  },
  {
   "cell_type": "code",
   "execution_count": 69,
   "id": "116db9e1",
   "metadata": {},
   "outputs": [],
   "source": [
    "\"\"\"Verbosity levels:\n",
    "SIMPLE: Simple messages.\n",
    "SYSTEM: System operations.\n",
    "VERIFY: Message to verify operations\n",
    "\"\"\"\n",
    "VERB_ALL=0\n",
    "VERB_SIMPLE=1\n",
    "VERB_SYSTEM=2\n",
    "VERB_VERIFY=3"
   ]
  },
  {
   "cell_type": "code",
   "execution_count": 70,
   "id": "42603a63",
   "metadata": {},
   "outputs": [],
   "source": [
    "class Verbose(object):\n",
    "    \"\"\"Verbose print in the package\n",
    "    \n",
    "    Attributes:\n",
    "        VERBOSITY: int, default = 0:\n",
    "            Level of verbosity.\n",
    "            \n",
    "    Methods:\n",
    "        print(level,msg):\n",
    "            Print a message if level<=VERBOSITY.\n",
    "    \n",
    "    Example:\n",
    "    \n",
    "        Verbose.print(1,\"Hello world\") #No print\n",
    "        \n",
    "        Verbose.print(0,\"Hello world\") #Print\n",
    "\n",
    "        Verbose.VERBOSITY=1\n",
    "        Verbose.print(1,\"Hello world\") #Print\n",
    "        \n",
    "        Verbose.VERBOSITY=2\n",
    "        Verbose.print(1,\"Hello world\") #Print\n",
    "        \n",
    "        Verbose.VERBOSITY=2\n",
    "        Verbose.print(4,\"Hello world\") #No print\n",
    "    \"\"\"\n",
    "    VERBOSITY=VERB_ALL\n",
    "    def print(level,*args):\n",
    "        if level<=Verbose.VERBOSITY:\n",
    "            print(\"  \"*level+f\"VERB{level}::\",*args)\n",
    "\n",
    "verbose=Verbose.print"
   ]
  },
  {
   "cell_type": "code",
   "execution_count": 71,
   "id": "26b0f280",
   "metadata": {},
   "outputs": [],
   "source": [
    "class PrynglesCommon(object):\n",
    "    \n",
    "    def save_to(self,filename):\n",
    "        \"\"\"Save object to a binary file\n",
    "        \n",
    "        Parameters:\n",
    "            filename: string:\n",
    "                Name of the file where the object will be stored.\n",
    "                \n",
    "            compressed: boolean, default = False:\n",
    "                If True the file will be stored compressed.\n",
    "        \n",
    "        Notes:\n",
    "            Based on https://betterprogramming.pub/load-fast-load-big-with-compressed-pickles-5f311584507e.\n",
    "        \"\"\"\n",
    "        verbose(VERB_SYSTEM,f\"Saving object to {filename}\")\n",
    "        pikd = open(filename,\"wb\")\n",
    "        dill.dump(self, pikd)\n",
    "        pikd.close()\n",
    "            \n",
    "    def load_from(self,filename,compressed=False):\n",
    "        verbose(VERB_SYSTEM,f\"Loading object from {filename}\")\n",
    "        pikd = open(filename,\"rb\")\n",
    "        data = dill.load(pikd)\n",
    "        pikd.close()\n",
    "        verbose(VERB_VERIFY,f\"Transferring data to new object\")\n",
    "        self.__dict__=data.__dict__\n",
    "        return data\n",
    "    \n",
    "    def __str__(self):\n",
    "        return str(self.__dict__)"
   ]
  },
  {
   "cell_type": "markdown",
   "id": "1b43b0ee",
   "metadata": {},
   "source": [
    "## Miscelaneous Class"
   ]
  },
  {
   "cell_type": "code",
   "execution_count": 72,
   "id": "8ec556c4",
   "metadata": {},
   "outputs": [],
   "source": [
    "Misc_doc=\\\n",
    "\"\"\"\n",
    "Miscelaneous routines.\n",
    "\n",
    "This is a set of util routines intended for a diversity of purposes.\n",
    "\n",
    "Routines included:\n",
    "\n",
    "    get_data(file)\n",
    "\"\"\";"
   ]
  },
  {
   "cell_type": "code",
   "execution_count": 73,
   "id": "99657ffc",
   "metadata": {},
   "outputs": [],
   "source": [
    "class Misc(object):\n",
    "    def get_data(path):\n",
    "        \"\"\"\n",
    "        Get the full path of the `datafile` which is one of the datafiles provided with the package.\n",
    "        \n",
    "        Parameters:\n",
    "            datafile: Name of the data file, string.\n",
    "            \n",
    "        Return:\n",
    "            Full path to package datafile in the python environment.\n",
    "            \n",
    "        \"\"\"\n",
    "        return os.path.join(ROOTDIR,'data',path);\n",
    "    \n",
    "    def print_df(df):\n",
    "        \"\"\"\n",
    "        Print DataFrame.\n",
    "        \n",
    "        Parameters:\n",
    "            df: Pandas DataFrame:\n",
    "                DataFrame to print.\n",
    "        \"\"\"\n",
    "        display(HTML(df.to_html()))\n",
    "        \n",
    "Misc.__doc__=Misc_doc"
   ]
  },
  {
   "cell_type": "markdown",
   "id": "9e21dd5e",
   "metadata": {},
   "source": [
    "## Pryngles modules"
   ]
  },
  {
   "cell_type": "code",
   "execution_count": 54,
   "id": "0f76f947",
   "metadata": {},
   "outputs": [
    {
     "name": "stdout",
     "output_type": "stream",
     "text": [
      "The autoreload extension is already loaded. To reload it, use:\n",
      "  %reload_ext autoreload\n"
     ]
    }
   ],
   "source": [
    "from pryngles.version import *\n",
    "from pryngles.consts import *\n",
    "from pryngles.science import *\n",
    "from pryngles.plot import *\n",
    "from pryngles.props import *\n",
    "from pryngles.body import *\n",
    "from pryngles.sampler import *\n",
    "from pryngles.spangler import *\n",
    "from pryngles.star import *\n",
    "from pryngles.planet import *\n",
    "from pryngles.ring import *\n",
    "from pryngles.observer import *\n",
    "from pryngles.system import *\n",
    "from pryngles.legacy import *"
   ]
  },
  {
   "cell_type": "markdown",
   "id": "21de3ee3",
   "metadata": {},
   "source": [
    "## Tests"
   ]
  },
  {
   "cell_type": "code",
   "execution_count": 74,
   "id": "3159b274",
   "metadata": {},
   "outputs": [
    {
     "name": "stderr",
     "output_type": "stream",
     "text": [
      "."
     ]
    },
    {
     "name": "stdout",
     "output_type": "stream",
     "text": [
      "    VERB2:: Saving object to /tmp/save.pck\n",
      "File size: 3.202032  Mb\n",
      "    VERB2:: Loading object from /tmp/save.pck\n",
      "      VERB3:: Transferring data to new object\n",
      "{'perro': 0, 'gato': 3} (4000, 100)\n"
     ]
    },
    {
     "name": "stderr",
     "output_type": "stream",
     "text": [
      "\n",
      "----------------------------------------------------------------------\n",
      "Ran 1 test in 0.025s\n",
      "\n",
      "OK\n"
     ]
    }
   ],
   "source": [
    "if IN_JUPYTER:\n",
    "    def test_common(self):\n",
    "        \n",
    "        import numpy as np\n",
    "        import pandas as pd\n",
    "        import os\n",
    "        \n",
    "        Verbose.VERBOSITY=3\n",
    "        \n",
    "        p=PrynglesCommon()\n",
    "        p.casa=dict(perro=0,gato=3)\n",
    "        p.data=pd.DataFrame(np.random.rand(4000,100))\n",
    "        p.save_to(\"/tmp/save.pck\")\n",
    "        print(\"File size:\",os.path.getsize(\"/tmp/save.pck\")/1e6,\" Mb\")\n",
    "        g=PrynglesCommon()\n",
    "        g.load_from(\"/tmp/save.pck\")\n",
    "        print(g.casa,np.array(g.data).shape)\n",
    "        \n",
    "        Verbose.VERBOSITY=0\n",
    "        \n",
    "    class Test(unittest.TestCase):pass    \n",
    "    Test.test_common=test_common\n",
    "    unittest.main(argv=['first-arg-is-ignored'],exit=False)"
   ]
  },
  {
   "cell_type": "code",
   "execution_count": 75,
   "id": "10dcf758",
   "metadata": {},
   "outputs": [
    {
     "name": "stdout",
     "output_type": "stream",
     "text": [
      "/Users/jorgezuluagacallejas/Dropbox/MiInvestigacion/PapersEnProceso/Exorings/pryngles/src/pryngles/data/diffuse_reflection_function.data\n"
     ]
    },
    {
     "data": {
      "text/html": [
       "<table border=\"1\" class=\"dataframe\">\n",
       "  <thead>\n",
       "    <tr style=\"text-align: right;\">\n",
       "      <th></th>\n",
       "      <th>a</th>\n",
       "      <th>b</th>\n",
       "      <th>c</th>\n",
       "    </tr>\n",
       "  </thead>\n",
       "  <tbody>\n",
       "    <tr>\n",
       "      <th>0</th>\n",
       "      <td>0.0</td>\n",
       "      <td>0.0</td>\n",
       "      <td>0.0</td>\n",
       "    </tr>\n",
       "    <tr>\n",
       "      <th>1</th>\n",
       "      <td>0.0</td>\n",
       "      <td>0.0</td>\n",
       "      <td>0.0</td>\n",
       "    </tr>\n",
       "    <tr>\n",
       "      <th>2</th>\n",
       "      <td>0.0</td>\n",
       "      <td>0.0</td>\n",
       "      <td>0.0</td>\n",
       "    </tr>\n",
       "    <tr>\n",
       "      <th>3</th>\n",
       "      <td>0.0</td>\n",
       "      <td>0.0</td>\n",
       "      <td>0.0</td>\n",
       "    </tr>\n",
       "    <tr>\n",
       "      <th>4</th>\n",
       "      <td>0.0</td>\n",
       "      <td>0.0</td>\n",
       "      <td>0.0</td>\n",
       "    </tr>\n",
       "  </tbody>\n",
       "</table>"
      ],
      "text/plain": [
       "<IPython.core.display.HTML object>"
      ]
     },
     "metadata": {},
     "output_type": "display_data"
    },
    {
     "name": "stderr",
     "output_type": "stream",
     "text": [
      ".\n",
      "----------------------------------------------------------------------\n",
      "Ran 1 test in 0.007s\n",
      "\n",
      "OK\n"
     ]
    }
   ],
   "source": [
    "if IN_JUPYTER:\n",
    "    def test_fun(self):\n",
    "        \n",
    "        #Get path\n",
    "        filepath=Misc.get_data(\"diffuse_reflection_function.data\")\n",
    "        print(filepath)\n",
    "        \n",
    "        #print_df dataframe\n",
    "        import pandas as pd\n",
    "        import numpy as np\n",
    "        df=pd.DataFrame(np.zeros((5,3)),columns=[\"a\",\"b\",\"c\"])\n",
    "        Misc.print_df(df)\n",
    "        \n",
    "    class Test(unittest.TestCase):pass    \n",
    "    Test.test_fun=test_fun\n",
    "    unittest.main(argv=['first-arg-is-ignored'],exit=False)"
   ]
  },
  {
   "cell_type": "markdown",
   "id": "8bdc5d5a",
   "metadata": {},
   "source": [
    "--End--"
   ]
  }
 ],
 "metadata": {
  "kernelspec": {
   "display_name": "Python 3 (ipykernel)",
   "language": "python",
   "name": "python3"
  },
  "language_info": {
   "codemirror_mode": {
    "name": "ipython",
    "version": 3
   },
   "file_extension": ".py",
   "mimetype": "text/x-python",
   "name": "python",
   "nbconvert_exporter": "python",
   "pygments_lexer": "ipython3",
   "version": "3.9.7"
  }
 },
 "nbformat": 4,
 "nbformat_minor": 5
}
