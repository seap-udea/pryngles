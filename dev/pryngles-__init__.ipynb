{
 "cells": [
  {
   "cell_type": "markdown",
   "id": "5c9f509d",
   "metadata": {},
   "source": [
    "# PlanetaRY spanGLES: the bright-side of the light-curve"
   ]
  },
  {
   "cell_type": "markdown",
   "id": "b489a929",
   "metadata": {},
   "source": [
    "This is the initialization file of the `Pryngles` package."
   ]
  },
  {
   "cell_type": "markdown",
   "id": "e5102178",
   "metadata": {},
   "source": [
    "## Warnings"
   ]
  },
  {
   "cell_type": "code",
   "execution_count": 41,
   "id": "c9a439e5",
   "metadata": {},
   "outputs": [
    {
     "name": "stdout",
     "output_type": "stream",
     "text": [
      "The autoreload extension is already loaded. To reload it, use:\n",
      "  %reload_ext autoreload\n"
     ]
    }
   ],
   "source": [
    "import unittest\n",
    "import warnings\n",
    "warnings.filterwarnings('ignore')"
   ]
  },
  {
   "cell_type": "markdown",
   "id": "6eb12075",
   "metadata": {},
   "source": [
    "## Jupyter compatibilty"
   ]
  },
  {
   "cell_type": "code",
   "execution_count": 11,
   "id": "cc1c2a8f",
   "metadata": {},
   "outputs": [
    {
     "name": "stdout",
     "output_type": "stream",
     "text": [
      "The autoreload extension is already loaded. To reload it, use:\n",
      "  %reload_ext autoreload\n"
     ]
    }
   ],
   "source": [
    "\"\"\"\n",
    "The purpose of the get_ipython class is to provide some response in the python \n",
    "script resulting from the conversion of this notebook.\n",
    "\n",
    "If you want to add another IPyhton function resulting from a magic command to the class, \n",
    "please verify in the resulting python script the corresponding IPython command.\n",
    "\n",
    "For instance, the magic \"%matplotlib nbagg\" is converted into:\n",
    "\n",
    "    get_ipython().magic('matplotlib nbagg',globals())\n",
    "\n",
    "So, the routinge \"magic\" should be add to the get_ipython() class.        \n",
    "\"\"\"\n",
    "from IPython.display import HTML, Image\n",
    "import IPython.core.autocall as autocall\n",
    "from IPython import get_ipython\n",
    "import sys\n",
    "\n",
    "try:\n",
    "    cfg=get_ipython().config\n",
    "except AttributeError:\n",
    "    def Image(url=\"\",filename=\"\",f=\"\"):\n",
    "        pass\n",
    "    class get_ipython(object):\n",
    "        def run_line_magic(self,*args):\n",
    "            if \"timeit\" in args[0]:\n",
    "                command=\" \".join(args)\n",
    "                replaceTimeIt(command)\n",
    "        def run_cell_magic(self,x,y,z):\n",
    "            pass\n",
    "        def magic(self,command,scope=globals()):\n",
    "            import re\n",
    "            if \"timeit\" in command:\n",
    "                replaceTimeIt(command)\n",
    "\n",
    "IN_JUPYTER='ipykernel' in sys.modules\n",
    "%load_ext autoreload\n",
    "%autoreload 2"
   ]
  },
  {
   "cell_type": "markdown",
   "id": "74bfc8bb",
   "metadata": {},
   "source": [
    "## Global variables\n",
    "\n",
    "All global constants in Pryngles have a capital name and a lowercase version in the class util."
   ]
  },
  {
   "cell_type": "code",
   "execution_count": 44,
   "id": "ba06f3bc",
   "metadata": {},
   "outputs": [
    {
     "name": "stdout",
     "output_type": "stream",
     "text": [
      "The autoreload extension is already loaded. To reload it, use:\n",
      "  %reload_ext autoreload\n"
     ]
    }
   ],
   "source": [
    "import os\n",
    "#Root directory\n",
    "try:\n",
    "    FILE=__file__\n",
    "    ROOTDIR=os.path.abspath(os.path.dirname(FILE))\n",
    "except:\n",
    "    import IPython\n",
    "    FILE=\"\"\n",
    "    ROOTDIR=os.path.abspath('')\n",
    "    \n",
    "BODY_KINDS=[]"
   ]
  },
  {
   "cell_type": "markdown",
   "id": "1b43b0ee",
   "metadata": {},
   "source": [
    "## Util Class"
   ]
  },
  {
   "cell_type": "code",
   "execution_count": 35,
   "id": "8ec556c4",
   "metadata": {},
   "outputs": [],
   "source": [
    "util_doc=\\\n",
    "\"\"\"\n",
    "Util routines.\n",
    "\n",
    "This is a set of util routines intended for a diversity of purposes.\n",
    "\n",
    "Routines included:\n",
    "\n",
    "    get_data(file)\n",
    "\"\"\";"
   ]
  },
  {
   "cell_type": "code",
   "execution_count": 36,
   "id": "99657ffc",
   "metadata": {},
   "outputs": [],
   "source": [
    "class util(object):\n",
    "    def get_data(path):\n",
    "        \"\"\"\n",
    "        Get the full path of the `datafile` which is one of the datafiles provided with the package.\n",
    "        \n",
    "        Parameters:\n",
    "            datafile: Name of the data file, string.\n",
    "            \n",
    "        Return:\n",
    "            Full path to package datafile in the python environment.\n",
    "            \n",
    "        \"\"\"\n",
    "        return os.path.join(ROOTDIR,'data',path);\n",
    "util.__doc__=util_doc"
   ]
  },
  {
   "cell_type": "markdown",
   "id": "3e56fbb2",
   "metadata": {},
   "source": [
    "## PrynglesCommon\n",
    "\n",
    "Many of the classes in Pryngles inherite methods of this common class"
   ]
  },
  {
   "cell_type": "code",
   "execution_count": 37,
   "id": "26b0f280",
   "metadata": {},
   "outputs": [],
   "source": [
    "class PrynglesCommon(object):\n",
    "    def __str__(self):\n",
    "        return str(self.__dict__)    "
   ]
  },
  {
   "cell_type": "markdown",
   "id": "9e21dd5e",
   "metadata": {},
   "source": [
    "## Pryngles modules"
   ]
  },
  {
   "cell_type": "code",
   "execution_count": 59,
   "id": "0f76f947",
   "metadata": {},
   "outputs": [
    {
     "name": "stdout",
     "output_type": "stream",
     "text": [
      "The autoreload extension is already loaded. To reload it, use:\n",
      "  %reload_ext autoreload\n"
     ]
    }
   ],
   "source": [
    "from pryngles.version import *\n",
    "from pryngles.consts import *\n",
    "from pryngles.props import *\n",
    "from pryngles.body import *\n",
    "from pryngles.star import *\n",
    "from pryngles.planet import *\n",
    "from pryngles.ring import *\n",
    "from pryngles.observer import *\n",
    "from pryngles.system import *\n",
    "from pryngles.spangling import *\n",
    "from pryngles.legacy import *"
   ]
  },
  {
   "cell_type": "markdown",
   "id": "68b7640b",
   "metadata": {},
   "source": [
    "--End--"
   ]
  },
  {
   "cell_type": "code",
   "execution_count": 56,
   "id": "fba29401",
   "metadata": {},
   "outputs": [
    {
     "data": {
      "text/plain": [
       "'/Users/jorgezuluagacallejas/Dropbox/MiInvestigacion/PapersEnProceso/Exorings/pryngles/src/pryngles/data/kernel'"
      ]
     },
     "execution_count": 56,
     "metadata": {},
     "output_type": "execute_result"
    }
   ],
   "source": [
    "util.get_data(\"kernel\")"
   ]
  },
  {
   "cell_type": "code",
   "execution_count": 57,
   "id": "801b6e7c",
   "metadata": {},
   "outputs": [
    {
     "data": {
      "text/plain": [
       "1.9884754159665356e+30"
      ]
     },
     "execution_count": 57,
     "metadata": {},
     "output_type": "execute_result"
    }
   ],
   "source": [
    "Consts.msun"
   ]
  }
 ],
 "metadata": {
  "kernelspec": {
   "display_name": "Python 3 (ipykernel)",
   "language": "python",
   "name": "python3"
  },
  "language_info": {
   "codemirror_mode": {
    "name": "ipython",
    "version": 3
   },
   "file_extension": ".py",
   "mimetype": "text/x-python",
   "name": "python",
   "nbconvert_exporter": "python",
   "pygments_lexer": "ipython3",
   "version": "3.9.7"
  }
 },
 "nbformat": 4,
 "nbformat_minor": 5
}
