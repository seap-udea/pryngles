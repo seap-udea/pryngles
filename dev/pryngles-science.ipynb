{
 "cells": [
  {
   "cell_type": "markdown",
   "id": "5c9f509d",
   "metadata": {},
   "source": [
    "# Pryngles module: Science"
   ]
  },
  {
   "cell_type": "code",
   "execution_count": 36,
   "id": "c9a439e5",
   "metadata": {},
   "outputs": [],
   "source": [
    "from pryngles import *"
   ]
  },
  {
   "cell_type": "markdown",
   "id": "b3b68845",
   "metadata": {},
   "source": [
    "## External modules"
   ]
  },
  {
   "cell_type": "code",
   "execution_count": 37,
   "id": "aaa41b53",
   "metadata": {},
   "outputs": [],
   "source": [
    "import numpy as np\n",
    "import math as mh\n",
    "import spiceypy as spy\n",
    "\n",
    "verbose=Verbose.print"
   ]
  },
  {
   "cell_type": "markdown",
   "id": "c2268fe1",
   "metadata": {},
   "source": [
    "## The Science class\n",
    "\n",
    "The Science class is a class with routines intended to perform a wide diversity of mathematical, physical and astronomical calculations."
   ]
  },
  {
   "cell_type": "code",
   "execution_count": 38,
   "id": "472eab06",
   "metadata": {},
   "outputs": [],
   "source": [
    "class Science(PrynglesCommon):pass"
   ]
  },
  {
   "cell_type": "markdown",
   "id": "1a91ad65",
   "metadata": {},
   "source": [
    "### Template method"
   ]
  },
  {
   "cell_type": "code",
   "execution_count": 39,
   "id": "a4466a4d",
   "metadata": {},
   "outputs": [],
   "source": [
    "def template(foo=1):\n",
    "    \"\"\"\n",
    "    Method\n",
    "\n",
    "    Parameters:\n",
    "\n",
    "        foo: type [units], default = 1:\n",
    "            Description.\n",
    "\n",
    "    Return:\n",
    "\n",
    "        fee: type [units]:\n",
    "            Desctiption.\n",
    "\n",
    "    \"\"\"\n",
    "    return foo\n",
    "\n",
    "Science.template=template"
   ]
  },
  {
   "cell_type": "code",
   "execution_count": 40,
   "id": "0b300bf3",
   "metadata": {},
   "outputs": [
    {
     "name": "stderr",
     "output_type": "stream",
     "text": [
      ".\n",
      "----------------------------------------------------------------------\n",
      "Ran 1 test in 0.001s\n",
      "\n",
      "OK\n"
     ]
    }
   ],
   "source": [
    "if IN_JUPYTER:\n",
    "    def test_temp(self):\n",
    "        \n",
    "        #Test\n",
    "        Science.template()\n",
    "        \"\"\"\n",
    "        self.assertEqual(self.P.Nr,8,True)\n",
    "        self.assertEqual(np.isclose([P.physics.wrot],\n",
    "                                    [2*np.pi/PlanetDefaults.physics[\"prot\"]],\n",
    "                                    rtol=1e-7),\n",
    "                         [True]*1)\n",
    "        self.assertRaises(AssertionError,lambda:Observer(primary=\"Nada\"))\n",
    "        \"\"\"\n",
    "        \n",
    "    class Test(unittest.TestCase):pass\n",
    "    Test.test_temp=test_temp\n",
    "    unittest.main(argv=['first-arg-is-ignored'],exit=False)"
   ]
  },
  {
   "cell_type": "markdown",
   "id": "bdd7c7a6",
   "metadata": {},
   "source": [
    "### Cartesian to spherical"
   ]
  },
  {
   "cell_type": "code",
   "execution_count": 41,
   "id": "6cab756e",
   "metadata": {},
   "outputs": [],
   "source": [
    "def spherical(xyz):\n",
    "    \"\"\"\n",
    "    Transform cartesian coordinates into spherical coordinates\n",
    "\n",
    "    Parameters:\n",
    "\n",
    "        xyz: array (3):\n",
    "            Cartesian coordinates\n",
    "\n",
    "    Return:\n",
    "\n",
    "        rqf: array (3):\n",
    "            Spherical coordinates (r, theta, phi) where theta is azimutal angle and phi is \n",
    "            elevation (complement of polar angle).                \n",
    "\n",
    "            Notice that this convention is different than that of regular vectorial calculus\n",
    "            where spherical coordinates are (r,theta,phi), but theta is the polar angle and phi \n",
    "            the ezimutal one.\n",
    "\n",
    "    \"\"\"\n",
    "    r,theta,phi=spy.reclat(np.array(xyz))\n",
    "    theta=2*mh.pi+theta if theta<0 else theta\n",
    "\n",
    "    return np.array([r,theta,phi])\n",
    "\n",
    "def cartesian(rqf):\n",
    "    \"\"\"\n",
    "    Transform cartesian coordinates into spherical coordinates\n",
    "\n",
    "    Parameters:\n",
    "\n",
    "        xyz: array (3):\n",
    "            Cartesian coordinates\n",
    "\n",
    "    Return:\n",
    "\n",
    "        rqf: array (3):\n",
    "            Spherical coordinates (r, theta, phi) where theta is azimutal angle and phi is \n",
    "            elevation (complement of polar angle).                \n",
    "\n",
    "            Notice that this convention is different than that of regular vectorial calculus\n",
    "            where spherical coordinates are (r,theta,phi), but theta is the polar angle and phi \n",
    "            the ezimutal one.\n",
    "\n",
    "    \"\"\"\n",
    "    return spy.latrec(rqf[0],rqf[1],rqf[2])\n",
    "\n",
    "Science.spherical=spherical\n",
    "Science.cartesian=cartesian"
   ]
  },
  {
   "cell_type": "code",
   "execution_count": 42,
   "id": "71c6612c",
   "metadata": {},
   "outputs": [
    {
     "name": "stderr",
     "output_type": "stream",
     "text": [
      "."
     ]
    },
    {
     "name": "stdout",
     "output_type": "stream",
     "text": [
      "1.4142135623730951 45.0 0.0\n",
      "1.7320508075688772 45.0 35.264389682754654\n",
      "1.7320508075688772 135.0 35.264389682754654\n",
      "1.7320508075688772 225.0 35.264389682754654\n",
      "1.7320508075688772 315.0 35.264389682754654\n",
      "1.7320508075688772 45.0 -35.264389682754654\n",
      "1.7320508075688772 135.0 -35.264389682754654\n",
      "1.7320508075688772 225.0 -35.264389682754654\n",
      "1.7320508075688772 315.0 -35.264389682754654\n",
      "[1. 0. 0.]\n",
      "[0.5        0.5        0.70710678]\n",
      "[-0.5         0.5         0.70710678]\n",
      "[-0.5        -0.5         0.70710678]\n",
      "[ 0.5        -0.5         0.70710678]\n",
      "[ 0.5         0.5        -0.70710678]\n",
      "[-0.5         0.5        -0.70710678]\n",
      "[-0.5        -0.5        -0.70710678]\n",
      "[ 0.5        -0.5        -0.70710678]\n"
     ]
    },
    {
     "name": "stderr",
     "output_type": "stream",
     "text": [
      "\n",
      "----------------------------------------------------------------------\n",
      "Ran 1 test in 0.005s\n",
      "\n",
      "OK\n"
     ]
    }
   ],
   "source": [
    "if IN_JUPYTER:\n",
    "    def test_coords(self):\n",
    "        \n",
    "        #Test spherical\n",
    "        rqf=Science.spherical([1,1,0])\n",
    "        print(rqf[0],rqf[1]*Consts.rad,rqf[2]*Consts.rad)   \n",
    "        rqf=Science.spherical([+1,+1,1])\n",
    "        print(rqf[0],rqf[1]*Consts.rad,rqf[2]*Consts.rad)   \n",
    "        rqf=Science.spherical([-1,1,1])\n",
    "        print(rqf[0],rqf[1]*Consts.rad,rqf[2]*Consts.rad)   \n",
    "        rqf=Science.spherical([-1,-1,1])\n",
    "        print(rqf[0],rqf[1]*Consts.rad,rqf[2]*Consts.rad)   \n",
    "        rqf=Science.spherical([+1,-1,1])\n",
    "        print(rqf[0],rqf[1]*Consts.rad,rqf[2]*Consts.rad)   \n",
    "        rqf=Science.spherical([+1,+1,-1])\n",
    "        print(rqf[0],rqf[1]*Consts.rad,rqf[2]*Consts.rad)   \n",
    "        rqf=Science.spherical([-1,1,-1])\n",
    "        print(rqf[0],rqf[1]*Consts.rad,rqf[2]*Consts.rad)   \n",
    "        rqf=Science.spherical([-1,-1,-1])\n",
    "        print(rqf[0],rqf[1]*Consts.rad,rqf[2]*Consts.rad)   \n",
    "        rqf=Science.spherical([+1,-1,-1])\n",
    "        print(rqf[0],rqf[1]*Consts.rad,rqf[2]*Consts.rad)\n",
    "        \n",
    "        #Test cartesian\n",
    "        xyz=Science.cartesian([1,0,0])\n",
    "        print(xyz) \n",
    "        xyz=Science.cartesian([1,45*Consts.deg,45*Consts.deg])\n",
    "        print(xyz) \n",
    "        xyz=Science.cartesian([1,135*Consts.deg,45*Consts.deg])\n",
    "        print(xyz) \n",
    "        xyz=Science.cartesian([1,225*Consts.deg,45*Consts.deg])\n",
    "        print(xyz) \n",
    "        xyz=Science.cartesian([1,315*Consts.deg,45*Consts.deg])\n",
    "        print(xyz) \n",
    "        xyz=Science.cartesian([1,45*Consts.deg,-45*Consts.deg])\n",
    "        print(xyz) \n",
    "        xyz=Science.cartesian([1,135*Consts.deg,-45*Consts.deg])\n",
    "        print(xyz) \n",
    "        xyz=Science.cartesian([1,225*Consts.deg,-45*Consts.deg])\n",
    "        print(xyz) \n",
    "        xyz=Science.cartesian([1,315*Consts.deg,-45*Consts.deg])\n",
    "        print(xyz) \n",
    "\n",
    "    class Test(unittest.TestCase):pass\n",
    "    Test.test_coords=test_coords\n",
    "    unittest.main(argv=['first-arg-is-ignored'],exit=False)"
   ]
  },
  {
   "cell_type": "code",
   "execution_count": 45,
   "id": "331c0a55",
   "metadata": {},
   "outputs": [],
   "source": [
    "def rotation_matrix(ez,alpha):\n",
    "    \"\"\"\n",
    "    Set a rotation matrix from the direction of the ez vector and a rotation angle alpha\n",
    "    \n",
    "    Parameter:\n",
    "        ez: array (3)\n",
    "            vector in the direction of the z-axis. \n",
    "            \n",
    "        alpha: float (3) [rad]\n",
    "            Rotation angle of the x-axis around z-axis (clockwise)\n",
    "            \n",
    "    Return:\n",
    "        Msys2uni: float (3x3)\n",
    "            Rotation matrix from the system defined by ez and the universal system.\n",
    "            \n",
    "        Muni2sys: float (3x3)\n",
    "            Rotation matrix from the universal system to the system defined by ez\n",
    "    \"\"\"\n",
    "    ez,one=spy.unorm(ez)\n",
    "    ex=spy.ucrss([0,0,1],ez) #Spice is 5 faster for vcrss\n",
    "    if spy.vnorm(ex)==0:\n",
    "        ex=np.array([1,0,0]) if np.sum(ez)>0 else np.array([-1,0,0])\n",
    "    ey=spy.ucrss(ez,ex)\n",
    "    Msys2uni=np.array(list(np.vstack((ex,ey,ez)).transpose())).reshape((3,3))\n",
    "    Muni2sys=spy.invert(Msys2uni)\n",
    "    verbose(\"Rotation axis:\",ex,ey,ez)\n",
    "    return Msys2uni,Muni2sys\n",
    "\n",
    "Science.rotation_matrix=rotation_matrix"
   ]
  },
  {
   "cell_type": "code",
   "execution_count": 44,
   "id": "5912297c",
   "metadata": {},
   "outputs": [
    {
     "name": "stderr",
     "output_type": "stream",
     "text": [
      "."
     ]
    },
    {
     "name": "stdout",
     "output_type": "stream",
     "text": [
      "Rotation axis: [1 0 0] [0. 1. 0.] [0. 0. 1.]\n",
      "[[ 1. -0.  0.]\n",
      " [-0.  1. -0.]\n",
      " [ 0. -0.  1.]]\n",
      "Rotation axis: [-1  0  0] [0. 1. 0.] [ 0.  0. -1.]\n",
      "[[-1.  0.  0.]\n",
      " [ 0.  1.  0.]\n",
      " [ 0.  0. -1.]]\n"
     ]
    },
    {
     "name": "stderr",
     "output_type": "stream",
     "text": [
      "\n",
      "----------------------------------------------------------------------\n",
      "Ran 1 test in 0.004s\n",
      "\n",
      "OK\n"
     ]
    }
   ],
   "source": [
    "if IN_JUPYTER:\n",
    "    def test_rot(self):\n",
    "        Verbose.VERBOSITY=1\n",
    "        \n",
    "        #Test rotation\n",
    "        Msys2uni,Muni2sys=Science.rotation_matrix([0,0,1],0)\n",
    "        print(Msys2uni)\n",
    "\n",
    "        Msys2uni,Muni2sys=Science.rotation_matrix([0,0,-1],0)\n",
    "        print(Msys2uni)\n",
    "\n",
    "        Verbose.VERBOSITY=0\n",
    "\n",
    "    class Test(unittest.TestCase):pass\n",
    "    Test.test_rot=test_rot\n",
    "    unittest.main(argv=['first-arg-is-ignored'],exit=False)"
   ]
  },
  {
   "cell_type": "markdown",
   "id": "7918ce69",
   "metadata": {},
   "source": [
    "--End--"
   ]
  }
 ],
 "metadata": {
  "kernelspec": {
   "display_name": "Python 3 (ipykernel)",
   "language": "python",
   "name": "python3"
  },
  "language_info": {
   "codemirror_mode": {
    "name": "ipython",
    "version": 3
   },
   "file_extension": ".py",
   "mimetype": "text/x-python",
   "name": "python",
   "nbconvert_exporter": "python",
   "pygments_lexer": "ipython3",
   "version": "3.9.7"
  }
 },
 "nbformat": 4,
 "nbformat_minor": 5
}
