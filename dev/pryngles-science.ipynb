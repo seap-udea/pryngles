{
 "cells": [
  {
   "cell_type": "markdown",
   "id": "5c9f509d",
   "metadata": {},
   "source": [
    "# Pryngles module: Science"
   ]
  },
  {
   "cell_type": "code",
   "execution_count": 2,
   "id": "c9a439e5",
   "metadata": {},
   "outputs": [],
   "source": [
    "from pryngles import *"
   ]
  },
  {
   "cell_type": "markdown",
   "id": "b3b68845",
   "metadata": {},
   "source": [
    "## External modules"
   ]
  },
  {
   "cell_type": "code",
   "execution_count": 15,
   "id": "aaa41b53",
   "metadata": {},
   "outputs": [],
   "source": [
    "import numpy as np\n",
    "import math as mh\n",
    "import spiceypy as spy"
   ]
  },
  {
   "cell_type": "markdown",
   "id": "c2268fe1",
   "metadata": {},
   "source": [
    "## The Science class\n",
    "\n",
    "The Science class is a class with routines intended to perform a wide diversity of mathematical, physical and astronomical calculations."
   ]
  },
  {
   "cell_type": "code",
   "execution_count": 53,
   "id": "472eab06",
   "metadata": {},
   "outputs": [],
   "source": [
    "class Science(PrynglesCommon):pass"
   ]
  },
  {
   "cell_type": "markdown",
   "id": "1a91ad65",
   "metadata": {},
   "source": [
    "### Template method"
   ]
  },
  {
   "cell_type": "code",
   "execution_count": 54,
   "id": "a4466a4d",
   "metadata": {},
   "outputs": [],
   "source": [
    "def template(foo=1):\n",
    "    \"\"\"\n",
    "    Method\n",
    "\n",
    "    Parameters:\n",
    "\n",
    "        foo: type [units], default = 1:\n",
    "            Description.\n",
    "\n",
    "    Return:\n",
    "\n",
    "        fee: type [units]:\n",
    "            Desctiption.\n",
    "\n",
    "    \"\"\"\n",
    "    return foo\n",
    "\n",
    "Science.template=template"
   ]
  },
  {
   "cell_type": "code",
   "execution_count": 55,
   "id": "0b300bf3",
   "metadata": {},
   "outputs": [
    {
     "name": "stderr",
     "output_type": "stream",
     "text": [
      ".\n",
      "----------------------------------------------------------------------\n",
      "Ran 1 test in 0.001s\n",
      "\n",
      "OK\n"
     ]
    }
   ],
   "source": [
    "if IN_JUPYTER:\n",
    "    def test_temp(self):\n",
    "        \n",
    "        #Test\n",
    "        Science.template()\n",
    "        \"\"\"\n",
    "        self.assertEqual(self.P.Nr,8,True)\n",
    "        self.assertEqual(np.isclose([P.physics.wrot],\n",
    "                                    [2*np.pi/PlanetDefaults.physics[\"prot\"]],\n",
    "                                    rtol=1e-7),\n",
    "                         [True]*1)\n",
    "        self.assertRaises(AssertionError,lambda:Observer(primary=\"Nada\"))\n",
    "        \"\"\"\n",
    "        \n",
    "    class Test(unittest.TestCase):pass\n",
    "    Test.test_temp=test_temp\n",
    "    unittest.main(argv=['first-arg-is-ignored'],exit=False)"
   ]
  },
  {
   "cell_type": "markdown",
   "id": "bdd7c7a6",
   "metadata": {},
   "source": [
    "### Cartesian to spherical"
   ]
  },
  {
   "cell_type": "code",
   "execution_count": 59,
   "id": "6cab756e",
   "metadata": {},
   "outputs": [],
   "source": [
    "def xyz2rtf(xyz):\n",
    "    \"\"\"\n",
    "    Transform cartesian coordinates into spherical coordinates\n",
    "\n",
    "    Parameters:\n",
    "\n",
    "        xyz: array (3):\n",
    "            Cartesian coordinates\n",
    "\n",
    "    Return:\n",
    "\n",
    "        rqf: array (3):\n",
    "            Spherical coordinates (r, theta, phi) where theta is azimutal angle and phi is \n",
    "            elevation (complement of polar angle).                \n",
    "\n",
    "            Notice that this convention is different than that of regular vectorial calculus\n",
    "            where spherical coordinates are (r,theta,phi), but theta is the polar angle and phi \n",
    "            the ezimutal one.\n",
    "\n",
    "    \"\"\"\n",
    "    r,theta,phi=spy.reclat(xyz)\n",
    "    theta=2*mh.pi+theta if theta<0 else theta\n",
    "\n",
    "    return np.array([r,theta,phi])\n",
    "\n",
    "Science.xyz2rtf=xyz2rtf"
   ]
  },
  {
   "cell_type": "code",
   "execution_count": 60,
   "id": "71c6612c",
   "metadata": {},
   "outputs": [
    {
     "name": "stderr",
     "output_type": "stream",
     "text": [
      "."
     ]
    },
    {
     "name": "stdout",
     "output_type": "stream",
     "text": [
      "1.4142135623730951 45.0 0.0\n",
      "1.7320508075688772 45.0 35.264389682754654\n",
      "1.7320508075688772 135.0 35.264389682754654\n",
      "1.7320508075688772 225.0 35.264389682754654\n",
      "1.7320508075688772 315.0 35.264389682754654\n",
      "1.7320508075688772 45.0 -35.264389682754654\n",
      "1.7320508075688772 135.0 -35.264389682754654\n",
      "1.7320508075688772 225.0 -35.264389682754654\n",
      "1.7320508075688772 315.0 -35.264389682754654\n"
     ]
    },
    {
     "name": "stderr",
     "output_type": "stream",
     "text": [
      "\n",
      "----------------------------------------------------------------------\n",
      "Ran 1 test in 0.005s\n",
      "\n",
      "OK\n"
     ]
    }
   ],
   "source": [
    "if IN_JUPYTER:\n",
    "    def test_xyz(self):\n",
    "        \n",
    "        #Test\n",
    "        rqf=Science.xyz2rtf([1,1,0])\n",
    "        \n",
    "        #Test it in each quadrant\n",
    "        print(rqf[0],rqf[1]*Consts.rad,rqf[2]*Consts.rad)   \n",
    "        rqf=Science.xyz2rtf([+1,+1,1])\n",
    "        print(rqf[0],rqf[1]*Consts.rad,rqf[2]*Consts.rad)   \n",
    "        rqf=Science.xyz2rtf([-1,1,1])\n",
    "        print(rqf[0],rqf[1]*Consts.rad,rqf[2]*Consts.rad)   \n",
    "        rqf=Science.xyz2rtf([-1,-1,1])\n",
    "        print(rqf[0],rqf[1]*Consts.rad,rqf[2]*Consts.rad)   \n",
    "        rqf=Science.xyz2rtf([+1,-1,1])\n",
    "        print(rqf[0],rqf[1]*Consts.rad,rqf[2]*Consts.rad)   \n",
    "        rqf=Science.xyz2rtf([+1,+1,-1])\n",
    "        print(rqf[0],rqf[1]*Consts.rad,rqf[2]*Consts.rad)   \n",
    "        rqf=Science.xyz2rtf([-1,1,-1])\n",
    "        print(rqf[0],rqf[1]*Consts.rad,rqf[2]*Consts.rad)   \n",
    "        rqf=Science.xyz2rtf([-1,-1,-1])\n",
    "        print(rqf[0],rqf[1]*Consts.rad,rqf[2]*Consts.rad)   \n",
    "        rqf=Science.xyz2rtf([+1,-1,-1])\n",
    "        print(rqf[0],rqf[1]*Consts.rad,rqf[2]*Consts.rad)   \n",
    "        \"\"\"\n",
    "        self.assertEqual(self.P.Nr,8,True)\n",
    "        self.assertEqual(np.isclose([P.physics.wrot],\n",
    "                                    [2*np.pi/PlanetDefaults.physics[\"prot\"]],\n",
    "                                    rtol=1e-7),\n",
    "                         [True]*1)\n",
    "        self.assertRaises(AssertionError,lambda:Observer(primary=\"Nada\"))\n",
    "        \"\"\"\n",
    "        \n",
    "    class Test(unittest.TestCase):pass\n",
    "    Test.test_xyz=test_xyz\n",
    "    unittest.main(argv=['first-arg-is-ignored'],exit=False)"
   ]
  },
  {
   "cell_type": "markdown",
   "id": "7918ce69",
   "metadata": {},
   "source": [
    "--End--"
   ]
  }
 ],
 "metadata": {
  "kernelspec": {
   "display_name": "Python 3 (ipykernel)",
   "language": "python",
   "name": "python3"
  },
  "language_info": {
   "codemirror_mode": {
    "name": "ipython",
    "version": 3
   },
   "file_extension": ".py",
   "mimetype": "text/x-python",
   "name": "python",
   "nbconvert_exporter": "python",
   "pygments_lexer": "ipython3",
   "version": "3.9.7"
  }
 },
 "nbformat": 4,
 "nbformat_minor": 5
}
