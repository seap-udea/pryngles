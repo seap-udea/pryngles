{
 "cells": [
  {
   "cell_type": "markdown",
   "metadata": {},
   "source": [
    "# Pryngles module: Spangle"
   ]
  },
  {
   "cell_type": "code",
   "execution_count": 34,
   "metadata": {},
   "outputs": [
    {
     "name": "stdout",
     "output_type": "stream",
     "text": [
      "The autoreload extension is already loaded. To reload it, use:\n",
      "  %reload_ext autoreload\n"
     ]
    }
   ],
   "source": [
    "from pryngles import *"
   ]
  },
  {
   "cell_type": "markdown",
   "metadata": {},
   "source": [
    "## External modules"
   ]
  },
  {
   "cell_type": "code",
   "execution_count": 35,
   "metadata": {},
   "outputs": [],
   "source": [
    "import numpy as np"
   ]
  },
  {
   "cell_type": "markdown",
   "metadata": {},
   "source": [
    "## Enumerators and constantes"
   ]
  },
  {
   "cell_type": "code",
   "execution_count": null,
   "metadata": {},
   "outputs": [],
   "source": []
  },
  {
   "cell_type": "markdown",
   "metadata": {},
   "source": [
    "## Spangle class"
   ]
  },
  {
   "cell_type": "code",
   "execution_count": 90,
   "metadata": {},
   "outputs": [
    {
     "name": "stdout",
     "output_type": "stream",
     "text": [
      "The autoreload extension is already loaded. To reload it, use:\n",
      "  %reload_ext autoreload\n"
     ]
    }
   ],
   "source": [
    "Spangle_doc=f\"\"\"\\\n",
    "    Spangles are the basic unit of Pryngles.  This class is initially intended to contain \n",
    "    most of the relevant physics of light scattering and polarization.\n",
    "    \n",
    "    Initialization attributes:\n",
    "        \n",
    "    Basic attributes:\n",
    "    \n",
    "        type: integer. default = SOLID_SPANGLE :\n",
    "            Type of spangle (SOLID_SPANGLE, GRANULAR_SPANGLE, ATMOSPHERIC_SPANGLE, see consts module).\n",
    "    \n",
    "        xyz: list or array (2).  default = [[0,0,0]]*2: \n",
    "            Cartesian coordinates of the spangle in the simulation.  \n",
    "            The 0-component (EQU component) are the coordinates in the equatiorial system\n",
    "            of the object to which the spangle belong.\n",
    "            The 1-component (ECL component) are the coordinates in the ecliptic system (orbit)\n",
    "            of the object to which the spangle belong.\n",
    "            This class is not responsible for changing from one system of coordinates to the \n",
    "            other.\n",
    "            \n",
    "        rqf: list or array (2).  default = [[0,0,0]]*2: \n",
    "            Spherical coordinates of the spangle in the simulation (see xyz for details).  \n",
    "        \n",
    "        ns: list of arrays (2). default = [[0,0,1]]*2:\n",
    "            Unitary vector normal to the surface of the spangle in the EQU and ECL system (see xyz for details).\n",
    "        \n",
    "    Physical attributes:\n",
    "    \n",
    "        albedo_gray_normal: float. default = 1: \n",
    "            Lambertian (normal) gray (wavelength indpendent) albedo of the spangle.\n",
    "            \n",
    "        tau_gray_optical: float. default = 0:\n",
    "            Gray (wavelength indpendent) Optical depth of the spangle.  \n",
    "            If 0 the spangle is entirely opaque to all wavelength, despite its type.\n",
    "\"\"\""
   ]
  },
  {
   "cell_type": "code",
   "execution_count": 91,
   "metadata": {
    "code_folding": [
     0,
     35,
     56,
     72,
     86,
     106,
     138,
     194,
     228,
     259,
     290,
     312,
     338,
     363
    ]
   },
   "outputs": [],
   "source": [
    "class Spangle(PrynglesCommon):\n",
    "    def __init__(self):\n",
    "\n",
    "        #Basic\n",
    "        self.type=SOLID_SPANGLE\n",
    "        \n",
    "        #Position \n",
    "        self.xyz=[np.array([0,0,0])]*2 #Cartesian coordinates\n",
    "        self.rqf=[np.array([0,0,0])]*2 #Spherical or cylindrical coordinates\n",
    "        \n",
    "        #Area\n",
    "        self.asp=1\n",
    "        \n",
    "        #Orientation\n",
    "        ns=[np.array([0,0,1])]*2\n",
    "        \n",
    "        #Completely reflective spangle\n",
    "        self.albedo_gray_normal=1.0\n",
    "        \n",
    "        #Completely opaque spangle (despite type)\n",
    "        self.tau_gray_optical=0.0\n",
    "        \n",
    "    def set_position(self,xyz,rqf):\n",
    "        \n",
    "        try:\n",
    "            len(xyz)\n",
    "        except:\n",
    "            raise IndexError(f\"The cartesian coordinates of the spangle should be a list.  You provided {xyz}\")\n",
    "\n",
    "        if len(xyz)!=2:\n",
    "            raise IndexError(f\"The list of cartesian coordinates should be 2.  You provided {xyz}\")\n",
    "            \n",
    "        if len(xyz[EQU])!=3 or len(xyz[ECL])!=3:\n",
    "            raise IndexError(f\"The cartesian coordinates of the spangle should have len 3.  You provided {xyz}\")\n",
    "\n",
    "        try:\n",
    "            len(rqf)\n",
    "        except:\n",
    "            raise IndexError(f\"The spherical coordinates of the spangle should be a list.  You provided {rqf}\")\n",
    "        \n",
    "        if len(rqf)!=2:\n",
    "            raise IndexError(f\"The list of spherical coordinates should be 2.  You provided {rqf}\")\n",
    "\n",
    "        if len(rqf[EQU])!=3 or len(rqf[ECL])!=3:\n",
    "            raise IndexError(f\"The spherical coordinates of the spangle should have len 3.  You provided {rqf}\")\n",
    "\n",
    "        self.xyz=xyz\n",
    "        self.rqf=xyz\n",
    "    \n",
    "    def set_orientation(self,ns):\n",
    "        try:\n",
    "            len(ns)\n",
    "        except:\n",
    "            raise IndexError(f\"The normal vector to the spangle should be a list.  You provided {ns}\")\n",
    "\n",
    "        if len(ns[EQU])!=3 or len(ns[ECL])!=3:\n",
    "            raise IndexError(f\"The normal vector to the spangle should have len 3.  You provided {ns}\")\n",
    "                \n",
    "        self.ns=ns\n",
    "        \n",
    "    def set_optical(self,**props):\n",
    "\n",
    "        for prop in props.keys():\n",
    "            if prop not in self.__dict__:\n",
    "                raise KeyError(f\"Optical property '{prop}' not recognized in this class\")\n",
    "\n",
    "        prop=\"albedo_gray_normal\"\n",
    "        if prop in props:\n",
    "            if props[prop]>1 or props[prop]<0:\n",
    "                raise ValueError(f\"{prop} cannot be larger than 1 or smaller than 0.  You provided {props[prop]}\")\n",
    "            self.__dict__[prop]=props[prop]\n",
    "        \n",
    "        prop=\"tau_gray_optical\"\n",
    "        if prop in props:\n",
    "            if props[prop]<0:\n",
    "                raise ValueError(f\"{prop} cannot be smaller than 0.  You provided {props[prop]}\")\n",
    "            self.__dict__[prop]=props[prop]\n"
   ]
  },
  {
   "cell_type": "code",
   "execution_count": 92,
   "metadata": {},
   "outputs": [],
   "source": [
    "Spangle.__doc__=Spangle_doc"
   ]
  },
  {
   "cell_type": "code",
   "execution_count": 89,
   "metadata": {
    "scrolled": false
   },
   "outputs": [
    {
     "name": "stderr",
     "output_type": "stream",
     "text": [
      "."
     ]
    },
    {
     "name": "stdout",
     "output_type": "stream",
     "text": [
      "Default :  {'type': 0, 'dim': 3, 'xyz': [array([0, 0, 0]), array([0, 0, 0])], 'rqf': [array([0, 0, 0]), array([0, 0, 0])], 'albedo_gray_normal': 1.0, 'tau_gray_optical': 0.0}\n",
      "Modified :  {'type': 0, 'dim': 3, 'xyz': [[1, 2, 3], [4, 5, 6]], 'rqf': [[1, 2, 3], [4, 5, 6]], 'albedo_gray_normal': 0.5, 'tau_gray_optical': 5, 'ns': [[1, 1, 1], [1, 1, 1]]}\n"
     ]
    },
    {
     "name": "stderr",
     "output_type": "stream",
     "text": [
      "\n",
      "----------------------------------------------------------------------\n",
      "Ran 1 test in 0.002s\n",
      "\n",
      "OK\n"
     ]
    }
   ],
   "source": [
    "if IN_JUPYTER:\n",
    "    %matplotlib nbagg\n",
    "    def test_sample(self):\n",
    "\n",
    "        #Generate rings\n",
    "        sp=Spangle()\n",
    "        print(\"Default : \",sp)\n",
    "        \n",
    "        #Set positions\n",
    "        sp.set_position(\n",
    "            [[1,2,3],[4,5,6]],\n",
    "            [[7,8,9],[10,11,12]]\n",
    "        )\n",
    "        \n",
    "        sp.set_orientation([[1,1,1],[1,1,1]])\n",
    "        \n",
    "        #Set albedo\n",
    "        sp.set_optical(albedo_gray_normal=0.5)\n",
    "\n",
    "        sp.set_optical(tau_gray_optical=5)\n",
    "\n",
    "        print(\"Modified : \",sp)\n",
    "\n",
    "        #Errors\n",
    "        self.assertRaises(KeyError,lambda:sp.set_optical(albedo=2))\n",
    "        \"\"\"\n",
    "        self.assertEqual(np.isclose([P.physics.wrot],\n",
    "                                    [2*np.pi/PlanetDefaults.physics[\"prot\"]],\n",
    "                                    rtol=1e-7),\n",
    "                         [True]*1)\n",
    "        #Check exception: primary could not be different from None or Body\n",
    "        self.assertRaises(AssertionError,lambda:Observer(primary=\"Nada\"))\n",
    "        \"\"\"\n",
    "        \n",
    "    class Test(unittest.TestCase):pass    \n",
    "    Test.test_sample=test_sample\n",
    "    unittest.main(argv=['first-arg-is-ignored'],exit=False)"
   ]
  },
  {
   "cell_type": "markdown",
   "metadata": {},
   "source": [
    "--End--"
   ]
  }
 ],
 "metadata": {
  "kernelspec": {
   "display_name": "Python 3 (ipykernel)",
   "language": "python",
   "name": "python3"
  },
  "language_info": {
   "codemirror_mode": {
    "name": "ipython",
    "version": 3
   },
   "file_extension": ".py",
   "mimetype": "text/x-python",
   "name": "python",
   "nbconvert_exporter": "python",
   "pygments_lexer": "ipython3",
   "version": "3.9.7"
  }
 },
 "nbformat": 4,
 "nbformat_minor": 2
}
