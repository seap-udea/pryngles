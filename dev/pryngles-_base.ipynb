{
 "cells": [
  {
   "cell_type": "markdown",
   "id": "5c9f509d",
   "metadata": {},
   "source": [
    "# Pryngles module"
   ]
  },
  {
   "cell_type": "markdown",
   "id": "307560c2",
   "metadata": {},
   "source": [
    "## Module base\n",
    "\n",
    "Goals of the module:\n",
    "- Future `base`\n",
    "- Basic Classes and functions of the Class.\n",
    "- It is based on existing infrastructure."
   ]
  },
  {
   "cell_type": "code",
   "execution_count": 33,
   "id": "c9a439e5",
   "metadata": {},
   "outputs": [
    {
     "name": "stdout",
     "output_type": "stream",
     "text": [
      "The autoreload extension is already loaded. To reload it, use:\n",
      "  %reload_ext autoreload\n",
      "The autoreload extension is already loaded. To reload it, use:\n",
      "  %reload_ext autoreload\n",
      "The autoreload extension is already loaded. To reload it, use:\n",
      "  %reload_ext autoreload\n",
      "0.004649131016042781 0.0003892513368983957 1.5 2.5 0.2 0.0\n",
      "0.5235987755982988 1.5707963267948966\n"
     ]
    },
    {
     "name": "stderr",
     "output_type": "stream",
     "text": [
      "."
     ]
    },
    {
     "name": "stdout",
     "output_type": "stream",
     "text": [
      "2.1245118303881245\n",
      "0.004649131016042781 0.0003892513368983957 1.5 2.5 0.2 0.0\n",
      "0.5235987755982988 1.5707963267948966\n"
     ]
    },
    {
     "name": "stderr",
     "output_type": "stream",
     "text": [
      "\n",
      "----------------------------------------------------------------------\n",
      "Ran 1 test in 0.430s\n",
      "\n",
      "OK\n",
      "."
     ]
    },
    {
     "name": "stdout",
     "output_type": "stream",
     "text": [
      "2.1245118303881245\n",
      "0.004649131016042781 0.0003892513368983957 1.5 2.5 0.2 0.0\n",
      "0.5235987755982988 1.5707963267948966\n"
     ]
    },
    {
     "name": "stderr",
     "output_type": "stream",
     "text": [
      "\n",
      "----------------------------------------------------------------------\n",
      "Ran 1 test in 0.386s\n",
      "\n",
      "OK\n",
      "."
     ]
    },
    {
     "name": "stdout",
     "output_type": "stream",
     "text": [
      "2.1245118303881245\n",
      "0.004649131016042781 0.0003892513368983957 1.5 2.5 0.2 0.0\n",
      "0.5235987755982988 1.5707963267948966\n"
     ]
    },
    {
     "name": "stderr",
     "output_type": "stream",
     "text": [
      "\n",
      "----------------------------------------------------------------------\n",
      "Ran 1 test in 0.393s\n",
      "\n",
      "OK\n",
      "."
     ]
    },
    {
     "name": "stdout",
     "output_type": "stream",
     "text": [
      "2.1245118303881245\n",
      "0.004649131016042781 0.0003892513368983957 1.5 2.5 0.2 0.0\n",
      "0.5235987755982988 1.5707963267948966\n"
     ]
    },
    {
     "name": "stderr",
     "output_type": "stream",
     "text": [
      "\n",
      "----------------------------------------------------------------------\n",
      "Ran 1 test in 0.387s\n",
      "\n",
      "OK\n",
      "."
     ]
    },
    {
     "name": "stdout",
     "output_type": "stream",
     "text": [
      "2.1245118303881245\n",
      "0.004649131016042781 0.0003892513368983957 1.5 2.5 0.2 0.0\n",
      "0.5235987755982988 1.5707963267948966\n"
     ]
    },
    {
     "name": "stderr",
     "output_type": "stream",
     "text": [
      "\n",
      "----------------------------------------------------------------------\n",
      "Ran 1 test in 0.477s\n",
      "\n",
      "OK\n",
      "."
     ]
    },
    {
     "name": "stdout",
     "output_type": "stream",
     "text": [
      "2.1245118303881245\n",
      "0.004649131016042781 0.0003892513368983957 1.5 2.5 0.2 0.0\n",
      "0.5235987755982988 1.5707963267948966\n"
     ]
    },
    {
     "name": "stderr",
     "output_type": "stream",
     "text": [
      "\n",
      "----------------------------------------------------------------------\n",
      "Ran 1 test in 0.387s\n",
      "\n",
      "OK\n",
      "."
     ]
    },
    {
     "name": "stdout",
     "output_type": "stream",
     "text": [
      "2.1245118303881245\n",
      "0.004649131016042781 0.0003892513368983957 1.5 2.5 0.2 0.0\n",
      "0.5235987755982988 1.5707963267948966\n"
     ]
    },
    {
     "name": "stderr",
     "output_type": "stream",
     "text": [
      "\n",
      "----------------------------------------------------------------------\n",
      "Ran 1 test in 0.383s\n",
      "\n",
      "OK\n",
      "."
     ]
    },
    {
     "name": "stdout",
     "output_type": "stream",
     "text": [
      "2.1245118303881245\n",
      "0.004649131016042781 0.0003892513368983957 1.5 2.5 0.2 0.0\n",
      "0.5235987755982988 1.5707963267948966\n"
     ]
    },
    {
     "name": "stderr",
     "output_type": "stream",
     "text": [
      "\n",
      "----------------------------------------------------------------------\n",
      "Ran 1 test in 0.385s\n",
      "\n",
      "OK\n",
      "."
     ]
    },
    {
     "name": "stdout",
     "output_type": "stream",
     "text": [
      "2.1245118303881245\n",
      "0.004649131016042781 0.0003892513368983957 1.5 2.5 0.2 0.0\n",
      "0.5235987755982988 1.5707963267948966\n"
     ]
    },
    {
     "name": "stderr",
     "output_type": "stream",
     "text": [
      "\n",
      "----------------------------------------------------------------------\n",
      "Ran 1 test in 0.383s\n",
      "\n",
      "OK\n",
      "."
     ]
    },
    {
     "name": "stdout",
     "output_type": "stream",
     "text": [
      "2.1245118303881245\n",
      "The autoreload extension is already loaded. To reload it, use:\n",
      "  %reload_ext autoreload\n"
     ]
    },
    {
     "name": "stderr",
     "output_type": "stream",
     "text": [
      "\n",
      "----------------------------------------------------------------------\n",
      "Ran 1 test in 0.426s\n",
      "\n",
      "OK\n"
     ]
    }
   ],
   "source": [
    "##HEADER\n",
    "from pryngles import *\n",
    "from pryngles import __version__\n",
    "import rebound as rb\n",
    "import unittest\n",
    "import string\n",
    "import random\n",
    "\n",
    "%load_ext autoreload\n",
    "%autoreload 2"
   ]
  },
  {
   "cell_type": "markdown",
   "id": "ea043a9f",
   "metadata": {},
   "source": [
    "## General classes"
   ]
  },
  {
   "cell_type": "markdown",
   "id": "3ea41124",
   "metadata": {},
   "source": [
    "In this section of the package we introduce several useful classes for the module."
   ]
  },
  {
   "cell_type": "code",
   "execution_count": 2,
   "id": "57a8f1e2",
   "metadata": {},
   "outputs": [],
   "source": [
    "\"\"\"DEVELOPERS:\n",
    "\n",
    "    _props is a class intended to treat the basic properties of an object \n",
    "    as an object and not as a dictionary.\n",
    "    \n",
    "    If you add another set of attributes just add the name of the attribute\n",
    "    to the global variable _PROP_TYPES.\n",
    "    \n",
    "    Usage:\n",
    "    \n",
    "        \n",
    "\"\"\"\n",
    "_PROP_TYPES=[\"orbit\",\"physics\",\"optics\"]\n",
    "class _props():\n",
    "    def __init__(self,**pars):\n",
    "        self.__dict__.update(**pars)\n",
    "    def __str__(self):\n",
    "        return str(self.__dict__)"
   ]
  },
  {
   "cell_type": "code",
   "execution_count": 3,
   "id": "be750589",
   "metadata": {
    "scrolled": true
   },
   "outputs": [
    {
     "name": "stderr",
     "output_type": "stream",
     "text": [
      ".\n",
      "----------------------------------------------------------------------\n",
      "Ran 1 test in 0.001s\n",
      "\n",
      "OK\n"
     ]
    }
   ],
   "source": [
    "if IN_JUPYTER:\n",
    "    def test_props(self):\n",
    "        p=_props(m=1,a=2,b=3)\n",
    "        self.assertEqual([p.m,p.a,p.b],[1,2,3],[True]*3)\n",
    "\n",
    "    class Test(unittest.TestCase):pass\n",
    "    Test.test_props=test_props\n",
    "    unittest.main(argv=['first-arg-is-ignored'],exit=False)"
   ]
  },
  {
   "cell_type": "markdown",
   "id": "afaaa475",
   "metadata": {},
   "source": [
    "Each class is tested inmediately.  This will not appear when the module is converted."
   ]
  },
  {
   "cell_type": "markdown",
   "id": "c2268fe1",
   "metadata": {},
   "source": [
    "### The body class"
   ]
  },
  {
   "cell_type": "markdown",
   "id": "5d66ed57",
   "metadata": {},
   "source": [
    "The Body class is one of the most important classes in the package. "
   ]
  },
  {
   "cell_type": "markdown",
   "id": "f5906454",
   "metadata": {},
   "source": [
    "Before any major class we create the docstring of the class.  This eases the development."
   ]
  },
  {
   "cell_type": "code",
   "execution_count": 4,
   "id": "ff15d504",
   "metadata": {},
   "outputs": [],
   "source": [
    "Body_doc=\\\n",
    "\"\"\"A general body.\n",
    "    \n",
    "Initialization attributes:\n",
    "\n",
    "    kind : string\n",
    "        One of the kind of bodies defined in the package (see _BODY_KINDS)\n",
    "\n",
    "    primary: Body\n",
    "        Object in the center of the orbit of this body.\n",
    "\n",
    "    orbit: _props\n",
    "        Object with the orbital properties of the body (eg. orbit.m is the mass)\n",
    "        see each specific Body definition for attributes.\n",
    "        orbit must be compatible with rebound.\n",
    "\n",
    "    physics: _props\n",
    "        Object with the physical properties of the body (eg. physics.radius)\n",
    "        see each specific Body definition for attributes.\n",
    "\n",
    "    optics: _props\n",
    "        Object with the optical properties of the body (eg. physics.lamb_albedo)\n",
    "        see each specific Body definition for attributes.\n",
    "\n",
    "Secondary attributes:\n",
    "\n",
    "    hash: string\n",
    "        Hash of the object, ie. a unique string identifying the object \n",
    "        (see hash Python function)\n",
    "\n",
    "    parent: Body\n",
    "        Body around this body is.  Attribute parent is the same as body.\n",
    "\n",
    "    childs: list\n",
    "        List with child bodies (bodies which have this body) as the center.\n",
    "\n",
    "Public methods:\n",
    "\n",
    "    update_body(props):\n",
    "        Update a given property.\n",
    "\"\"\""
   ]
  },
  {
   "cell_type": "code",
   "execution_count": 5,
   "id": "e814fdf8",
   "metadata": {},
   "outputs": [],
   "source": [
    "\"\"\"DEVELOPERS:\n",
    "\n",
    "    There are different kind of bodies in Pryngles.  The global list _BODY_KINDS is built\n",
    "    by adding new kind of objects.\n",
    "\"\"\"\n",
    "_BODY_KINDS=[]\n",
    "\n",
    "class Body(PrynglesCommon):\n",
    "    \n",
    "    def __init__(self,defaults,kind,primary,orbit,physics,optics):\n",
    "        \n",
    "        #Update default properties\n",
    "        new_orbit=defaults.orbit.copy()\n",
    "        new_physics=defaults.physics.copy()\n",
    "        new_optics=defaults.optics.copy()\n",
    "        \n",
    "        new_orbit.update(**orbit)\n",
    "        new_physics.update(**physics)\n",
    "        new_optics.update(**optics)\n",
    "        \n",
    "        self.kind=kind\n",
    "        self.primary=primary\n",
    "        if self.primary is not None:\n",
    "            if not isinstance(self.primary,Body):\n",
    "                raise AssertionError(f\"Primary is not a valid Object\")            \n",
    "        \n",
    "        self.orbit=_props(**new_orbit)\n",
    "        self.physics=_props(**new_physics)\n",
    "        self.optics=_props(**new_optics)\n",
    "        if 'hash' in self.orbit.__dict__:\n",
    "            self.hash=self.orbit.hash\n",
    "        else:\n",
    "            self.hash=str(hash(self))\n",
    "    \n",
    "    def update_body(self,**props):\n",
    "        \"\"\"Update properties of the Body.\n",
    "        \n",
    "        Parametes:\n",
    "            orbit: _props                \n",
    "            physics: _props\n",
    "            optics: _props\n",
    "                Properties to update. The current object orbit is updated with new \n",
    "                values provided in this new object\n",
    "                \n",
    "        Example:\n",
    "        \n",
    "            B.update_body(orbit=dict(m=2))\n",
    "                This only update the attribute m of orbit.\n",
    "        \"\"\"\n",
    "        for prop in _PROP_TYPES:\n",
    "            if prop in props and type(props[prop]) is dict:\n",
    "                new_prop=self.__dict__[prop].__dict__\n",
    "                new_prop.update(**props[prop])\n",
    "                props[prop]=_props(**new_prop)\n",
    "        \n",
    "        self.__dict__.update(props)\n",
    "        self._update_childs()\n",
    "        self._update_parent()\n",
    "    \n",
    "    def _update_childs(self,child=None):\n",
    "        if 'childs' not in self.__dict__:\n",
    "            self.childs=[]\n",
    "        if child is not None:\n",
    "            self.childs+=[child]\n",
    "            \n",
    "    def _update_parent(self,parent=None):\n",
    "        if 'parent' not in self.__dict__:\n",
    "            self.parent=parent\n",
    "        elif parent is not None:\n",
    "            self.parent=parent\n",
    "            \n",
    "Body.__doc__=Body_doc"
   ]
  },
  {
   "cell_type": "code",
   "execution_count": 6,
   "id": "27643d8b",
   "metadata": {},
   "outputs": [
    {
     "name": "stderr",
     "output_type": "stream",
     "text": [
      "."
     ]
    },
    {
     "name": "stdout",
     "output_type": "stream",
     "text": [
      "['child1', 'child2']\n",
      "8788057774228\n"
     ]
    },
    {
     "name": "stderr",
     "output_type": "stream",
     "text": [
      "\n",
      "----------------------------------------------------------------------\n",
      "Ran 1 test in 0.001s\n",
      "\n",
      "OK\n"
     ]
    }
   ],
   "source": [
    "if IN_JUPYTER:\n",
    "    def test_body(self):\n",
    "        class defaults(object):\n",
    "            orbit=dict()\n",
    "            physics=dict()\n",
    "            optics=dict()\n",
    "        P=Body(defaults,\"Test\",None,dict(),dict(),dict())\n",
    "        obj=Body(defaults,\"Test\",P,dict(),dict(),dict())\n",
    "        obj._update_parent(\"parent\")\n",
    "        obj._update_childs(\"child1\")\n",
    "        obj._update_childs(\"child2\")\n",
    "        print(obj.childs)\n",
    "        print(obj.hash)\n",
    "        self.assertEqual([obj.parent],[\"parent\"],True)\n",
    "        self.assertEqual(obj.childs,[\"child1\",\"child2\"],True)\n",
    "        self.assertRaises(AssertionError,\n",
    "                          lambda:Body(defaults,\"Test\",1,dict(),dict(),dict())\n",
    "                         )   \n",
    "\n",
    "    class Test(unittest.TestCase):pass    \n",
    "    Test.test_body=test_body\n",
    "    unittest.main(argv=['first-arg-is-ignored'],exit=False)"
   ]
  },
  {
   "cell_type": "markdown",
   "id": "e4c6344f",
   "metadata": {},
   "source": [
    "## Specific objects"
   ]
  },
  {
   "cell_type": "markdown",
   "id": "8adf6299",
   "metadata": {},
   "source": [
    "Here we define the classes for specific objects."
   ]
  },
  {
   "cell_type": "markdown",
   "id": "e9b7acaa",
   "metadata": {},
   "source": [
    "Default classes are classes that contains the default value of the main properties of the corresponding class."
   ]
  },
  {
   "cell_type": "code",
   "execution_count": 7,
   "id": "47c09869",
   "metadata": {},
   "outputs": [],
   "source": [
    "class _StarDefaults(object):\n",
    "    \"\"\"\n",
    "    These are the default attributes for bodies of the kind 'Star'.\n",
    "    \n",
    "    DEVELOPER:\n",
    "        You may add new attributes as the model gets more complex.\n",
    "        Please document properly each attribute.\n",
    "        \n",
    "    orbit:\n",
    "    \n",
    "        These attributes should be compatible with rebound.\n",
    "    \n",
    "        m: float [rebound mass units], default = 1\n",
    "            Mass of the body.  If m = 0 the body does not produce gravitation.\n",
    "            \n",
    "    physics:\n",
    "    \n",
    "        radius: float [rebound length units], default = 1\n",
    "            Radius of the body.\n",
    "            \n",
    "        prot: float [rebound time units], default = 1\n",
    "            Period of rotation\n",
    "            \n",
    "    optics:\n",
    "    \n",
    "        limb_coeffs: list [adimensional], default = []\n",
    "            List of limb darkening fit coefficients.\n",
    "            \n",
    "        nspangles: int, default = 1000\n",
    "            Number of spangles on which the object will be discretized.\n",
    "    \"\"\"\n",
    "    orbit=dict(m=1)\n",
    "    \n",
    "    physics=dict(radius=1,prot=1)\n",
    "\n",
    "    optics=dict(limb_coeffs=[],\n",
    "                nspangles=1000)"
   ]
  },
  {
   "cell_type": "code",
   "execution_count": 8,
   "id": "38bb06b6",
   "metadata": {},
   "outputs": [],
   "source": [
    "_BODY_KINDS+=[\"Star\"]\n",
    "class Star(Body):\n",
    "    \"\"\"Class star.\n",
    "    \n",
    "    See Body class documentation.\n",
    "    \n",
    "    Additional public attributes:\n",
    "    \n",
    "        physics.wrot: float\n",
    "            Rotational angular velocity\n",
    "    \n",
    "    Override methods:\n",
    "    \n",
    "        update_body(**pars):\n",
    "            This method compute additional attributes like (see above):\n",
    "            \n",
    "                physics.wrot\n",
    "    \"\"\"\n",
    "    def __init__(self,\n",
    "                 primary=None,\n",
    "                 orbit=_StarDefaults.orbit,\n",
    "                 physics=_StarDefaults.physics,\n",
    "                 optics=_StarDefaults.optics\n",
    "                ):\n",
    "        \n",
    "        \n",
    "        #Instantiate object with basic properties\n",
    "        Body.__init__(self,_StarDefaults,\"Star\",primary,orbit,physics,optics)\n",
    "\n",
    "        #Check primary\n",
    "        if self.primary is not None:\n",
    "            if self.primary.kind==\"Planet\":\n",
    "                raise ValueError(f\"Planet cannot be the primary of a Star\")\n",
    "            self.primary._update_childs(self)\n",
    "            self._update_parent(self.primary)\n",
    "                \n",
    "        #Update properties\n",
    "        self.update_body(**self.__dict__)\n",
    "        \n",
    "    def update_body(self,**pars):\n",
    "        Body.update_body(self,**pars)\n",
    "        \n",
    "        #Here place the commands to update this kind of body\n",
    "        self.physics.wrot=2*np.pi/self.physics.prot"
   ]
  },
  {
   "cell_type": "code",
   "execution_count": 9,
   "id": "e31cec03",
   "metadata": {},
   "outputs": [
    {
     "name": "stderr",
     "output_type": "stream",
     "text": [
      "."
     ]
    },
    {
     "name": "stdout",
     "output_type": "stream",
     "text": [
      "{'radius': 1, 'prot': 1, 'wrot': 6.283185307179586}\n",
      "8788057778273\n",
      "{'radius': 1, 'prot': 1, 'wrot': 6.283185307179586, 'm': 2}\n"
     ]
    },
    {
     "name": "stderr",
     "output_type": "stream",
     "text": [
      "\n",
      "----------------------------------------------------------------------\n",
      "Ran 1 test in 0.001s\n",
      "\n",
      "OK\n"
     ]
    }
   ],
   "source": [
    "if IN_JUPYTER:\n",
    "    def test_star(self):\n",
    "        S=Star()\n",
    "        print(S.physics)\n",
    "        print(S.hash)\n",
    "        \n",
    "        #Check derived properties\n",
    "        self.assertEqual(np.isclose([S.physics.wrot],\n",
    "                                    [2*np.pi/_StarDefaults.physics[\"prot\"]],\n",
    "                                    rtol=1e-7),\n",
    "                         [True]*1)\n",
    "        \n",
    "        S.update_body(physics=dict(m=2))\n",
    "        print(S.physics)\n",
    "        \n",
    "        #Check exception: primary could not be different from None or Body\n",
    "        self.assertRaises(AssertionError,lambda:Star(primary=\"Nada\"))\n",
    "        \n",
    "    class Test(unittest.TestCase):pass    \n",
    "    Test.test_star=test_star\n",
    "    unittest.main(argv=['first-arg-is-ignored'],exit=False)"
   ]
  },
  {
   "cell_type": "code",
   "execution_count": 10,
   "id": "238e26ed",
   "metadata": {},
   "outputs": [],
   "source": [
    "class _PlanetDefaults(object):\n",
    "    \"\"\"\n",
    "    These are the default attributes for bodies of the kind 'Planet'.\n",
    "    \n",
    "    DEVELOPER:\n",
    "        You may add new attributes as the model gets more complex.\n",
    "        Please document properly each attribute.\n",
    "        \n",
    "    orbit:\n",
    "    \n",
    "        These attributes should be compatible with rebound.\n",
    "    \n",
    "        m: float [rebound mass units], default = 1\n",
    "            Mass of the body.  If m = 0 the body does not produce gravitation.\n",
    "            \n",
    "        a: float [rebound length units], default = 1.0\n",
    "            Semi major axis of the orbit with respect to primary.\n",
    "            \n",
    "        e: float [adimentional], default = 0.0\n",
    "            Eccentricity of the orbit with respect to primary.\n",
    "            \n",
    "    physics:\n",
    "    \n",
    "        radius: float [rebound length units], default = 1\n",
    "            Radius of the body.\n",
    "            \n",
    "        prot: float [rebound time units], default = 1\n",
    "            Period of rotation\n",
    "            \n",
    "    optics:\n",
    "    \n",
    "        nspangles: int, default = 1000\n",
    "            Number of spangles on which the object will be discretized.\n",
    "    \"\"\"\n",
    "\n",
    "    orbit=dict(m=1.0,a=1.0,e=0.0)\n",
    "    \n",
    "    physics=dict(radius=1.0,prot=1.0)\n",
    "    \n",
    "    optics=dict(nspangles=1000)"
   ]
  },
  {
   "cell_type": "code",
   "execution_count": 11,
   "id": "8f403997",
   "metadata": {},
   "outputs": [],
   "source": [
    "_BODY_KINDS+=[\"Planet\"]\n",
    "\n",
    "class Planet(Body):\n",
    "    \"\"\"Class Planet.\n",
    "    \n",
    "    See Body class documentation.\n",
    "    \n",
    "    Additional public attributes:\n",
    "    \n",
    "        physics.wrot: float\n",
    "            Rotational angular velocity\n",
    "    \n",
    "    Override methods:\n",
    "    \n",
    "        update_body(**pars):\n",
    "            This method compute additional attributes like (see above).\n",
    "    \"\"\"\n",
    "    def __init__(self,\n",
    "                 primary=None,\n",
    "                 orbit=_PlanetDefaults.orbit,\n",
    "                 physics=_PlanetDefaults.physics,\n",
    "                 optics=_PlanetDefaults.optics\n",
    "                ):\n",
    "        \n",
    "        \n",
    "        #Instantiate object with basic properties\n",
    "        Body.__init__(self,_PlanetDefaults,\"Planet\",primary,orbit,physics,optics)\n",
    "        \n",
    "        #Check primary\n",
    "        if self.primary is None:\n",
    "            raise ValueError(f\"Primary not provided and it is mandatory for {self.kind}.\")\n",
    "        self.primary=primary\n",
    "        self.primary._update_childs(self)\n",
    "        self._update_parent(self.primary)\n",
    "        \n",
    "        #Update properties\n",
    "        self.update_body(**self.__dict__)\n",
    "        \n",
    "    def update_body(self,**pars):\n",
    "        Body.update_body(self,**pars)\n",
    "        \n",
    "        #Here place the commands to update this kind of body\n",
    "        self.physics.wrot=2*np.pi/self.physics.prot"
   ]
  },
  {
   "cell_type": "code",
   "execution_count": 12,
   "id": "83eee0ac",
   "metadata": {},
   "outputs": [
    {
     "name": "stderr",
     "output_type": "stream",
     "text": [
      "."
     ]
    },
    {
     "name": "stdout",
     "output_type": "stream",
     "text": [
      "{'radius': 1.0, 'prot': 1.0, 'wrot': 6.283185307179586}\n",
      "8788057771057\n",
      "{'m': 1.0, 'a': 5, 'e': 0.0} {'radius': 1.0, 'prot': 1.0, 'wrot': 6.283185307179586, 'rho': 0.2}\n"
     ]
    },
    {
     "name": "stderr",
     "output_type": "stream",
     "text": [
      "\n",
      "----------------------------------------------------------------------\n",
      "Ran 1 test in 0.001s\n",
      "\n",
      "OK\n"
     ]
    }
   ],
   "source": [
    "if IN_JUPYTER:\n",
    "    def test_planet(self):\n",
    "        S=Star()\n",
    "\n",
    "        #Check exception: primary is mandatory for planets\n",
    "        self.assertRaises(ValueError,lambda:Planet())\n",
    "\n",
    "        P=Planet(primary=S)\n",
    "        \n",
    "        print(P.physics)\n",
    "        print(P.hash)\n",
    "        \n",
    "        #Check derived properties\n",
    "        self.assertEqual(np.isclose([P.physics.wrot],\n",
    "                                    [2*np.pi/_PlanetDefaults.physics[\"prot\"]],\n",
    "                                    rtol=1e-7),\n",
    "                         [True]*1)\n",
    "        \n",
    "        P.update_body(orbit=dict(a=5),physics=dict(rho=0.2))\n",
    "        print(P.orbit,P.physics)\n",
    "        \n",
    "        #Check exception: primary could not be different from None or Body\n",
    "        self.assertRaises(AssertionError,lambda:Planet(primary=\"Nada\"))\n",
    "        \n",
    "    class Test(unittest.TestCase):pass    \n",
    "    Test.test_planet=test_planet\n",
    "    unittest.main(argv=['first-arg-is-ignored'],exit=False)"
   ]
  },
  {
   "cell_type": "code",
   "execution_count": 13,
   "id": "c89c1479",
   "metadata": {},
   "outputs": [],
   "source": [
    "class _RingDefaults(object):\n",
    "    \"\"\"\n",
    "    These are the default attributes for bodies of the kind 'Ring'.\n",
    "    \n",
    "    DEVELOPER:\n",
    "        You may add new attributes as the model gets more complex.\n",
    "        Please document properly each attribute.\n",
    "        \n",
    "    orbit:\n",
    "    \n",
    "        (In current version, Ring body does not have orbit attributes)\n",
    "        \n",
    "    physics:\n",
    "    \n",
    "        fi: float [adimensional], default = 1\n",
    "            Fraction of the radius of the primary object where ring stars.\n",
    "            \n",
    "        fe: float [adimensional], default = 1\n",
    "            Fraction of the radius of the primary object where ring ends.\n",
    "            \n",
    "        i: float [radians], default = 0\n",
    "            Inclination of the ring with respect to the equator of the primary\n",
    "            object.\n",
    "            \n",
    "    optics:\n",
    "    \n",
    "        nspangles: int, default = 1000\n",
    "            Number of spangles on which the object will be discretized.\n",
    "    \"\"\"\n",
    "    orbit=dict()\n",
    "    \n",
    "    physics=dict(fi=1.0,fe=2.0,i=0.0)\n",
    "    \n",
    "    optics=dict(nspangles=1000)"
   ]
  },
  {
   "cell_type": "code",
   "execution_count": 14,
   "id": "e8670ffb",
   "metadata": {},
   "outputs": [],
   "source": [
    "_BODY_KINDS+=[\"Ring\"]\n",
    "\n",
    "class Ring(Body):\n",
    "    \"\"\"Class Planet.\n",
    "    \n",
    "    See Body class documentation.\n",
    "    \n",
    "    Additional public attributes:\n",
    "    \n",
    "        physics.ri: float [rebound length unit]\n",
    "            Radius of the inner border of the ring\n",
    "\n",
    "        physics.re: float [rebound length unit]\n",
    "            Radius of the outer border of the ring\n",
    "    \n",
    "    Override methods:\n",
    "    \n",
    "        update_body(**pars):\n",
    "            This method compute additional attributes like (see above).\n",
    "    \"\"\"\n",
    "    def __init__(self,\n",
    "                 primary=None,\n",
    "                 orbit=_RingDefaults.orbit,\n",
    "                 physics=_RingDefaults.physics,\n",
    "                 optics=_RingDefaults.optics\n",
    "                ):\n",
    "        \n",
    "        \n",
    "        #Instantiate object with basic properties\n",
    "        Body.__init__(self,_RingDefaults,\"Ring\",primary,orbit,physics,optics)\n",
    "        \n",
    "        #Check primary\n",
    "        if self.primary is None:\n",
    "            raise ValueError(f\"Primary not provided and mandatory for {self.kind}.\")\n",
    "        self.primary=primary\n",
    "        self.primary._update_childs(self)\n",
    "        self._update_parent(self.primary)\n",
    "        \n",
    "        #Update properties\n",
    "        self.update_body(**self.__dict__)\n",
    "        \n",
    "    def update_body(self,**pars):\n",
    "        Body.update_body(self,**pars)\n",
    "        \n",
    "        #Here place the commands to update this kind of body\n",
    "        self.physics.ri=self.physics.fi*self.primary.physics.radius\n",
    "        self.physics.re=self.physics.fe*self.primary.physics.radius"
   ]
  },
  {
   "cell_type": "code",
   "execution_count": 15,
   "id": "5741c966",
   "metadata": {},
   "outputs": [
    {
     "name": "stderr",
     "output_type": "stream",
     "text": [
      "."
     ]
    },
    {
     "name": "stdout",
     "output_type": "stream",
     "text": [
      "{'fi': 1.0, 'fe': 2.0, 'i': 0.0, 'ri': 3.0, 're': 6.0}\n",
      "8788093439708\n",
      "{'fi': 1.0, 'fe': 3, 'i': 0.0, 'ri': 3.0, 're': 9.0}\n"
     ]
    },
    {
     "name": "stderr",
     "output_type": "stream",
     "text": [
      "\n",
      "----------------------------------------------------------------------\n",
      "Ran 1 test in 0.001s\n",
      "\n",
      "OK\n"
     ]
    }
   ],
   "source": [
    "if IN_JUPYTER:\n",
    "    def test_planet(self):\n",
    "        S=Star(physics=dict(radius=3.0))\n",
    "\n",
    "        #Check exception: primary is mandatory for planets\n",
    "        self.assertRaises(ValueError,lambda:Ring())\n",
    "\n",
    "        R=Ring(primary=S)\n",
    "        \n",
    "        print(R.physics)\n",
    "        print(R.hash)\n",
    "        \n",
    "        #Check derived properties\n",
    "        \"\"\"\n",
    "        self.assertEqual(np.isclose([P.physics.wrot],\n",
    "                                    [2*np.pi/_PlanetDefaults.physics[\"prot\"]],\n",
    "                                    rtol=1e-7),\n",
    "                         [True]*1)\n",
    "        \"\"\"\n",
    "        \n",
    "        R.update_body(physics=dict(fe=3))\n",
    "        print(R.physics)\n",
    "        \n",
    "        #Check exception: primary could not be different from None or Body\n",
    "        self.assertRaises(AssertionError,lambda:Planet(primary=\"Nada\"))\n",
    "        \n",
    "    class Test(unittest.TestCase):pass    \n",
    "    Test.test_planet=test_planet\n",
    "    unittest.main(argv=['first-arg-is-ignored'],exit=False)"
   ]
  },
  {
   "cell_type": "code",
   "execution_count": 16,
   "id": "0813ffdf",
   "metadata": {},
   "outputs": [],
   "source": [
    "class _ObserverDefaults(object):\n",
    "    \"\"\"\n",
    "    These are the default attributes for bodies of the kind 'Observer'.\n",
    "    \n",
    "    DEVELOPER:\n",
    "        You may add new attributes as the model gets more complex.\n",
    "        Please document properly each attribute.\n",
    "        \n",
    "    orbit:\n",
    "    \n",
    "        (In current version, Observer body does not have orbit attributes)\n",
    "        \n",
    "    physics:\n",
    "    \n",
    "        (In current version, Observer body does not have physics attributes)\n",
    "            \n",
    "    optics:\n",
    "    \n",
    "        distance: float [rebound length units], default = 1\n",
    "            Distance at which the observer is located\n",
    "            \n",
    "        beta: float [radians], default = 0\n",
    "            Ecliptic latitude.  Elevation with respect to the plane of the planetary \n",
    "            system from which the observer is looking at the system.  beta = 0 is for \n",
    "            edge-on observations, beta = 90 degrees is for face-on observations.\n",
    "            \n",
    "        lamb: float [radians], default = 0\n",
    "            Ecliptic longitude. Angle with respect to the zero meridian of the planetary \n",
    "            system.\n",
    "            \n",
    "            NOTE: zero meridian is defined differently depending on the observed object.\n",
    "                  in the case of a ring, zero meridian is the direction of vernal equinox.\n",
    "    \n",
    "        nspangles: int, default = 1000\n",
    "            Number of spangles on which the object will be discretized.\n",
    "    \"\"\"\n",
    "    orbit=dict()\n",
    "    \n",
    "    physics=dict()\n",
    "    \n",
    "    optics=dict(distance=1,beta=0,lamb=0)"
   ]
  },
  {
   "cell_type": "code",
   "execution_count": 17,
   "id": "1a0092e7",
   "metadata": {},
   "outputs": [],
   "source": [
    "_BODY_KINDS+=[\"Observer\"]\n",
    "\n",
    "class Observer(Body):\n",
    "    \"\"\"Class Observer.\n",
    "    \n",
    "    See Body class documentation.\n",
    "    \n",
    "    Additional public attributes:\n",
    "    \n",
    "        physics.inclination: float [radians]\n",
    "            Angle of inclination of the normal to the ecliptic in the system with \n",
    "            respect to line-of-sight.  When inclination = 0 system is observed face-on.\n",
    "            When inclination = 90 degress system is observed edge-on.\n",
    "\n",
    "    Override methods:\n",
    "    \n",
    "        update_body(**pars):\n",
    "            This method compute additional attributes like (see above).\n",
    "    \"\"\"\n",
    "    def __init__(self,\n",
    "                 primary=None,\n",
    "                 orbit=_ObserverDefaults.orbit,\n",
    "                 physics=_ObserverDefaults.physics,\n",
    "                 optics=_ObserverDefaults.optics\n",
    "                ):\n",
    "        \n",
    "        \n",
    "        #Instantiate object with basic properties\n",
    "        Body.__init__(self,_ObserverDefaults,\"Observer\",primary,orbit,physics,optics)\n",
    "        \n",
    "        #Check if observer is attached to any object\n",
    "        self.primary=primary\n",
    "        if self.primary is not None:\n",
    "            self.primary._update_childs(self)\n",
    "            self._update_parent(self.primary)\n",
    "        \n",
    "        #Update properties\n",
    "        self.update_body(**self.__dict__)\n",
    "        \n",
    "    def update_body(self,**pars):\n",
    "        Body.update_body(self,**pars)\n",
    "        \n",
    "        #Here place the commands to update this kind of body\n",
    "        self.optics.inclination = 90*DEG - self.optics.beta"
   ]
  },
  {
   "cell_type": "code",
   "execution_count": 18,
   "id": "f1bb0ef5",
   "metadata": {},
   "outputs": [
    {
     "name": "stderr",
     "output_type": "stream",
     "text": [
      "."
     ]
    },
    {
     "name": "stdout",
     "output_type": "stream",
     "text": [
      "{'distance': 1, 'beta': 0, 'lamb': 0, 'inclination': 1.5707963267948966}\n",
      "{'distance': 1, 'beta': 1.5707963267948966, 'lamb': 0, 'inclination': 0.0}\n"
     ]
    },
    {
     "name": "stderr",
     "output_type": "stream",
     "text": [
      "\n",
      "----------------------------------------------------------------------\n",
      "Ran 1 test in 0.001s\n",
      "\n",
      "OK\n"
     ]
    }
   ],
   "source": [
    "if IN_JUPYTER:\n",
    "    def test_observer(self):\n",
    "        O=Observer()\n",
    "        print(O.optics)\n",
    "        \n",
    "        #Check derived properties\n",
    "        \"\"\"\n",
    "        self.assertEqual(np.isclose([P.physics.wrot],\n",
    "                                    [2*np.pi/_PlanetDefaults.physics[\"prot\"]],\n",
    "                                    rtol=1e-7),\n",
    "                         [True]*1)\n",
    "        \"\"\"\n",
    "        \n",
    "        O.update_body(optics=dict(beta=90*DEG))\n",
    "        print(O.optics)\n",
    "        \n",
    "        #Check exception: primary could not be different from None or Body\n",
    "        self.assertRaises(AssertionError,lambda:Observer(primary=\"Nada\"))\n",
    "        \n",
    "    class Test(unittest.TestCase):pass    \n",
    "    Test.test_observer=test_observer\n",
    "    unittest.main(argv=['first-arg-is-ignored'],exit=False)"
   ]
  },
  {
   "cell_type": "markdown",
   "id": "0d6a5256",
   "metadata": {},
   "source": [
    "## The system class"
   ]
  },
  {
   "cell_type": "markdown",
   "id": "6348efb6",
   "metadata": {},
   "source": [
    "This is the most important class in the whole package.  This class allows to create the planetary system and manipulate it."
   ]
  },
  {
   "cell_type": "code",
   "execution_count": 19,
   "id": "8ec556c4",
   "metadata": {},
   "outputs": [],
   "source": [
    "System_doc=\\\n",
    "f\"\"\"\n",
    "Creates a planetary system.\n",
    "\n",
    "Examples:\n",
    "\n",
    "    sys=System()\n",
    "    sys=System(units=['km','msun','s'])\n",
    "    S=Star()\n",
    "    P=Planet(primary=S)\n",
    "    sys=System(stars=S,planets=P)\n",
    "\n",
    "Initialization attributes:\n",
    "\n",
    "    units: list of strings, default = ['au','msun','yr']:\n",
    "        Units used in calculations following the conventions and signs of rebound.\n",
    "        The order SHOULD always be: length, mass, time.\n",
    "        \n",
    "    stars: list or single Body.  default = None: \n",
    "        Star(s) in the system.\n",
    "        \n",
    "    planets: list or single Body.  default = None: \n",
    "        Planet(s) in the system.\n",
    "        \n",
    "    rings: list or single Body.  default = None: \n",
    "        Ring(s) in the system.\n",
    "\n",
    "    observers: list or single Body.  default = None: \n",
    "        Observer(s) in the system.\n",
    "    \n",
    "    rebound: bool, default = True:\n",
    "        Set True if you want to simulte the orbit of objects (for instance if you want to calculate\n",
    "        TTVs or TDVs) or False if you want to calculate orbits using Keplerian dynamics (no TTVs or TDVs).\n",
    "        \n",
    "        NOTE: Current version ({__version__}) does not implement yet rebound simulations\n",
    "\n",
    "Secondary attributes:\n",
    "\n",
    "    hashes: list\n",
    "        List of hashes of bodies in the system.\n",
    "        \n",
    "    stars, planets, rings, observers: list\n",
    "        List of the corresponding kind of object in the system.\n",
    "        \n",
    "    nstars, nplanets, nrings, nobservers: int\n",
    "        Number of each kind of body in the system.\n",
    "    \n",
    "    nbodies: int\n",
    "        Number of bodies in the system.\n",
    "        \n",
    "    ul, um, ut: float [SI units]\n",
    "        Value of the conversion factors for each unit.\n",
    "        \n",
    "    G: float [ul^3/ut^2/um]\n",
    "        Value of the gravitational constant.\n",
    "\n",
    "Usefule private attributes:\n",
    "\n",
    "    _sim: rebound Simulation.\n",
    "        Rebound simulation object.\n",
    "\"\"\";"
   ]
  },
  {
   "cell_type": "code",
   "execution_count": 20,
   "id": "6ef24113",
   "metadata": {},
   "outputs": [],
   "source": [
    "class System(PrynglesCommon):\n",
    "    \n",
    "    def __init__(self,\n",
    "                 units=['au','msun','yr'],\n",
    "                 stars=None,planets=None,\n",
    "                 rings=None,observers=None,\n",
    "                 rebound=False\n",
    "                ):\n",
    "        \n",
    "        #Initialize rebound\n",
    "        self.units=units\n",
    "        self._update_units()\n",
    "        \n",
    "        #Behavior\n",
    "        self.rebound=rebound\n",
    "        self.rebound=False # Rebound not implemented yet\n",
    "        self._update_rebound()\n",
    "        \n",
    "        #Initialize list of components\n",
    "        self.hashes=dict()\n",
    "        for kind in _BODY_KINDS:\n",
    "            lkind=kind.lower()\n",
    "            exec(f\"self.{lkind}s=[]\")\n",
    "            exec(f\"self._update_objects('{lkind}s','{kind}',{lkind}s)\")\n",
    "\n",
    "        #Update system\n",
    "        self._update_system()\n",
    "    \n",
    "    def _update_objects(self,attr,kind,comps):\n",
    "        \"\"\"Update the list of objects\n",
    "        \"\"\"\n",
    "\n",
    "        if comps is not None:\n",
    "            #Check if comps is a a list\n",
    "            try:\n",
    "                comps[0]\n",
    "            except:\n",
    "                comps=[comps]\n",
    "            \n",
    "            for comp in comps:\n",
    "                #Check if primary bodies are already in lists\n",
    "                if (comp.primary is not None) and (comp.primary.hash not in self.hashes):\n",
    "                    raise AssertionError(f\"Primary of {kind} body is not yet in the system.\")\n",
    "                else:\n",
    "                    exec(f\"self.{attr}+=[comp]\")\n",
    "                    if comp.kind!=kind:\n",
    "                        raise AssertionError(f\"You are attempting to add {kind} with a {comp.kind}\")\n",
    "                    self.hashes[comp.hash]=comp\n",
    "\n",
    "    def _update_system(self):\n",
    "        \"\"\"Update the global properties of the system.\n",
    "        \"\"\"\n",
    "        for kind in _BODY_KINDS:\n",
    "            exec(f\"self.{kind}s=0\")\n",
    "        \n",
    "        pdict=dict()\n",
    "        for obj in _BODY_KINDS:\n",
    "            lobj=obj.lower()\n",
    "            exec(f\"{obj}=len(self.{lobj}s)\",locals(),pdict)\n",
    "            self.__dict__[f\"n{lobj}s\"]=pdict[obj]\n",
    "        self.nbodies=self.nstars+self.nplanets+self.nrings\n",
    "        \n",
    "    def _update_units(self):\n",
    "        \"\"\"Update units of the system\n",
    "        \"\"\"\n",
    "        self._ul,self._um,self._ut=self.units\n",
    "        self.ul=rb.units.convert_length(1,self._ul,\"m\")\n",
    "        self.um=rb.units.convert_mass(1,self._um,\"kg\")\n",
    "        self.ut=np.sqrt(self.ul**3/(self.um*GSI))\n",
    "\n",
    "    def _update_rebound(self):\n",
    "        \"\"\"Crteate and update rebound simulation object\n",
    "        \"\"\"\n",
    "        #Units initialization\n",
    "        self._sim=rb.Simulation()\n",
    "        self._sim.units=self.units\n",
    "        self.G=self._sim.G\n",
    "\n",
    "System.__doc__=System_doc"
   ]
  },
  {
   "cell_type": "code",
   "execution_count": 21,
   "id": "1f96a068",
   "metadata": {},
   "outputs": [
    {
     "name": "stdout",
     "output_type": "stream",
     "text": [
      "0\n",
      "39.476926421373\n",
      "149597870700.0 1.9884754159665356e+30 5022642.890913031\n",
      "0\n",
      "6.67408e-11\n",
      "1.0 1.0 122406.4480636431\n",
      "[<__main__.Star object at 0x7fe210fbbfa0>]\n",
      "{'8788057766906': <__main__.Star object at 0x7fe210fbbfa0>}\n",
      "1 1 0 0 0\n",
      "{'8788057766906': <__main__.Star object at 0x7fe210fbbfa0>, '8788093451755': <__main__.Planet object at 0x7fe23303deb0>}\n",
      "2 1 1 0 0\n"
     ]
    },
    {
     "name": "stderr",
     "output_type": "stream",
     "text": [
      "."
     ]
    },
    {
     "name": "stdout",
     "output_type": "stream",
     "text": [
      "{'8788057766906': <__main__.Star object at 0x7fe210fbbfa0>, '8788093451755': <__main__.Planet object at 0x7fe23303deb0>, '8788093419764': <__main__.Ring object at 0x7fe232fc0f40>}\n",
      "3 1 1 1 0\n",
      "{'8788057766906': <__main__.Star object at 0x7fe210fbbfa0>, '8788093439573': <__main__.Planet object at 0x7fe23300e550>, '8788093439678': <__main__.Planet object at 0x7fe23300ebe0>, '8788093439684': <__main__.Planet object at 0x7fe23300ec40>}\n",
      "4 1 3 0 0\n"
     ]
    },
    {
     "name": "stderr",
     "output_type": "stream",
     "text": [
      "\n",
      "----------------------------------------------------------------------\n",
      "Ran 1 test in 0.004s\n",
      "\n",
      "OK\n"
     ]
    }
   ],
   "source": [
    "if IN_JUPYTER:\n",
    "    def test_system_init(self):\n",
    "        \n",
    "        sys=System()\n",
    "        print(sys.nbodies)\n",
    "        print(sys.G)\n",
    "        print(sys.ul,sys.um,sys.ut)\n",
    "        \n",
    "        sys=System(units=['m','kg','s'])\n",
    "        print(sys.nbodies)\n",
    "        print(sys.G)\n",
    "        print(sys.ul,sys.um,sys.ut)\n",
    "        \n",
    "        S=Star()\n",
    "        sys=System(stars=S)\n",
    "        print(sys.stars)\n",
    "        print(sys.hashes)\n",
    "        print(sys.nbodies,sys.nstars,sys.nplanets,sys.nrings,sys.nobservers)\n",
    "        \n",
    "        S2=Star()\n",
    "        P=Planet(primary=S2)\n",
    "        #Check that when planet does not use a star of the system an exception is raised\n",
    "        self.assertRaises(AssertionError,lambda:System(stars=S,planets=P))\n",
    "        \n",
    "        P=Planet(primary=S)\n",
    "        sys=System(stars=S,planets=P)\n",
    "        print(sys.hashes)\n",
    "        print(sys.nbodies,sys.nstars,sys.nplanets,sys.nrings,sys.nobservers)\n",
    "        \n",
    "        R=Planet(primary=P)\n",
    "        #Check that planet cannot be initialized as a planet\n",
    "        self.assertRaises(AssertionError,lambda:System(stars=S,planets=P,rings=R))\n",
    "\n",
    "        R=Ring(primary=P)\n",
    "        sys=System(stars=S,planets=P,rings=R)\n",
    "        print(sys.hashes)\n",
    "        print(sys.nbodies,sys.nstars,sys.nplanets,sys.nrings,sys.nobservers)\n",
    "        \n",
    "        \n",
    "        P1=Planet(primary=S)\n",
    "        P2=Planet(primary=S)\n",
    "        P3=Planet(primary=S)\n",
    "        sys=System(stars=S,planets=[P1,P2,P3])\n",
    "        print(sys.hashes)\n",
    "        print(sys.nbodies,sys.nstars,sys.nplanets,sys.nrings,sys.nobservers)\n",
    "        \n",
    "        \"\"\"\n",
    "        self.assertEqual(np.isclose([P.physics.wrot],\n",
    "                                    [2*np.pi/_PlanetDefaults.physics[\"prot\"]],\n",
    "                                    rtol=1e-7),\n",
    "                         [True]*1)\n",
    "        #Check exception: primary could not be different from None or Body\n",
    "        self.assertRaises(AssertionError,lambda:Observer(primary=\"Nada\"))\n",
    "        \"\"\"\n",
    "        \n",
    "    class Test(unittest.TestCase):pass    \n",
    "    Test.test_system_init=test_system_init\n",
    "    unittest.main(argv=['first-arg-is-ignored'],exit=False)"
   ]
  },
  {
   "cell_type": "code",
   "execution_count": 22,
   "id": "5b77b7a6",
   "metadata": {},
   "outputs": [],
   "source": [
    "def add(self,kind=None,primary=None,orbit=None,physics=None,optics=None):\n",
    "    \"\"\"Add an object to the system\n",
    "    \n",
    "    Examples:\n",
    "    \n",
    "        sys=System()\n",
    "        S=sys.add(kind=\"Star\",orbit=dict(m=2))\n",
    "    \n",
    "    Parameters:\n",
    "    \n",
    "        kind: string\n",
    "            Kind of object: Star, Planet, Ring, Observer.\n",
    "    \n",
    "        primary: Body\n",
    "            Primary object.\n",
    "    \n",
    "        orbit: dictionary\n",
    "            Set of orbital properties (see corresponding body documentation).\n",
    "            \n",
    "        physics: dictionary\n",
    "            Set of physical properties (see corresponding body documentation).\n",
    "        \n",
    "        optics: dictionary\n",
    "            Set of optical properties (see corresponding body documentation).\n",
    "            \n",
    "    Returns:\n",
    "        \n",
    "        Body\n",
    "            Body added to the system.\n",
    "    \"\"\"\n",
    "    if kind is None:\n",
    "        raise AssertionError(\"You must provide a valid object kind (Star, Planet, Ring, Observer).\")\n",
    "\n",
    "    if kind not in _BODY_KINDS:\n",
    "        raise ValueError(f\"Object kind '{kind}' is not recognized.\")\n",
    "\n",
    "    #p.e. kind = 'Star', lkind = 'star'\n",
    "    kind=kind.capitalize()\n",
    "    lkind=kind.lower()\n",
    "\n",
    "    \"\"\"\n",
    "    #This code generalize the procedure:\n",
    "    if orbit is None:\n",
    "        orbit = _StarDefaults.orbit.copy()\n",
    "    if physics is None:\n",
    "        physics = _StarDefaults.physics.copy()\n",
    "    if optics is None:\n",
    "        optics = _StarDefaults.optics.copy()\n",
    "    \"\"\"\n",
    "    pdict=dict()\n",
    "    plist=[]\n",
    "    for prop in _PROP_TYPES:\n",
    "        exec(f\"{prop}={prop}\",locals(),pdict)\n",
    "        if pdict[prop] is None:\n",
    "            exec(f\"{prop}=_{kind}Defaults.{prop}.copy()\",globals(),pdict)\n",
    "        plist+=[pdict[prop]]\n",
    "\n",
    "    \"\"\"\n",
    "    #This code generalize the procedure\n",
    "    S=Star(primary=primary,orbit=orbit,physics=physics,optics=optics)\n",
    "    self._list2Objects(\"stars\",\"Star\",S)            \n",
    "    \"\"\"\n",
    "    obj=eval(f\"{kind}(primary=primary,orbit=plist[0],physics=plist[1],optics=plist[2])\")\n",
    "    self._update_objects(lkind+\"s\",kind,obj)\n",
    "    self._update_system()\n",
    "    return obj\n",
    "    \n",
    "System.add=add"
   ]
  },
  {
   "cell_type": "code",
   "execution_count": 23,
   "id": "2abef302",
   "metadata": {},
   "outputs": [
    {
     "name": "stderr",
     "output_type": "stream",
     "text": [
      "."
     ]
    },
    {
     "name": "stdout",
     "output_type": "stream",
     "text": [
      "{'8788093439735': <__main__.Star object at 0x7fe23300ef70>}\n",
      "1 1 0 0 0\n",
      "{'m': 2}\n",
      "{'m': 2}\n",
      "{'m': 3}\n"
     ]
    },
    {
     "name": "stderr",
     "output_type": "stream",
     "text": [
      "\n",
      "----------------------------------------------------------------------\n",
      "Ran 1 test in 0.001s\n",
      "\n",
      "OK\n"
     ]
    }
   ],
   "source": [
    "if IN_JUPYTER:\n",
    "    def test_system_add(self):\n",
    "        sys=System()\n",
    "        S=sys.add(kind=\"Star\",orbit=dict(m=2))\n",
    "        print(sys.hashes)\n",
    "        print(sys.nbodies,sys.nstars,sys.nplanets,sys.nrings,sys.nobservers)\n",
    "        print(sys.stars[0].orbit)\n",
    "        print(S.orbit)\n",
    "        \n",
    "        S.update_body(orbit=dict(m=3))\n",
    "        print(sys.stars[0].orbit)\n",
    "        \n",
    "        \"\"\"\n",
    "        self.assertEqual(np.isclose([P.physics.wrot],\n",
    "                                    [2*np.pi/_PlanetDefaults.physics[\"prot\"]],\n",
    "                                    rtol=1e-7),\n",
    "                         [True]*1)\n",
    "        #Check exception: primary could not be different from None or Body\n",
    "        self.assertRaises(AssertionError,lambda:Observer(primary=\"Nada\"))\n",
    "        \"\"\"\n",
    "        \n",
    "    class Test(unittest.TestCase):pass    \n",
    "    Test.test_system_add=test_system_add\n",
    "    unittest.main(argv=['first-arg-is-ignored'],exit=False)"
   ]
  },
  {
   "cell_type": "code",
   "execution_count": 24,
   "id": "cb37ae13",
   "metadata": {},
   "outputs": [],
   "source": [
    "def remove(self,body_hash):\n",
    "    \"\"\"Remove a body from a system.\n",
    "\n",
    "    Example:\n",
    "        sys=System()\n",
    "        S=sys.add(kind=\"Star\",orbit=dict(m=2))\n",
    "        sys.remove(body_hash=S.hash)\n",
    "        \n",
    "    Parameters:\n",
    "        body_hash: string\n",
    "            Hash of the body to remove\n",
    "        \n",
    "    Remove eliminate body and all the childs and the childs of the childs.\n",
    "    \"\"\"\n",
    "    if body_hash in self.hashes:\n",
    "        obj=self.hashes[body_hash]\n",
    "        lkind=obj.kind.lower()\n",
    "\n",
    "        #Remove child objects\n",
    "        for child in obj.childs:\n",
    "            if child.hash in self.hashes:\n",
    "                self.remove(child.hash)\n",
    "\n",
    "        #Remove object\n",
    "        exec(f\"self.{lkind}s.remove(obj)\")\n",
    "\n",
    "        #Remove hash from list\n",
    "        self.hashes.pop(body_hash)\n",
    "\n",
    "        #Update system\n",
    "        self._update_system()\n",
    "    else:\n",
    "        raise ValueError(\"No object with hash 'body_hash' in the system\")\n",
    "System.remove=remove"
   ]
  },
  {
   "cell_type": "code",
   "execution_count": 25,
   "id": "50d0aa44",
   "metadata": {},
   "outputs": [
    {
     "name": "stderr",
     "output_type": "stream",
     "text": [
      "."
     ]
    },
    {
     "name": "stdout",
     "output_type": "stream",
     "text": [
      "{'8788057778291': <__main__.Star object at 0x7fe210fe8730>}\n",
      "1 1 0 0 0\n",
      "{}\n",
      "0 0 0 0 0\n",
      "{'8788093449972': <__main__.Star object at 0x7fe233036f40>, '8788057778315': <__main__.Planet object at 0x7fe210fe88b0>, '8788092147336': <__main__.Ring object at 0x7fe231c56880>}\n",
      "3 1 1 1 0\n",
      "{}\n",
      "0 0 0 0 0\n",
      "{'8788093449753': <__main__.Star object at 0x7fe233036190>, '8788093449780': <__main__.Planet object at 0x7fe233036340>, '8788093449732': <__main__.Ring object at 0x7fe233036040>}\n",
      "3 1 1 1 0\n",
      "{'8788093449753': <__main__.Star object at 0x7fe233036190>}\n",
      "1 1 0 0 0\n",
      "{'8788092135807': <__main__.Star object at 0x7fe231c297f0>, '8788092147318': <__main__.Planet object at 0x7fe231c56760>, '8788093451725': <__main__.Ring object at 0x7fe23303dcd0>}\n",
      "3 1 1 1 0\n",
      "{'8788092135807': <__main__.Star object at 0x7fe231c297f0>, '8788092147318': <__main__.Planet object at 0x7fe231c56760>}\n",
      "2 1 1 0 0\n"
     ]
    },
    {
     "name": "stderr",
     "output_type": "stream",
     "text": [
      "\n",
      "----------------------------------------------------------------------\n",
      "Ran 1 test in 0.004s\n",
      "\n",
      "OK\n"
     ]
    }
   ],
   "source": [
    "if IN_JUPYTER:\n",
    "    def test_system_remove(self):\n",
    "        sys=System()\n",
    "        S=sys.add(kind=\"Star\",orbit=dict(m=2))\n",
    "        print(sys.hashes)\n",
    "        print(sys.nbodies,sys.nstars,sys.nplanets,sys.nrings,sys.nobservers)\n",
    "\n",
    "        sys.remove(body_hash=S.hash)\n",
    "        print(sys.hashes)\n",
    "        print(sys.nbodies,sys.nstars,sys.nplanets,sys.nrings,sys.nobservers)\n",
    "        \n",
    "        sys=System()\n",
    "        S=sys.add(kind=\"Star\")\n",
    "        P=sys.add(kind=\"Planet\",primary=S)\n",
    "        R=sys.add(kind=\"Ring\",primary=P)\n",
    "        print(sys.hashes)\n",
    "        print(sys.nbodies,sys.nstars,sys.nplanets,sys.nrings,sys.nobservers)\n",
    "\n",
    "        sys.remove(body_hash=S.hash)\n",
    "        print(sys.hashes)\n",
    "        print(sys.nbodies,sys.nstars,sys.nplanets,sys.nrings,sys.nobservers)\n",
    "\n",
    "        sys=System()\n",
    "        S=sys.add(kind=\"Star\")\n",
    "        P=sys.add(kind=\"Planet\",primary=S)\n",
    "        R=sys.add(kind=\"Ring\",primary=P)\n",
    "        print(sys.hashes)\n",
    "        print(sys.nbodies,sys.nstars,sys.nplanets,sys.nrings,sys.nobservers)\n",
    "\n",
    "        sys.remove(body_hash=P.hash)\n",
    "        print(sys.hashes)\n",
    "        print(sys.nbodies,sys.nstars,sys.nplanets,sys.nrings,sys.nobservers)\n",
    "        \n",
    "        sys=System()\n",
    "        S=sys.add(kind=\"Star\")\n",
    "        P=sys.add(kind=\"Planet\",primary=S)\n",
    "        R=sys.add(kind=\"Ring\",primary=P)\n",
    "        print(sys.hashes)\n",
    "        print(sys.nbodies,sys.nstars,sys.nplanets,sys.nrings,sys.nobservers)\n",
    "\n",
    "        sys.remove(body_hash=R.hash)\n",
    "        print(sys.hashes)\n",
    "        print(sys.nbodies,sys.nstars,sys.nplanets,sys.nrings,sys.nobservers)\n",
    "        \n",
    "        \"\"\"\n",
    "        self.assertEqual(np.isclose([P.physics.wrot],\n",
    "                                    [2*np.pi/_PlanetDefaults.physics[\"prot\"]],\n",
    "                                    rtol=1e-7),\n",
    "                         [True]*1)\n",
    "        #Check exception: primary could not be different from None or Body\n",
    "        self.assertRaises(AssertionError,lambda:Observer(primary=\"Nada\"))\n",
    "        \"\"\"\n",
    "        \n",
    "    class Test(unittest.TestCase):pass    \n",
    "    Test.test_system_remove=test_system_remove\n",
    "    unittest.main(argv=['first-arg-is-ignored'],exit=False)"
   ]
  },
  {
   "cell_type": "code",
   "execution_count": 26,
   "id": "99657ffc",
   "metadata": {},
   "outputs": [],
   "source": [
    "def ensamble_system(self):\n",
    "    #Ensamble system\n",
    "    #--CONSISTENCY--\n",
    "    if self.nstars==1 and self.nplanets==1 and self.nrings==1:\n",
    "        self._ringedplanet=dict(\n",
    "            #Behavior\n",
    "            behavior=dict(shadows=True),\n",
    "            \n",
    "            #Units\n",
    "            CU=CanonicalUnits(UL=self.ul,UM=self.um),\n",
    "            \n",
    "            #Basic\n",
    "            Rstar=self.stars[0].physics.radius,\n",
    "            Rplanet=self.planets[0].physics.radius,\n",
    "            \n",
    "            Rint=self.rings[0].physics.fi,\n",
    "            Rext=self.rings[0].physics.fe,\n",
    "            i=self.rings[0].physics.i,\n",
    "            \n",
    "            a=self.planets[0].orbit.a,e=self.planets[0].orbit.e,\n",
    "            \n",
    "            #Orbit \n",
    "            Mstar=1,x=0,lambq=0,t0=0,kepler=False,\n",
    "            \n",
    "            #Observer\n",
    "            eobs_ecl=np.array([self.observers[0].optics.lamb,\n",
    "                               self.observers[0].optics.beta]),\n",
    "            \n",
    "            #Sampling\n",
    "            Np=self.planets[0].optics.nspangles,\n",
    "            Nr=self.rings[0].optics.nspangles,\n",
    "            \n",
    "            Nb=0,Ns=30,\n",
    "            \n",
    "            #Physical properties\n",
    "            physics=dict(\n",
    "                #Albedos\n",
    "                AS=1,AL=1,\n",
    "                #Ring geometrical opacity\n",
    "                taug=1.0, #Geometrical opacity\n",
    "                diffeff=1.0, #Diffraction efficiency\n",
    "                #Law of diffuse reflection on ring surface\n",
    "                reflection_rings_law=lambda x,y:x,\n",
    "                #Observations wavelength\n",
    "                wavelength=550e-9,\n",
    "                #Ring particle propeties (see French & Nicholson, 2000)\n",
    "                particles=dict(q=3,s0=100e-6,smin=1e-2,smax=1e2,Qsc=1,Qext=2),\n",
    "                #Stellar limb darkening\n",
    "                limb_cs=[0.6550],\n",
    "            )\n",
    "        )\n",
    "        self.RP=RingedPlanet(**self._ringedplanet)\n",
    "        return self.RP\n",
    "    else:\n",
    "        raise AssertionError(f\"You must have at least one star ({self.nstars}), a planet ({self.nplanets}) and a ring ({self.nrings})\")\n",
    "\n",
    "System.ensamble_system=ensamble_system"
   ]
  },
  {
   "cell_type": "code",
   "execution_count": 27,
   "id": "02612a43",
   "metadata": {},
   "outputs": [
    {
     "name": "stdout",
     "output_type": "stream",
     "text": [
      "0.004649131016042781 0.0003892513368983957 1.5 2.5 0.2 0.0\n",
      "0.5235987755982988 1.5707963267948966\n"
     ]
    },
    {
     "name": "stderr",
     "output_type": "stream",
     "text": [
      "."
     ]
    },
    {
     "name": "stdout",
     "output_type": "stream",
     "text": [
      "2.1245118303881245\n"
     ]
    },
    {
     "name": "stderr",
     "output_type": "stream",
     "text": [
      "\n",
      "----------------------------------------------------------------------\n",
      "Ran 1 test in 0.386s\n",
      "\n",
      "OK\n"
     ]
    }
   ],
   "source": [
    "if IN_JUPYTER:\n",
    "    def test_system_ensamble(self):\n",
    "\n",
    "        sys=System()\n",
    "        S=sys.add(kind=\"Star\",\n",
    "                  physics=dict(radius=Const.Rsun/Const.au))\n",
    "        P=sys.add(kind=\"Planet\",primary=S,\n",
    "                  orbit=dict(a=0.2,e=0.0),\n",
    "                  physics=dict(radius=Const.Rsat/Const.au)\n",
    "                 )\n",
    "        R=sys.add(kind=\"Ring\",primary=P,\n",
    "                  physics=dict(fi=1.5,fe=2.5,i=30*DEG)\n",
    "                 )\n",
    "        O=sys.add(kind=\"Observer\",\n",
    "                  optics=dict(beta=30*DEG,lamb=90*DEG)\n",
    "                 )\n",
    "\n",
    "        print(S.physics.radius,P.physics.radius,R.physics.fi,R.physics.fe,P.orbit.a,P.orbit.e)\n",
    "        print(O.optics.beta,O.optics.lamb)\n",
    "        \n",
    "        P=sys.ensamble_system()\n",
    "        fig1,fig2,fig3=P.plotRingedPlanet(showfig=0)\n",
    "        \n",
    "        P.changeObserver([90*DEG,30*DEG])\n",
    "        lamb_initial=+0.0*DEG\n",
    "        lamb_final=+360*DEG\n",
    "        lambs=np.linspace(lamb_initial,lamb_final,100)\n",
    "        Rps=[]\n",
    "        Rrs=[]\n",
    "        ts=[]\n",
    "        for lamb in lambs:\n",
    "            P.changeStellarPosition(lamb)\n",
    "            ts+=[P.t*P.CU.UT]\n",
    "            P.updateOpticalFactors()\n",
    "            P.updateDiffuseReflection()\n",
    "            Rps+=[P.Rip.sum()]\n",
    "            Rrs+=[P.Rir.sum()]\n",
    "\n",
    "        ts=np.array(ts)\n",
    "        Rps=np.array(Rps)\n",
    "        Rrs=np.array(Rrs)\n",
    "\n",
    "        #Middle transit\n",
    "        ts=(ts-ts[0])/Const.days\n",
    "\n",
    "        print(max(1e6*(Rps+Rrs)))\n",
    "        \n",
    "        #Plot\n",
    "        \"\"\"\n",
    "        fig=plt.figure()\n",
    "        ax=fig.gca()    \n",
    "        ax.plot(ts,1e6*Rps,label=\"Planet\")\n",
    "        ax.plot(ts,1e6*Rrs,label=\"Ring\")\n",
    "        ax.plot(ts,1e6*(Rps+Rrs),label=\"Planet+Ring\")\n",
    "\n",
    "        ax.set_xlabel(\"Time since VE [days]\")\n",
    "        ax.set_ylabel(\"Flux anomaly [ppm]\")\n",
    "\n",
    "        ax.legend();\n",
    "        \"\"\"\n",
    "        \n",
    "        \"\"\"\n",
    "        #LEGACY\n",
    "        attributes=dict(\n",
    "            #Behavior\n",
    "            behavior=dict(shadows=True),\n",
    "            #Units\n",
    "            CU=CanonicalUnits(UL=P.CU.UL,UM=P.CU.UM),\n",
    "            #Basic\n",
    "            Rstar=Const.Rsun/Const.au,Rplanet=Const.Rsat/Const.au,\n",
    "            Rint=1.5,Rext=2.5,i=30*DEG,a=0.2,e=0.0,\n",
    "            #Orbit \n",
    "            Mstar=1,x=0,lambq=0,t0=0,kepler=False,\n",
    "            #Observer\n",
    "            eobs_ecl=np.array([90.0*DEG,30.0*DEG]),\n",
    "            #Sampling\n",
    "            Np=1000,Nr=1000,Nb=0,Ns=30,\n",
    "            #Physical properties\n",
    "            physics=dict(\n",
    "                #Albedos\n",
    "                AS=1,AL=1,\n",
    "                #Ring geometrical opacity\n",
    "                taug=1.0, #Geometrical opacity\n",
    "                diffeff=1.0, #Diffraction efficiency\n",
    "                #Law of diffuse reflection on ring surface\n",
    "                reflection_rings_law=lambda x,y:x,\n",
    "                #Observations wavelength\n",
    "                wavelength=550e-9,\n",
    "                #Ring particle propeties (see French & Nicholson, 2000)\n",
    "                particles=dict(q=3,s0=100e-6,smin=1e-2,smax=1e2,Qsc=1,Qext=2),\n",
    "                #Stellar limb darkening\n",
    "                limb_cs=[0.6550],\n",
    "            )\n",
    "        )\n",
    "        P=RingedPlanet(**attributes)\n",
    "        fig1,fig2,fig3=P.plotRingedPlanet(showfig=0)\n",
    "\n",
    "        P.changeObserver([90*DEG,30*DEG])\n",
    "        lamb_initial=+0.0*DEG\n",
    "        lamb_final=+360*DEG\n",
    "        lambs=np.linspace(lamb_initial,lamb_final,100)\n",
    "        Rps=[]\n",
    "        Rrs=[]\n",
    "        ts=[]\n",
    "        for lamb in lambs:\n",
    "            P.changeStellarPosition(lamb)\n",
    "            ts+=[P.t*P.CU.UT]\n",
    "            P.updateOpticalFactors()\n",
    "            P.updateDiffuseReflection()\n",
    "            Rps+=[P.Rip.sum()]\n",
    "            Rrs+=[P.Rir.sum()]\n",
    "\n",
    "        ts=np.array(ts)\n",
    "        Rps=np.array(Rps)\n",
    "        Rrs=np.array(Rrs)\n",
    "\n",
    "\n",
    "        print(max(1e6*(Rps+Rrs)))\n",
    "\n",
    "        #Middle transit\n",
    "        ts=(ts-ts[0])/Const.days\n",
    "\n",
    "        #Plot\n",
    "        fig=plt.figure()\n",
    "        ax=fig.gca()    \n",
    "        ax.plot(ts,1e6*Rps,label=\"Planet\")\n",
    "        ax.plot(ts,1e6*Rrs,label=\"Ring\")\n",
    "        ax.plot(ts,1e6*(Rps+Rrs),label=\"Planet+Ring\")\n",
    "\n",
    "        ax.set_xlabel(\"Time since VE [days]\")\n",
    "        ax.set_ylabel(\"Flux anomaly [ppm]\")\n",
    "\n",
    "        ax.legend();\n",
    "        \"\"\";\n",
    "        \n",
    "        \"\"\"\n",
    "        self.assertEqual(np.isclose([P.physics.wrot],\n",
    "                                    [2*np.pi/_PlanetDefaults.physics[\"prot\"]],\n",
    "                                    rtol=1e-7),\n",
    "                         [True]*1)\n",
    "        #Check exception: primary could not be different from None or Body\n",
    "        self.assertRaises(AssertionError,lambda:Observer(primary=\"Nada\"))\n",
    "        \"\"\"\n",
    "        \n",
    "    class Test(unittest.TestCase):pass    \n",
    "    Test.test_system_ensamble=test_system_ensamble\n",
    "    unittest.main(argv=['first-arg-is-ignored'],exit=False)"
   ]
  },
  {
   "cell_type": "markdown",
   "id": "7d97e6c5",
   "metadata": {},
   "source": [
    "--Test--"
   ]
  },
  {
   "cell_type": "code",
   "execution_count": 28,
   "id": "b8510339",
   "metadata": {},
   "outputs": [
    {
     "name": "stdout",
     "output_type": "stream",
     "text": [
      "0.004649131016042781 0.0003892513368983957 1.5 2.5 0.2 0.0\n",
      "0.5235987755982988 1.5707963267948966\n"
     ]
    },
    {
     "name": "stderr",
     "output_type": "stream",
     "text": [
      "."
     ]
    },
    {
     "name": "stdout",
     "output_type": "stream",
     "text": [
      "2.1245118303881245\n"
     ]
    },
    {
     "name": "stderr",
     "output_type": "stream",
     "text": [
      "\n",
      "----------------------------------------------------------------------\n",
      "Ran 1 test in 0.413s\n",
      "\n",
      "OK\n"
     ]
    }
   ],
   "source": [
    "if __name__==\"__main__\":\n",
    "    unittest.main(argv=['first-arg-is-ignored'],exit=False)"
   ]
  },
  {
   "cell_type": "markdown",
   "id": "68b7640b",
   "metadata": {},
   "source": [
    "--End--"
   ]
  },
  {
   "cell_type": "markdown",
   "id": "38968ddf",
   "metadata": {},
   "source": [
    "## Debugging"
   ]
  },
  {
   "cell_type": "code",
   "execution_count": null,
   "id": "3c770a9c",
   "metadata": {},
   "outputs": [],
   "source": []
  },
  {
   "cell_type": "markdown",
   "id": "5ac4ee6f",
   "metadata": {},
   "source": [
    "# Convert"
   ]
  },
  {
   "cell_type": "code",
   "execution_count": 31,
   "id": "5b6ca1b0",
   "metadata": {},
   "outputs": [
    {
     "data": {
      "application/javascript": [
       "IPython.notebook.kernel.execute('FILE=\\\"' + IPython.notebook.notebook_name + '\\\"')\n"
      ],
      "text/plain": [
       "<IPython.core.display.Javascript object>"
      ]
     },
     "metadata": {},
     "output_type": "display_data"
    }
   ],
   "source": [
    "%%javascript\n",
    "IPython.notebook.kernel.execute('FILE=\\\"' + IPython.notebook.notebook_name + '\\\"')"
   ]
  },
  {
   "cell_type": "code",
   "execution_count": 32,
   "id": "f9a41d61",
   "metadata": {
    "scrolled": true
   },
   "outputs": [
    {
     "name": "stdout",
     "output_type": "stream",
     "text": [
      "Converting iPython Notebooks dev/pryngles-_base.ipynb...\n",
      "Analysing file pryngles-_base.ipynb:\n",
      "\tDirectory: src//pryngles\n",
      "\tFilename: _base\n",
      "\tTarget object: src//pryngles/_base.py\n",
      "\tConverting from ipynb dev/pryngles-_base.ipynb to python src//pryngles/_base.py...\n",
      "\tProcessing magic commands...\n",
      "\tTriming end...\n",
      "\tTriming test...\n",
      "\tUsing as template src/.temp\n",
      "\tCreating test file src//pryngles/tests/test-_base.py...\n",
      "Completed.\n"
     ]
    }
   ],
   "source": [
    "!make -C .. DEVFILES=dev/{FILE} convert"
   ]
  },
  {
   "cell_type": "code",
   "execution_count": null,
   "id": "529cf6b7",
   "metadata": {},
   "outputs": [],
   "source": []
  }
 ],
 "metadata": {
  "kernelspec": {
   "display_name": "Python 3 (ipykernel)",
   "language": "python",
   "name": "python3"
  },
  "language_info": {
   "codemirror_mode": {
    "name": "ipython",
    "version": 3
   },
   "file_extension": ".py",
   "mimetype": "text/x-python",
   "name": "python",
   "nbconvert_exporter": "python",
   "pygments_lexer": "ipython3",
   "version": "3.9.7"
  }
 },
 "nbformat": 4,
 "nbformat_minor": 5
}
