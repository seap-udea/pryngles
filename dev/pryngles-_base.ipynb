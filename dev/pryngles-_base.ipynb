{
 "cells": [
  {
   "cell_type": "markdown",
   "id": "5c9f509d",
   "metadata": {},
   "source": [
    "# Pryngles module"
   ]
  },
  {
   "cell_type": "markdown",
   "id": "307560c2",
   "metadata": {},
   "source": [
    "## Module base\n",
    "\n",
    "Goals of the module:\n",
    "- Future `base`\n",
    "- Basic Classes and functions of the Class.\n",
    "- It is based on existing infrastructure."
   ]
  },
  {
   "cell_type": "code",
   "execution_count": 764,
   "id": "c9a439e5",
   "metadata": {},
   "outputs": [
    {
     "name": "stdout",
     "output_type": "stream",
     "text": [
      "The autoreload extension is already loaded. To reload it, use:\n",
      "  %reload_ext autoreload\n"
     ]
    }
   ],
   "source": [
    "##HEADER\n",
    "from pryngles import *\n",
    "import unittest\n",
    "#import rebound as rb\n",
    "%load_ext autoreload\n",
    "%autoreload 2"
   ]
  },
  {
   "cell_type": "code",
   "execution_count": 765,
   "id": "bcb88f85",
   "metadata": {},
   "outputs": [],
   "source": [
    "class Test(unittest.TestCase):\n",
    "    from pryngles import _base"
   ]
  },
  {
   "cell_type": "code",
   "execution_count": 766,
   "id": "df4b603f",
   "metadata": {},
   "outputs": [],
   "source": [
    "class Object(PrynglesCommon):\n",
    "    \"\"\"\n",
    "    Global class of object\n",
    "    \"\"\"\n",
    "    def _updateChilds(self,child=None):\n",
    "        if 'childs' not in self.__dict__:\n",
    "            self.childs=[]\n",
    "        if child is not None:\n",
    "            self.childs+=[child]\n",
    "    def _updateParent(self,parent=None):\n",
    "        if 'parent' not in self.__dict__:\n",
    "            self.parent=parent\n",
    "        elif parent is not None:\n",
    "            self.parent=parent"
   ]
  },
  {
   "cell_type": "code",
   "execution_count": 767,
   "id": "3173b14a",
   "metadata": {},
   "outputs": [],
   "source": [
    "def test_Object(self):\n",
    "    obj=Object()\n",
    "    obj._updateParent(\"parent\")\n",
    "    obj._updateChilds(\"child1\")\n",
    "    obj._updateChilds(\"child2\")\n",
    "    self.assertEqual([obj.parent],[\"parent\"],True)\n",
    "    self.assertEqual(obj.childs,[\"child1\",\"child2\"],True)\n",
    "Test.test_Object=test_Object\n",
    "#unittest.main(argv=['first-arg-is-ignored'],exit=False)"
   ]
  },
  {
   "cell_type": "code",
   "execution_count": 768,
   "id": "7295b19d",
   "metadata": {},
   "outputs": [],
   "source": [
    "def addStar(self,\n",
    "                 hash=None,\n",
    "                 center=None,\n",
    "                 m=1,R=1,\n",
    "                 Prot=0.1,\n",
    "                 N=1000,\n",
    "             star=None\n",
    "            ):\n",
    "    \"\"\"\n",
    "    TO DEVELOPERS:\n",
    "        This method is for the System class.  It is placed here because when a new parameter\n",
    "        is added to the initializer of the addObject (being Object Star, Planet, etc.) class\n",
    "        then the parameters of this ruotine should also change.\n",
    "    \"\"\"\n",
    "    if star is not None:\n",
    "        self._addObject(\"star\",\"Star\",star)\n",
    "    else:\n",
    "        self.stars+=[Star(hash,center,m,R,Prot,N)]\n",
    "    self._updateSystem()\n",
    "    \n",
    "class Star(Object):\n",
    "    \"\"\"\n",
    "    Creates a star.\n",
    "    \"\"\"\n",
    "    def __init__(self,\n",
    "                 hash=None,\n",
    "                 center=None,\n",
    "                 m=1,R=1,\n",
    "                 Prot=0.1,\n",
    "                 N=1000,\n",
    "                ):\n",
    "        #List of arguments: hash,center,m,r,Prot,N\n",
    "        #Hash of the object\n",
    "        self.hash=hash\n",
    "        self.type=\"Star\"\n",
    "\n",
    "        #Center of the system (object)\n",
    "        self.center=center\n",
    "        if self.center is not None:\n",
    "            self.center._updateChilds(self)\n",
    "            self._updateParent(self.center)\n",
    "        \n",
    "        #Basic common properties\n",
    "        self.m=m #mass [cu]\n",
    "        self.R=R #radius [cu]\n",
    "\n",
    "        #Dynamic parameters\n",
    "        self.Prot=Prot\n",
    "\n",
    "        #Sampling parameters\n",
    "        self.N=N #number of spangles\n",
    "        \n",
    "        #Update properties\n",
    "        self.updateObject(**self.__dict__)\n",
    "\n",
    "    def updateObject(self,**props):\n",
    "        self.__dict__.update(props)\n",
    "        self._updateChilds()\n",
    "        self._updateParent()"
   ]
  },
  {
   "cell_type": "code",
   "execution_count": 769,
   "id": "68cac451",
   "metadata": {},
   "outputs": [],
   "source": [
    "def addPlanet(self,\n",
    "                 hash=None,\n",
    "                 center=None,\n",
    "                 m=1e-3,R=0.1,\n",
    "                 Prot=0.01,\n",
    "                 N=1000,\n",
    "             planet=None\n",
    "            ):\n",
    "    if planet is not None:\n",
    "        self._addObject(\"planet\",\"Planet\",planet)\n",
    "    else:\n",
    "        self.planets+=[Planet(hash,center,m,R,Prot,N)]\n",
    "    self._updateSystem()\n",
    "    \n",
    "class Planet(Object):\n",
    "    \"\"\"\n",
    "    Creates a star.\n",
    "    \"\"\"\n",
    "    def __init__(self,\n",
    "                 hash=None,\n",
    "                 center=None,\n",
    "                 m=1e-3,R=0.1,\n",
    "                 Prot=0.01,\n",
    "                 N=1000,\n",
    "                ):\n",
    "        #List of arguments: hash,center,m,r,Prot,N\n",
    "        #Hash of the object\n",
    "        self.hash=hash\n",
    "        self.type=\"Planet\"\n",
    "\n",
    "        #Center of the system (object)\n",
    "        if center is None:\n",
    "            raise ValueError(f\"You must provide a valid object for the center.  {center} provided\")\n",
    "        self.center=center\n",
    "        self.center._updateChilds(self)\n",
    "        self._updateParent(self.center)\n",
    "        \n",
    "        #Basic common properties\n",
    "        self.m=m #mass [cu]\n",
    "        self.R=R #radius [cu]\n",
    "\n",
    "        #Dynamic parameters\n",
    "        self.Prot=Prot\n",
    "\n",
    "        #Sampling parameters\n",
    "        self.N=N #number of spangles\n",
    "        \n",
    "        #Update properties\n",
    "        self.updateObject(**self.__dict__)\n",
    "        \n",
    "    def updateObject(self,**props):\n",
    "        self.__dict__.update(props)\n",
    "        self._updateChilds()\n",
    "        self._updateParent()"
   ]
  },
  {
   "cell_type": "code",
   "execution_count": 770,
   "id": "e9955453",
   "metadata": {},
   "outputs": [],
   "source": [
    "def addRing(self,\n",
    "                 hash=None,\n",
    "                 center=None,\n",
    "                 fi=1.5,fe=2.5,\n",
    "                 N=1000,\n",
    "             ring=None\n",
    "            ):\n",
    "    if ring is not None:\n",
    "        self._addObject(\"ring\",\"Ring\",ring)\n",
    "    else:\n",
    "        self.rings+=[Ring(hash,center,fi,fe,N)]\n",
    "    self._updateSystem()\n",
    "    \n",
    "class Ring(Object):\n",
    "    \"\"\"\n",
    "    Creates a star.\n",
    "    \"\"\"\n",
    "    def __init__(self,\n",
    "                 hash=None,\n",
    "                 center=None,\n",
    "                 fi=1.5,fe=2.5,\n",
    "                 N=1000,\n",
    "                ):\n",
    "        #List of arguments: hash,center,fi,fe,N\n",
    "        #Hash of the object\n",
    "        self.hash=hash\n",
    "        self.type=\"Ring\"\n",
    "\n",
    "        #Center of the system (object)\n",
    "        if center is None:\n",
    "            raise ValueError(f\"You must provide a valid object for the center.  {center} provided\")\n",
    "        self.center=center\n",
    "        self.center._updateChilds(self)\n",
    "        self._updateParent(self.center)\n",
    "\n",
    "        #Basic common properties\n",
    "        self.fi=fi\n",
    "        self.fe=fe\n",
    "\n",
    "        #Sampling parameters\n",
    "        self.N=N #number of spangles\n",
    "        \n",
    "        #Update properties\n",
    "        self.updateObject(**self.__dict__)\n",
    "        \n",
    "    def updateObject(self,**props):\n",
    "        self.__dict__.update(props)\n",
    "        self._updateChilds()\n",
    "        self._updateParent()\n",
    "        \n",
    "        #Derivative properties\n",
    "        self.ri=self.fi*self.center.R\n",
    "        self.re=self.fe*self.center.R"
   ]
  },
  {
   "cell_type": "code",
   "execution_count": 771,
   "id": "8ec556c4",
   "metadata": {},
   "outputs": [],
   "source": [
    "System_doc=\\\n",
    "\"\"\"\n",
    "Creates a planetary system.\n",
    "\n",
    "Examples:\n",
    "\n",
    "    sys=System()\n",
    "    sys=System(units=['msun','km','s'])\n",
    "    sys=System(stars=dict(M=1,R=1))\n",
    "\n",
    "Initialization (primary) attributes:\n",
    "\n",
    "    units = ['msun','au','yr']: \n",
    "        Units used in calculations following the conventions and signs of rebound. List [3].\n",
    "        \n",
    "    stars = None: \n",
    "        Stars in the system.\n",
    "    planets = None: \n",
    "        Planets in the system.\n",
    "    rings = None: \n",
    "        Rings in the system.\n",
    "           \n",
    "        NOTE: Objects are provided either by description or as an object. Those attributes can be lists or \n",
    "              a single value.\n",
    "    \n",
    "    rebound = True:\n",
    "        Set True if you want to simulte the orbit of objects (for instance if you want to calculate\n",
    "        TTVs).  If False it will calculate orbits using Keplerian dynamics.\n",
    "\n",
    "Other Public (secondary) attributes:\n",
    "\n",
    "    N: Number of objects in the system.\n",
    "\n",
    "Important private attributes:\n",
    "\n",
    "    _sim: Rebound simulation object.\n",
    "\"\"\";"
   ]
  },
  {
   "cell_type": "code",
   "execution_count": 772,
   "id": "99657ffc",
   "metadata": {},
   "outputs": [],
   "source": [
    "class System(PrynglesCommon):\n",
    "    \n",
    "    def __init__(self,\n",
    "                 units=['Msun','au','yr'],\n",
    "                 stars=None,planets=None,rings=None,\n",
    "                 rebound=True\n",
    "                ):\n",
    "        #Initialize rebound\n",
    "        self.units=units\n",
    "\n",
    "        #Add components\n",
    "        self._list2Objects(\"stars\",\"Star\",stars)\n",
    "        self._list2Objects(\"planets\",\"Planet\",planets)\n",
    "        self._list2Objects(\"rings\",\"Ring\",rings)\n",
    "\n",
    "        #Behavior\n",
    "        self.rebound=True\n",
    "        \n",
    "        #Update system\n",
    "        self._updateSystem()\n",
    "    \n",
    "    \"\"\"\n",
    "    #Freezer\n",
    "    def addStar(self,star=None):\n",
    "        self._addObject(\"star\",\"Star\",planet)\n",
    "        self._updateSystem()\n",
    "    \n",
    "    def addPlanet(self,planet=None):\n",
    "        self._addObject(\"planet\",\"Planet\",planet)\n",
    "        self._updateSystem()\n",
    "    \n",
    "    def addRing(self,ring=None):\n",
    "        self._addObject(\"ring\",\"Ring\",ring)\n",
    "        self._updateSystem()\n",
    "    \"\"\"\n",
    "\n",
    "    def _addObject(self,kind,objclass,obj):\n",
    "        error=\"\"\n",
    "        try:\n",
    "            obj.__dict__\n",
    "            exec(f\"self.{kind}s=self.{kind}s+[obj] if len(self.{kind}s)!=0 is not None else [obj]\")\n",
    "            cond=eval(f\"obj.type!='{objclass}'\")\n",
    "            if cond:\n",
    "                error=f\"You cannot add a {objclass} with a {obj.type} object\"\n",
    "        except:\n",
    "            #exec(f\"self.{kind}s+=self.{kind}s+[{objclass}(**obj)] if self.{kind}s[0] is not None else [{objclass}(**{kind})]\")\n",
    "            exec(f\"self.{kind}s+=self.{kind}s+[obj] if len(self.{kind}s)!=0 else [obj]\")\n",
    "        if error!=\"\":\n",
    "            exec(f\"self.{kind}s.pop()\")\n",
    "            raise AssertionError(error)\n",
    "        self._updateSystem()\n",
    "        \n",
    "    \n",
    "    def _updateSystem(self):\n",
    "        #Count components\n",
    "        self.Nstars=self.Nplanets=self.Nrings=0\n",
    "        for obj in \"stars\",\"planets\",\"rings\":\n",
    "            exec(f\"self.N{obj}=len(self.{obj})\")\n",
    "        self.N=self.Nstars+self.Nplanets+self.Nrings\n",
    "\n",
    "    def _list2Objects(self,attr,kind,comps):\n",
    "        if comps is None:\n",
    "            exec(f\"self.{attr}=[]\")\n",
    "        else:\n",
    "            #Check if stars is a list\n",
    "            try:comps[0]\n",
    "            except:comps=[comps]\n",
    "            exec(f\"self.{attr}=[]\")\n",
    "            for comp in comps:\n",
    "                try:\n",
    "                    comp.__dict__\n",
    "                    exec(f\"self.{attr}+=[comp]\")\n",
    "                except:\n",
    "                    exec(f\"self.{attr}+=[{kind}(**comp)]\")\n",
    "\n",
    "System.addStar=addStar\n",
    "System.addPlanet=addPlanet\n",
    "System.addRing=addRing\n",
    "System.__doc__=System_doc"
   ]
  },
  {
   "cell_type": "markdown",
   "id": "a0375791",
   "metadata": {},
   "source": [
    "--Test--"
   ]
  },
  {
   "cell_type": "code",
   "execution_count": 763,
   "id": "41043c8b",
   "metadata": {},
   "outputs": [
    {
     "name": "stderr",
     "output_type": "stream",
     "text": [
      ".\n",
      "----------------------------------------------------------------------\n",
      "Ran 1 test in 0.001s\n",
      "\n",
      "OK\n"
     ]
    }
   ],
   "source": [
    "if __name__==\"__main__\":\n",
    "    unittest.main(argv=['first-arg-is-ignored'],exit=False)"
   ]
  },
  {
   "cell_type": "markdown",
   "id": "68b7640b",
   "metadata": {},
   "source": [
    "--End--"
   ]
  },
  {
   "cell_type": "markdown",
   "id": "eb1d96b6",
   "metadata": {},
   "source": [
    "## Debugging"
   ]
  },
  {
   "cell_type": "markdown",
   "id": "ac69b2db",
   "metadata": {},
   "source": [
    "Battery of test:"
   ]
  },
  {
   "cell_type": "markdown",
   "id": "2d5da05b",
   "metadata": {},
   "source": [
    "1. Individual object creation "
   ]
  },
  {
   "cell_type": "code",
   "execution_count": 782,
   "id": "5a5f33f3",
   "metadata": {},
   "outputs": [
    {
     "name": "stdout",
     "output_type": "stream",
     "text": [
      "{'hash': None, 'type': 'Star', 'center': None, 'm': 1, 'R': 1, 'Prot': 0.1, 'N': 1000, 'childs': [], 'parent': None}\n",
      "{'hash': None, 'type': 'Star', 'center': None, 'm': 2, 'R': 1, 'Prot': 0.1, 'N': 1000, 'childs': [], 'parent': None}\n",
      "{'hash': None, 'type': 'Star', 'center': None, 'm': 3.5, 'R': 5.6, 'Prot': 0.1, 'N': 1000, 'childs': [], 'parent': None}\n",
      "{'hash': None, 'type': 'Planet', 'center': <__main__.Star object at 0x7fb9186db5b0>, 'parent': <__main__.Star object at 0x7fb9186db5b0>, 'm': 0.001, 'R': 0.1, 'Prot': 0.01, 'N': 1000, 'childs': []}\n",
      "{'hash': None, 'type': 'Planet', 'center': <__main__.Star object at 0x7fb9186db5b0>, 'parent': <__main__.Star object at 0x7fb9186db5b0>, 'm': 0.001, 'R': 2, 'Prot': 0.01, 'N': 1000, 'childs': []}\n",
      "{'hash': None, 'type': 'Planet', 'center': <__main__.Star object at 0x7fb9186db5b0>, 'parent': <__main__.Star object at 0x7fb9186db5b0>, 'm': 0.5, 'R': 0.6, 'Prot': 0.01, 'N': 1000, 'childs': []}\n",
      "{'hash': None, 'type': 'Star', 'center': None, 'm': 3.5, 'R': 5.6, 'Prot': 0.1, 'N': 1000, 'childs': [<__main__.Planet object at 0x7fb938875fa0>, <__main__.Planet object at 0x7fb9186dbe50>, <__main__.Planet object at 0x7fb9186db220>], 'parent': None}\n"
     ]
    }
   ],
   "source": [
    "#Single\n",
    "S=Star()\n",
    "print(S)\n",
    "#Parameters\n",
    "S=Star(m=2)\n",
    "print(S)\n",
    "#With dictionary\n",
    "star=dict(m=3.5,R=5.6)\n",
    "S=Star(**star)\n",
    "print(S)\n",
    "\n",
    "#Single\n",
    "P=Planet(center=S)\n",
    "print(P)\n",
    "#Parameters\n",
    "P=Planet(R=2,center=S)\n",
    "print(P)\n",
    "#With dictionary\n",
    "planet=dict(m=0.5,R=0.6)\n",
    "P=Planet(**planet,center=S)\n",
    "print(P)\n",
    "print(S)"
   ]
  },
  {
   "cell_type": "markdown",
   "id": "cae3eb3a",
   "metadata": {},
   "source": [
    "2. System creation"
   ]
  },
  {
   "cell_type": "code",
   "execution_count": 784,
   "id": "4b316521",
   "metadata": {},
   "outputs": [
    {
     "name": "stdout",
     "output_type": "stream",
     "text": [
      "{'units': ['Msun', 'au', 'yr'], 'stars': [], 'planets': [], 'rings': [], 'rebound': True, 'Nstars': 0, 'Nplanets': 0, 'Nrings': 0, 'N': 0}\n"
     ]
    }
   ],
   "source": [
    "#Default\n",
    "sys=System()\n",
    "print(sys)"
   ]
  },
  {
   "cell_type": "code",
   "execution_count": 744,
   "id": "4928f76b",
   "metadata": {},
   "outputs": [],
   "source": [
    "sys.addStar(star=Star())"
   ]
  },
  {
   "cell_type": "code",
   "execution_count": 745,
   "id": "efef0257",
   "metadata": {},
   "outputs": [
    {
     "ename": "AssertionError",
     "evalue": "You cannot add a Star with a Planet object",
     "output_type": "error",
     "traceback": [
      "\u001b[0;31m---------------------------------------------------------------------------\u001b[0m",
      "\u001b[0;31mAssertionError\u001b[0m                            Traceback (most recent call last)",
      "Input \u001b[0;32mIn [745]\u001b[0m, in \u001b[0;36m<module>\u001b[0;34m\u001b[0m\n\u001b[0;32m----> 1\u001b[0m \u001b[43msys\u001b[49m\u001b[38;5;241;43m.\u001b[39;49m\u001b[43maddStar\u001b[49m\u001b[43m(\u001b[49m\u001b[43mstar\u001b[49m\u001b[38;5;241;43m=\u001b[39;49m\u001b[43mPlanet\u001b[49m\u001b[43m(\u001b[49m\u001b[43mcenter\u001b[49m\u001b[38;5;241;43m=\u001b[39;49m\u001b[43msys\u001b[49m\u001b[38;5;241;43m.\u001b[39;49m\u001b[43mstars\u001b[49m\u001b[43m[\u001b[49m\u001b[38;5;241;43m0\u001b[39;49m\u001b[43m]\u001b[49m\u001b[43m)\u001b[49m\u001b[43m)\u001b[49m\n",
      "Input \u001b[0;32mIn [737]\u001b[0m, in \u001b[0;36maddStar\u001b[0;34m(self, hash, center, m, R, Prot, N, star)\u001b[0m\n\u001b[1;32m      9\u001b[0m \u001b[38;5;124;03m\"\"\"\u001b[39;00m\n\u001b[1;32m     10\u001b[0m \u001b[38;5;124;03mTO DEVELOPERS:\u001b[39;00m\n\u001b[1;32m     11\u001b[0m \u001b[38;5;124;03m    This method is for the System class.  It is placed here because when a new parameter\u001b[39;00m\n\u001b[1;32m     12\u001b[0m \u001b[38;5;124;03m    is added to the initializer of the addObject (being Object Star, Planet, etc.) class\u001b[39;00m\n\u001b[1;32m     13\u001b[0m \u001b[38;5;124;03m    then the parameters of this ruotine should also change.\u001b[39;00m\n\u001b[1;32m     14\u001b[0m \u001b[38;5;124;03m\"\"\"\u001b[39;00m\n\u001b[1;32m     15\u001b[0m \u001b[38;5;28;01mif\u001b[39;00m star \u001b[38;5;129;01mis\u001b[39;00m \u001b[38;5;129;01mnot\u001b[39;00m \u001b[38;5;28;01mNone\u001b[39;00m:\n\u001b[0;32m---> 16\u001b[0m     \u001b[38;5;28;43mself\u001b[39;49m\u001b[38;5;241;43m.\u001b[39;49m\u001b[43m_addObject\u001b[49m\u001b[43m(\u001b[49m\u001b[38;5;124;43m\"\u001b[39;49m\u001b[38;5;124;43mstar\u001b[39;49m\u001b[38;5;124;43m\"\u001b[39;49m\u001b[43m,\u001b[49m\u001b[38;5;124;43m\"\u001b[39;49m\u001b[38;5;124;43mStar\u001b[39;49m\u001b[38;5;124;43m\"\u001b[39;49m\u001b[43m,\u001b[49m\u001b[43mstar\u001b[49m\u001b[43m)\u001b[49m\n\u001b[1;32m     17\u001b[0m \u001b[38;5;28;01melse\u001b[39;00m:\n\u001b[1;32m     18\u001b[0m     \u001b[38;5;28mself\u001b[39m\u001b[38;5;241m.\u001b[39mstars\u001b[38;5;241m+\u001b[39m\u001b[38;5;241m=\u001b[39m[Star(\u001b[38;5;28mhash\u001b[39m,center,m,R,Prot,N)]\n",
      "Input \u001b[0;32mIn [741]\u001b[0m, in \u001b[0;36mSystem._addObject\u001b[0;34m(self, kind, objclass, obj)\u001b[0m\n\u001b[1;32m     48\u001b[0m \u001b[38;5;28;01mif\u001b[39;00m error\u001b[38;5;241m!=\u001b[39m\u001b[38;5;124m\"\u001b[39m\u001b[38;5;124m\"\u001b[39m:\n\u001b[1;32m     49\u001b[0m     exec(\u001b[38;5;124mf\u001b[39m\u001b[38;5;124m\"\u001b[39m\u001b[38;5;124mself.\u001b[39m\u001b[38;5;132;01m{\u001b[39;00mkind\u001b[38;5;132;01m}\u001b[39;00m\u001b[38;5;124ms.pop()\u001b[39m\u001b[38;5;124m\"\u001b[39m)\n\u001b[0;32m---> 50\u001b[0m     \u001b[38;5;28;01mraise\u001b[39;00m \u001b[38;5;167;01mAssertionError\u001b[39;00m(error)\n\u001b[1;32m     51\u001b[0m \u001b[38;5;28mself\u001b[39m\u001b[38;5;241m.\u001b[39m_updateSystem()\n",
      "\u001b[0;31mAssertionError\u001b[0m: You cannot add a Star with a Planet object"
     ]
    }
   ],
   "source": [
    "sys.addStar(star=Planet(center=sys.stars[0]))"
   ]
  },
  {
   "cell_type": "code",
   "execution_count": 746,
   "id": "c1c449df",
   "metadata": {},
   "outputs": [
    {
     "name": "stdout",
     "output_type": "stream",
     "text": [
      "[<__main__.Star object at 0x7fb92bae2220>]\n",
      "[]\n",
      "[]\n",
      "1\n"
     ]
    }
   ],
   "source": [
    "print(sys.stars)\n",
    "print(sys.planets)\n",
    "print(sys.rings)\n",
    "print(sys.N)"
   ]
  },
  {
   "cell_type": "code",
   "execution_count": 747,
   "id": "7d13c384",
   "metadata": {},
   "outputs": [],
   "source": [
    "sys.addPlanet(planet=Planet(center=sys.stars[0]))"
   ]
  },
  {
   "cell_type": "code",
   "execution_count": 748,
   "id": "74395230",
   "metadata": {},
   "outputs": [
    {
     "name": "stdout",
     "output_type": "stream",
     "text": [
      "[<__main__.Star object at 0x7fb92bae2220>]\n",
      "[<__main__.Planet object at 0x7fb9186e3250>]\n",
      "[]\n",
      "2\n"
     ]
    }
   ],
   "source": [
    "print(sys.stars)\n",
    "print(sys.planets)\n",
    "print(sys.rings)\n",
    "print(sys.N)"
   ]
  },
  {
   "cell_type": "code",
   "execution_count": 749,
   "id": "76ae0bde",
   "metadata": {},
   "outputs": [
    {
     "ename": "AssertionError",
     "evalue": "You cannot add a Planet with a Star object",
     "output_type": "error",
     "traceback": [
      "\u001b[0;31m---------------------------------------------------------------------------\u001b[0m",
      "\u001b[0;31mAssertionError\u001b[0m                            Traceback (most recent call last)",
      "Input \u001b[0;32mIn [749]\u001b[0m, in \u001b[0;36m<module>\u001b[0;34m\u001b[0m\n\u001b[0;32m----> 1\u001b[0m \u001b[43msys\u001b[49m\u001b[38;5;241;43m.\u001b[39;49m\u001b[43maddPlanet\u001b[49m\u001b[43m(\u001b[49m\u001b[43mplanet\u001b[49m\u001b[38;5;241;43m=\u001b[39;49m\u001b[43mStar\u001b[49m\u001b[43m(\u001b[49m\u001b[43m)\u001b[49m\u001b[43m)\u001b[49m\n",
      "Input \u001b[0;32mIn [738]\u001b[0m, in \u001b[0;36maddPlanet\u001b[0;34m(self, hash, center, m, R, Prot, N, planet)\u001b[0m\n\u001b[1;32m      1\u001b[0m \u001b[38;5;28;01mdef\u001b[39;00m \u001b[38;5;21maddPlanet\u001b[39m(\u001b[38;5;28mself\u001b[39m,\n\u001b[1;32m      2\u001b[0m                  \u001b[38;5;28mhash\u001b[39m\u001b[38;5;241m=\u001b[39m\u001b[38;5;28;01mNone\u001b[39;00m,\n\u001b[1;32m      3\u001b[0m                  center\u001b[38;5;241m=\u001b[39m\u001b[38;5;28;01mNone\u001b[39;00m,\n\u001b[0;32m   (...)\u001b[0m\n\u001b[1;32m      7\u001b[0m              planet\u001b[38;5;241m=\u001b[39m\u001b[38;5;28;01mNone\u001b[39;00m\n\u001b[1;32m      8\u001b[0m             ):\n\u001b[1;32m      9\u001b[0m     \u001b[38;5;28;01mif\u001b[39;00m planet \u001b[38;5;129;01mis\u001b[39;00m \u001b[38;5;129;01mnot\u001b[39;00m \u001b[38;5;28;01mNone\u001b[39;00m:\n\u001b[0;32m---> 10\u001b[0m         \u001b[38;5;28;43mself\u001b[39;49m\u001b[38;5;241;43m.\u001b[39;49m\u001b[43m_addObject\u001b[49m\u001b[43m(\u001b[49m\u001b[38;5;124;43m\"\u001b[39;49m\u001b[38;5;124;43mplanet\u001b[39;49m\u001b[38;5;124;43m\"\u001b[39;49m\u001b[43m,\u001b[49m\u001b[38;5;124;43m\"\u001b[39;49m\u001b[38;5;124;43mPlanet\u001b[39;49m\u001b[38;5;124;43m\"\u001b[39;49m\u001b[43m,\u001b[49m\u001b[43mplanet\u001b[49m\u001b[43m)\u001b[49m\n\u001b[1;32m     11\u001b[0m     \u001b[38;5;28;01melse\u001b[39;00m:\n\u001b[1;32m     12\u001b[0m         \u001b[38;5;28mself\u001b[39m\u001b[38;5;241m.\u001b[39mplanets\u001b[38;5;241m+\u001b[39m\u001b[38;5;241m=\u001b[39m[Planet(\u001b[38;5;28mhash\u001b[39m,center,m,R,Prot,N)]\n",
      "Input \u001b[0;32mIn [741]\u001b[0m, in \u001b[0;36mSystem._addObject\u001b[0;34m(self, kind, objclass, obj)\u001b[0m\n\u001b[1;32m     48\u001b[0m \u001b[38;5;28;01mif\u001b[39;00m error\u001b[38;5;241m!=\u001b[39m\u001b[38;5;124m\"\u001b[39m\u001b[38;5;124m\"\u001b[39m:\n\u001b[1;32m     49\u001b[0m     exec(\u001b[38;5;124mf\u001b[39m\u001b[38;5;124m\"\u001b[39m\u001b[38;5;124mself.\u001b[39m\u001b[38;5;132;01m{\u001b[39;00mkind\u001b[38;5;132;01m}\u001b[39;00m\u001b[38;5;124ms.pop()\u001b[39m\u001b[38;5;124m\"\u001b[39m)\n\u001b[0;32m---> 50\u001b[0m     \u001b[38;5;28;01mraise\u001b[39;00m \u001b[38;5;167;01mAssertionError\u001b[39;00m(error)\n\u001b[1;32m     51\u001b[0m \u001b[38;5;28mself\u001b[39m\u001b[38;5;241m.\u001b[39m_updateSystem()\n",
      "\u001b[0;31mAssertionError\u001b[0m: You cannot add a Planet with a Star object"
     ]
    }
   ],
   "source": [
    "sys.addPlanet(planet=Star())"
   ]
  },
  {
   "cell_type": "code",
   "execution_count": 750,
   "id": "e18e77a3",
   "metadata": {},
   "outputs": [
    {
     "name": "stdout",
     "output_type": "stream",
     "text": [
      "[<__main__.Star object at 0x7fb92bae2220>]\n",
      "[<__main__.Planet object at 0x7fb9186e3250>]\n",
      "[]\n",
      "2\n"
     ]
    }
   ],
   "source": [
    "print(sys.stars)\n",
    "print(sys.planets)\n",
    "print(sys.rings)\n",
    "print(sys.N)"
   ]
  },
  {
   "cell_type": "code",
   "execution_count": 751,
   "id": "1a3319fe",
   "metadata": {},
   "outputs": [],
   "source": [
    "S=Star(m=1.89,R=0.1)"
   ]
  },
  {
   "cell_type": "code",
   "execution_count": 752,
   "id": "07550875",
   "metadata": {},
   "outputs": [],
   "source": [
    "P=Planet(center=S,R=0.1)"
   ]
  },
  {
   "cell_type": "code",
   "execution_count": 753,
   "id": "0058acda",
   "metadata": {},
   "outputs": [
    {
     "data": {
      "text/plain": [
       "([<__main__.Planet at 0x7fb9186e3460>], <__main__.Star at 0x7fb9186e3850>)"
      ]
     },
     "execution_count": 753,
     "metadata": {},
     "output_type": "execute_result"
    }
   ],
   "source": [
    "S.childs,P.parent"
   ]
  },
  {
   "cell_type": "code",
   "execution_count": 754,
   "id": "a7418b4e",
   "metadata": {},
   "outputs": [
    {
     "name": "stdout",
     "output_type": "stream",
     "text": [
      "{'hash': None, 'type': 'Star', 'center': None, 'm': 1.89, 'R': 0.1, 'Prot': 0.1, 'N': 1000, 'childs': [<__main__.Planet object at 0x7fb9186e3a00>], 'parent': None}\n",
      "{'hash': None, 'type': 'Planet', 'center': <__main__.Star object at 0x7fb92bae23d0>, 'parent': <__main__.Star object at 0x7fb92bae23d0>, 'm': 0.001, 'R': 0.1, 'Prot': 0.01, 'N': 1000, 'childs': [<__main__.Ring object at 0x7fb92bae2a30>]}\n",
      "{'hash': None, 'type': 'Ring', 'center': <__main__.Planet object at 0x7fb9186e3a00>, 'parent': <__main__.Planet object at 0x7fb9186e3a00>, 'fi': 2, 'fe': 2.5, 'N': 1000, 'childs': [], 'ri': 0.2, 're': 0.25}\n"
     ]
    }
   ],
   "source": [
    "S=Star(m=1.89,R=0.1)\n",
    "P=Planet(center=S,R=0.1)\n",
    "R=Ring(center=P,fi=1)\n",
    "R.updateObject(fi=2)\n",
    "print(S)\n",
    "print(P)\n",
    "print(R)"
   ]
  },
  {
   "cell_type": "code",
   "execution_count": 755,
   "id": "018df376",
   "metadata": {},
   "outputs": [
    {
     "data": {
      "text/plain": [
       "[<__main__.Planet at 0x7fb9186e3a00>]"
      ]
     },
     "execution_count": 755,
     "metadata": {},
     "output_type": "execute_result"
    }
   ],
   "source": [
    "S.childs"
   ]
  },
  {
   "cell_type": "code",
   "execution_count": 756,
   "id": "a7a9b285",
   "metadata": {},
   "outputs": [
    {
     "name": "stdout",
     "output_type": "stream",
     "text": [
      "{'hash': None, 'type': 'Star', 'center': None, 'm': 1.89, 'R': 0.1, 'Prot': 0.1, 'N': 1000, 'childs': [<__main__.Planet object at 0x7fb9186e3a00>], 'parent': None}\n",
      "{'hash': None, 'type': 'Star', 'center': None, 'm': 2, 'R': 1, 'Prot': 0.1, 'N': 1000, 'childs': [], 'parent': None}\n"
     ]
    }
   ],
   "source": [
    "sys=System(stars=[S])\n",
    "print(sys.stars[0])\n",
    "sys=System(stars=[dict(m=2)])\n",
    "print(sys.stars[0])"
   ]
  },
  {
   "cell_type": "code",
   "execution_count": 757,
   "id": "42f677bf",
   "metadata": {},
   "outputs": [
    {
     "name": "stdout",
     "output_type": "stream",
     "text": [
      "[]\n",
      "[]\n",
      "[]\n",
      "0\n"
     ]
    }
   ],
   "source": [
    "sys=System()\n",
    "print(sys.stars)\n",
    "print(sys.planets)\n",
    "print(sys.rings)\n",
    "print(sys.N)"
   ]
  },
  {
   "cell_type": "code",
   "execution_count": 758,
   "id": "4e61315e",
   "metadata": {},
   "outputs": [],
   "source": [
    "sys.addStar(star=Star())"
   ]
  },
  {
   "cell_type": "code",
   "execution_count": 759,
   "id": "35c415c7",
   "metadata": {},
   "outputs": [
    {
     "name": "stdout",
     "output_type": "stream",
     "text": [
      "{'hash': None, 'type': 'Star', 'center': None, 'm': 1, 'R': 1, 'Prot': 0.1, 'N': 1000, 'childs': [], 'parent': None}\n"
     ]
    }
   ],
   "source": [
    "print(sys.stars[0])"
   ]
  },
  {
   "cell_type": "code",
   "execution_count": 760,
   "id": "c70889f3",
   "metadata": {},
   "outputs": [],
   "source": [
    "sys.addStar(m=0.5)"
   ]
  },
  {
   "cell_type": "code",
   "execution_count": 761,
   "id": "0be942ca",
   "metadata": {},
   "outputs": [
    {
     "name": "stdout",
     "output_type": "stream",
     "text": [
      "{'hash': None, 'type': 'Star', 'center': None, 'm': 0.5, 'R': 1, 'Prot': 0.1, 'N': 1000, 'childs': [], 'parent': None}\n"
     ]
    }
   ],
   "source": [
    "print(sys.stars[1])"
   ]
  },
  {
   "cell_type": "code",
   "execution_count": 616,
   "id": "340d4edd",
   "metadata": {},
   "outputs": [],
   "source": [
    "sys.addPlanet(planet=Star())"
   ]
  },
  {
   "cell_type": "code",
   "execution_count": 617,
   "id": "238e2cd1",
   "metadata": {},
   "outputs": [
    {
     "data": {
      "text/plain": [
       "[<__main__.Star at 0x7fb918563550>]"
      ]
     },
     "execution_count": 617,
     "metadata": {},
     "output_type": "execute_result"
    }
   ],
   "source": [
    "sys.planets"
   ]
  },
  {
   "cell_type": "code",
   "execution_count": 578,
   "id": "b6fad5db",
   "metadata": {},
   "outputs": [
    {
     "name": "stdout",
     "output_type": "stream",
     "text": [
      "{'hash': <__main__.Star object at 0x7fb949174f40>, 'type': 'Star', 'center': None, 'm': 1, 'R': 1, 'Prot': 0.1, 'N': 1000, 'childs': [], 'parent': None}\n"
     ]
    }
   ],
   "source": [
    "print(sys.stars[0])"
   ]
  },
  {
   "cell_type": "code",
   "execution_count": 579,
   "id": "34e4c2a0",
   "metadata": {},
   "outputs": [
    {
     "data": {
      "text/plain": [
       "[<__main__.Star at 0x7fb949174c70>]"
      ]
     },
     "execution_count": 579,
     "metadata": {},
     "output_type": "execute_result"
    }
   ],
   "source": [
    "sys.stars"
   ]
  },
  {
   "cell_type": "code",
   "execution_count": 580,
   "id": "e6035613",
   "metadata": {},
   "outputs": [],
   "source": [
    "sys.addStar(Planet(center=sys.stars[0]))"
   ]
  },
  {
   "cell_type": "code",
   "execution_count": 526,
   "id": "d502d1bb",
   "metadata": {},
   "outputs": [
    {
     "ename": "AssertionError",
     "evalue": "You cannot add a Planet with a Star object",
     "output_type": "error",
     "traceback": [
      "\u001b[0;31m---------------------------------------------------------------------------\u001b[0m",
      "\u001b[0;31mAssertionError\u001b[0m                            Traceback (most recent call last)",
      "Input \u001b[0;32mIn [526]\u001b[0m, in \u001b[0;36m<module>\u001b[0;34m\u001b[0m\n\u001b[0;32m----> 1\u001b[0m \u001b[43msys\u001b[49m\u001b[38;5;241;43m.\u001b[39;49m\u001b[43maddPlanet\u001b[49m\u001b[43m(\u001b[49m\u001b[43mStar\u001b[49m\u001b[43m(\u001b[49m\u001b[43m)\u001b[49m\u001b[43m)\u001b[49m\n",
      "Input \u001b[0;32mIn [512]\u001b[0m, in \u001b[0;36mSystem.addPlanet\u001b[0;34m(self, planet)\u001b[0m\n\u001b[1;32m     26\u001b[0m \u001b[38;5;28;01mdef\u001b[39;00m \u001b[38;5;21maddPlanet\u001b[39m(\u001b[38;5;28mself\u001b[39m,planet\u001b[38;5;241m=\u001b[39m\u001b[38;5;28;01mNone\u001b[39;00m):\n\u001b[0;32m---> 27\u001b[0m     \u001b[38;5;28;43mself\u001b[39;49m\u001b[38;5;241;43m.\u001b[39;49m\u001b[43m_addObject\u001b[49m\u001b[43m(\u001b[49m\u001b[38;5;124;43m\"\u001b[39;49m\u001b[38;5;124;43mplanet\u001b[39;49m\u001b[38;5;124;43m\"\u001b[39;49m\u001b[43m,\u001b[49m\u001b[38;5;124;43m\"\u001b[39;49m\u001b[38;5;124;43mPlanet\u001b[39;49m\u001b[38;5;124;43m\"\u001b[39;49m\u001b[43m,\u001b[49m\u001b[43mplanet\u001b[49m\u001b[43m)\u001b[49m\n\u001b[1;32m     28\u001b[0m     \u001b[38;5;28mself\u001b[39m\u001b[38;5;241m.\u001b[39m_updateSystem()\n",
      "Input \u001b[0;32mIn [512]\u001b[0m, in \u001b[0;36mSystem._addObject\u001b[0;34m(self, kind, objclass, obj)\u001b[0m\n\u001b[1;32m     43\u001b[0m     exec(\u001b[38;5;124mf\u001b[39m\u001b[38;5;124m\"\u001b[39m\u001b[38;5;124mself.\u001b[39m\u001b[38;5;132;01m{\u001b[39;00mkind\u001b[38;5;132;01m}\u001b[39;00m\u001b[38;5;124ms+=self.\u001b[39m\u001b[38;5;132;01m{\u001b[39;00mkind\u001b[38;5;132;01m}\u001b[39;00m\u001b[38;5;124ms+[\u001b[39m\u001b[38;5;132;01m{\u001b[39;00mobjclass\u001b[38;5;132;01m}\u001b[39;00m\u001b[38;5;124m(**obj)] if self.\u001b[39m\u001b[38;5;132;01m{\u001b[39;00mkind\u001b[38;5;132;01m}\u001b[39;00m\u001b[38;5;124ms[0] is not None else [\u001b[39m\u001b[38;5;132;01m{\u001b[39;00mobjclass\u001b[38;5;132;01m}\u001b[39;00m\u001b[38;5;124m(**\u001b[39m\u001b[38;5;132;01m{\u001b[39;00mkind\u001b[38;5;132;01m}\u001b[39;00m\u001b[38;5;124m)]\u001b[39m\u001b[38;5;124m\"\u001b[39m)\n\u001b[1;32m     44\u001b[0m \u001b[38;5;28;01mif\u001b[39;00m error\u001b[38;5;241m!=\u001b[39m\u001b[38;5;124m\"\u001b[39m\u001b[38;5;124m\"\u001b[39m:\n\u001b[0;32m---> 45\u001b[0m     \u001b[38;5;28;01mraise\u001b[39;00m \u001b[38;5;167;01mAssertionError\u001b[39;00m(error)\n\u001b[1;32m     46\u001b[0m \u001b[38;5;28mself\u001b[39m\u001b[38;5;241m.\u001b[39m_updateSystem()\n",
      "\u001b[0;31mAssertionError\u001b[0m: You cannot add a Planet with a Star object"
     ]
    }
   ],
   "source": [
    "sys.addPlanet(Star())"
   ]
  },
  {
   "cell_type": "code",
   "execution_count": 524,
   "id": "3a617283",
   "metadata": {},
   "outputs": [],
   "source": [
    "sys.addStar(dict(m=2))"
   ]
  },
  {
   "cell_type": "code",
   "execution_count": 525,
   "id": "a2d46fa5",
   "metadata": {},
   "outputs": [
    {
     "name": "stdout",
     "output_type": "stream",
     "text": [
      "[<__main__.Star object at 0x7fb9387cb910>, <__main__.Planet object at 0x7fb9387cb820>, <__main__.Star object at 0x7fb9387cb910>, <__main__.Planet object at 0x7fb9387cb820>, <__main__.Star object at 0x7fb898060b50>]\n",
      "[<__main__.Star object at 0x7fb9181cd430>]\n",
      "[None]\n",
      "5 1 0 6\n"
     ]
    }
   ],
   "source": [
    "print(sys.stars)\n",
    "print(sys.planets)\n",
    "print(sys.rings)\n",
    "print(sys.Nstars,sys.Nplanets,sys.Nrings,sys.N)"
   ]
  },
  {
   "cell_type": "code",
   "execution_count": 381,
   "id": "e612aac1",
   "metadata": {},
   "outputs": [
    {
     "name": "stdout",
     "output_type": "stream",
     "text": [
      "[<__main__.Star object at 0x7fb9493f9d90>]\n"
     ]
    }
   ],
   "source": [
    "print(sys.stars)"
   ]
  },
  {
   "cell_type": "code",
   "execution_count": 382,
   "id": "db9e2a09",
   "metadata": {},
   "outputs": [],
   "source": [
    "P1=Planet(center=S,hash=\"P1\")\n",
    "P2=Planet(center=S,hash=\"P2\")"
   ]
  },
  {
   "cell_type": "markdown",
   "id": "5ac4ee6f",
   "metadata": {},
   "source": [
    "# Convert"
   ]
  },
  {
   "cell_type": "code",
   "execution_count": 60,
   "id": "5b6ca1b0",
   "metadata": {},
   "outputs": [
    {
     "data": {
      "application/javascript": [
       "IPython.notebook.kernel.execute('FILE=\\\"' + IPython.notebook.notebook_name + '\\\"')\n"
      ],
      "text/plain": [
       "<IPython.core.display.Javascript object>"
      ]
     },
     "metadata": {},
     "output_type": "display_data"
    }
   ],
   "source": [
    "%%javascript\n",
    "IPython.notebook.kernel.execute('FILE=\\\"' + IPython.notebook.notebook_name + '\\\"')"
   ]
  },
  {
   "cell_type": "code",
   "execution_count": 61,
   "id": "f9a41d61",
   "metadata": {
    "scrolled": true
   },
   "outputs": [
    {
     "name": "stdout",
     "output_type": "stream",
     "text": [
      "Converting iPython Notebooks dev/pryngles-_template.ipynb...\n",
      "Analysing file pryngles-_template.ipynb:\n",
      "\tDirectory: src//pryngles\n",
      "\tFilename: _template\n",
      "\tTarget object: src//pryngles/_template.py\n",
      "\tConverting from ipynb dev/pryngles-_template.ipynb to python src//pryngles/_template.py...\n",
      "\tProcessing magic commands...\n",
      "\tTriming end...\n",
      "\tTriming test...\n",
      "\tUsing as template src/.temp\n",
      "Completed.\n"
     ]
    }
   ],
   "source": [
    "!make -C .. DEVFILES=dev/{FILE} convert"
   ]
  },
  {
   "cell_type": "code",
   "execution_count": 3,
   "id": "10fc8e0a",
   "metadata": {},
   "outputs": [],
   "source": [
    "# Converted"
   ]
  }
 ],
 "metadata": {
  "kernelspec": {
   "display_name": "Python 3 (ipykernel)",
   "language": "python",
   "name": "python3"
  },
  "language_info": {
   "codemirror_mode": {
    "name": "ipython",
    "version": 3
   },
   "file_extension": ".py",
   "mimetype": "text/x-python",
   "name": "python",
   "nbconvert_exporter": "python",
   "pygments_lexer": "ipython3",
   "version": "3.9.7"
  }
 },
 "nbformat": 4,
 "nbformat_minor": 5
}
