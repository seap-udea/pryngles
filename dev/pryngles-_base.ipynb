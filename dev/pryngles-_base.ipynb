{
 "cells": [
  {
   "cell_type": "markdown",
   "id": "5c9f509d",
   "metadata": {},
   "source": [
    "# Pryngles module"
   ]
  },
  {
   "cell_type": "markdown",
   "id": "307560c2",
   "metadata": {},
   "source": [
    "## Module base\n",
    "\n",
    "Goals of the module:\n",
    "- Future `base`\n",
    "- Basic Classes and functions of the Class.\n",
    "- It is based on existing infrastructure."
   ]
  },
  {
   "cell_type": "code",
   "execution_count": 6,
   "id": "c9a439e5",
   "metadata": {},
   "outputs": [],
   "source": [
    "##HEADER\n",
    "from pryngles import *\n",
    "#import rebound as rb"
   ]
  },
  {
   "cell_type": "code",
   "execution_count": 174,
   "id": "0edb4af2",
   "metadata": {},
   "outputs": [],
   "source": [
    "class Object(PrynglesCommon):\n",
    "    \"\"\"\n",
    "    Global class of object\n",
    "    \"\"\"    \n",
    "    pass"
   ]
  },
  {
   "cell_type": "code",
   "execution_count": 175,
   "id": "e2ac2eb4",
   "metadata": {},
   "outputs": [],
   "source": [
    "class Star(Object):\n",
    "    \"\"\"\n",
    "    Creates a star.\n",
    "    \"\"\"\n",
    "    def __init__(self,\n",
    "                 hash=None,\n",
    "                 center=None,\n",
    "                 m=1,R=1,\n",
    "                 Prot=1,\n",
    "                 N=1000\n",
    "                ):\n",
    "        #Hash of the object\n",
    "        self.hash=hash\n",
    "\n",
    "        #Center of the system (object)\n",
    "        self.center=center\n",
    "\n",
    "        #Basic common properties\n",
    "        self.m=m #mass [cu]\n",
    "        self.R=R #radius [cu]\n",
    "\n",
    "        #Dynamic parameters\n",
    "        self.Prot=Prot\n",
    "\n",
    "        #Sampling parameters\n",
    "        self.N=N #number of spangles\n",
    "        \n",
    "        #Specific attributes\n",
    "\n",
    "    def updateObject(self,**props):\n",
    "        self.__dict__.update(props)\n",
    "\n",
    "class Planet(Object):\n",
    "    \"\"\"\n",
    "    Creates a star.\n",
    "    \"\"\"\n",
    "    def __init__(self,\n",
    "                 hash=None,\n",
    "                 center=None,\n",
    "                 m=1,R=1,\n",
    "                 Prot=1,\n",
    "                 N=1000\n",
    "                ):\n",
    "        #Hash of the object\n",
    "        self.hash=hash\n",
    "\n",
    "        #Center of the system (object)\n",
    "        self.center=center\n",
    "\n",
    "        #Basic common properties\n",
    "        self.m=m #mass [cu]\n",
    "        self.R=R #radius [cu]\n",
    "\n",
    "        #Dynamic parameters\n",
    "        self.Prot=Prot\n",
    "\n",
    "        #Sampling parameters\n",
    "        self.N=N #number of spangles\n",
    "        \n",
    "        #Specific attributes\n",
    "        \n",
    "    def updateObject(self,**props):\n",
    "        self.__dict__.update(props)\n",
    "\n",
    "        \n",
    "class Ring(Object):\n",
    "    \"\"\"\n",
    "    Creates a star.\n",
    "    \"\"\"\n",
    "    def __init__(self,\n",
    "                 hash=None,\n",
    "                 center=None,\n",
    "                 fi=1.5,fe=2.5,\n",
    "                 N=1000\n",
    "                ):\n",
    "        #Hash of the object\n",
    "        self.hash=hash\n",
    "\n",
    "        #Center of the system (object)\n",
    "        if center is None:\n",
    "            raise ValueError(f\"You must provide a valid object for the center.  {center} provided\")\n",
    "        self.center=center\n",
    "\n",
    "        #Basic common properties\n",
    "        self.fi=fi\n",
    "        self.fe=fe\n",
    "\n",
    "        #Sampling parameters\n",
    "        self.N=N #number of spangles\n",
    "        \n",
    "        #Update properties\n",
    "        self.updateObject(**self.__dict__)\n",
    "        \n",
    "    def updateObject(self,**props):\n",
    "        self.__dict__.update(props)\n",
    "        \n",
    "        #Derivative properties\n",
    "        self.ri=self.fi*self.center.R\n",
    "        self.re=self.fe*self.center.R"
   ]
  },
  {
   "cell_type": "code",
   "execution_count": 176,
   "id": "e0f02ecd",
   "metadata": {},
   "outputs": [
    {
     "name": "stdout",
     "output_type": "stream",
     "text": [
      "{'hash': None, 'center': None, 'm': 2, 'R': 0.1, 'Prot': 1, 'N': 1000}\n",
      "{'hash': None, 'center': None, 'm': 1, 'R': 0.1, 'Prot': 1, 'N': 1000}\n",
      "{'hash': None, 'center': <__main__.Planet object at 0x7fb758518dc0>, 'fi': 2, 'fe': 2.5, 'N': 1000, 'ri': 0.2, 're': 0.25}\n"
     ]
    }
   ],
   "source": [
    "S=Planet(m=2,R=0.1)\n",
    "P=Planet(R=0.1)\n",
    "R=Ring(center=P,fi=1)\n",
    "R.updateObject(fi=2)\n",
    "print(S)\n",
    "print(P)\n",
    "print(R)"
   ]
  },
  {
   "cell_type": "code",
   "execution_count": 148,
   "id": "79bbcd74",
   "metadata": {},
   "outputs": [],
   "source": [
    "S=Star()\n"
   ]
  },
  {
   "cell_type": "code",
   "execution_count": 98,
   "id": "4577d036",
   "metadata": {},
   "outputs": [
    {
     "name": "stdout",
     "output_type": "stream",
     "text": [
      "{'hash': None, 'center': '0', 'm': 1, 'R': 1, 'Prot': 1, 'N': 1000}\n",
      "{'hash': None, 'center': '0', 'm': 1, 'R': 1, 'Prot': 1, 'N': 1000}\n"
     ]
    },
    {
     "data": {
      "text/plain": [
       "(None, None)"
      ]
     },
     "execution_count": 98,
     "metadata": {},
     "output_type": "execute_result"
    }
   ],
   "source": [
    "S.show(),P.show()"
   ]
  },
  {
   "cell_type": "code",
   "execution_count": 9,
   "id": "8ec556c4",
   "metadata": {},
   "outputs": [],
   "source": [
    "System_doc=\\\n",
    "\"\"\"\n",
    "Creates a planetary system.\n",
    "\n",
    "Examples:\n",
    "\n",
    "    sys=System()\n",
    "    sys=System(units=['msun','km','s'])\n",
    "    sys=System(stars=dict(M=1,R=1))\n",
    "    \n",
    "Initialization (primary) attributes:\n",
    "\n",
    "    units = ['msun','au','yr']: \n",
    "        Units used in calculations following the conventions and signs of rebound. List [3].\n",
    "        \n",
    "    stars = None: \n",
    "        Stellar in the system.    \n",
    "    planets = None: \n",
    "        Planets in the system.  Planet include 'moons'.\n",
    "    rings = None: \n",
    "        Rings in the system.\n",
    "           \n",
    "        NOTE: Objects are provided either by description or as an object. Those attributes can be lists or \n",
    "              a single value.\n",
    "    \n",
    "    rebound = True:\n",
    "        Set True if you want to simulte the orbit of objects (for instance if you want to calculate\n",
    "        TTVs).  If False it will calculate orbits using Keplerian dynamics.\n",
    "\n",
    "Other Public (secondary) attributes:\n",
    "\n",
    "    N: Number of objects in the system.\n",
    "\n",
    "Important private attributes:\n",
    "\n",
    "    _sim: Rebound simulation object.\n",
    "\"\"\";"
   ]
  },
  {
   "cell_type": "code",
   "execution_count": 171,
   "id": "99657ffc",
   "metadata": {},
   "outputs": [],
   "source": [
    "class System(object):\n",
    "    def __init__(self,\n",
    "                 units=['Msun','au','yr'],\n",
    "                 stars=None,planets=None,rings=None,\n",
    "                 rebound=True\n",
    "                ):\n",
    "        #Initialize rebound\n",
    "        self.units=units\n",
    "        #Stars\n",
    "        if stars is None:\n",
    "            pass\n",
    "        else:\n",
    "            stars=[Star()]\n",
    "\n",
    "Example.__doc__=Example_doc"
   ]
  },
  {
   "cell_type": "code",
   "execution_count": 172,
   "id": "b9567d18",
   "metadata": {},
   "outputs": [
    {
     "data": {
      "text/plain": [
       "<__main__.System at 0x7fb78940e4f0>"
      ]
     },
     "execution_count": 172,
     "metadata": {},
     "output_type": "execute_result"
    }
   ],
   "source": [
    "System()"
   ]
  },
  {
   "cell_type": "code",
   "execution_count": 65,
   "id": "4ac215e4",
   "metadata": {},
   "outputs": [],
   "source": [
    "Example_method_doc=\\\n",
    "\"\"\"\n",
    "This is a test method of class Example.\n",
    "\n",
    "Parameters:\n",
    "    \n",
    "\"\"\"\n",
    "def method(self):\n",
    "    print(self.a)\n",
    "Example.method=method\n",
    "Example.method.__doc__=Example_method_doc"
   ]
  },
  {
   "cell_type": "markdown",
   "id": "68b7640b",
   "metadata": {},
   "source": [
    "--End--"
   ]
  },
  {
   "cell_type": "code",
   "execution_count": 66,
   "id": "a24126cb",
   "metadata": {},
   "outputs": [],
   "source": [
    "E=Example()"
   ]
  },
  {
   "cell_type": "code",
   "execution_count": 67,
   "id": "fba29401",
   "metadata": {},
   "outputs": [],
   "source": [
    "Example?"
   ]
  },
  {
   "cell_type": "markdown",
   "id": "5ac4ee6f",
   "metadata": {},
   "source": [
    "# Convert"
   ]
  },
  {
   "cell_type": "code",
   "execution_count": 60,
   "id": "5b6ca1b0",
   "metadata": {},
   "outputs": [
    {
     "data": {
      "application/javascript": [
       "IPython.notebook.kernel.execute('FILE=\\\"' + IPython.notebook.notebook_name + '\\\"')\n"
      ],
      "text/plain": [
       "<IPython.core.display.Javascript object>"
      ]
     },
     "metadata": {},
     "output_type": "display_data"
    }
   ],
   "source": [
    "%%javascript\n",
    "IPython.notebook.kernel.execute('FILE=\\\"' + IPython.notebook.notebook_name + '\\\"')"
   ]
  },
  {
   "cell_type": "code",
   "execution_count": 61,
   "id": "f9a41d61",
   "metadata": {
    "scrolled": true
   },
   "outputs": [
    {
     "name": "stdout",
     "output_type": "stream",
     "text": [
      "Converting iPython Notebooks dev/pryngles-_template.ipynb...\n",
      "Analysing file pryngles-_template.ipynb:\n",
      "\tDirectory: src//pryngles\n",
      "\tFilename: _template\n",
      "\tTarget object: src//pryngles/_template.py\n",
      "\tConverting from ipynb dev/pryngles-_template.ipynb to python src//pryngles/_template.py...\n",
      "\tProcessing magic commands...\n",
      "\tTriming end...\n",
      "\tTriming test...\n",
      "\tUsing as template src/.temp\n",
      "Completed.\n"
     ]
    }
   ],
   "source": [
    "!make -C .. DEVFILES=dev/{FILE} convert"
   ]
  },
  {
   "cell_type": "code",
   "execution_count": 3,
   "id": "10fc8e0a",
   "metadata": {},
   "outputs": [],
   "source": [
    "# Converted"
   ]
  }
 ],
 "metadata": {
  "kernelspec": {
   "display_name": "Python 3 (ipykernel)",
   "language": "python",
   "name": "python3"
  },
  "language_info": {
   "codemirror_mode": {
    "name": "ipython",
    "version": 3
   },
   "file_extension": ".py",
   "mimetype": "text/x-python",
   "name": "python",
   "nbconvert_exporter": "python",
   "pygments_lexer": "ipython3",
   "version": "3.9.7"
  }
 },
 "nbformat": 4,
 "nbformat_minor": 5
}
