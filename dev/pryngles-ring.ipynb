{
 "cells": [
  {
   "cell_type": "markdown",
   "id": "5c9f509d",
   "metadata": {},
   "source": [
    "# Pryngles module: rings"
   ]
  },
  {
   "cell_type": "code",
   "execution_count": 1,
   "id": "c9a439e5",
   "metadata": {},
   "outputs": [],
   "source": [
    "from pryngles import *\n",
    "sci=Science"
   ]
  },
  {
   "cell_type": "markdown",
   "id": "685a6ed5",
   "metadata": {},
   "source": [
    "## External modules"
   ]
  },
  {
   "cell_type": "code",
   "execution_count": 2,
   "id": "85ec1848",
   "metadata": {},
   "outputs": [],
   "source": [
    "import spiceypy as spy\n",
    "import math as mh\n",
    "import numpy as np\n",
    "import copy"
   ]
  },
  {
   "cell_type": "markdown",
   "id": "5f18aa51",
   "metadata": {},
   "source": [
    "## Ring default properties"
   ]
  },
  {
   "cell_type": "code",
   "execution_count": 8,
   "id": "c89c1479",
   "metadata": {},
   "outputs": [],
   "source": [
    "class RingDefaults(object):\n",
    "    \"\"\"\n",
    "    These are the default attributes for bodies of the kind 'Ring'.\n",
    "    \n",
    "    DEVELOPER:\n",
    "        You may add new attributes as the model gets more complex.\n",
    "        Please document properly each attribute.\n",
    "        \n",
    "    orbit:\n",
    "    \n",
    "        (In current version, Ring body does not have orbit attributes)\n",
    "        \n",
    "    physics:\n",
    "    \n",
    "        fi: float [adimensional], default = 1:\n",
    "            Fraction of the radius of the primary object where ring stars.\n",
    "            \n",
    "        fe: float [adimensional], default = 1:\n",
    "            Fraction of the radius of the primary object where ring ends.\n",
    "            \n",
    "        i: float [radians], default = 0:\n",
    "            Inclination of the ring with respect to the ecliptic plane.\n",
    "            \n",
    "        roll: float [radians], default = 0:\n",
    "            Roll angle.  This is the angle with respect to ecliptic x-axis in which \n",
    "            the normal to the ring plane is rotated.\n",
    "            \n",
    "    optics:\n",
    "    \n",
    "        nspangles: int, default = 1000: \n",
    "            Number of spangles on which the object will be discretized.\n",
    "            \n",
    "        albedo_gray_normal: float. default = 1: \n",
    "            Lambertian (normal) gray (wavelength indpendent) albedo of the spangle.\n",
    "            \n",
    "        tau_gray_optical: float. default = 0:\n",
    "            Gray (wavelength indpendent) Optical depth of the spangle.  \n",
    "            If 0 the spangle is entirely opaque to all wavelength, despite its type.            \n",
    "    \"\"\"\n",
    "    orbit=dict()\n",
    "    \n",
    "    physics=dict(fi=1.0,fe=2.0,i=0.0,roll=0.0)\n",
    "    \n",
    "    optics=dict(nspangles=1000,\n",
    "                albedo_gray_normal=1,\n",
    "                tau_gray_optical=0\n",
    "               )"
   ]
  },
  {
   "cell_type": "markdown",
   "id": "dfe23552",
   "metadata": {},
   "source": [
    "## Ring Class"
   ]
  },
  {
   "cell_type": "code",
   "execution_count": 9,
   "id": "e8670ffb",
   "metadata": {},
   "outputs": [],
   "source": [
    "BODY_KINDS+=[\"Ring\"]\n",
    "\n",
    "class Ring(Body):\n",
    "    \"\"\"Class Planet.\n",
    "    \n",
    "    See Body class documentation.\n",
    "    \n",
    "    Additional public attributes:\n",
    "    \n",
    "        ri: float [rlu]:\n",
    "            Radius of the inner border of the ring\n",
    "\n",
    "        re: float [rlu]:\n",
    "            Radius of the outer border of the ring\n",
    "            \n",
    "        spangles: list of Spangle objects:\n",
    "            List of spangles covering the surface (for spangle options see Spangle documentation)\n",
    "    \n",
    "    Override methods:\n",
    "    \n",
    "        update_body(**pars):\n",
    "            This method compute additional attributes like (see above).\n",
    "    \"\"\"\n",
    "    def __init__(self,\n",
    "                 primary=None,\n",
    "                 orbit=RingDefaults.orbit,\n",
    "                 physics=RingDefaults.physics,\n",
    "                 optics=RingDefaults.optics\n",
    "                ):\n",
    "        \n",
    "        \n",
    "        #Instantiate object with basic properties\n",
    "        Body.__init__(self,RingDefaults,\"Ring\",primary,orbit,physics,optics)\n",
    "        \n",
    "        #Check primary\n",
    "        if self.primary is None:\n",
    "            raise ValueError(f\"Primary not provided and mandatory for {self.kind}.\")\n",
    "        \n",
    "        #Update properties\n",
    "        self.update_body(**self.__dict__)"
   ]
  },
  {
   "cell_type": "code",
   "execution_count": 5,
   "id": "6b111629",
   "metadata": {},
   "outputs": [
    {
     "name": "stderr",
     "output_type": "stream",
     "text": [
      "."
     ]
    },
    {
     "name": "stdout",
     "output_type": "stream",
     "text": [
      "{'fi': 1.0, 'fe': 2.0, 'i': 0.0, 'roll': 0.0}\n",
      "{'nspangles': 1000, 'albedo_gray_normal': 1, 'tau_gray_optical': 0}\n",
      "8793487471493\n"
     ]
    },
    {
     "name": "stderr",
     "output_type": "stream",
     "text": [
      "\n",
      "----------------------------------------------------------------------\n",
      "Ran 1 test in 0.001s\n",
      "\n",
      "OK\n"
     ]
    }
   ],
   "source": [
    "if IN_JUPYTER:\n",
    "    def test_init(self):\n",
    "        \n",
    "        #Define first star and planet\n",
    "        S=Star()\n",
    "        P=Planet(primary=S)\n",
    "\n",
    "        self.assertRaises(ValueError,lambda:Ring())\n",
    "        R=Ring(primary=P)\n",
    "        \n",
    "        print(R.physics)\n",
    "        print(R.optics)\n",
    "        print(R.hash)\n",
    "        \n",
    "    class Test(unittest.TestCase):pass    \n",
    "    Test.test_init=test_init\n",
    "    unittest.main(argv=['first-arg-is-ignored'],exit=False)"
   ]
  },
  {
   "cell_type": "markdown",
   "id": "dd615e12",
   "metadata": {},
   "source": [
    "### Update body"
   ]
  },
  {
   "cell_type": "code",
   "execution_count": 6,
   "id": "3a1bd89e",
   "metadata": {},
   "outputs": [],
   "source": [
    "def update_body(self,**pars):\n",
    "    Body.update_body(self,**pars)\n",
    "\n",
    "    #Here place the commands to update this kind of body\n",
    "    self.ri=self.physics.fi*self.primary.physics.radius\n",
    "    self.re=self.physics.fe*self.primary.physics.radius\n",
    "\n",
    "Ring.update_body=update_body"
   ]
  },
  {
   "cell_type": "code",
   "execution_count": 7,
   "id": "5741c966",
   "metadata": {},
   "outputs": [
    {
     "name": "stderr",
     "output_type": "stream",
     "text": [
      "."
     ]
    },
    {
     "name": "stdout",
     "output_type": "stream",
     "text": [
      "{'fi': 1.0, 'fe': 3, 'i': 0.0, 'roll': 0.0}\n"
     ]
    },
    {
     "name": "stderr",
     "output_type": "stream",
     "text": [
      "\n",
      "----------------------------------------------------------------------\n",
      "Ran 1 test in 0.001s\n",
      "\n",
      "OK\n"
     ]
    }
   ],
   "source": [
    "if IN_JUPYTER:\n",
    "    def test_update(self):\n",
    "\n",
    "        #Define first star and planet\n",
    "        S=Star()\n",
    "        P=Planet(primary=S)\n",
    "        R=Ring(primary=P)\n",
    "        \n",
    "        R.update_body(physics=dict(fe=3))\n",
    "        print(R.physics)\n",
    "        \n",
    "    class Test(unittest.TestCase):pass    \n",
    "    Test.test_update=test_update\n",
    "    unittest.main(argv=['first-arg-is-ignored'],exit=False)"
   ]
  },
  {
   "cell_type": "markdown",
   "id": "667c8840",
   "metadata": {},
   "source": [
    "--End--"
   ]
  }
 ],
 "metadata": {
  "kernelspec": {
   "display_name": "Python 3 (ipykernel)",
   "language": "python",
   "name": "python3"
  },
  "language_info": {
   "codemirror_mode": {
    "name": "ipython",
    "version": 3
   },
   "file_extension": ".py",
   "mimetype": "text/x-python",
   "name": "python",
   "nbconvert_exporter": "python",
   "pygments_lexer": "ipython3",
   "version": "3.9.7"
  }
 },
 "nbformat": 4,
 "nbformat_minor": 5
}
