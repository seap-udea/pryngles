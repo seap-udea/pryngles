{
 "cells": [
  {
   "cell_type": "markdown",
   "id": "5c9f509d",
   "metadata": {},
   "source": [
    "# Pryngles module: rings"
   ]
  },
  {
   "cell_type": "code",
   "execution_count": 8,
   "id": "c9a439e5",
   "metadata": {},
   "outputs": [],
   "source": [
    "from pryngles import *"
   ]
  },
  {
   "cell_type": "markdown",
   "id": "685a6ed5",
   "metadata": {},
   "source": [
    "## External modules"
   ]
  },
  {
   "cell_type": "code",
   "execution_count": 15,
   "id": "85ec1848",
   "metadata": {},
   "outputs": [],
   "source": [
    "import spiceypy as spy\n",
    "import math\n",
    "import numpy\n",
    "#mh=numpy\n",
    "mh=math"
   ]
  },
  {
   "cell_type": "markdown",
   "id": "5f18aa51",
   "metadata": {},
   "source": [
    "## Ring Class"
   ]
  },
  {
   "cell_type": "code",
   "execution_count": 16,
   "id": "c89c1479",
   "metadata": {},
   "outputs": [],
   "source": [
    "class RingDefaults(object):\n",
    "    \"\"\"\n",
    "    These are the default attributes for bodies of the kind 'Ring'.\n",
    "    \n",
    "    DEVELOPER:\n",
    "        You may add new attributes as the model gets more complex.\n",
    "        Please document properly each attribute.\n",
    "        \n",
    "    orbit:\n",
    "    \n",
    "        (In current version, Ring body does not have orbit attributes)\n",
    "        \n",
    "    physics:\n",
    "    \n",
    "        fi: float [adimensional], default = 1\n",
    "            Fraction of the radius of the primary object where ring stars.\n",
    "            \n",
    "        fe: float [adimensional], default = 1\n",
    "            Fraction of the radius of the primary object where ring ends.\n",
    "            \n",
    "        i: float [radians], default = 0\n",
    "            Inclination of the ring with respect to the equator of the primary\n",
    "            object.\n",
    "            \n",
    "    optics:\n",
    "    \n",
    "        nspangles: int, default = 1000\n",
    "            Number of spangles on which the object will be discretized.\n",
    "    \"\"\"\n",
    "    orbit=dict()\n",
    "    \n",
    "    physics=dict(fi=1.0,fe=2.0,i=0.0)\n",
    "    \n",
    "    optics=dict(nspangles=1000)"
   ]
  },
  {
   "cell_type": "code",
   "execution_count": 17,
   "id": "e8670ffb",
   "metadata": {},
   "outputs": [],
   "source": [
    "BODY_KINDS+=[\"Ring\"]\n",
    "\n",
    "class Ring(Body):\n",
    "    \"\"\"Class Planet.\n",
    "    \n",
    "    See Body class documentation.\n",
    "    \n",
    "    Additional public attributes:\n",
    "    \n",
    "        physics.ri: float [rebound length unit]\n",
    "            Radius of the inner border of the ring\n",
    "\n",
    "        physics.re: float [rebound length unit]\n",
    "            Radius of the outer border of the ring\n",
    "    \n",
    "    Override methods:\n",
    "    \n",
    "        update_body(**pars):\n",
    "            This method compute additional attributes like (see above).\n",
    "    \"\"\"\n",
    "    def __init__(self,\n",
    "                 primary=None,\n",
    "                 orbit=RingDefaults.orbit,\n",
    "                 physics=RingDefaults.physics,\n",
    "                 optics=RingDefaults.optics\n",
    "                ):\n",
    "        \n",
    "        \n",
    "        #Instantiate object with basic properties\n",
    "        Body.__init__(self,RingDefaults,\"Ring\",primary,orbit,physics,optics)\n",
    "        \n",
    "        #Check primary\n",
    "        if self.primary is None:\n",
    "            raise ValueError(f\"Primary not provided and mandatory for {self.kind}.\")\n",
    "        self.primary=primary\n",
    "        self.primary._update_childs(self)\n",
    "        self._update_parent(self.primary)\n",
    "        \n",
    "        #Update properties\n",
    "        self.update_body(**self.__dict__)\n",
    "        \n",
    "    def update_body(self,**pars):\n",
    "        Body.update_body(self,**pars)\n",
    "        \n",
    "        #Here place the commands to update this kind of body\n",
    "        self.physics.ri=self.physics.fi*self.primary.physics.radius\n",
    "        self.physics.re=self.physics.fe*self.primary.physics.radius\n",
    "        \n",
    "        #Set transformation matrices\n",
    "        self._set_transform()\n",
    "        \n",
    "    def _set_transform(self):\n",
    "        \"\"\"\n",
    "        Set transformation matrices\n",
    "        \"\"\"\n",
    "        #Normal vector to ring\n",
    "        self.nr_ecl=np.array([0,mh.sin(self.physics.i),mh.cos(self.physics.i)]) \n",
    "        self.nr_equ=np.array([0,0,1]) \n",
    "        #Build transformation matrices\n",
    "        ex_equ=np.array([1,0,0]) \n",
    "        ey_equ=np.array([0,mh.cos(self.physics.i),-mh.sin(self.physics.i)])\n",
    "        ez_equ=self.nr_ecl\n",
    "        self.M_equ2ecl=np.array(list(np.vstack((ex_equ,ey_equ,ez_equ)).transpose())).reshape((3,3))\n",
    "        self.M_ecl2equ=spy.invert(self.M_equ2ecl)"
   ]
  },
  {
   "cell_type": "code",
   "execution_count": 21,
   "id": "5741c966",
   "metadata": {},
   "outputs": [
    {
     "name": "stderr",
     "output_type": "stream",
     "text": [
      "."
     ]
    },
    {
     "name": "stdout",
     "output_type": "stream",
     "text": [
      "{'fi': 1.0, 'fe': 2.0, 'i': 0.0, 'ri': 3.0, 're': 6.0}\n",
      "8786815752599\n",
      "[[ 1.  0.  0.]\n",
      " [ 0.  1.  0.]\n",
      " [ 0. -0.  1.]]\n",
      "[[ 1. -0.  0.]\n",
      " [-0.  1. -0.]\n",
      " [-0.  0.  1.]]\n",
      "[[ 1.  0.  0.]\n",
      " [ 0.  1.  0.]\n",
      " [ 0. -0.  1.]]\n",
      "[[ 1. -0.  0.]\n",
      " [-0.  1. -0.]\n",
      " [-0.  0.  1.]]\n",
      "[0. 0. 1.]\n",
      "[0 0 1]\n",
      "{'fi': 1.0, 'fe': 3, 'i': 0.0, 'ri': 3.0, 're': 9.0}\n"
     ]
    },
    {
     "name": "stderr",
     "output_type": "stream",
     "text": [
      "\n",
      "----------------------------------------------------------------------\n",
      "Ran 1 test in 0.006s\n",
      "\n",
      "OK\n"
     ]
    }
   ],
   "source": [
    "if IN_JUPYTER:\n",
    "    def test_planet(self):\n",
    "        S=Star(physics=dict(radius=3.0))\n",
    "\n",
    "        #Check exception: primary is mandatory for planets\n",
    "        self.assertRaises(ValueError,lambda:Ring())\n",
    "\n",
    "        R=Ring(primary=S)\n",
    "        \n",
    "        print(R.physics)\n",
    "        print(R.hash)\n",
    "        \n",
    "        print(R.M_equ2ecl)\n",
    "        print(R.M_ecl2equ)\n",
    "        \n",
    "        #Check derived properties\n",
    "        print(R.M_equ2ecl)\n",
    "        print(R.M_ecl2equ)\n",
    "        print(R.nr_ecl)\n",
    "        print(R.nr_equ)\n",
    "        \"\"\"\n",
    "        self.assertEqual(np.isclose([P.physics.wrot],\n",
    "                                    [2*np.pi/PlanetDefaults.physics[\"prot\"]],\n",
    "                                    rtol=1e-7),\n",
    "                         [True]*1)\n",
    "        \"\"\"\n",
    "        \n",
    "        R.update_body(physics=dict(fe=3))\n",
    "        print(R.physics)\n",
    "        \n",
    "        #Check exception: primary could not be different from None or Body\n",
    "        self.assertRaises(AssertionError,lambda:Planet(primary=\"Nada\"))\n",
    "        \n",
    "    class Test(unittest.TestCase):pass    \n",
    "    Test.test_planet=test_planet\n",
    "    unittest.main(argv=['first-arg-is-ignored'],exit=False)"
   ]
  },
  {
   "cell_type": "markdown",
   "id": "667c8840",
   "metadata": {},
   "source": [
    "--End--"
   ]
  }
 ],
 "metadata": {
  "kernelspec": {
   "display_name": "Python 3 (ipykernel)",
   "language": "python",
   "name": "python3"
  },
  "language_info": {
   "codemirror_mode": {
    "name": "ipython",
    "version": 3
   },
   "file_extension": ".py",
   "mimetype": "text/x-python",
   "name": "python",
   "nbconvert_exporter": "python",
   "pygments_lexer": "ipython3",
   "version": "3.9.7"
  }
 },
 "nbformat": 4,
 "nbformat_minor": 5
}
