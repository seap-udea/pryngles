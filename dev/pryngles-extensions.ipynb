{
 "cells": [
  {
   "cell_type": "markdown",
   "id": "5c9f509d",
   "metadata": {},
   "source": [
    "# Pryngles module: extensions"
   ]
  },
  {
   "cell_type": "markdown",
   "id": "b3b68845",
   "metadata": {},
   "source": [
    "## External modules"
   ]
  },
  {
   "cell_type": "code",
   "execution_count": 1,
   "id": "aaa41b53",
   "metadata": {},
   "outputs": [],
   "source": [
    "#@external\n",
    "from pryngles import *\n",
    "\n",
    "import ctypes\n",
    "import glob\n",
    "\n",
    "#Load library\n",
    "libfile = glob.glob(Misc.get_data('../cpixx*.so'))[0]\n",
    "cpixx_ext=ctypes.CDLL(libfile)\n",
    "#@end"
   ]
  },
  {
   "cell_type": "markdown",
   "id": "50ba6be2",
   "metadata": {},
   "source": [
    "## Constants"
   ]
  },
  {
   "cell_type": "code",
   "execution_count": 2,
   "id": "b94a39dd",
   "metadata": {},
   "outputs": [],
   "source": [
    "#@consts:extensions\n",
    "import ctypes\n",
    "DOUBLE = ctypes.c_double\n",
    "PDOUBLE = ctypes.POINTER(DOUBLE)\n",
    "PPDOUBLE = ctypes.POINTER(PDOUBLE)\n",
    "PPPDOUBLE = ctypes.POINTER(PPDOUBLE)\n",
    "#@end:consts"
   ]
  },
  {
   "cell_type": "markdown",
   "id": "ae18a25e",
   "metadata": {},
   "source": [
    "## Fourier coefficients"
   ]
  },
  {
   "cell_type": "code",
   "execution_count": 3,
   "id": "704a6007",
   "metadata": {},
   "outputs": [],
   "source": [
    "#@class\n",
    "class FourierCoefficients(ctypes.Structure):\n",
    "    _fields_=[\n",
    "        (\"nmat\",ctypes.c_int),\n",
    "        (\"nmugs\",ctypes.c_int),\n",
    "        (\"nfou\",ctypes.c_int),\n",
    "        (\"xmu\",PDOUBLE),\n",
    "        (\"rfou\",PPPDOUBLE),\n",
    "        (\"rtra\",PPPDOUBLE),\n",
    "    ]\n",
    "    def __init__(self,nmat,nmugs,nfou,xmu,rfou,rtra):\n",
    "        self.nmat=nmat\n",
    "        self.nmugs=nmugs\n",
    "        self.nfou=nfou\n",
    "        self.xmu=double1ArrayToPointer(xmu)\n",
    "        self.rfou=double3ArrayToPointer(rfou)\n",
    "        self.rtra=double3ArrayToPointer(rtra)\n",
    "#@end:class"
   ]
  },
  {
   "cell_type": "markdown",
   "id": "8645250c",
   "metadata": {},
   "source": [
    "## Specifications cpixx functions"
   ]
  },
  {
   "cell_type": "code",
   "execution_count": 11,
   "id": "ff19a842",
   "metadata": {},
   "outputs": [],
   "source": [
    "#@standalone:extension\n",
    "\n",
    "#Sum structure\n",
    "cpixx_ext.sum_structure.restype = ctypes.c_double\n",
    "cpixx_ext.sum_structure.argtypes = [ctypes.Structure,\n",
    "                                    ctypes.c_int,ctypes.c_int,ctypes.c_int]\n",
    "\n",
    "#Calculate reflection\n",
    "cpixx_ext.reflection.restype = ctypes.c_int\n",
    "cpixx_ext.reflection.argtypes = [\n",
    "    ctypes.Structure,\n",
    "    ctypes.c_int,\n",
    "    ctypes.c_int,\n",
    "    PDOUBLE,PDOUBLE,PDOUBLE,PDOUBLE,PDOUBLE,\n",
    "    PPDOUBLE\n",
    "]\n",
    "#@end:standalone"
   ]
  },
  {
   "cell_type": "markdown",
   "id": "0b5b8fbf",
   "metadata": {},
   "source": [
    "## Extension utils"
   ]
  },
  {
   "cell_type": "code",
   "execution_count": 12,
   "id": "27653250",
   "metadata": {},
   "outputs": [],
   "source": [
    "#@class\n",
    "class ExtensionUtil(object):\n",
    "    \"\"\"Util routines for extensions.\n",
    "    \"\"\"\n",
    "    def vec2ptr(arr):\n",
    "        \"\"\"Converts a 1D numpy to ctypes 1D array. \n",
    "\n",
    "        Parameters:\n",
    "            arr: [ndarray] 1D numpy float64 array\n",
    "\n",
    "        Return:\n",
    "            arr_ptr: [ctypes double pointer]\n",
    "        \"\"\"\n",
    "        arr_ptr = arr.ctypes.data_as(PDOUBLE)\n",
    "        return arr_ptr\n",
    "\n",
    "    def mat2ptr(arr):\n",
    "        \"\"\" Converts a 2D numpy to ctypes 2D array. \n",
    "\n",
    "        Arguments:\n",
    "            arr: [ndarray] 2D numpy float64 array\n",
    "\n",
    "        Return:\n",
    "            arr_ptr: [ctypes double pointer]\n",
    "\n",
    "        \"\"\"\n",
    "\n",
    "        # Init needed data types\n",
    "        ARR_DIMX = DOUBLE*arr.shape[1]\n",
    "        ARR_DIMY = PDOUBLE*arr.shape[0]\n",
    "\n",
    "        # Init pointer\n",
    "        arr_ptr = ARR_DIMY()\n",
    "\n",
    "        # Fill the 2D ctypes array with values\n",
    "        for i, row in enumerate(arr):\n",
    "            arr_ptr[i] = ARR_DIMX()\n",
    "\n",
    "            for j, val in enumerate(row):\n",
    "                arr_ptr[i][j] = val\n",
    "\n",
    "\n",
    "        return arr_ptr\n",
    "\n",
    "    def ptr2mat(ptr, n, m):\n",
    "        \"\"\" Converts ctypes 2D array into a 2D numpy array. \n",
    "\n",
    "        Arguments:\n",
    "            arr_ptr: [ctypes double pointer]\n",
    "\n",
    "        Return:\n",
    "            arr: [ndarray] 2D numpy float64 array\n",
    "\n",
    "        \"\"\"\n",
    "\n",
    "        arr = np.zeros(shape=(n, m))\n",
    "\n",
    "        for i in range(n):\n",
    "            for j in range(m):\n",
    "                arr[i,j] = ptr[i][j]\n",
    "\n",
    "        return arr\n",
    "\n",
    "    def cub2ptr(arr):\n",
    "        \"\"\" Converts a 3D numpy to ctypes 3D array. \n",
    "\n",
    "        Arguments:\n",
    "            arr: [ndarray] 3D numpy float64 array\n",
    "\n",
    "        Return:\n",
    "            arr_ptr: [ctypes double pointer]\n",
    "\n",
    "        \"\"\"\n",
    "\n",
    "        # Init needed data types\n",
    "        ARR_DIMX = DOUBLE*arr.shape[2]\n",
    "        ARR_DIMY = PDOUBLE*arr.shape[1]\n",
    "        ARR_DIMZ = PPDOUBLE*arr.shape[0]\n",
    "\n",
    "        # Init pointer\n",
    "        arr_ptr = ARR_DIMZ()\n",
    "\n",
    "        # Fill the 2D ctypes array with values\n",
    "        for i, row in enumerate(arr):\n",
    "            arr_ptr[i] = ARR_DIMY()\n",
    "\n",
    "            for j, col in enumerate(row):\n",
    "                arr_ptr[i][j] = ARR_DIMX()\n",
    "\n",
    "                for k, val in enumerate(col):\n",
    "                    arr_ptr[i][j][k] = val\n",
    "\n",
    "        return arr_ptr\n",
    "\n",
    "    def ptr2cub(ptr, n, m, o):\n",
    "        \"\"\" Converts ctypes 3D array into a 3D numpy array. \n",
    "\n",
    "        Arguments:\n",
    "            arr_ptr: [ctypes double pointer]\n",
    "\n",
    "        Return:\n",
    "            arr: [ndarray] 3D numpy float64 array\n",
    "\n",
    "        \"\"\"\n",
    "\n",
    "        arr = np.zeros(shape=(n, m, o))\n",
    "\n",
    "        for i in range(n):\n",
    "            for j in range(m):\n",
    "                for k in range(o):\n",
    "                    arr[i,j,k] = ptr[i][j][k]\n",
    "\n",
    "        return arr\n",
    "\n",
    "\n",
    "#@end:class"
   ]
  },
  {
   "cell_type": "code",
   "execution_count": 13,
   "id": "b42dbd21",
   "metadata": {},
   "outputs": [],
   "source": [
    "#@class\n",
    "class FourierCoefficients(ctypes.Structure):\n",
    "    \"\"\"Fourier coefficients ctypes structure\n",
    "    \"\"\"\n",
    "    _fields_=[\n",
    "        (\"nmat\",ctypes.c_int),\n",
    "        (\"nmugs\",ctypes.c_int),\n",
    "        (\"nfou\",ctypes.c_int),\n",
    "        (\"xmu\",PDOUBLE),\n",
    "        (\"rfou\",PPPDOUBLE),\n",
    "        (\"rtra\",PPPDOUBLE),\n",
    "    ]\n",
    "    def __init__(self,nmat,nmugs,nfou,xmu,rfou,rtra):\n",
    "        self.nmat=nmat\n",
    "        self.nmugs=nmugs\n",
    "        self.nfou=nfou\n",
    "        self.xmu=ExtensionUtil.vec2ptr(xmu)\n",
    "        self.rfou=ExtensionUtil.cub2ptr(rfou)\n",
    "        self.rtra=ExtensionUtil.cub2ptr(rtra)\n",
    "#@end:class"
   ]
  },
  {
   "cell_type": "code",
   "execution_count": 14,
   "id": "6405b0a9",
   "metadata": {},
   "outputs": [],
   "source": [
    "#@class\n",
    "class StokesScatterer(object):\n",
    "    \"\"\"Stokes scatterer\n",
    "    \"\"\"\n",
    "    \n",
    "    def __init__(self,filename):\n",
    "        self.filename=filename\n",
    "        self.read_fourier()\n",
    "        \n",
    "    def read_fourier(self):\n",
    "        \"\"\"\n",
    "        Read a file containing fourier coefficients produced by PyMieDAP\n",
    "\n",
    "        Parameters:\n",
    "\n",
    "           filename: string:\n",
    "\n",
    "        Returns:\n",
    "\n",
    "            nmugs: int:\n",
    "               Number of gaussian integration coefficients.\n",
    "\n",
    "            nmat: int:\n",
    "               Number of matrix.\n",
    "\n",
    "            nfou: int:\n",
    "               Number of coefficients.\n",
    "\n",
    "            rfout: array (nmugs*nmat,nmugs,nfou):\n",
    "               Matrix for the fourier coefficients for reflection.\n",
    "\n",
    "            rtra: array (nmugs*nmat,nmugs,nfou): \n",
    "               Matrix for the fourier coefficients for transmission\n",
    "        \"\"\"\n",
    "        f=open(self.filename)\n",
    "\n",
    "        #Read header\n",
    "        nmat=0\n",
    "        imu=0\n",
    "        for i,line in enumerate(f):\n",
    "            if '#' in line:\n",
    "                continue\n",
    "            data=line.split()\n",
    "            if len(data)<3:\n",
    "                if len(data)==1:\n",
    "                    if not nmat:\n",
    "                        nmat=int(data[0])\n",
    "                    else:\n",
    "                        nmugs=int(data[0])\n",
    "                        xmu=np.zeros(nmugs)\n",
    "                else:\n",
    "                    xmu[imu]=float(data[0])\n",
    "                    imu+=1\n",
    "            else:\n",
    "                break\n",
    "\n",
    "        #Get core data\n",
    "        data=np.loadtxt(self.filename,skiprows=i)\n",
    "        nfou=int(data[:,0].max())+1\n",
    "\n",
    "        rfou=np.zeros((nmat*nmugs,nmugs,nfou))\n",
    "        rtra=np.zeros((nmat*nmugs,nmugs,nfou))\n",
    "\n",
    "        #Read fourier coefficients\n",
    "        for row in data:\n",
    "            m,i,j=int(row[0]),int(row[1])-1,int(row[2])-1\n",
    "            ibase=i*nmat\n",
    "            rfou[ibase:ibase+3,j,m]=row[3:3+nmat]\n",
    "            if len(row[3:])>nmat:\n",
    "                rtra[ibase:ibase+3,j,m]=row[3+nmat:3+2*nmat]\n",
    "\n",
    "        verbose(VERB_SIMPLE,f\"Checksum '{self.filename}': {rfou.sum()+rtra.sum():.16e}\")\n",
    "        f.close()\n",
    "        \n",
    "        self.nmat,self.nmugs,self.nfou=nmat,nmugs,nfou\n",
    "        self.xmu,self.rfou,self.rtra=xmu,rfou,rtra\n",
    "        self.F=FourierCoefficients(nmat,nmugs,nfou,xmu,rfou,rtra)\n",
    "#@end:class"
   ]
  },
  {
   "cell_type": "code",
   "execution_count": null,
   "id": "7f54c83e",
   "metadata": {},
   "outputs": [],
   "source": []
  },
  {
   "cell_type": "code",
   "execution_count": 15,
   "id": "b5bc1aa1",
   "metadata": {},
   "outputs": [
    {
     "name": "stderr",
     "output_type": "stream",
     "text": [
      "."
     ]
    },
    {
     "name": "stdout",
     "output_type": "stream",
     "text": [
      "  VERB1::read_fourier:: Checksum '/Users/jorgezuluagacallejas/Dropbox/MiInvestigacion/PapersEnProceso/Exorings/pryngles/src/pryngles/data/fou_gasplanet.dat': 5.5117407392827840e+02\n"
     ]
    },
    {
     "name": "stderr",
     "output_type": "stream",
     "text": [
      "\n",
      "----------------------------------------------------------------------\n",
      "Ran 1 test in 0.035s\n",
      "\n",
      "OK\n"
     ]
    },
    {
     "data": {
      "text/plain": [
       "<unittest.main.TestProgram at 0x7fe0e870fca0>"
      ]
     },
     "execution_count": 15,
     "metadata": {},
     "output_type": "execute_result"
    }
   ],
   "source": [
    "#@test:template\n",
    "def test_readf(self):\n",
    "    Verbose.VERBOSITY=VERB_SIMPLE\n",
    "    \n",
    "    filename=Misc.get_data(\"fou_gasplanet.dat\")\n",
    "    S=StokesScatterer(filename)\n",
    "    Verbose.VERBOSITY=VERB_NONE\n",
    "    pass\n",
    "\n",
    "class Test(unittest.TestCase):pass\n",
    "Test.test_readf=test_readf\n",
    "unittest.main(argv=['first-arg-is-ignored'],exit=False)\n",
    "#@end:test"
   ]
  },
  {
   "cell_type": "code",
   "execution_count": null,
   "id": "63b46a14",
   "metadata": {},
   "outputs": [],
   "source": []
  },
  {
   "cell_type": "code",
   "execution_count": 16,
   "id": "0e934126",
   "metadata": {},
   "outputs": [
    {
     "name": "stderr",
     "output_type": "stream",
     "text": [
      "."
     ]
    },
    {
     "name": "stdout",
     "output_type": "stream",
     "text": [
      "[[[0.15198063 0.95218664 0.78762886]\n",
      "  [0.20687016 0.7363406  0.10720525]\n",
      "  [0.77164589 0.58375462 0.42610884]]\n",
      "\n",
      " [[0.03853037 0.83688557 0.25565362]\n",
      "  [0.89395963 0.77567543 0.57889644]\n",
      "  [0.47047624 0.90793238 0.79352548]]\n",
      "\n",
      " [[0.89336131 0.69437689 0.60513714]\n",
      "  [0.27746254 0.70251864 0.6746486 ]\n",
      "  [0.58829198 0.6481925  0.98725686]]]\n",
      "16.34650309696767\n",
      "16.34650309696767\n",
      "[[[0.30396126 1.90437327 1.57525772]\n",
      "  [0.41374033 1.4726812  0.21441049]\n",
      "  [1.54329179 1.16750923 0.85221769]]\n",
      "\n",
      " [[0.07706073 1.67377114 0.51130724]\n",
      "  [1.78791926 1.55135085 1.15779288]\n",
      "  [0.94095248 1.81586475 1.58705096]]\n",
      "\n",
      " [[1.78672261 1.38875378 1.21027427]\n",
      "  [0.55492508 1.40503729 1.34929719]\n",
      "  [1.17658396 1.29638501 1.97451372]]]\n"
     ]
    },
    {
     "name": "stderr",
     "output_type": "stream",
     "text": [
      "\n",
      "----------------------------------------------------------------------\n",
      "Ran 1 test in 0.002s\n",
      "\n",
      "OK\n"
     ]
    },
    {
     "data": {
      "text/plain": [
       "<unittest.main.TestProgram at 0x7fe0e8719ca0>"
      ]
     },
     "execution_count": 16,
     "metadata": {},
     "output_type": "execute_result"
    }
   ],
   "source": [
    "#@test:template\n",
    "def test_fun(self):\n",
    "    global cpixx_ext\n",
    "    \n",
    "    Verbose.VERBOSITY=VERB_SIMPLE\n",
    "    \n",
    "    #Test routines\n",
    "    n=3\n",
    "    m=3\n",
    "    p=3\n",
    "    xmu=np.random.rand(m)\n",
    "    rfou=np.random.rand(n,m,p)\n",
    "    rtra=np.random.rand(n,m,p)\n",
    "    print(rfou)\n",
    "    print(rfou.sum())\n",
    "    F=FourierCoefficients(n,m,p,xmu,rfou,rtra)\n",
    "    suma=cpixx_ext.sum_structure(F,n,m,p)\n",
    "    print(suma)\n",
    "    C=ExtensionUtil.ptr2cub(F.rfou,*rfou.shape)\n",
    "    print(C)\n",
    "    \n",
    "    Verbose.VERBOSITY=VERB_NONE\n",
    "    pass\n",
    "\n",
    "class Test(unittest.TestCase):pass\n",
    "Test.test_fun=test_fun\n",
    "unittest.main(argv=['first-arg-is-ignored'],exit=False)\n",
    "#@end:test"
   ]
  },
  {
   "cell_type": "code",
   "execution_count": null,
   "id": "3f9d3733",
   "metadata": {},
   "outputs": [],
   "source": []
  },
  {
   "cell_type": "code",
   "execution_count": 27,
   "id": "cd7e64b8",
   "metadata": {},
   "outputs": [],
   "source": [
    "#@method:StokesScatterer\n",
    "def calculate_stokes(self,phi,beta,theta0,theta,apix,qreflection=1):\n",
    "    \"\"\"\n",
    "    \"\"\"\n",
    "    npix=len(phi)\n",
    "    Sarr=np.zeros((npix,self.F.nmat+1))\n",
    "    Sarr_ptr=ExtensionUtil.mat2ptr(Sarr)\n",
    "    cpixx_ext.reflection(self.F,qreflection,npix,\n",
    "                         ExtensionUtil.vec2ptr(phi),\n",
    "                         ExtensionUtil.vec2ptr(beta),\n",
    "                         ExtensionUtil.vec2ptr(theta0),\n",
    "                         ExtensionUtil.vec2ptr(theta),\n",
    "                         ExtensionUtil.vec2ptr(apix),\n",
    "                         Sarr_ptr);\n",
    "    stokes=ExtensionUtil.ptr2mat(Sarr_ptr,*Sarr.shape)\n",
    "    return stokes\n",
    "    \n",
    "#@end:method\n",
    "\n",
    "StokesScatterer.calculate_stokes=calculate_stokes"
   ]
  },
  {
   "cell_type": "code",
   "execution_count": null,
   "id": "e4130830",
   "metadata": {},
   "outputs": [],
   "source": []
  },
  {
   "cell_type": "code",
   "execution_count": 31,
   "id": "25a44a09",
   "metadata": {},
   "outputs": [
    {
     "name": "stdout",
     "output_type": "stream",
     "text": [
      "  VERB1::read_fourier:: Checksum '/Users/jorgezuluagacallejas/Dropbox/MiInvestigacion/PapersEnProceso/Exorings/pryngles/src/pryngles/data/fou_gasplanet.dat': 5.5117407392827840e+02\n",
      "Expected values:\n",
      "4.597857424902560283e-07 2.251229972872198058e-07 1.834400800563127439e-09 4.896421313424954569e-01\n",
      "[[4.59785742e-07 2.25122997e-07 1.83440080e-09 4.89642131e-01]]\n"
     ]
    },
    {
     "name": "stderr",
     "output_type": "stream",
     "text": [
      "."
     ]
    },
    {
     "name": "stdout",
     "output_type": "stream",
     "text": [
      "  VERB1::read_fourier:: Checksum '/Users/jorgezuluagacallejas/Dropbox/MiInvestigacion/PapersEnProceso/Exorings/pryngles/src/pryngles/data/fou_ring_0_4_0_8.dat': 1.8572277810592641e+03\n",
      "Expected:\n",
      "6.193646058775441171e-06 -3.046132218287162406e-07 -9.759550180589223642e-15 4.918156751904256135e-02\n",
      "[[ 6.19364606e-06 -3.04613222e-07 -9.75955018e-15  4.91815675e-02]]\n",
      "Expected:\n",
      "1.688771016436214060e-07 -1.485273114913191718e-08 2.674513729889046925e-09 8.936444506313186154e-02\n",
      "[[ 1.68877102e-07 -1.48527311e-08  2.67451373e-09  8.93644451e-02]]\n"
     ]
    },
    {
     "name": "stderr",
     "output_type": "stream",
     "text": [
      "\n",
      "----------------------------------------------------------------------\n",
      "Ran 1 test in 1.027s\n",
      "\n",
      "OK\n"
     ]
    },
    {
     "data": {
      "text/plain": [
       "<unittest.main.TestProgram at 0x7fe0d9c0c520>"
      ]
     },
     "execution_count": 31,
     "metadata": {},
     "output_type": "execute_result"
    }
   ],
   "source": [
    "#@test:template\n",
    "def test_stokes(self):\n",
    "    global S,phi,beta,theta0,theta,apix\n",
    "    Verbose.VERBOSITY=VERB_SIMPLE\n",
    "\n",
    "    #Test values\n",
    "    npix=1\n",
    "    phi=np.zeros(npix)\n",
    "    beta=np.zeros(npix)\n",
    "    theta0=np.zeros(npix)\n",
    "    theta=np.zeros(npix)\n",
    "    apix=np.zeros(npix)\n",
    "\n",
    "    #######################\n",
    "    #Planet\n",
    "    #######################\n",
    "    #Scatterer\n",
    "    filename=Misc.get_data(\"fou_gasplanet.dat\")\n",
    "    S=StokesScatterer(filename)\n",
    "    \n",
    "    phi[0]=1.0448451569439827;\n",
    "    beta[0]=3.069394277348945;\n",
    "    theta0[0]=0.04990329026929557;\n",
    "    theta[0]=0.02509670973070432;\n",
    "    apix[0]=9.432328787795567e-05;\n",
    "    print(\"Expected values:\\n4.597857424902560283e-07 2.251229972872198058e-07 1.834400800563127439e-09 4.896421313424954569e-01\");\n",
    "    \n",
    "    #Calculate albedo\n",
    "    stokes=S.calculate_stokes(phi,beta,theta0,theta,apix)\n",
    "    print(stokes)\n",
    "    \n",
    "    #######################\n",
    "    #Ring\n",
    "    #######################\n",
    "    #Scatterer\n",
    "    filename=Misc.get_data(\"fou_ring_0_4_0_8.dat\")\n",
    "    S=StokesScatterer(filename)\n",
    "    \n",
    "    #Test values for backscattering\n",
    "    phi[0]=1.490116119384765625e-08;\n",
    "    beta[0]=0.000000000000000000e+00;\n",
    "    theta0[0]=4.999999999999998890e-01;\n",
    "    theta[0]=5.000000000000000000e-01;\n",
    "    apix[0]=1.163314390931110409e-04;\n",
    "    print(\"Expected:\\n6.193646058775441171e-06 -3.046132218287162406e-07 -9.759550180589223642e-15 4.918156751904256135e-02\");  \n",
    "\n",
    "    #Calculate albedo\n",
    "    stokes=S.calculate_stokes(phi,beta,theta0,theta,apix)\n",
    "    print(stokes)\n",
    "    \n",
    "    #Test values for forwardscattering\n",
    "    phi[0]=1.601029385538801364e+00;\n",
    "    beta[0]=1.601029385538801364e+00;\n",
    "    theta0[0]=1.744974835125044643e-02;\n",
    "    theta[0]=5.000000000000000000e-01;\n",
    "    apix[0]=1.163314390931110409e-04;\n",
    "    print(\"Expected:\\n1.688771016436214060e-07 -1.485273114913191718e-08 2.674513729889046925e-09 8.936444506313186154e-02\");  \n",
    "\n",
    "    #Calculate albedo\n",
    "    stokes=S.calculate_stokes(phi,beta,theta0,theta,apix,qreflection=0)\n",
    "    print(stokes)\n",
    "\n",
    "    Verbose.VERBOSITY=VERB_NONE\n",
    "    pass\n",
    "\n",
    "class Test(unittest.TestCase):pass\n",
    "Test.test_stokes=test_stokes\n",
    "unittest.main(argv=['first-arg-is-ignored'],exit=False)\n",
    "#@end:test"
   ]
  },
  {
   "cell_type": "code",
   "execution_count": 45,
   "id": "87284425",
   "metadata": {},
   "outputs": [
    {
     "name": "stdout",
     "output_type": "stream",
     "text": [
      "  VERB1::read_fourier:: Checksum '/Users/jorgezuluagacallejas/Dropbox/MiInvestigacion/PapersEnProceso/Exorings/pryngles/src/pryngles/data/fou_ring_0_4_0_8.dat': 1.8572277810592641e+03\n"
     ]
    },
    {
     "name": "stderr",
     "output_type": "stream",
     "text": [
      "."
     ]
    },
    {
     "name": "stdout",
     "output_type": "stream",
     "text": [
      "Maximum difference: 6.938893903907228e-17\n",
      "Calculation time (per vector): 0.676600964038403 ms\n"
     ]
    },
    {
     "name": "stderr",
     "output_type": "stream",
     "text": [
      "\n",
      "----------------------------------------------------------------------\n",
      "Ran 1 test in 1.141s\n",
      "\n",
      "OK\n"
     ]
    },
    {
     "data": {
      "text/plain": [
       "<unittest.main.TestProgram at 0x7fe0fb0b0430>"
      ]
     },
     "execution_count": 45,
     "metadata": {},
     "output_type": "execute_result"
    }
   ],
   "source": [
    "#@test:template\n",
    "def test_stokes_mass(self):\n",
    "    from time import time\n",
    "    global S,phi,beta,theta0,theta,apix\n",
    "    Verbose.VERBOSITY=VERB_SIMPLE\n",
    "\n",
    "    #Interpolation file\n",
    "    filename=Misc.get_data(\"fou_ring_0_4_0_8.dat\")\n",
    "    fileinterp=Misc.get_data(\"ring-interpolation.mat\")\n",
    "    \n",
    "    data=np.loadtxt(fileinterp)\n",
    "    npix=len(data)\n",
    "    phi=data[:npix,0].copy()\n",
    "    beta=data[:npix,1].copy()\n",
    "    theta0=data[:npix,2].copy()\n",
    "    theta=data[:npix,3].copy()\n",
    "    apix=data[:npix,7].copy()\n",
    "    spixx=data[:npix,8:]\n",
    "\n",
    "    #Scatterer\n",
    "    S=StokesScatterer(filename)\n",
    "    \n",
    "    #Calculate albedo\n",
    "    st=time()\n",
    "    stokes=S.calculate_stokes(phi,beta,theta0,theta,apix)\n",
    "    et=time()\n",
    "    print(\"Maximum difference:\",abs(spixx-stokes).max())\n",
    "    print(f\"Calculation time (per vector): {(et-st)/npix*1e3} ms\")\n",
    "    \n",
    "    Verbose.VERBOSITY=VERB_NONE\n",
    "    pass\n",
    "\n",
    "class Test(unittest.TestCase):pass\n",
    "Test.test_stokes_mass=test_stokes_mass\n",
    "unittest.main(argv=['first-arg-is-ignored'],exit=False)\n",
    "#@end:test"
   ]
  },
  {
   "cell_type": "markdown",
   "id": "2e766d58",
   "metadata": {},
   "source": [
    "### The end"
   ]
  },
  {
   "cell_type": "code",
   "execution_count": 13,
   "id": "92bec2ab",
   "metadata": {},
   "outputs": [],
   "source": [
    "#@end:module"
   ]
  },
  {
   "cell_type": "markdown",
   "id": "05ecfd2a",
   "metadata": {},
   "source": [
    "## Playing ground"
   ]
  },
  {
   "cell_type": "markdown",
   "id": "2ce9a884",
   "metadata": {},
   "source": [
    "This code is not included in final package files."
   ]
  },
  {
   "cell_type": "code",
   "execution_count": 12,
   "id": "c0905742",
   "metadata": {},
   "outputs": [],
   "source": [
    "f=Foo()"
   ]
  }
 ],
 "metadata": {
  "kernelspec": {
   "display_name": "Python 3 (ipykernel)",
   "language": "python",
   "name": "python3"
  },
  "language_info": {
   "codemirror_mode": {
    "name": "ipython",
    "version": 3
   },
   "file_extension": ".py",
   "mimetype": "text/x-python",
   "name": "python",
   "nbconvert_exporter": "python",
   "pygments_lexer": "ipython3",
   "version": "3.9.7"
  }
 },
 "nbformat": 4,
 "nbformat_minor": 5
}
