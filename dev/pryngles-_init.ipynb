{
 "cells": [
  {
   "cell_type": "markdown",
   "id": "5c9f509d",
   "metadata": {},
   "source": [
    "# Pryngles module"
   ]
  },
  {
   "cell_type": "markdown",
   "id": "307560c2",
   "metadata": {},
   "source": [
    "## Module of basic functions\n",
    "\n",
    "Goals of the module:\n",
    "- Future `__init__`"
   ]
  },
  {
   "cell_type": "code",
   "execution_count": 1,
   "id": "c9a439e5",
   "metadata": {},
   "outputs": [
    {
     "name": "stdout",
     "output_type": "stream",
     "text": [
      "The autoreload extension is already loaded. To reload it, use:\n",
      "  %reload_ext autoreload\n",
      "The autoreload extension is already loaded. To reload it, use:\n",
      "  %reload_ext autoreload\n",
      "The autoreload extension is already loaded. To reload it, use:\n",
      "  %reload_ext autoreload\n"
     ]
    },
    {
     "name": "stderr",
     "output_type": "stream",
     "text": [
      "\n",
      "----------------------------------------------------------------------\n",
      "Ran 0 tests in 0.000s\n",
      "\n",
      "OK\n",
      "\n",
      "----------------------------------------------------------------------\n",
      "Ran 0 tests in 0.000s\n",
      "\n",
      "OK\n",
      "\n",
      "----------------------------------------------------------------------\n",
      "Ran 0 tests in 0.000s\n",
      "\n",
      "OK\n",
      "\n",
      "----------------------------------------------------------------------\n",
      "Ran 0 tests in 0.000s\n",
      "\n",
      "OK\n",
      "\n",
      "----------------------------------------------------------------------\n",
      "Ran 0 tests in 0.000s\n",
      "\n",
      "OK\n",
      "\n",
      "----------------------------------------------------------------------\n",
      "Ran 0 tests in 0.000s\n",
      "\n",
      "OK\n",
      "\n",
      "----------------------------------------------------------------------\n",
      "Ran 0 tests in 0.000s\n",
      "\n",
      "OK\n",
      "\n",
      "----------------------------------------------------------------------\n",
      "Ran 0 tests in 0.000s\n",
      "\n",
      "OK\n",
      "\n",
      "----------------------------------------------------------------------\n",
      "Ran 0 tests in 0.000s\n",
      "\n",
      "OK\n",
      "\n",
      "----------------------------------------------------------------------\n",
      "Ran 0 tests in 0.000s\n",
      "\n",
      "OK\n"
     ]
    }
   ],
   "source": [
    "##HEADER\n",
    "from pryngles import *\n",
    "\n",
    "import sys\n",
    "IN_JUPYTER='ipykernel' in sys.modules\n",
    "\n",
    "%load_ext autoreload\n",
    "%autoreload 2"
   ]
  },
  {
   "cell_type": "markdown",
   "id": "118cdff8",
   "metadata": {},
   "source": [
    "## Package macros use across the modules"
   ]
  },
  {
   "cell_type": "code",
   "execution_count": 4,
   "id": "89b2f649",
   "metadata": {},
   "outputs": [],
   "source": [
    "from collections import OrderedDict as odict\n",
    "import os\n",
    "import sys\n",
    "import numpy as np\n",
    "import pkg_resources\n",
    "from rebound import units"
   ]
  },
  {
   "cell_type": "markdown",
   "id": "74bfc8bb",
   "metadata": {},
   "source": [
    "## Global constants\n",
    "\n",
    "All global constants in Pryngles have a capital name and a lowercase version in the class util."
   ]
  },
  {
   "cell_type": "code",
   "execution_count": 5,
   "id": "ba06f3bc",
   "metadata": {},
   "outputs": [],
   "source": [
    "#Root directory\n",
    "try:\n",
    "    __rootdir__=os.path.abspath(os.path.dirname(__file__))\n",
    "except:\n",
    "    import IPython\n",
    "    __rootdir__=os.path.abspath('')\n",
    "\n",
    "#Is this Jupyter\n",
    "IN_JUPYTER='ipykernel' in sys.modules\n",
    "    \n",
    "#Version\n",
    "__version__=pkg_resources.require('pryngles')[0].version\n",
    "\n",
    "#Mathematical constants\n",
    "RAD=180/np.pi\n",
    "DEG=1/RAD\n",
    "\n",
    "#Physical constants\n",
    "GSI=units.convert_G([\"m\",\"s\",\"kg\"]) # G constant in SI units\n",
    "\n",
    "#Units\n",
    "from rebound.units import times_SI as TIMES_SI,\\\n",
    "                          lengths_SI as LENGTHS_SI,\\\n",
    "                          masses_SI as MASSES_SI"
   ]
  },
  {
   "cell_type": "markdown",
   "id": "1b43b0ee",
   "metadata": {},
   "source": [
    "## Clases"
   ]
  },
  {
   "cell_type": "code",
   "execution_count": 6,
   "id": "8ec556c4",
   "metadata": {},
   "outputs": [],
   "source": [
    "util_doc=\\\n",
    "\"\"\"\n",
    "Util routines.\n",
    "\n",
    "This is a set of util routines intended for a diversity of purposes.\n",
    "\n",
    "Routines included:\n",
    "\n",
    "    get_data(file)\n",
    "\"\"\";"
   ]
  },
  {
   "cell_type": "code",
   "execution_count": 7,
   "id": "99657ffc",
   "metadata": {},
   "outputs": [],
   "source": [
    "class util(object):\n",
    "    def get_data(path):\n",
    "        \"\"\"\n",
    "        Get the full path of the `datafile` which is one of the datafiles provided with the package.\n",
    "        \n",
    "        Parameters:\n",
    "            datafile: Name of the data file, string.\n",
    "            \n",
    "        Return:\n",
    "            Full path to package datafile in the python environment.\n",
    "            \n",
    "        \"\"\"\n",
    "        return os.path.join(__rootdir__,'data',path);\n",
    "util.__doc__=util_doc"
   ]
  },
  {
   "cell_type": "code",
   "execution_count": 8,
   "id": "26b0f280",
   "metadata": {},
   "outputs": [],
   "source": [
    "class PrynglesCommon(object):\n",
    "    def __str__(self):\n",
    "        return str(self.__dict__)    "
   ]
  },
  {
   "cell_type": "markdown",
   "id": "68b7640b",
   "metadata": {},
   "source": [
    "--End--"
   ]
  },
  {
   "cell_type": "code",
   "execution_count": 9,
   "id": "fba29401",
   "metadata": {},
   "outputs": [
    {
     "data": {
      "text/plain": [
       "'/Users/jorgezuluagacallejas/Dropbox/MiInvestigacion/PapersEnProceso/Exorings/pryngles/dev/data/kernel'"
      ]
     },
     "execution_count": 9,
     "metadata": {},
     "output_type": "execute_result"
    }
   ],
   "source": [
    "util.get_data(\"kernel\")"
   ]
  },
  {
   "cell_type": "markdown",
   "id": "5ac4ee6f",
   "metadata": {},
   "source": [
    "# Convert"
   ]
  },
  {
   "cell_type": "code",
   "execution_count": 10,
   "id": "5b6ca1b0",
   "metadata": {},
   "outputs": [
    {
     "data": {
      "application/javascript": [
       "IPython.notebook.kernel.execute('FILE=\\\"' + IPython.notebook.notebook_name + '\\\"')\n"
      ],
      "text/plain": [
       "<IPython.core.display.Javascript object>"
      ]
     },
     "metadata": {},
     "output_type": "display_data"
    }
   ],
   "source": [
    "%%javascript\n",
    "IPython.notebook.kernel.execute('FILE=\\\"' + IPython.notebook.notebook_name + '\\\"')"
   ]
  },
  {
   "cell_type": "code",
   "execution_count": 11,
   "id": "f9a41d61",
   "metadata": {
    "scrolled": true
   },
   "outputs": [
    {
     "name": "stdout",
     "output_type": "stream",
     "text": [
      "Converting iPython Notebooks dev/pryngles-_init.ipynb...\n",
      "Analysing file pryngles-_init.ipynb:\n",
      "\tDirectory: src//pryngles\n",
      "\tFilename: _init\n",
      "\tTarget object: src//pryngles/_init.py\n",
      "\tConverting from ipynb dev/pryngles-_init.ipynb to python src//pryngles/_init.py...\n",
      "\tProcessing magic commands...\n",
      "\tTriming end...\n",
      "\tTriming test...\n",
      "\tUsing as template src/.temp\n",
      "Completed.\n"
     ]
    }
   ],
   "source": [
    "!make -C .. DEVFILES=dev/{FILE} convert"
   ]
  },
  {
   "cell_type": "code",
   "execution_count": 3,
   "id": "10fc8e0a",
   "metadata": {},
   "outputs": [],
   "source": [
    "# Converted"
   ]
  }
 ],
 "metadata": {
  "kernelspec": {
   "display_name": "Python 3 (ipykernel)",
   "language": "python",
   "name": "python3"
  },
  "language_info": {
   "codemirror_mode": {
    "name": "ipython",
    "version": 3
   },
   "file_extension": ".py",
   "mimetype": "text/x-python",
   "name": "python",
   "nbconvert_exporter": "python",
   "pygments_lexer": "ipython3",
   "version": "3.9.7"
  }
 },
 "nbformat": 4,
 "nbformat_minor": 5
}
