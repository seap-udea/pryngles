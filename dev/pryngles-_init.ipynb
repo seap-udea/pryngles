{
 "cells": [
  {
   "cell_type": "markdown",
   "id": "5c9f509d",
   "metadata": {},
   "source": [
    "# Pryngles module"
   ]
  },
  {
   "cell_type": "markdown",
   "id": "307560c2",
   "metadata": {},
   "source": [
    "## Module of basic functions\n",
    "\n",
    "Goals of the module:\n",
    "- Future `__init__`"
   ]
  },
  {
   "cell_type": "code",
   "execution_count": 1,
   "id": "c9a439e5",
   "metadata": {},
   "outputs": [
    {
     "name": "stdout",
     "output_type": "stream",
     "text": [
      "The autoreload extension is already loaded. To reload it, use:\n",
      "  %reload_ext autoreload\n",
      "The autoreload extension is already loaded. To reload it, use:\n",
      "  %reload_ext autoreload\n"
     ]
    }
   ],
   "source": [
    "##HEADER\n",
    "from pryngles import *\n",
    "%load_ext autoreload\n",
    "%autoreload 2"
   ]
  },
  {
   "cell_type": "markdown",
   "id": "118cdff8",
   "metadata": {},
   "source": [
    "## Package macros use across the modules"
   ]
  },
  {
   "cell_type": "code",
   "execution_count": 2,
   "id": "89b2f649",
   "metadata": {},
   "outputs": [],
   "source": [
    "from collections import OrderedDict as odict"
   ]
  },
  {
   "cell_type": "markdown",
   "id": "74bfc8bb",
   "metadata": {},
   "source": [
    "## Global constants\n",
    "\n",
    "All global constants in Pryngles have a capital name and a lowercase version in the class util."
   ]
  },
  {
   "cell_type": "code",
   "execution_count": 14,
   "id": "ba06f3bc",
   "metadata": {},
   "outputs": [
    {
     "name": "stdout",
     "output_type": "stream",
     "text": [
      "The autoreload extension is already loaded. To reload it, use:\n",
      "  %reload_ext autoreload\n",
      "The autoreload extension is already loaded. To reload it, use:\n",
      "  %reload_ext autoreload\n"
     ]
    }
   ],
   "source": [
    "#Root directory\n",
    "import os\n",
    "try:\n",
    "    __rootdir__=os.path.abspath(os.path.dirname(__file__))\n",
    "except:\n",
    "    import IPython\n",
    "    __rootdir__=os.path.abspath('')\n",
    "\n",
    "#Version\n",
    "import pkg_resources\n",
    "__version__=pkg_resources.require('pryngles')[0].version\n",
    "\n",
    "#Mathematical constants\n",
    "import numpy as np\n",
    "rad=180/np.pi\n",
    "deg=1/rad\n",
    "\n",
    "#Astronomical constants\n",
    "import rebound as rb\n",
    "from rebound.units import times_SI,lengths_SI,masses_SI"
   ]
  },
  {
   "cell_type": "markdown",
   "id": "1b43b0ee",
   "metadata": {},
   "source": [
    "## Clases"
   ]
  },
  {
   "cell_type": "code",
   "execution_count": 4,
   "id": "8ec556c4",
   "metadata": {},
   "outputs": [],
   "source": [
    "util_doc=\\\n",
    "\"\"\"\n",
    "Util routines.\n",
    "\n",
    "This is a set of util routines intended for a diversity of purposes.\n",
    "\n",
    "Routines included:\n",
    "\n",
    "    get_data(file)\n",
    "\"\"\";"
   ]
  },
  {
   "cell_type": "code",
   "execution_count": 5,
   "id": "99657ffc",
   "metadata": {},
   "outputs": [],
   "source": [
    "class util(object):\n",
    "    def getData(path):\n",
    "        \"\"\"\n",
    "        Get the full path of the `datafile` which is one of the datafiles provided with the package.\n",
    "        \n",
    "        Parameters:\n",
    "            datafile: Name of the data file, string.\n",
    "            \n",
    "        Return:\n",
    "            Full path to package datafile in the python environment.\n",
    "            \n",
    "        \"\"\"\n",
    "        return os.path.join(__rootdir__,'data',path);\n",
    "util.__doc__=util_doc"
   ]
  },
  {
   "cell_type": "code",
   "execution_count": 6,
   "id": "26b0f280",
   "metadata": {},
   "outputs": [],
   "source": [
    "class PrynglesCommon(object):\n",
    "    def __str__(self):\n",
    "        return str(self.__dict__)    "
   ]
  },
  {
   "cell_type": "markdown",
   "id": "68b7640b",
   "metadata": {},
   "source": [
    "--End--"
   ]
  },
  {
   "cell_type": "code",
   "execution_count": 9,
   "id": "fba29401",
   "metadata": {},
   "outputs": [
    {
     "data": {
      "text/plain": [
       "'/Users/jorgezuluagacallejas/Dropbox/MiInvestigacion/PapersEnProceso/Exorings/pryngles/dev/data/kernel'"
      ]
     },
     "execution_count": 9,
     "metadata": {},
     "output_type": "execute_result"
    }
   ],
   "source": [
    "util.getData(\"kernel\")"
   ]
  },
  {
   "cell_type": "markdown",
   "id": "5ac4ee6f",
   "metadata": {},
   "source": [
    "# Convert"
   ]
  },
  {
   "cell_type": "code",
   "execution_count": 10,
   "id": "5b6ca1b0",
   "metadata": {},
   "outputs": [
    {
     "data": {
      "application/javascript": [
       "IPython.notebook.kernel.execute('FILE=\\\"' + IPython.notebook.notebook_name + '\\\"')\n"
      ],
      "text/plain": [
       "<IPython.core.display.Javascript object>"
      ]
     },
     "metadata": {},
     "output_type": "display_data"
    }
   ],
   "source": [
    "%%javascript\n",
    "IPython.notebook.kernel.execute('FILE=\\\"' + IPython.notebook.notebook_name + '\\\"')"
   ]
  },
  {
   "cell_type": "code",
   "execution_count": 11,
   "id": "f9a41d61",
   "metadata": {
    "scrolled": true
   },
   "outputs": [
    {
     "name": "stdout",
     "output_type": "stream",
     "text": [
      "Converting iPython Notebooks dev/pryngles-_init.ipynb...\r\n",
      "Completed.\r\n"
     ]
    }
   ],
   "source": [
    "!make -C .. DEVFILES=dev/{FILE} convert"
   ]
  },
  {
   "cell_type": "code",
   "execution_count": 3,
   "id": "10fc8e0a",
   "metadata": {},
   "outputs": [],
   "source": [
    "# Converted"
   ]
  }
 ],
 "metadata": {
  "kernelspec": {
   "display_name": "Python 3 (ipykernel)",
   "language": "python",
   "name": "python3"
  },
  "language_info": {
   "codemirror_mode": {
    "name": "ipython",
    "version": 3
   },
   "file_extension": ".py",
   "mimetype": "text/x-python",
   "name": "python",
   "nbconvert_exporter": "python",
   "pygments_lexer": "ipython3",
   "version": "3.9.7"
  }
 },
 "nbformat": 4,
 "nbformat_minor": 5
}
