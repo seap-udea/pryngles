{
 "cells": [
  {
   "cell_type": "markdown",
   "id": "5c9f509d",
   "metadata": {},
   "source": [
    "# Pryngles module: System"
   ]
  },
  {
   "cell_type": "code",
   "execution_count": 1,
   "id": "c9a439e5",
   "metadata": {},
   "outputs": [],
   "source": [
    "from pryngles import *"
   ]
  },
  {
   "cell_type": "markdown",
   "id": "92d7e6e6",
   "metadata": {},
   "source": [
    "## External modules"
   ]
  },
  {
   "cell_type": "code",
   "execution_count": 2,
   "id": "bfeba11d",
   "metadata": {},
   "outputs": [],
   "source": [
    "import rebound as rb"
   ]
  },
  {
   "cell_type": "markdown",
   "id": "0c85bf0c",
   "metadata": {},
   "source": [
    "## System Class\n",
    "\n",
    "This is the most important class in the whole package.  This class allows to create the planetary system and manipulate it."
   ]
  },
  {
   "cell_type": "code",
   "execution_count": 3,
   "id": "67407988",
   "metadata": {},
   "outputs": [],
   "source": [
    "\"\"\"\n",
    "#Create a simple system\n",
    "#Once you create a system, a null spangler is created \n",
    "\n",
    "sys.set_observer(n_obs=[1,1,0],alpha_obs=0)\n",
    "\n",
    "#Add star (by default, m = 1)\n",
    "S=sys.add()\n",
    "\n",
    "#Add planet, when an object is added, it is automatically spangled\n",
    "P=sys.add(\"Planet\",radius=0.1,m=1e-3,a=1,e=0.2)\n",
    "\n",
    "#Add moon: orbital elements are respect to equatorial plane of the primary\n",
    "M=sys.add(\"Planet\",primary=P,radius=0.01,m=1e-7,a=0.1,e=0.01)\n",
    "\n",
    "#Add ring system\n",
    "R=sys.add(\"Ring\",primary=P,fi=1.5,fe=2.5,albedo_gray_normal=0.5,tau_gray_optical=3)\n",
    "\n",
    "#If you change the number of spangles of an object the spanglers are reset\n",
    "sys.update_body(R,nspangles=800)\n",
    "\n",
    "#Each time an object is updated, the spangler should be rejoined and the simulation reset.\n",
    "\n",
    "#Spangle \n",
    "#sys.spangle_system()\n",
    "\n",
    "#You may check separately the properties of each object\n",
    "R.spangler.plot3d()\n",
    "R.spangler.plot_obs()\n",
    "\n",
    "#Plot\n",
    "sys.spangler.plot3d()\n",
    "sys.spangler.plot_obs()\n",
    "\"\"\";"
   ]
  },
  {
   "cell_type": "code",
   "execution_count": 4,
   "id": "8ec556c4",
   "metadata": {},
   "outputs": [],
   "source": [
    "System_doc=\\\n",
    "f\"\"\"\n",
    "Creates a planetary system.\n",
    "\n",
    "Initialization attributes:\n",
    "\n",
    "    units: list of strings, default = ['au','msun','yr']:\n",
    "        Units used in calculations following the conventions and signs of rebound.\n",
    "        The order SHOULD always be MKS: length, mass, time (in that order)\n",
    "\n",
    "Derived attributes:\n",
    "\n",
    "    sim: Simulation:\n",
    "        REBOUND Simulation object.\n",
    "        \n",
    "    ul, um, ut: float [SI units]\n",
    "        Value of the conversion factors for each unit.\n",
    "        \n",
    "    G: float [ul^3/ut^2/um]\n",
    "        Value of the gravitational constant.\n",
    "\n",
    "    hashes: list:\n",
    "        List of hashes of bodies in the system.\n",
    "        \n",
    "    stars, planets, rings: lists:\n",
    "        List of the corresponding kind of object in the system.\n",
    "        \n",
    "    nstars, nplanets, nrings, nobservers, nbodies: int\n",
    "        Number of each kind of body in the system and of all bodies in the system.\n",
    "\n",
    "Examples:\n",
    "\n",
    "    #Create a system\n",
    "    sys=System(units=[\"au\",\"msun\",\"yr\"])\n",
    "    sys.sim.integrator='wahfast'\n",
    "    sys.sim.dt=0.01\n",
    "    \n",
    "    #Add star (by default, m = 1)\n",
    "    S=sys.add()\n",
    "\n",
    "    #Add planet, when an object is added, it is automatically spangled\n",
    "    P=sys.add(\"Planet\",radius=0.1,m=1e-3,a=1,e=0.2)\n",
    "\n",
    "    #Add moon: orbital elements are respect to equatorial plane of the primary\n",
    "    M=sys.add(\"Planet\",primary=P,radius=0.01,m=1e-7,a=0.1,e=0.01)\n",
    "\n",
    "    #Add ring system\n",
    "    R=sys.add(\"Ring\",primary=P,fi=1.5,fe=2.5,albedo_gray_normal=0.5,tau_gray_optical=3)\n",
    "\n",
    "\"\"\";"
   ]
  },
  {
   "cell_type": "code",
   "execution_count": 5,
   "id": "6ef24113",
   "metadata": {},
   "outputs": [],
   "source": [
    "class System(PrynglesCommon):\n",
    "    \n",
    "    def __init__(self,\n",
    "                 units=['au','msun','yr'],\n",
    "                ):\n",
    "        \n",
    "        #Rebound simulation\n",
    "        self.sim=rb.Simulation()\n",
    "        \n",
    "        #Update rebound units\n",
    "        self.update_units(units)\n",
    "        \n",
    "        #Bodies\n",
    "        self.bodies=[]\n",
    "        self.nbodies=0\n",
    "        \n",
    "        #Update system\n",
    "        self._update_system()\n",
    "        \n",
    "    def update_units(self,units):\n",
    "        \"\"\"Update units of the system\n",
    "        \"\"\"\n",
    "        self.units=units\n",
    "        \n",
    "        #Units\n",
    "        self._ul,self._um,self._ut=self.units\n",
    "        self.sim.units=self.units\n",
    "        \n",
    "        #Canonical units of the system\n",
    "        self.ul=rb.units.convert_length(1,self._ul,\"m\")\n",
    "        self.um=rb.units.convert_mass(1,self._um,\"kg\")\n",
    "        self.ut=np.sqrt(self.sim.G*self.ul**3/(self.um*GSI))\n",
    "        \n",
    "    def _update_system(self):\n",
    "        pass\n",
    "\n",
    "System.__doc__=System_doc"
   ]
  },
  {
   "cell_type": "code",
   "execution_count": 6,
   "id": "9d8e2fc5",
   "metadata": {},
   "outputs": [
    {
     "name": "stderr",
     "output_type": "stream",
     "text": [
      "."
     ]
    },
    {
     "name": "stdout",
     "output_type": "stream",
     "text": [
      "0\n",
      "39.476926421373\n",
      "149597870700.0 1.9884754159665356e+30 31557600.0\n",
      "0\n",
      "6.67408e-11\n",
      "1.0 1.0 1.0\n",
      "{'sim': <rebound.simulation.Simulation object at 0x7fa671334240, N=0, t=0.0>, 'units': ['m', 'kg', 's'], 'ul': 1.0, 'um': 1.0, 'ut': 1.0, 'bodies': [], 'nbodies': 0}\n"
     ]
    },
    {
     "name": "stderr",
     "output_type": "stream",
     "text": [
      "\n",
      "----------------------------------------------------------------------\n",
      "Ran 1 test in 0.002s\n",
      "\n",
      "OK\n"
     ]
    }
   ],
   "source": [
    "if IN_JUPYTER:\n",
    "    def test_system_init(self):\n",
    "        \n",
    "        Verbose.VERBOSITY=VERB_ALL\n",
    "        \n",
    "        sys=System()\n",
    "        print(sys.nbodies)\n",
    "        print(sys.sim.G)\n",
    "        print(sys.ul,sys.um,sys.ut)\n",
    "        \n",
    "        sys=System(units=['m','kg','s'])\n",
    "        print(sys.nbodies)\n",
    "        print(sys.sim.G)\n",
    "        print(sys.ul,sys.um,sys.ut)\n",
    "        \n",
    "        print(sys)\n",
    "\n",
    "        Verbose.VERBOSITY=VERB_NONE\n",
    "\n",
    "    class Test(unittest.TestCase):pass    \n",
    "    Test.test_system_init=test_system_init\n",
    "    unittest.main(argv=['first-arg-is-ignored'],exit=False)"
   ]
  },
  {
   "cell_type": "code",
   "execution_count": 61,
   "id": "5b77b7a6",
   "metadata": {},
   "outputs": [],
   "source": [
    "def add(self,kind=\"Star\",primary=None,**props):\n",
    "    \"\"\"Add an object to the system\n",
    "    \n",
    "    Examples:\n",
    "    \n",
    "        sys=System()\n",
    "        S=sys.add(\"Star\",m=2)\n",
    "    \n",
    "    Parameters:\n",
    "    \n",
    "        kind: string, default = \"Star\":\n",
    "            Kind of object: Star, Planet, Ring (see BODY_KINDS).\n",
    "    \n",
    "        primary: Body, default = None:\n",
    "            Primary object of the body.\n",
    "\n",
    "        props: dictionary:\n",
    "            List of properties of the body\n",
    "            \n",
    "    Returns:\n",
    "        \n",
    "        Body\n",
    "            Body added to the system.\n",
    "    \"\"\"\n",
    "    if kind is None:\n",
    "        raise AssertionError(\"You must provide a valid object kind (Star, Planet, Ring).\")\n",
    "\n",
    "    if kind not in BODY_KINDS:\n",
    "        raise ValueError(f\"Object kind '{kind}' is not recognized.\")\n",
    "\n",
    "    if kind==\"Planet\":\n",
    "        print(primary)\n",
    "        Planet(primary=primary)\n",
    "    print(f\"Object {kind}\")\n",
    "    exec(f\"self.bodies+=[{kind}(primary=primary,**props)]\")\n",
    "    self.nbodies=len(self.bodies)\n",
    "    \n",
    "    #Las body added\n",
    "    body=self.bodies[-1]\n",
    "    \n",
    "    if kind != \"Ring\":\n",
    "        #Add body to simulation\n",
    "        rb_add_options={k:v for k,v in body.__dict__.items() if k in REBOUND_ORBITAL_PROPERTIES}\n",
    "        verbose(VERB_VERIFY,f\"Adding object with hash {body.hash}\")\n",
    "        if primary:\n",
    "            rb_add_options.update(primary=primary.hash)\n",
    "        rb_add_options.update(hash=body.hash)\n",
    "        self.sim.add(**rb_add_options)\n",
    "    \n",
    "    return body\n",
    "    \n",
    "System.add=add"
   ]
  },
  {
   "cell_type": "code",
   "execution_count": 65,
   "id": "0eb39da5",
   "metadata": {},
   "outputs": [
    {
     "name": "stderr",
     "output_type": "stream",
     "text": [
      "[autoreload of pryngles.system failed: Traceback (most recent call last):\n",
      "  File \"/Users/jorgezuluagacallejas/opt/anaconda3/lib/python3.9/site-packages/IPython/extensions/autoreload.py\", line 257, in check\n",
      "    superreload(m, reload, self.old_objects)\n",
      "  File \"/Users/jorgezuluagacallejas/opt/anaconda3/lib/python3.9/site-packages/IPython/extensions/autoreload.py\", line 455, in superreload\n",
      "    module = reload(module)\n",
      "  File \"/Users/jorgezuluagacallejas/opt/anaconda3/lib/python3.9/importlib/__init__.py\", line 169, in reload\n",
      "    _bootstrap._exec(spec, module)\n",
      "  File \"<frozen importlib._bootstrap>\", line 613, in _exec\n",
      "  File \"<frozen importlib._bootstrap_external>\", line 850, in exec_module\n",
      "  File \"<frozen importlib._bootstrap>\", line 228, in _call_with_frames_removed\n",
      "  File \"/Users/jorgezuluagacallejas/Dropbox/MiInvestigacion/PapersEnProceso/Exorings/pryngles/src/pryngles/system.py\", line 217, in <module>\n",
      "    type(S)\n",
      "NameError: name 'S' is not defined\n",
      "]\n"
     ]
    }
   ],
   "source": [
    "\"\"\"\n",
    "sys=System()\n",
    "S=sys.add(m=8,radius=4)\n",
    "P=sys.add(\"Planet\",primary=S,a=0.1,e=0.2,radius=2)\n",
    "R=sys.add(\"Ring\",primary=P,fi=1.3,fe=2.3)\n",
    "for key in sys.sim.particles.keys():\n",
    "    print(key)\n",
    "#\"\"\";"
   ]
  },
  {
   "cell_type": "code",
   "execution_count": 61,
   "id": "2abef302",
   "metadata": {},
   "outputs": [
    {
     "name": "stderr",
     "output_type": "stream",
     "text": [
      "."
     ]
    },
    {
     "name": "stdout",
     "output_type": "stream",
     "text": [
      "      VERB3::update_body:: Updating Body\n",
      "      VERB3::_update_properties:: Updating properties of Body\n",
      "      VERB3::_update_star_properties:: Updating properties of Star\n",
      "{'kind': 'Star', 'hash': 8769269061295, 'primary': None, 'm': 8, 'radius': 4, 'prot': 1, 'i': 0, 'roll': 0, 'alpha': 0, 't0': 0, 'nspangles': 1000, 'type_spangle': 3, 'geometry': 'sphere', 'geometry_args': {}, 'seed': 0, 'preset': True, 'limb_coeffs': [], 'wrot': 6.283185307179586, 'n_equ': array([6.123234e-17, 0.000000e+00, 1.000000e+00]), 'norm_limb_darkening': 3.141592653589793}\n",
      "      VERB3::_update_childs:: Add child 8769269057040 to body Star (8769269061295)\n",
      "      VERB3::_update_primary:: Add primary 8769269061295 to body Planet (8769269057040)\n",
      "      VERB3::update_body:: Updating Body\n",
      "      VERB3::_update_properties:: Updating properties of Body\n",
      "      VERB3::update_planet:: Updating Planet\n",
      "      VERB3::update_body:: Updating Body\n",
      "      VERB3::_update_properties:: Updating properties of Body\n",
      "      VERB3::_update_planet_properties:: Updating Planet properties\n",
      "{'kind': 'Planet', 'hash': 8769269057040, 'primary': <pryngles.body.Star object at 0x7f9c12ad6af0>, 'm': 1, 'radius': 2, 'prot': 1, 'i': 0, 'roll': 0, 'alpha': 0, 't0': 0, 'nspangles': 1000, 'type_spangle': 0, 'geometry': 'sphere', 'geometry_args': {}, 'seed': 0, 'preset': True, 'a': 0.1, 'e': 0.2, 'albedo_gray_spherical': 1, 'wrot': 6.283185307179586, 'n_equ': array([6.123234e-17, 0.000000e+00, 1.000000e+00])}\n",
      "      VERB3::_update_childs:: Add child 8769285835496 to body Planet (8769269057040)\n",
      "      VERB3::_update_primary:: Add primary 8769269057040 to body Ring (8769285835496)\n",
      "      VERB3::update_body:: Updating Body\n",
      "      VERB3::_update_properties:: Updating properties of Body\n",
      "      VERB3::update_ring:: Updating Ring\n",
      "      VERB3::update_body:: Updating Body\n",
      "      VERB3::_update_properties:: Updating properties of Body\n",
      "      VERB3::_update_ring_properties:: Updating Ring properties\n",
      "{'kind': 'Ring', 'hash': 8769285835496, 'primary': <pryngles.body.Planet object at 0x7f9c12ac6100>, 'm': 1, 'radius': 4.6, 'prot': 1, 'i': 0, 'roll': 0, 'alpha': 0, 't0': 0, 'nspangles': 1000, 'type_spangle': 1, 'geometry': 'ring', 'geometry_args': {'ri': 0.5652173913043479}, 'seed': 0, 'preset': True, 'fi': 1.3, 'fe': 2.3, 'albedo_gray_normal': 1, 'tau_gray_optical': 0, 'wrot': 6.283185307179586, 'n_equ': array([6.123234e-17, 0.000000e+00, 1.000000e+00]), 'ri': 2.6, 're': 4.6}\n"
     ]
    },
    {
     "name": "stderr",
     "output_type": "stream",
     "text": [
      "\n",
      "----------------------------------------------------------------------\n",
      "Ran 1 test in 0.163s\n",
      "\n",
      "OK\n"
     ]
    }
   ],
   "source": [
    "if IN_JUPYTER:\n",
    "    def test_system_add(self):\n",
    "        \n",
    "        Verbose.VERBOSITY=VERB_ALL\n",
    "        \n",
    "        sys=System()\n",
    "        S=sys.add(m=8,radius=4)\n",
    "        print(S)\n",
    "        P=sys.add(\"Planet\",primary=S,a=0.1,e=0.2,radius=2)\n",
    "        print(P)\n",
    "        R=sys.add(\"Ring\",primary=P,fi=1.3,fe=2.3)\n",
    "        print(R)\n",
    "\n",
    "        Verbose.VERBOSITY=VERB_NONE\n",
    "                \n",
    "    class Test(unittest.TestCase):pass    \n",
    "    Test.test_system_add=test_system_add\n",
    "    unittest.main(argv=['first-arg-is-ignored'],exit=False)"
   ]
  },
  {
   "cell_type": "code",
   "execution_count": 32,
   "id": "cb37ae13",
   "metadata": {},
   "outputs": [],
   "source": [
    "def remove(self,body_hash):\n",
    "    \"\"\"Remove a body from a system.\n",
    "\n",
    "    Parameters:\n",
    "        body_hash: string\n",
    "            Hash of the body to remove\n",
    "    \n",
    "    Notes: \n",
    "        Remove eliminate body and all the childs and the childs of the childs.\n",
    "\n",
    "    Example:\n",
    "        sys=System()\n",
    "        S=sys.add(kind=\"Star\",orbit=dict(m=2))\n",
    "        sys.remove(body_hash=S.hash)\n",
    "        \n",
    "    \"\"\"\n",
    "    if body_hash in self.hashes:\n",
    "        obj=self.hashes[body_hash]\n",
    "        lkind=obj.kind.lower()\n",
    "\n",
    "        #Remove child objects\n",
    "        for child in obj.childs:\n",
    "            if child.hash in self.hashes:\n",
    "                self.remove(child.hash)\n",
    "\n",
    "        #Remove object\n",
    "        exec(f\"self.{lkind}s.remove(obj)\")\n",
    "\n",
    "        #Remove hash from list\n",
    "        self.hashes.pop(body_hash)\n",
    "\n",
    "        #Update system\n",
    "        self._update_system()\n",
    "    else:\n",
    "        raise ValueError(\"No object with hash 'body_hash' in the system\")\n",
    "System.remove=remove"
   ]
  },
  {
   "cell_type": "code",
   "execution_count": 24,
   "id": "50d0aa44",
   "metadata": {},
   "outputs": [
    {
     "name": "stderr",
     "output_type": "stream",
     "text": [
      "."
     ]
    },
    {
     "name": "stdout",
     "output_type": "stream",
     "text": [
      "{'8767353992208': <pryngles.star.Star object at 0x7f94f0534100>}\n",
      "1 1 0 0 0\n",
      "{}\n",
      "0 0 0 0 0\n",
      "{'8767372253133': <pryngles.star.Star object at 0x7f9501bd7cd0>, '8767372435953': <pryngles.planet.Planet object at 0x7f9501ea1f10>, '8767372253040': <pryngles.ring.Ring object at 0x7f9501bd7700>}\n",
      "3 1 1 1 0\n",
      "{}\n",
      "0 0 0 0 0\n",
      "{'8767372435884': <pryngles.star.Star object at 0x7f9501ea1ac0>, '8767372253097': <pryngles.planet.Planet object at 0x7f9501bd7a90>, '8767372443612': <pryngles.ring.Ring object at 0x7f9501ebfdc0>}\n",
      "3 1 1 1 0\n",
      "{'8767372435884': <pryngles.star.Star object at 0x7f9501ea1ac0>}\n",
      "1 1 0 0 0\n",
      "{'8767372443633': <pryngles.star.Star object at 0x7f9501ebff10>, '8767372435863': <pryngles.planet.Planet object at 0x7f9501ea1970>, '8767372267045': <pryngles.ring.Ring object at 0x7f9501c0e250>}\n",
      "3 1 1 1 0\n",
      "{'8767372443633': <pryngles.star.Star object at 0x7f9501ebff10>, '8767372435863': <pryngles.planet.Planet object at 0x7f9501ea1970>}\n",
      "2 1 1 0 0\n"
     ]
    },
    {
     "name": "stderr",
     "output_type": "stream",
     "text": [
      "\n",
      "----------------------------------------------------------------------\n",
      "Ran 1 test in 0.008s\n",
      "\n",
      "OK\n"
     ]
    }
   ],
   "source": [
    "if IN_JUPYTER:\n",
    "    def test_system_remove(self):\n",
    "        sys=System()\n",
    "        S=sys.add(kind=\"Star\",orbit=dict(m=2))\n",
    "        print(sys.hashes)\n",
    "        print(sys.nbodies,sys.nstars,sys.nplanets,sys.nrings,sys.nobservers)\n",
    "\n",
    "        sys.remove(body_hash=S.hash)\n",
    "        print(sys.hashes)\n",
    "        print(sys.nbodies,sys.nstars,sys.nplanets,sys.nrings,sys.nobservers)\n",
    "        \n",
    "        sys=System()\n",
    "        S=sys.add(kind=\"Star\")\n",
    "        P=sys.add(kind=\"Planet\",primary=S)\n",
    "        R=sys.add(kind=\"Ring\",primary=P)\n",
    "        print(sys.hashes)\n",
    "        print(sys.nbodies,sys.nstars,sys.nplanets,sys.nrings,sys.nobservers)\n",
    "\n",
    "        sys.remove(body_hash=S.hash)\n",
    "        print(sys.hashes)\n",
    "        print(sys.nbodies,sys.nstars,sys.nplanets,sys.nrings,sys.nobservers)\n",
    "\n",
    "        sys=System()\n",
    "        S=sys.add(kind=\"Star\")\n",
    "        P=sys.add(kind=\"Planet\",primary=S)\n",
    "        R=sys.add(kind=\"Ring\",primary=P)\n",
    "        print(sys.hashes)\n",
    "        print(sys.nbodies,sys.nstars,sys.nplanets,sys.nrings,sys.nobservers)\n",
    "\n",
    "        sys.remove(body_hash=P.hash)\n",
    "        print(sys.hashes)\n",
    "        print(sys.nbodies,sys.nstars,sys.nplanets,sys.nrings,sys.nobservers)\n",
    "        \n",
    "        sys=System()\n",
    "        S=sys.add(kind=\"Star\")\n",
    "        P=sys.add(kind=\"Planet\",primary=S)\n",
    "        R=sys.add(kind=\"Ring\",primary=P)\n",
    "        print(sys.hashes)\n",
    "        print(sys.nbodies,sys.nstars,sys.nplanets,sys.nrings,sys.nobservers)\n",
    "\n",
    "        sys.remove(body_hash=R.hash)\n",
    "        print(sys.hashes)\n",
    "        print(sys.nbodies,sys.nstars,sys.nplanets,sys.nrings,sys.nobservers)\n",
    "        \n",
    "        \"\"\"\n",
    "        self.assertEqual(np.isclose([P.physics.wrot],\n",
    "                                    [2*np.pi/PlanetDefaults.physics[\"prot\"]],\n",
    "                                    rtol=1e-7),\n",
    "                         [True]*1)\n",
    "        #Check exception: primary could not be different from None or Body\n",
    "        self.assertRaises(AssertionError,lambda:Observer(primary=\"Nada\"))\n",
    "        \"\"\"\n",
    "        \n",
    "    class Test(unittest.TestCase):pass    \n",
    "    Test.test_system_remove=test_system_remove\n",
    "    unittest.main(argv=['first-arg-is-ignored'],exit=False)"
   ]
  },
  {
   "cell_type": "code",
   "execution_count": 3,
   "id": "8bb71eb7",
   "metadata": {},
   "outputs": [],
   "source": [
    "def spangle_system():\n",
    "    pass"
   ]
  },
  {
   "cell_type": "code",
   "execution_count": 5,
   "id": "83f2c9cb",
   "metadata": {},
   "outputs": [],
   "source": [
    "def integrate_system(t=0):\n",
    "    pass"
   ]
  },
  {
   "cell_type": "markdown",
   "id": "a6febf87",
   "metadata": {},
   "source": [
    "--End--"
   ]
  },
  {
   "cell_type": "code",
   "execution_count": null,
   "id": "d51164a0",
   "metadata": {},
   "outputs": [],
   "source": [
    "#Create a simple system\n",
    "sys=System(units=[\"au\",\"msun\",\"yr\"])\n",
    "sys.sim.integrator='wahfast'\n",
    "sys.sim.dt=0.01\n",
    "#Once you create a system, a null spangler is created \n",
    "\"\"\"\n",
    "You may set the observer from the very beginning\n",
    "\"\"\"\n",
    "sys.set_observer(n_obs=[1,1,0],alpha_obs=0)\n",
    "\n",
    "#Add star (by default, m = 1)\n",
    "S=sys.add()\n",
    "\n",
    "#Add planet, when an object is added, it is automatically spangled\n",
    "P=sys.add(\"Planet\",radius=0.1,m=1e-3,a=1,e=0.2)\n",
    "\n",
    "#Add moon: orbital elements are respect to equatorial plane of the primary\n",
    "M=sys.add(\"Planet\",primary=P,radius=0.01,m=1e-7,a=0.1,e=0.01)\n",
    "\n",
    "#Add ring system\n",
    "R=sys.add(\"Ring\",primary=P,fi=1.5,fe=2.5,albedo_gray_normal=0.5,tau_gray_optical=3)\n",
    "\n",
    "#If you change the number of spangles of an object the spanglers are reset\n",
    "sys.update_body(R,nspangles=800)\n",
    "\n",
    "#Each time an object is updated, the spangler should be rejoined and the simulation reset.\n",
    "\n",
    "#Spangle \n",
    "#sys.spangle_system()\n",
    "\n",
    "#You may check separately the properties of each object\n",
    "R.spangler.plot3d()\n",
    "R.spangler.plot_obs()\n",
    "\n",
    "#Plot\n",
    "sys.spangler.plot3d()\n",
    "sys.spangler.plot_obs()"
   ]
  },
  {
   "cell_type": "code",
   "execution_count": null,
   "id": "4c7eceaa",
   "metadata": {},
   "outputs": [],
   "source": [
    "print(R)"
   ]
  },
  {
   "cell_type": "code",
   "execution_count": null,
   "id": "3ba885d3",
   "metadata": {},
   "outputs": [],
   "source": [
    "#Update properties of objects, even after the system is spangled\n",
    "sys.update_body(S,limb_coeffs=[0.5,0.2])\n",
    "sys.update_body(R,i=30*Consts.deg,roll=60*Consts.deg)\n",
    "sys.update_body(P,Prot=24*Const.hour/sys.ul)"
   ]
  },
  {
   "cell_type": "code",
   "execution_count": null,
   "id": "fe72b215",
   "metadata": {},
   "outputs": [],
   "source": [
    "sys.set_observer(n_obs=[1,1,1],alpha_obs=0)"
   ]
  },
  {
   "cell_type": "code",
   "execution_count": null,
   "id": "53bea52c",
   "metadata": {},
   "outputs": [],
   "source": [
    "#When you integrate you update the position of the bodies, recalculate light sources, observer configuration and \n",
    "sys.sim_integrate(0.5)\n",
    "\n",
    "sys.spangler.plot3d()\n",
    "sys.spangler.plot_obs()"
   ]
  },
  {
   "cell_type": "code",
   "execution_count": null,
   "id": "43d59fe8",
   "metadata": {},
   "outputs": [],
   "source": [
    "sys.sim_reset()"
   ]
  },
  {
   "cell_type": "code",
   "execution_count": null,
   "id": "66657fcf",
   "metadata": {},
   "outputs": [],
   "source": [
    "#Update positions: in this way you can move the planet, for instance, around the star\n",
    "sys.update_body(R,M=30*Consts.deg)"
   ]
  },
  {
   "cell_type": "code",
   "execution_count": null,
   "id": "0f712c66",
   "metadata": {},
   "outputs": [],
   "source": [
    "\"\"\"\n",
    "You may integrate without calculating photometry\n",
    "\n",
    "Once you're ready calculate photometry\n",
    "\"\"\"\n",
    "sys.calc_photometry()"
   ]
  },
  {
   "cell_type": "code",
   "execution_count": null,
   "id": "170442c5",
   "metadata": {},
   "outputs": [],
   "source": [
    "\"\"\"\n",
    "This routine only update the optical states of the spangles\n",
    "\"\"\"\n",
    "sys._update_states()\n",
    "\n",
    "\"\"\"\n",
    "This routine update temperatures.  This take into account the illumination history of the spangles\n",
    "\"\"\"\n",
    "sys._update_temperatures()"
   ]
  }
 ],
 "metadata": {
  "kernelspec": {
   "display_name": "Python 3 (ipykernel)",
   "language": "python",
   "name": "python3"
  },
  "language_info": {
   "codemirror_mode": {
    "name": "ipython",
    "version": 3
   },
   "file_extension": ".py",
   "mimetype": "text/x-python",
   "name": "python",
   "nbconvert_exporter": "python",
   "pygments_lexer": "ipython3",
   "version": "3.9.7"
  }
 },
 "nbformat": 4,
 "nbformat_minor": 5
}
