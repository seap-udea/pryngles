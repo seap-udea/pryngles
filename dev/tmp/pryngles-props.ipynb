{
 "cells": [
  {
   "cell_type": "markdown",
   "id": "5c9f509d",
   "metadata": {},
   "source": [
    "# Pryngles module: object properties"
   ]
  },
  {
   "cell_type": "code",
   "execution_count": 1,
   "id": "c9a439e5",
   "metadata": {},
   "outputs": [],
   "source": [
    "from pryngles import *"
   ]
  },
  {
   "cell_type": "markdown",
   "id": "ea043a9f",
   "metadata": {},
   "source": [
    "## Object properties"
   ]
  },
  {
   "cell_type": "markdown",
   "id": "3ea41124",
   "metadata": {},
   "source": [
    "In this section of the package we introduce several useful classes for the module."
   ]
  },
  {
   "cell_type": "code",
   "execution_count": 4,
   "id": "57a8f1e2",
   "metadata": {},
   "outputs": [
    {
     "name": "stdout",
     "output_type": "stream",
     "text": [
      "The autoreload extension is already loaded. To reload it, use:\n",
      "  %reload_ext autoreload\n"
     ]
    }
   ],
   "source": [
    "PROP_TYPES=[\"orbit\",\"physics\",\"optics\"]\n",
    "class Props():\n",
    "    \"\"\"\n",
    "        Props is a class intended to treat the basic properties of an object \n",
    "        as an object and not as a dictionary.\n",
    "\n",
    "        If you add another set of attributes just add the name of the attribute\n",
    "        to the global variable _PROP_TYPES.\n",
    "    \"\"\"\n",
    "    def __init__(self,**pars):\n",
    "        self.__dict__.update(**pars)\n",
    "    def __str__(self):\n",
    "        return str(self.__dict__)"
   ]
  },
  {
   "cell_type": "code",
   "execution_count": 5,
   "id": "be750589",
   "metadata": {
    "scrolled": true
   },
   "outputs": [
    {
     "name": "stderr",
     "output_type": "stream",
     "text": [
      ".\n",
      "----------------------------------------------------------------------\n",
      "Ran 1 test in 0.001s\n",
      "\n",
      "OK\n"
     ]
    }
   ],
   "source": [
    "if IN_JUPYTER:\n",
    "    def test_props(self):\n",
    "        p=Props(m=1,a=2,b=3)\n",
    "        self.assertEqual([p.m,p.a,p.b],[1,2,3],[True]*3)\n",
    "\n",
    "    class Test(unittest.TestCase):pass\n",
    "    Test.test_props=test_props\n",
    "    unittest.main(argv=['first-arg-is-ignored'],exit=False)"
   ]
  },
  {
   "cell_type": "markdown",
   "id": "71df755f",
   "metadata": {},
   "source": [
    "--End--"
   ]
  }
 ],
 "metadata": {
  "kernelspec": {
   "display_name": "Python 3 (ipykernel)",
   "language": "python",
   "name": "python3"
  },
  "language_info": {
   "codemirror_mode": {
    "name": "ipython",
    "version": 3
   },
   "file_extension": ".py",
   "mimetype": "text/x-python",
   "name": "python",
   "nbconvert_exporter": "python",
   "pygments_lexer": "ipython3",
   "version": "3.9.7"
  }
 },
 "nbformat": 4,
 "nbformat_minor": 5
}
