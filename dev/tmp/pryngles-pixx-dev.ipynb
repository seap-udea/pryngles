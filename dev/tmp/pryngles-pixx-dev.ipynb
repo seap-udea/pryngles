{
 "cells": [
  {
   "cell_type": "markdown",
   "id": "159e5928",
   "metadata": {},
   "source": [
    "## Pryngles pixx external module"
   ]
  },
  {
   "cell_type": "code",
   "execution_count": 190,
   "id": "d6c5897e",
   "metadata": {},
   "outputs": [],
   "source": [
    "import pickle\n",
    "import numpy as np\n",
    "import pandas as pd\n",
    "import os"
   ]
  },
  {
   "cell_type": "markdown",
   "id": "1abb77e6",
   "metadata": {},
   "source": [
    "You must first download file `reflection-test.pkl` from Google Drive and place it at `/tmp`"
   ]
  },
  {
   "cell_type": "code",
   "execution_count": 160,
   "id": "1ae65cff",
   "metadata": {},
   "outputs": [],
   "source": [
    "f=open(\"/tmp/reflection-test.pkl.2\",\"rb\")\n",
    "save_values=pickle.load(f)\n",
    "f.close()"
   ]
  },
  {
   "cell_type": "code",
   "execution_count": 224,
   "id": "b9166603",
   "metadata": {},
   "outputs": [
    {
     "name": "stdout",
     "output_type": "stream",
     "text": [
      "Saving file planet-5292_63_21_4.mat...\n",
      "Saving file planet-xmu-21.mat...\n",
      "Saving file ring_forward-414000_60_20_345.mat...\n",
      "Saving file ring_forward-xmu-20.mat...\n",
      "Saving file ring_back-414000_60_20_345.mat...\n",
      "Saving file ring_back-xmu-20.mat...\n",
      "Done.\n"
     ]
    }
   ],
   "source": [
    "matrices=dict()\n",
    "columns=[\"delazim\",\"beta\",\"eta\",\"zeta\",\"nmugs\",\"nmat\",\"nfou\",\"af\",\"S1\",\"S2\",\"S3\",\"S4\"]\n",
    "for i,save in enumerate(save_values):\n",
    "    args=save[\"args\"]\n",
    "    obj=save[\"obj\"].replace(\" \",\"_\")\n",
    "    \"\"\"\n",
    "    args are:\n",
    "        0: Number of points (int)\n",
    "        1: Delta azim (array Nx1)\n",
    "        2: betas (array: Nx1)\n",
    "        3: etas (array: Nx1)\n",
    "        4: zetas\n",
    "        5: nmugs\n",
    "        6: nmat\n",
    "        7: nfou\n",
    "        8: xmu\n",
    "        9: rfou\n",
    "        10: af\n",
    "    \"\"\"\n",
    "    \n",
    "    #Read properties\n",
    "    npoints=args[0]\n",
    "    delta_azim=args[1]\n",
    "    betas=args[2]\n",
    "    etas=args[3]\n",
    "    zetas=args[4]\n",
    "    nmugs,nmat,nfou=args[5:8]\n",
    "    xmu=args[8]\n",
    "    rfou=args[9]\n",
    "    nx,ny,nz=rfou.shape\n",
    "    af=args[10]\n",
    "    hash_mat=hash(rfou.sum())\n",
    "    \n",
    "    #Read stokes\n",
    "    stokes=save[\"stokes\"]\n",
    "    \n",
    "    #Save in dataframe\n",
    "    data=pd.DataFrame(columns=columns)\n",
    "    data[\"delazim\"]=pd.Series(delta_azim)\n",
    "    data[\"beta\"]=pd.Series(betas)\n",
    "    data[\"eta\"]=pd.Series(etas)\n",
    "    data[\"zeta\"]=pd.Series(zetas)\n",
    "    data[\"nmugs\"]=nmugs\n",
    "    data[\"nmat\"]=nmat\n",
    "    data[\"nfou\"]=nfou\n",
    "    data[\"af\"]=pd.Series(af)\n",
    "    data[[\"S1\",\"S2\",\"S3\",\"S4\"]]=pd.DataFrame(stokes)\n",
    "    \n",
    "    #Save matrix\n",
    "    if not hash_mat in matrices.keys():    \n",
    "        #Save matrix\n",
    "        ntot=nx*ny*nz\n",
    "        filename=f\"{obj}-{ntot}_{nx}_{ny}_{nz}.mat\"\n",
    "        print(f\"Saving file {filename}...\")\n",
    "        np.savetxt(filename,rfou.reshape(ntot,1))\n",
    "\n",
    "        filename=f\"{obj}-xmu-{len(xmu)}.mat\"\n",
    "        print(f\"Saving file {filename}...\")\n",
    "        np.savetxt(filename,xmu)\n",
    "\n",
    "        matrices[hash_mat]=dict(\n",
    "            obj=obj,\n",
    "            data=pd.DataFrame(columns=columns),\n",
    "            rfou=rfou,\n",
    "        )\n",
    "    \n",
    "    #Store data\n",
    "    matrices[hash_mat][\"data\"]=pd.concat((matrices[hash_mat][\"data\"],data),ignore_index=True)\n",
    "    #break\n",
    "        \n",
    "print(\"Done.\")"
   ]
  },
  {
   "cell_type": "markdown",
   "id": "07cc9b83",
   "metadata": {},
   "source": [
    "Save matrices:"
   ]
  },
  {
   "cell_type": "code",
   "execution_count": 225,
   "id": "35246e24",
   "metadata": {},
   "outputs": [
    {
     "name": "stdout",
     "output_type": "stream",
     "text": [
      "Saving interpolation matrix for planet\n",
      "Original number of interpolation points 696730\n",
      "Number of interpolation points after removing duplicates 193758\n",
      "Saving file planet-interpolation.mat...\n"
     ]
    }
   ],
   "source": [
    "for hash_mat,item in matrices.items():\n",
    "    obj=item[\"obj\"]\n",
    "    print(f\"Saving interpolation matrix for {obj}\")\n",
    "    data=item[\"data\"]\n",
    "    print(f\"Original number of interpolation points {len(data)}\")\n",
    "    data_clean=data.drop_duplicates()\n",
    "    print(f\"Number of interpolation points after removing duplicates {len(data_clean)}\")\n",
    "    filename=f\"{obj}-interpolation.mat\"\n",
    "    print(f\"Saving file {filename}...\")\n",
    "    np.savetxt(filename,data_clean)\n",
    "    break"
   ]
  },
  {
   "cell_type": "code",
   "execution_count": 226,
   "id": "32fc6412",
   "metadata": {},
   "outputs": [
    {
     "data": {
      "text/plain": [
       "delazim    0.952358\n",
       "beta       0.072198\n",
       "eta        0.854523\n",
       "zeta       0.025097\n",
       "nmugs            21\n",
       "nmat              3\n",
       "nfou              3\n",
       "af         0.000094\n",
       "S1         0.000001\n",
       "S2             -0.0\n",
       "S3             -0.0\n",
       "S4           0.3277\n",
       "Name: 5000, dtype: object"
      ]
     },
     "execution_count": 226,
     "metadata": {},
     "output_type": "execute_result"
    }
   ],
   "source": [
    "data_clean.iloc[5000]"
   ]
  },
  {
   "cell_type": "markdown",
   "id": "e8472302",
   "metadata": {},
   "source": [
    "## Check using pixx"
   ]
  },
  {
   "cell_type": "markdown",
   "id": "e693f208",
   "metadata": {},
   "source": [
    "Read data:"
   ]
  },
  {
   "cell_type": "code",
   "execution_count": 227,
   "id": "e071686d",
   "metadata": {},
   "outputs": [
    {
     "name": "stdout",
     "output_type": "stream",
     "text": [
      "planet-21.mat                     ring_back-interpolation.mat\r\n",
      "planet-5292_63_21_4.mat           ring_back-xmu-20.mat\r\n",
      "planet-interpolation.mat          ring_forward-20.mat\r\n",
      "planet-xmu-21.mat                 ring_forward-414000_60_20_345.mat\r\n",
      "ring_back-20.mat                  ring_forward-interpolation.mat\r\n",
      "ring_back-414000_60_20_345.mat    ring_forward-xmu-20.mat\r\n"
     ]
    }
   ],
   "source": [
    "!ls *.mat"
   ]
  },
  {
   "cell_type": "code",
   "execution_count": 233,
   "id": "d0bef579",
   "metadata": {},
   "outputs": [],
   "source": [
    "filename=\"planet-5292_63_21_4.mat\"\n",
    "ntot,nx,ny,nz=[int(v) for v in filename.split(\"-\")[1].split(\".\")[0].split(\"_\")]\n",
    "rfou=np.loadtxt(filename).reshape(nx,ny,nz)\n",
    "filename=\"planet-interpolation.mat\"\n",
    "interpolation=np.loadtxt(filename)\n",
    "filename=\"planet-xmu-21.mat\"\n",
    "xmu=np.loadtxt(filename)\n",
    "#Compar\n",
    "#rfou_ori=matrices[401387150607385127][\"rfou\"]\n",
    "#abs(rfou-rfou_ori).mean()"
   ]
  },
  {
   "cell_type": "code",
   "execution_count": 213,
   "id": "e61909f6",
   "metadata": {},
   "outputs": [
    {
     "data": {
      "text/plain": [
       "array([ 9.52358144e-01,  7.21983762e-02,  8.54522910e-01,  2.50967097e-02,\n",
       "        2.10000000e+01,  3.00000000e+00,  3.00000000e+00,  9.43232879e-05,\n",
       "        1.47379372e-06, -3.41565262e-07, -3.41446062e-07,  3.27699826e-01])"
      ]
     },
     "execution_count": 213,
     "metadata": {},
     "output_type": "execute_result"
    }
   ],
   "source": [
    "interpolation[5000]"
   ]
  },
  {
   "cell_type": "markdown",
   "id": "a8ea2795",
   "metadata": {},
   "source": [
    "## How reshape works"
   ]
  },
  {
   "cell_type": "code",
   "execution_count": 166,
   "id": "7777097f",
   "metadata": {},
   "outputs": [],
   "source": [
    "matrix=np.array([[[1,2,3],[4,5,6]],[[-1,-2,-3],[-4,-5,-6]]])"
   ]
  },
  {
   "cell_type": "code",
   "execution_count": 167,
   "id": "7da58b99",
   "metadata": {},
   "outputs": [
    {
     "data": {
      "text/plain": [
       "(2, 2, 3)"
      ]
     },
     "execution_count": 167,
     "metadata": {},
     "output_type": "execute_result"
    }
   ],
   "source": [
    "matrix.shape"
   ]
  },
  {
   "cell_type": "code",
   "execution_count": 168,
   "id": "e954ef3c",
   "metadata": {},
   "outputs": [
    {
     "data": {
      "text/plain": [
       "array([[ 1],\n",
       "       [ 2],\n",
       "       [ 3],\n",
       "       [ 4],\n",
       "       [ 5],\n",
       "       [ 6],\n",
       "       [-1],\n",
       "       [-2],\n",
       "       [-3],\n",
       "       [-4],\n",
       "       [-5],\n",
       "       [-6]])"
      ]
     },
     "execution_count": 168,
     "metadata": {},
     "output_type": "execute_result"
    }
   ],
   "source": [
    "matrix.reshape(12,1)"
   ]
  },
  {
   "cell_type": "code",
   "execution_count": 169,
   "id": "666ce97f",
   "metadata": {},
   "outputs": [],
   "source": [
    "nx,ny,nz=rfou.shape\n",
    "ntot=nx*ny*nz"
   ]
  },
  {
   "cell_type": "code",
   "execution_count": 170,
   "id": "ce1990b1",
   "metadata": {},
   "outputs": [
    {
     "data": {
      "text/plain": [
       "array([[ 4.1593132e+01],\n",
       "       [-2.8785500e-04],\n",
       "       [ 6.0632031e+00],\n",
       "       ...,\n",
       "       [ 0.0000000e+00],\n",
       "       [ 0.0000000e+00],\n",
       "       [ 0.0000000e+00]])"
      ]
     },
     "execution_count": 170,
     "metadata": {},
     "output_type": "execute_result"
    }
   ],
   "source": [
    "rfou.reshape(ntot,1)"
   ]
  },
  {
   "cell_type": "code",
   "execution_count": 171,
   "id": "c5e25442",
   "metadata": {},
   "outputs": [
    {
     "data": {
      "text/plain": [
       "array([ 4.1593132e+01, -2.8785500e-04,  6.0632031e+00,  0.0000000e+00])"
      ]
     },
     "execution_count": 171,
     "metadata": {},
     "output_type": "execute_result"
    }
   ],
   "source": [
    "rfou[0][0]"
   ]
  },
  {
   "cell_type": "code",
   "execution_count": null,
   "id": "7d50f053",
   "metadata": {},
   "outputs": [],
   "source": []
  }
 ],
 "metadata": {
  "kernelspec": {
   "display_name": "Python 3 (ipykernel)",
   "language": "python",
   "name": "python3"
  },
  "language_info": {
   "codemirror_mode": {
    "name": "ipython",
    "version": 3
   },
   "file_extension": ".py",
   "mimetype": "text/x-python",
   "name": "python",
   "nbconvert_exporter": "python",
   "pygments_lexer": "ipython3",
   "version": "3.9.7"
  }
 },
 "nbformat": 4,
 "nbformat_minor": 5
}
