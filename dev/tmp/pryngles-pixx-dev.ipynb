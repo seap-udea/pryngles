{
 "cells": [
  {
   "cell_type": "markdown",
   "id": "159e5928",
   "metadata": {},
   "source": [
    "## Pryngles pixx external module"
   ]
  },
  {
   "cell_type": "code",
   "execution_count": 19,
   "id": "d6c5897e",
   "metadata": {},
   "outputs": [],
   "source": [
    "import pickle\n",
    "import numpy as np"
   ]
  },
  {
   "cell_type": "markdown",
   "id": "1abb77e6",
   "metadata": {},
   "source": [
    "You must first download file `reflection-test.pkl` from Google Drive and place it at `/tmp`"
   ]
  },
  {
   "cell_type": "code",
   "execution_count": 3,
   "id": "1ae65cff",
   "metadata": {},
   "outputs": [],
   "source": [
    "f=open(\"/tmp/reflection-test.pkl\",\"rb\")\n",
    "save_values=pickle.load(f)\n",
    "f.close()"
   ]
  },
  {
   "cell_type": "code",
   "execution_count": 6,
   "id": "45a3c950",
   "metadata": {},
   "outputs": [
    {
     "data": {
      "text/plain": [
       "362"
      ]
     },
     "execution_count": 6,
     "metadata": {},
     "output_type": "execute_result"
    }
   ],
   "source": [
    "len(save_values)"
   ]
  },
  {
   "cell_type": "code",
   "execution_count": 25,
   "id": "b9166603",
   "metadata": {
    "scrolled": false
   },
   "outputs": [
    {
     "name": "stdout",
     "output_type": "stream",
     "text": [
      "166\n",
      "<class 'numpy.ndarray'>\n",
      "(166,)\n",
      "<class 'numpy.ndarray'>\n",
      "(166,)\n",
      "<class 'numpy.ndarray'>\n",
      "(166,)\n",
      "<class 'numpy.ndarray'>\n",
      "(166,)\n",
      "21\n",
      "3\n",
      "3\n",
      "<class 'numpy.ndarray'>\n",
      "(21,)\n",
      "<class 'numpy.ndarray'>\n",
      "(63, 21, 4)\n",
      "<class 'numpy.ndarray'>\n",
      "(166,)\n"
     ]
    }
   ],
   "source": [
    "for save in save_values:\n",
    "    args=save[\"args\"]\n",
    "    \"\"\"\n",
    "    args are:\n",
    "        0: Number of points (int)\n",
    "        1: Delta azim (array Nx1)\n",
    "        2: betas (array: Nx1)\n",
    "        3: etas (array: Nx1)\n",
    "        4: zetas\n",
    "        5: nmugps\n",
    "        6: nmatp\n",
    "        7: nfoup\n",
    "        8: xmup\n",
    "        9: rfoup\n",
    "        10: afp \n",
    "    \"\"\"\n",
    "    for arg in args:\n",
    "        if isinstance(arg,np.ndarray):\n",
    "            print(type(arg))\n",
    "            print(arg.shape)\n",
    "        else:\n",
    "            print(arg)\n",
    "    break"
   ]
  },
  {
   "cell_type": "code",
   "execution_count": null,
   "id": "5e9b3f9f",
   "metadata": {},
   "outputs": [],
   "source": []
  }
 ],
 "metadata": {
  "kernelspec": {
   "display_name": "Python 3 (ipykernel)",
   "language": "python",
   "name": "python3"
  },
  "language_info": {
   "codemirror_mode": {
    "name": "ipython",
    "version": 3
   },
   "file_extension": ".py",
   "mimetype": "text/x-python",
   "name": "python",
   "nbconvert_exporter": "python",
   "pygments_lexer": "ipython3",
   "version": "3.9.7"
  }
 },
 "nbformat": 4,
 "nbformat_minor": 5
}
