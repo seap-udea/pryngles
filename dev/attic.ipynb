{
 "cells": [
  {
   "cell_type": "markdown",
   "id": "5a463db8",
   "metadata": {},
   "source": [
    "# Pryngles: Attic"
   ]
  },
  {
   "cell_type": "code",
   "execution_count": 1,
   "id": "5e63c68e",
   "metadata": {},
   "outputs": [
    {
     "ename": "NameError",
     "evalue": "name 'xyz' is not defined",
     "output_type": "error",
     "traceback": [
      "\u001b[0;31m---------------------------------------------------------------------------\u001b[0m",
      "\u001b[0;31mNameError\u001b[0m                                 Traceback (most recent call last)",
      "Input \u001b[0;32mIn [1]\u001b[0m, in \u001b[0;36m<module>\u001b[0;34m\u001b[0m\n\u001b[0;32m----> 1\u001b[0m rho\u001b[38;5;241m=\u001b[39m(\u001b[43mxyz\u001b[49m[\u001b[38;5;241m0\u001b[39m]\u001b[38;5;241m*\u001b[39m\u001b[38;5;241m*\u001b[39m\u001b[38;5;241m2\u001b[39m\u001b[38;5;241m+\u001b[39mxyz[\u001b[38;5;241m1\u001b[39m]\u001b[38;5;241m*\u001b[39m\u001b[38;5;241m*\u001b[39m\u001b[38;5;241m2\u001b[39m)\u001b[38;5;241m*\u001b[39m\u001b[38;5;241m*\u001b[39m\u001b[38;5;241m0.5\u001b[39m\n\u001b[1;32m      2\u001b[0m r\u001b[38;5;241m=\u001b[39m(rho\u001b[38;5;241m*\u001b[39m\u001b[38;5;241m*\u001b[39m\u001b[38;5;241m2\u001b[39m\u001b[38;5;241m+\u001b[39mxyz[\u001b[38;5;241m2\u001b[39m]\u001b[38;5;241m*\u001b[39m\u001b[38;5;241m*\u001b[39m\u001b[38;5;241m2\u001b[39m)\u001b[38;5;241m*\u001b[39m\u001b[38;5;241m*\u001b[39m\u001b[38;5;241m0.5\u001b[39m\n\u001b[1;32m      3\u001b[0m theta\u001b[38;5;241m=\u001b[39mnp\u001b[38;5;241m.\u001b[39marctan2(xyz[\u001b[38;5;241m1\u001b[39m],xyz[\u001b[38;5;241m0\u001b[39m])\n",
      "\u001b[0;31mNameError\u001b[0m: name 'xyz' is not defined"
     ]
    }
   ],
   "source": [
    "rho=(xyz[0]**2+xyz[1]**2)**0.5\n",
    "r=(rho**2+xyz[2]**2)**0.5\n",
    "theta=np.arctan2(xyz[1],xyz[0])\n",
    "phi=np.arctan2(xyz[2],rho)"
   ]
  },
  {
   "cell_type": "code",
   "execution_count": null,
   "id": "55124107",
   "metadata": {},
   "outputs": [],
   "source": [
    "def spangle_body(self,seed=0):\n",
    "    #Create spangler\n",
    "    self.sp=Spangler(N=self.optics.nspangles)\n",
    "    \n",
    "    #Limits of the ring (normalized to re)\n",
    "    uri=self.ri/self.re\n",
    "    ure=1\n",
    "    \n",
    "    #Generate spangles\n",
    "    self.sp.gen_ring([\n",
    "        [0.0,uri],#Internal gap\n",
    "    ],boundary=0)\n",
    "    \n",
    "    #Purge to avoid close-in spangles\n",
    "    self.sp.purge_sample()\n",
    "    \n",
    "    #Generate spangle properties\n",
    "    self.spangles=np.array([],dtype=Spangle)\n",
    "    for i in range(self.sp.N):\n",
    "\n",
    "        #Create spangle\n",
    "        spangle=Spangle()\n",
    "        \n",
    "        #Type of spangles\n",
    "        spangle.type=GRANULAR_SPANGLE\n",
    "        \n",
    "        #Coordinates of the spangle\n",
    "        xyz_equ=np.append(self.sp.ss[i]*self.re,0) #Complete coordinates with z = 0\n",
    "        xyz_ecl=spy.mxv(self.M_equ2ecl,xyz_equ) #Rotate to ecliptic coordinates\n",
    "        \n",
    "        rqf_equ=np.append(self.sp.pp[i],0) #Complete coordinates with phi = 0\n",
    "        rqf_equ[0]*=self.re #Scale radial coordinate\n",
    "        rqf_ecl=sci.xyz2rqf(xyz_ecl) #Convert equatorial to spherical\n",
    "        \n",
    "        spangle.set_position([xyz_equ,xyz_ecl],[rqf_equ,rqf_ecl])\n",
    "\n",
    "        #Unitary vector normal to the spangle\n",
    "        ns_equ=np.array([0,0,1])\n",
    "        ns_ecl=spy.mxv(self.M_equ2ecl,ns_equ)\n",
    "        spangle.set_orientation([ns_equ,ns_ecl])\n",
    "            \n",
    "        #Spangle Area\n",
    "        spangle.asp=self.sp.aes*self.re**2\n",
    "        \n",
    "        #Optical properties\n",
    "        spangle.set_optical(\n",
    "            albedo_gray_normal=self.optics.albedo_gray_normal,\n",
    "            tau_gray_optical=self.optics.tau_gray_optical\n",
    "        )\n",
    "        \n",
    "        self.spangles=np.append(self.spangles,copy.deepcopy(spangle))\n",
    "        del spangle\n",
    "\n",
    "Ring.spangle_body=spangle_body"
   ]
  }
 ],
 "metadata": {
  "kernelspec": {
   "display_name": "Python 3 (ipykernel)",
   "language": "python",
   "name": "python3"
  },
  "language_info": {
   "codemirror_mode": {
    "name": "ipython",
    "version": 3
   },
   "file_extension": ".py",
   "mimetype": "text/x-python",
   "name": "python",
   "nbconvert_exporter": "python",
   "pygments_lexer": "ipython3",
   "version": "3.9.7"
  }
 },
 "nbformat": 4,
 "nbformat_minor": 5
}
