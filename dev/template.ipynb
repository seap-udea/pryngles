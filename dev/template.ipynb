{
 "cells": [
  {
   "cell_type": "markdown",
   "id": "5c9f509d",
   "metadata": {},
   "source": [
    "# Pryngles module: template\n",
    "\n",
    "Template of a module"
   ]
  },
  {
   "cell_type": "markdown",
   "id": "b3b68845",
   "metadata": {},
   "source": [
    "## External modules"
   ]
  },
  {
   "cell_type": "code",
   "execution_count": 4,
   "id": "aaa41b53",
   "metadata": {},
   "outputs": [],
   "source": [
    "#@external\n",
    "from pryngles import *\n",
    "\n",
    "import numpy as np\n",
    "#@end"
   ]
  },
  {
   "cell_type": "markdown",
   "id": "50ba6be2",
   "metadata": {},
   "source": [
    "## Example Class"
   ]
  },
  {
   "cell_type": "markdown",
   "id": "26a56a39",
   "metadata": {},
   "source": [
    "### Docstring"
   ]
  },
  {
   "cell_type": "code",
   "execution_count": 5,
   "id": "4dac735a",
   "metadata": {},
   "outputs": [],
   "source": [
    "#@docstring:Foo\n",
    "Foo_doc=\"\"\"This a foo class\n",
    "\n",
    "Intialization attributes:\n",
    "    \n",
    "\n",
    "Other attributes:\n",
    "\n",
    "\n",
    "Methods:\n",
    "\n",
    "\n",
    "\n",
    "Examples:\n",
    "\n",
    "\"\"\"\n",
    "#@end:docstring"
   ]
  },
  {
   "cell_type": "markdown",
   "id": "0c67ee30",
   "metadata": {},
   "source": [
    "### Class structure"
   ]
  },
  {
   "cell_type": "code",
   "execution_count": 6,
   "id": "4c6d7fba",
   "metadata": {},
   "outputs": [],
   "source": [
    "#@class\n",
    "class Foo(PrynglesCommon):\n",
    "    def __init__(self,a=1,b=2):\n",
    "        self.a=a\n",
    "        self.b=b\n",
    "        \n",
    "    def method1(self):\n",
    "        pass\n",
    "#@end:class\n",
    "\n",
    "Foo.__doc__=Foo_doc"
   ]
  },
  {
   "cell_type": "code",
   "execution_count": null,
   "id": "3a33d91b",
   "metadata": {},
   "outputs": [],
   "source": []
  },
  {
   "cell_type": "code",
   "execution_count": 7,
   "id": "3100f744",
   "metadata": {},
   "outputs": [
    {
     "name": "stderr",
     "output_type": "stream",
     "text": [
      "."
     ]
    },
    {
     "name": "stdout",
     "output_type": "stream",
     "text": [
      "{'a': 1, 'b': 2}\n"
     ]
    },
    {
     "name": "stderr",
     "output_type": "stream",
     "text": [
      "\n",
      "----------------------------------------------------------------------\n",
      "Ran 1 test in 0.001s\n",
      "\n",
      "OK\n"
     ]
    },
    {
     "data": {
      "text/plain": [
       "<unittest.main.TestProgram at 0x7fa020eb5a90>"
      ]
     },
     "execution_count": 7,
     "metadata": {},
     "output_type": "execute_result"
    }
   ],
   "source": [
    "#@test:template\n",
    "def test_fun(self):\n",
    "    f=Foo()\n",
    "    print(f)\n",
    "\n",
    "class Test(unittest.TestCase):pass\n",
    "Test.test_fun=test_fun\n",
    "unittest.main(argv=['first-arg-is-ignored'],exit=False)\n",
    "#@end"
   ]
  },
  {
   "cell_type": "markdown",
   "id": "bf330770",
   "metadata": {},
   "source": [
    "### Method development"
   ]
  },
  {
   "cell_type": "code",
   "execution_count": 8,
   "id": "c2c2e8cb",
   "metadata": {},
   "outputs": [],
   "source": [
    "#@method:Foo\n",
    "def method2(self):\n",
    "    return self.a+self.b\n",
    "#@end\n",
    "\n",
    "Foo.method2=method2"
   ]
  },
  {
   "cell_type": "code",
   "execution_count": null,
   "id": "91c8d0b2",
   "metadata": {},
   "outputs": [],
   "source": []
  },
  {
   "cell_type": "code",
   "execution_count": 9,
   "id": "570e64ab",
   "metadata": {
    "scrolled": true
   },
   "outputs": [
    {
     "name": "stderr",
     "output_type": "stream",
     "text": [
      "."
     ]
    },
    {
     "name": "stdout",
     "output_type": "stream",
     "text": [
      "4\n"
     ]
    },
    {
     "name": "stderr",
     "output_type": "stream",
     "text": [
      "\n",
      "----------------------------------------------------------------------\n",
      "Ran 1 test in 0.001s\n",
      "\n",
      "OK\n"
     ]
    },
    {
     "data": {
      "text/plain": [
       "<unittest.main.TestProgram at 0x7fa013804700>"
      ]
     },
     "execution_count": 9,
     "metadata": {},
     "output_type": "execute_result"
    }
   ],
   "source": [
    "#@test:template\n",
    "def test_fun(self):\n",
    "    f=Foo(-1,5)\n",
    "    c=f.method2()\n",
    "    print(c)\n",
    "\n",
    "    \"\"\"\n",
    "    #Type of tests\n",
    "    self.assertRaises(ValueError,lambda:Planet())\n",
    "    self.assertEqual(np.isclose([P.physics.wrot],\n",
    "                                [2*np.pi/PlanetDefaults.physics[\"prot\"]],\n",
    "                                rtol=1e-7),\n",
    "                     [True]*1)\n",
    "    \"\"\"\n",
    "\n",
    "class Test(unittest.TestCase):pass\n",
    "Test.test_fun=test_fun\n",
    "unittest.main(argv=['first-arg-is-ignored'],exit=False)\n",
    "#@end:test"
   ]
  },
  {
   "cell_type": "markdown",
   "id": "2e766d58",
   "metadata": {},
   "source": [
    "### The end"
   ]
  },
  {
   "cell_type": "code",
   "execution_count": 13,
   "id": "92bec2ab",
   "metadata": {},
   "outputs": [],
   "source": [
    "#@end:module"
   ]
  },
  {
   "cell_type": "markdown",
   "id": "05ecfd2a",
   "metadata": {},
   "source": [
    "## Playing ground"
   ]
  },
  {
   "cell_type": "markdown",
   "id": "2ce9a884",
   "metadata": {},
   "source": [
    "This code is not included in final package files."
   ]
  },
  {
   "cell_type": "code",
   "execution_count": 12,
   "id": "c0905742",
   "metadata": {},
   "outputs": [],
   "source": [
    "f=Foo()"
   ]
  }
 ],
 "metadata": {
  "kernelspec": {
   "display_name": "Python 3 (ipykernel)",
   "language": "python",
   "name": "python3"
  },
  "language_info": {
   "codemirror_mode": {
    "name": "ipython",
    "version": 3
   },
   "file_extension": ".py",
   "mimetype": "text/x-python",
   "name": "python",
   "nbconvert_exporter": "python",
   "pygments_lexer": "ipython3",
   "version": "3.9.7"
  }
 },
 "nbformat": 4,
 "nbformat_minor": 5
}
