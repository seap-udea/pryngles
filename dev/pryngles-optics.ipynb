{
 "cells": [
  {
   "cell_type": "markdown",
   "id": "5c9f509d",
   "metadata": {},
   "source": [
    "# Pryngles module: optics\n",
    "\n",
    "Template of a module"
   ]
  },
  {
   "cell_type": "markdown",
   "id": "b3b68845",
   "metadata": {},
   "source": [
    "## External modules"
   ]
  },
  {
   "cell_type": "code",
   "execution_count": null,
   "id": "aaa41b53",
   "metadata": {},
   "outputs": [],
   "source": [
    "#@external\n",
    "from pryngles import *\n",
    "#@end:external"
   ]
  },
  {
   "cell_type": "markdown",
   "id": "33734e0b",
   "metadata": {},
   "source": [
    "## Class: Scatterer"
   ]
  },
  {
   "cell_type": "code",
   "execution_count": null,
   "id": "ecbf58af",
   "metadata": {},
   "outputs": [],
   "source": [
    "#@class\n",
    "class Scatterer(PrynglesCommon):\n",
    "    def __init__(self):\n",
    "        pass\n",
    "#@end:class"
   ]
  },
  {
   "cell_type": "code",
   "execution_count": null,
   "id": "f1fb7ac7",
   "metadata": {},
   "outputs": [],
   "source": []
  },
  {
   "cell_type": "code",
   "execution_count": null,
   "id": "adc960c6",
   "metadata": {},
   "outputs": [],
   "source": [
    "#@test:optics\n",
    "def test_scatterer(self):\n",
    "\n",
    "    Verbose.VERBOSITY=VERB_ALL\n",
    "\n",
    "    Verbose.VERBOSITY=VERB_NONE\n",
    "\n",
    "class Test(unittest.TestCase):pass    \n",
    "Test.test_scatterer=test_scatterer\n",
    "unittest.main(argv=['first-arg-is-ignored'],exit=False)\n",
    "#@end:test"
   ]
  },
  {
   "cell_type": "markdown",
   "id": "1e06bf81",
   "metadata": {},
   "source": [
    "### The end"
   ]
  },
  {
   "cell_type": "code",
   "execution_count": null,
   "id": "0b44939c",
   "metadata": {},
   "outputs": [],
   "source": [
    "#@end:module"
   ]
  },
  {
   "cell_type": "markdown",
   "id": "a72609cb",
   "metadata": {},
   "source": [
    "## Playing ground"
   ]
  },
  {
   "cell_type": "code",
   "execution_count": null,
   "id": "3c1569ad",
   "metadata": {},
   "outputs": [],
   "source": []
  }
 ],
 "metadata": {
  "kernelspec": {
   "display_name": "Python 3 (ipykernel)",
   "language": "python",
   "name": "python3"
  },
  "language_info": {
   "codemirror_mode": {
    "name": "ipython",
    "version": 3
   },
   "file_extension": ".py",
   "mimetype": "text/x-python",
   "name": "python",
   "nbconvert_exporter": "python",
   "pygments_lexer": "ipython3",
   "version": "3.9.7"
  }
 },
 "nbformat": 4,
 "nbformat_minor": 5
}
