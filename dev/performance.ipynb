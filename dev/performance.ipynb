{
 "cells": [
  {
   "cell_type": "code",
   "execution_count": 1,
   "id": "f34125c0",
   "metadata": {},
   "outputs": [],
   "source": [
    "from pryngles import *"
   ]
  },
  {
   "cell_type": "markdown",
   "id": "3c5df91b",
   "metadata": {},
   "source": [
    "## Vectorial operations"
   ]
  },
  {
   "cell_type": "code",
   "execution_count": 7,
   "id": "4bda6573",
   "metadata": {},
   "outputs": [
    {
     "name": "stdout",
     "output_type": "stream",
     "text": [
      "10.8 µs ± 101 ns per loop (mean ± std. dev. of 7 runs, 100,000 loops each)\n"
     ]
    }
   ],
   "source": [
    "%timeit spy.mxm([[1,2,3],[4,5,6],[7,8,9]],[[1,2,3],[4,5,6],[7,8,9]])"
   ]
  },
  {
   "cell_type": "code",
   "execution_count": 8,
   "id": "00c46852",
   "metadata": {},
   "outputs": [
    {
     "name": "stdout",
     "output_type": "stream",
     "text": [
      "4.44 µs ± 19.7 ns per loop (mean ± std. dev. of 7 runs, 100,000 loops each)\n"
     ]
    }
   ],
   "source": [
    "%timeit np.matmul([[1,2,3],[4,5,6],[7,8,9]],[[1,2,3],[4,5,6],[7,8,9]])"
   ]
  },
  {
   "cell_type": "code",
   "execution_count": 44,
   "id": "f3ff29c4",
   "metadata": {},
   "outputs": [
    {
     "name": "stdout",
     "output_type": "stream",
     "text": [
      "7.55 µs ± 40.8 ns per loop (mean ± std. dev. of 7 runs, 100,000 loops each)\n"
     ]
    }
   ],
   "source": [
    "%timeit spy.mxv([[1,2,3],[4,5,6],[7,8,9]],[1,2,3])"
   ]
  },
  {
   "cell_type": "code",
   "execution_count": 46,
   "id": "3e18f7c1",
   "metadata": {
    "scrolled": true
   },
   "outputs": [
    {
     "name": "stdout",
     "output_type": "stream",
     "text": [
      "3.56 µs ± 9.4 ns per loop (mean ± std. dev. of 7 runs, 100,000 loops each)\n"
     ]
    }
   ],
   "source": [
    "%timeit np.matmul([[1,2,3],[4,5,6],[7,8,9]],[1,2,3])"
   ]
  },
  {
   "cell_type": "markdown",
   "id": "86c29775",
   "metadata": {},
   "source": [
    "**Conclussions**: `matmul` is 2 faster than Spice `mxm`, `mxv` operations."
   ]
  },
  {
   "cell_type": "code",
   "execution_count": 93,
   "id": "34d384fd",
   "metadata": {},
   "outputs": [
    {
     "name": "stdout",
     "output_type": "stream",
     "text": [
      "6.85 µs ± 58 ns per loop (mean ± std. dev. of 7 runs, 100,000 loops each)\n"
     ]
    }
   ],
   "source": [
    "%timeit spy.invert([[1,2,3],[4,5,6],[7,0,9]])"
   ]
  },
  {
   "cell_type": "code",
   "execution_count": 94,
   "id": "69c73c5c",
   "metadata": {},
   "outputs": [
    {
     "name": "stdout",
     "output_type": "stream",
     "text": [
      "8.64 µs ± 676 ns per loop (mean ± std. dev. of 7 runs, 10,000 loops each)\n"
     ]
    }
   ],
   "source": [
    "%timeit np.linalg.inv([[1,2,3],[4,5,6],[7,0,9]])"
   ]
  },
  {
   "cell_type": "markdown",
   "id": "7ad02235",
   "metadata": {},
   "source": [
    "**Conclussiones**: SPICE `invert` is almost as fast as `np.linalg.inv`."
   ]
  },
  {
   "cell_type": "code",
   "execution_count": 47,
   "id": "b383a2b5",
   "metadata": {},
   "outputs": [
    {
     "name": "stdout",
     "output_type": "stream",
     "text": [
      "4.42 µs ± 15.6 ns per loop (mean ± std. dev. of 7 runs, 100,000 loops each)\n"
     ]
    }
   ],
   "source": [
    "%timeit spy.vcrss([1,2,3],[4,5,6])"
   ]
  },
  {
   "cell_type": "code",
   "execution_count": 48,
   "id": "0fcf34c9",
   "metadata": {
    "scrolled": true
   },
   "outputs": [
    {
     "name": "stdout",
     "output_type": "stream",
     "text": [
      "21 µs ± 96.2 ns per loop (mean ± std. dev. of 7 runs, 10,000 loops each)\n"
     ]
    }
   ],
   "source": [
    "%timeit np.cross([1,2,3],[4,5,6])"
   ]
  },
  {
   "cell_type": "markdown",
   "id": "b5d04018",
   "metadata": {},
   "source": [
    "**Conclussions**: SPICE `vcrss` is 5 times faster than `np.cross`"
   ]
  },
  {
   "cell_type": "markdown",
   "id": "97959456",
   "metadata": {},
   "source": [
    "## Pandas"
   ]
  },
  {
   "cell_type": "code",
   "execution_count": null,
   "id": "7b8cc6d9",
   "metadata": {},
   "outputs": [],
   "source": [
    "#sg.data[[\"x_equ\",\"y_equ\",\"z_equ\"]]=2*np.ones((sg.nspangles,3))"
   ]
  },
  {
   "cell_type": "code",
   "execution_count": 50,
   "id": "c498fcaf",
   "metadata": {},
   "outputs": [],
   "source": [
    "X=np.ones((1000,3))\n",
    "M=np.array([[1,0,0],[0,1,0],[0,0,-1]])"
   ]
  },
  {
   "cell_type": "code",
   "execution_count": 51,
   "id": "b87351a0",
   "metadata": {},
   "outputs": [],
   "source": [
    "df=pd.DataFrame(X,columns=[\"x\",\"y\",\"z\"])"
   ]
  },
  {
   "cell_type": "code",
   "execution_count": 52,
   "id": "82a69e48",
   "metadata": {},
   "outputs": [
    {
     "name": "stdout",
     "output_type": "stream",
     "text": [
      "186 µs ± 3.05 µs per loop (mean ± std. dev. of 7 runs, 10,000 loops each)\n"
     ]
    }
   ],
   "source": [
    "%timeit X=np.array(df[[\"x\",\"y\",\"z\"]])"
   ]
  },
  {
   "cell_type": "code",
   "execution_count": 53,
   "id": "84f2aa87",
   "metadata": {},
   "outputs": [
    {
     "name": "stdout",
     "output_type": "stream",
     "text": [
      "185 µs ± 3.97 µs per loop (mean ± std. dev. of 7 runs, 10,000 loops each)\n"
     ]
    }
   ],
   "source": [
    "%timeit X=df[[\"x\",\"y\",\"z\"]].to_numpy()"
   ]
  },
  {
   "cell_type": "code",
   "execution_count": 54,
   "id": "39aa6f51",
   "metadata": {},
   "outputs": [
    {
     "name": "stdout",
     "output_type": "stream",
     "text": [
      "184 µs ± 687 ns per loop (mean ± std. dev. of 7 runs, 10,000 loops each)\n"
     ]
    }
   ],
   "source": [
    "%timeit X=list(df[[\"x\",\"y\",\"z\"]])"
   ]
  },
  {
   "cell_type": "code",
   "execution_count": 55,
   "id": "5a918685",
   "metadata": {},
   "outputs": [
    {
     "name": "stdout",
     "output_type": "stream",
     "text": [
      "55.6 ms ± 544 µs per loop (mean ± std. dev. of 7 runs, 10 loops each)\n"
     ]
    }
   ],
   "source": [
    "%timeit df[[\"a\",\"b\",\"c\"]]=df.apply(lambda df:pd.Series(np.matmul(M,[df.x,df.y,df.z])),axis=1)"
   ]
  },
  {
   "cell_type": "code",
   "execution_count": 56,
   "id": "70840d92",
   "metadata": {},
   "outputs": [
    {
     "name": "stdout",
     "output_type": "stream",
     "text": [
      "5.69 ms ± 44.2 µs per loop (mean ± std. dev. of 7 runs, 100 loops each)\n"
     ]
    }
   ],
   "source": [
    "%timeit df[[\"a\",\"b\",\"c\"]]=[np.matmul(M,x)+[0,1,0] for x in np.array(df[[\"x\",\"y\",\"z\"]])]"
   ]
  },
  {
   "cell_type": "markdown",
   "id": "1f957eaf",
   "metadata": {},
   "source": [
    "**Conclussions**: for cycle and numpy operations are 10 times faster than apply method in DataFrame. "
   ]
  },
  {
   "cell_type": "markdown",
   "id": "13539a59",
   "metadata": {},
   "source": [
    "## Sampler"
   ]
  },
  {
   "cell_type": "code",
   "execution_count": 26,
   "id": "41989daf",
   "metadata": {},
   "outputs": [],
   "source": [
    "S=Sampler(500,seed=10)"
   ]
  },
  {
   "cell_type": "code",
   "execution_count": 27,
   "id": "0938ce19",
   "metadata": {},
   "outputs": [
    {
     "name": "stdout",
     "output_type": "stream",
     "text": [
      "The slowest run took 5.03 times longer than the fastest. This could mean that an intermediate result is being cached.\n",
      "272 ms ± 137 ms per loop (mean ± std. dev. of 7 runs, 10 loops each)\n"
     ]
    }
   ],
   "source": [
    "%timeit S.gen_fullring(0.6)"
   ]
  },
  {
   "cell_type": "code",
   "execution_count": null,
   "id": "ab10a001",
   "metadata": {},
   "outputs": [],
   "source": [
    "%timeit S.gen_ring([[0,0.6]])"
   ]
  },
  {
   "cell_type": "code",
   "execution_count": null,
   "id": "4dd28656",
   "metadata": {},
   "outputs": [],
   "source": []
  },
  {
   "cell_type": "code",
   "execution_count": null,
   "id": "7f08434d",
   "metadata": {},
   "outputs": [],
   "source": []
  }
 ],
 "metadata": {
  "kernelspec": {
   "display_name": "Python 3 (ipykernel)",
   "language": "python",
   "name": "python3"
  },
  "language_info": {
   "codemirror_mode": {
    "name": "ipython",
    "version": 3
   },
   "file_extension": ".py",
   "mimetype": "text/x-python",
   "name": "python",
   "nbconvert_exporter": "python",
   "pygments_lexer": "ipython3",
   "version": "3.9.7"
  }
 },
 "nbformat": 4,
 "nbformat_minor": 5
}
