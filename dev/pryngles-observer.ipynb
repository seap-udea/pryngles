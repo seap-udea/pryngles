{
 "cells": [
  {
   "cell_type": "markdown",
   "id": "5c9f509d",
   "metadata": {},
   "source": [
    "# Pryngles module"
   ]
  },
  {
   "cell_type": "code",
   "execution_count": 1,
   "id": "c9a439e5",
   "metadata": {},
   "outputs": [],
   "source": [
    "from pryngles import *"
   ]
  },
  {
   "cell_type": "markdown",
   "id": "59b9374c",
   "metadata": {},
   "source": [
    "## External modules"
   ]
  },
  {
   "cell_type": "code",
   "execution_count": null,
   "id": "04862156",
   "metadata": {},
   "outputs": [],
   "source": []
  },
  {
   "cell_type": "markdown",
   "id": "24ac0524",
   "metadata": {},
   "source": [
    "## Observer Class"
   ]
  },
  {
   "cell_type": "code",
   "execution_count": 2,
   "id": "0813ffdf",
   "metadata": {},
   "outputs": [],
   "source": [
    "class ObserverDefaults(object):\n",
    "    \"\"\"\n",
    "    These are the default attributes for bodies of the kind 'Observer'.\n",
    "    \n",
    "    DEVELOPER:\n",
    "        You may add new attributes as the model gets more complex.\n",
    "        Please document properly each attribute.\n",
    "        \n",
    "    orbit:\n",
    "    \n",
    "        (In current version, Observer body does not have orbit attributes)\n",
    "        \n",
    "    physics:\n",
    "    \n",
    "        (In current version, Observer body does not have physics attributes)\n",
    "            \n",
    "    optics:\n",
    "    \n",
    "        distance: float [rebound length units], default = 1\n",
    "            Distance at which the observer is located\n",
    "            \n",
    "        beta: float [radians], default = 0\n",
    "            Ecliptic latitude.  Elevation with respect to the plane of the planetary \n",
    "            system from which the observer is looking at the system.  beta = 0 is for \n",
    "            edge-on observations, beta = 90 degrees is for face-on observations.\n",
    "            \n",
    "        lamb: float [radians], default = 0\n",
    "            Ecliptic longitude. Angle with respect to the zero meridian of the planetary \n",
    "            system.\n",
    "            \n",
    "            NOTE: zero meridian is defined differently depending on the observed object.\n",
    "                  in the case of a ring, zero meridian is the direction of vernal equinox.\n",
    "    \n",
    "        nspangles: int, default = 1000\n",
    "            Number of spangles on which the object will be discretized.\n",
    "    \"\"\"\n",
    "    orbit=dict()\n",
    "    \n",
    "    physics=dict()\n",
    "    \n",
    "    optics=dict(distance=1,beta=0,lamb=0)"
   ]
  },
  {
   "cell_type": "code",
   "execution_count": 7,
   "id": "1a0092e7",
   "metadata": {},
   "outputs": [],
   "source": [
    "BODY_KINDS+=[\"Observer\"]\n",
    "\n",
    "class Observer(Body):\n",
    "    \"\"\"Class Observer.\n",
    "    \n",
    "    See Body class documentation.\n",
    "    \n",
    "    Additional public attributes:\n",
    "    \n",
    "        physics.inclination: float [radians]\n",
    "            Angle of inclination of the normal to the ecliptic in the system with \n",
    "            respect to line-of-sight.  When inclination = 0 system is observed face-on.\n",
    "            When inclination = 90 degress system is observed edge-on.\n",
    "\n",
    "    Override methods:\n",
    "    \n",
    "        update_body(**pars):\n",
    "            This method compute additional attributes like (see above).\n",
    "    \"\"\"\n",
    "    def __init__(self,\n",
    "                 primary=None,\n",
    "                 orbit=ObserverDefaults.orbit,\n",
    "                 physics=ObserverDefaults.physics,\n",
    "                 optics=ObserverDefaults.optics\n",
    "                ):\n",
    "        \n",
    "        \n",
    "        #Instantiate object with basic properties\n",
    "        Body.__init__(self,ObserverDefaults,\"Observer\",primary,orbit,physics,optics)\n",
    "        \n",
    "        #Check if observer is attached to any object\n",
    "        self.primary=primary\n",
    "        if self.primary is not None:\n",
    "            self.primary._update_childs(self)\n",
    "            self._update_parent(self.primary)\n",
    "        \n",
    "        #Update properties\n",
    "        self.update_body(**self.__dict__)\n",
    "        \n",
    "    def update_body(self,**pars):\n",
    "        Body.update_body(self,**pars)\n",
    "        \n",
    "        #Here place the commands to update this kind of body\n",
    "        self.optics.inclination = 90*Consts.deg - self.optics.beta"
   ]
  },
  {
   "cell_type": "code",
   "execution_count": 8,
   "id": "f1bb0ef5",
   "metadata": {},
   "outputs": [
    {
     "name": "stderr",
     "output_type": "stream",
     "text": [
      "."
     ]
    },
    {
     "name": "stdout",
     "output_type": "stream",
     "text": [
      "{'distance': 1, 'beta': 0, 'lamb': 0, 'inclination': 1.5707963267948966}\n",
      "{'distance': 1, 'beta': 1.5707963267948966, 'lamb': 0, 'inclination': 0.0}\n"
     ]
    },
    {
     "name": "stderr",
     "output_type": "stream",
     "text": [
      "\n",
      "----------------------------------------------------------------------\n",
      "Ran 1 test in 0.002s\n",
      "\n",
      "OK\n"
     ]
    }
   ],
   "source": [
    "if IN_JUPYTER:\n",
    "    def test_observer(self):\n",
    "        O=Observer()\n",
    "        print(O.optics)\n",
    "        \n",
    "        #Check derived properties\n",
    "        \"\"\"\n",
    "        self.assertEqual(np.isclose([P.physics.wrot],\n",
    "                                    [2*np.pi/PlanetDefaults.physics[\"prot\"]],\n",
    "                                    rtol=1e-7),\n",
    "                         [True]*1)\n",
    "        \"\"\"\n",
    "        \n",
    "        O.update_body(optics=dict(beta=90*Consts.deg))\n",
    "        print(O.optics)\n",
    "        \n",
    "        #Check exception: primary could not be different from None or Body\n",
    "        self.assertRaises(AssertionError,lambda:Observer(primary=\"Nada\"))\n",
    "        \n",
    "    class Test(unittest.TestCase):pass    \n",
    "    Test.test_observer=test_observer\n",
    "    unittest.main(argv=['first-arg-is-ignored'],exit=False)"
   ]
  },
  {
   "cell_type": "markdown",
   "id": "e2836152",
   "metadata": {},
   "source": [
    "--End--"
   ]
  }
 ],
 "metadata": {
  "kernelspec": {
   "display_name": "Python 3 (ipykernel)",
   "language": "python",
   "name": "python3"
  },
  "language_info": {
   "codemirror_mode": {
    "name": "ipython",
    "version": 3
   },
   "file_extension": ".py",
   "mimetype": "text/x-python",
   "name": "python",
   "nbconvert_exporter": "python",
   "pygments_lexer": "ipython3",
   "version": "3.9.7"
  }
 },
 "nbformat": 4,
 "nbformat_minor": 5
}
