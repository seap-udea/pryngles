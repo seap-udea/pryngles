{
 "cells": [
  {
   "cell_type": "markdown",
   "id": "5c9f509d",
   "metadata": {},
   "source": [
    "# Pryngles module: stars"
   ]
  },
  {
   "cell_type": "code",
   "execution_count": 21,
   "id": "c9a439e5",
   "metadata": {},
   "outputs": [
    {
     "name": "stdout",
     "output_type": "stream",
     "text": [
      "The autoreload extension is already loaded. To reload it, use:\n",
      "  %reload_ext autoreload\n"
     ]
    }
   ],
   "source": [
    "from pryngles import *"
   ]
  },
  {
   "cell_type": "markdown",
   "id": "5b4bb1d4",
   "metadata": {},
   "source": [
    "## External modules"
   ]
  },
  {
   "cell_type": "code",
   "execution_count": null,
   "id": "56dfcfcf",
   "metadata": {},
   "outputs": [],
   "source": []
  },
  {
   "cell_type": "markdown",
   "id": "e4c6344f",
   "metadata": {},
   "source": [
    "## Star Class"
   ]
  },
  {
   "cell_type": "code",
   "execution_count": 22,
   "id": "47c09869",
   "metadata": {},
   "outputs": [],
   "source": [
    "class StarDefaults(object):\n",
    "    \"\"\"\n",
    "    These are the default attributes for bodies of the kind 'Star'.\n",
    "    \n",
    "    DEVELOPER:\n",
    "        You may add new attributes as the model gets more complex.\n",
    "        Please document properly each attribute.\n",
    "        \n",
    "    orbit:\n",
    "    \n",
    "        These attributes should be compatible with rebound.\n",
    "    \n",
    "        m: float [rebound mass units], default = 1\n",
    "            Mass of the body.  If m = 0 the body does not produce gravitation.\n",
    "            \n",
    "    physics:\n",
    "    \n",
    "        radius: float [rebound length units], default = 1\n",
    "            Radius of the body.\n",
    "            \n",
    "        prot: float [rebound time units], default = 1\n",
    "            Period of rotation\n",
    "            \n",
    "    optics:\n",
    "    \n",
    "        limb_coeffs: list [adimensional], default = []\n",
    "            List of limb darkening fit coefficients.\n",
    "            \n",
    "        nspangles: int, default = 1000\n",
    "            Number of spangles on which the object will be discretized.\n",
    "    \"\"\"\n",
    "    orbit=dict(m=1)\n",
    "    \n",
    "    physics=dict(radius=1,prot=1)\n",
    "\n",
    "    optics=dict(limb_coeffs=[],\n",
    "                nspangles=1000)"
   ]
  },
  {
   "cell_type": "code",
   "execution_count": 25,
   "id": "38bb06b6",
   "metadata": {},
   "outputs": [],
   "source": [
    "BODY_KINDS+=[\"Star\"]\n",
    "class Star(Body):\n",
    "    \"\"\"Class star.\n",
    "    \n",
    "    See Body class documentation.\n",
    "    \n",
    "    Additional public attributes:\n",
    "    \n",
    "        physics.wrot: float\n",
    "            Rotational angular velocity\n",
    "    \n",
    "    Override methods:\n",
    "    \n",
    "        update_body(**pars):\n",
    "            This method compute additional attributes like (see above):\n",
    "            \n",
    "                physics.wrot\n",
    "    \"\"\"\n",
    "    def __init__(self,\n",
    "                 primary=None,\n",
    "                 orbit=StarDefaults.orbit,\n",
    "                 physics=StarDefaults.physics,\n",
    "                 optics=StarDefaults.optics\n",
    "                ):\n",
    "        \n",
    "        \n",
    "        #Instantiate object with basic properties\n",
    "        Body.__init__(self,StarDefaults,\"Star\",primary,orbit,physics,optics)\n",
    "\n",
    "        #Check primary\n",
    "        if self.primary is not None:\n",
    "            if self.primary.kind==\"Planet\":\n",
    "                raise ValueError(f\"Planet cannot be the primary of a Star\")\n",
    "            self.primary._update_childs(self)\n",
    "            self._update_parent(self.primary)\n",
    "                \n",
    "        #Update properties\n",
    "        self.update_body(**self.__dict__)\n",
    "        \n",
    "    def update_body(self,**pars):\n",
    "        Body.update_body(self,**pars)\n",
    "        \n",
    "        #Here place the commands to update this kind of body\n",
    "        self.physics.wrot=2*np.pi/self.physics.prot"
   ]
  },
  {
   "cell_type": "code",
   "execution_count": 26,
   "id": "e31cec03",
   "metadata": {},
   "outputs": [
    {
     "name": "stderr",
     "output_type": "stream",
     "text": [
      "."
     ]
    },
    {
     "name": "stdout",
     "output_type": "stream",
     "text": [
      "{'radius': 1, 'prot': 1, 'wrot': 6.283185307179586}\n",
      "8780492045972\n",
      "{'radius': 1, 'prot': 1, 'wrot': 6.283185307179586, 'm': 2}\n"
     ]
    },
    {
     "name": "stderr",
     "output_type": "stream",
     "text": [
      "\n",
      "----------------------------------------------------------------------\n",
      "Ran 1 test in 0.005s\n",
      "\n",
      "OK\n"
     ]
    }
   ],
   "source": [
    "if IN_JUPYTER:\n",
    "    def test_star(self):\n",
    "        S=Star()\n",
    "        print(S.physics)\n",
    "        print(S.hash)\n",
    "        \n",
    "        #Check derived properties\n",
    "        self.assertEqual(np.isclose([S.physics.wrot],\n",
    "                                    [2*np.pi/StarDefaults.physics[\"prot\"]],\n",
    "                                    rtol=1e-7),\n",
    "                         [True]*1)\n",
    "        \n",
    "        S.update_body(physics=dict(m=2))\n",
    "        print(S.physics)\n",
    "        \n",
    "        #Check exception: primary could not be different from None or Body\n",
    "        self.assertRaises(AssertionError,lambda:Star(primary=\"Nada\"))\n",
    "        \n",
    "    class Test(unittest.TestCase):pass    \n",
    "    Test.test_star=test_star\n",
    "    unittest.main(argv=['first-arg-is-ignored'],exit=False)"
   ]
  },
  {
   "cell_type": "markdown",
   "id": "78d6c1d9",
   "metadata": {},
   "source": [
    "--End--"
   ]
  }
 ],
 "metadata": {
  "kernelspec": {
   "display_name": "Python 3 (ipykernel)",
   "language": "python",
   "name": "python3"
  },
  "language_info": {
   "codemirror_mode": {
    "name": "ipython",
    "version": 3
   },
   "file_extension": ".py",
   "mimetype": "text/x-python",
   "name": "python",
   "nbconvert_exporter": "python",
   "pygments_lexer": "ipython3",
   "version": "3.9.7"
  }
 },
 "nbformat": 4,
 "nbformat_minor": 5
}
