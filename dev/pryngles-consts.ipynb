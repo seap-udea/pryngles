{
 "cells": [
  {
   "cell_type": "markdown",
   "id": "5c9f509d",
   "metadata": {},
   "source": [
    "# Pryngles module: Constants and Enumerators\n",
    "\n",
    "This module contains all the constants required by other modules in the package."
   ]
  },
  {
   "cell_type": "code",
   "execution_count": 1,
   "id": "c9a439e5",
   "metadata": {},
   "outputs": [],
   "source": [
    "from pryngles import *"
   ]
  },
  {
   "cell_type": "markdown",
   "id": "b3b68845",
   "metadata": {},
   "source": [
    "## External modules"
   ]
  },
  {
   "cell_type": "code",
   "execution_count": 2,
   "id": "aaa41b53",
   "metadata": {},
   "outputs": [],
   "source": [
    "import numpy as np\n",
    "from rebound import units\n",
    "import re"
   ]
  },
  {
   "cell_type": "markdown",
   "id": "f2c5e341",
   "metadata": {},
   "source": [
    "## Constants and enumerators by Module"
   ]
  },
  {
   "cell_type": "markdown",
   "id": "babadd30",
   "metadata": {},
   "source": [
    "### System related"
   ]
  },
  {
   "cell_type": "code",
   "execution_count": 3,
   "id": "48b3f9bb",
   "metadata": {},
   "outputs": [],
   "source": [
    "import os\n",
    "#Root directory\n",
    "try:\n",
    "    FILE=__file__\n",
    "    ROOTDIR=os.path.abspath(os.path.dirname(FILE))\n",
    "except:\n",
    "    import IPython\n",
    "    FILE=\"\"\n",
    "    ROOTDIR=os.path.abspath('')\n",
    "    \n",
    "IN_JUPYTER='ipykernel' in sys.modules"
   ]
  },
  {
   "cell_type": "markdown",
   "id": "983dc8ef",
   "metadata": {},
   "source": [
    "### Body related"
   ]
  },
  {
   "cell_type": "code",
   "execution_count": 4,
   "id": "3b737483",
   "metadata": {},
   "outputs": [],
   "source": [
    "BODY_KINDS=[]"
   ]
  },
  {
   "cell_type": "markdown",
   "id": "795bb6ee",
   "metadata": {},
   "source": [
    "### Spangle related"
   ]
  },
  {
   "cell_type": "code",
   "execution_count": null,
   "id": "26b0dc14",
   "metadata": {},
   "outputs": [],
   "source": []
  },
  {
   "cell_type": "markdown",
   "id": "85abe6bd",
   "metadata": {},
   "source": [
    "### Planet related"
   ]
  },
  {
   "cell_type": "code",
   "execution_count": 5,
   "id": "bb6f348d",
   "metadata": {},
   "outputs": [],
   "source": [
    "#Default colors\n",
    "PLANET_COLOR=\"#D3CAAF\"\n",
    "STAR_COLOR=\"#FDFE7D\"\n",
    "RING_COLOR=\"#DBD5D1\""
   ]
  },
  {
   "cell_type": "markdown",
   "id": "a55de298",
   "metadata": {},
   "source": [
    "## System related"
   ]
  },
  {
   "cell_type": "code",
   "execution_count": 6,
   "id": "ce65b299",
   "metadata": {},
   "outputs": [],
   "source": [
    "REBOUND_ORBITAL_PROPERTIES=dict(\n",
    "    #Mass\n",
    "    m=0,\n",
    "    #Cartesian coordinates\n",
    "    x=0,y=0,z=0,vx=0,vy=0,vz=0,\n",
    "    #Semi major axis, true anomaly, eccentricity\n",
    "    a=1,f=0,e=0,\n",
    "    #Periapsis argument, inclination, longitude of the ascending node\n",
    "    omega=0,inc=0,Omega=0,\n",
    "    #Mean anomaly, eccentric anomaly, time of periapsis passage\n",
    "    M=0,E=0,T=0,\n",
    "    #true longitude (Omega + omega + f), mean anomaly (Omega + omega + M)\n",
    "    theta=0,l=0,\n",
    ")"
   ]
  },
  {
   "cell_type": "markdown",
   "id": "c2268fe1",
   "metadata": {},
   "source": [
    "## Constants class\n",
    "\n",
    "This class contains several physical and astronomical constants.  It takes constants from other packages (rebound, astropy) and define other constants based on reliable sources."
   ]
  },
  {
   "cell_type": "code",
   "execution_count": 32,
   "id": "b7020a29",
   "metadata": {},
   "outputs": [],
   "source": [
    "class Consts(object):pass\n",
    "\n",
    "#Mathematical constants\n",
    "Consts.rad=180/np.pi\n",
    "Consts.deg=1/Consts.rad\n",
    "Consts.ppm=1e6 #parts per million factor\n",
    "Consts.ppb=1e9 #parts per billion factor\n",
    "\n",
    "#Physical constants\n",
    "GSI=units.convert_G([\"m\",\"s\",\"kg\"]) # G constant in SI units\n",
    "for const in \"times\",\"lengths\",\"masses\":\n",
    "    values=eval(f\"units.{const}_SI.copy()\")\n",
    "    for key in values:\n",
    "        exec(f\"Consts.{key}=values[key]\")\n",
    "\n",
    "#Size of reference objects\n",
    "Consts.rearth=6378.137e3 #m, volumetric mean radius, source: \n",
    "Consts.rsun=695700e3 #m, nominal solar radius, source: \n",
    "Consts.rjupiter=71492e3 #m, equatorial radius, source: \n",
    "Consts.rsaturn=60268e3 #m, equatorial radius, source: \n",
    "\n",
    "#For compatibility purposes with legacy: remove when legacy is retired\n",
    "RAD=Consts.rad\n",
    "DEG=Consts.deg\n",
    "\n",
    "def get_physical():\n",
    "    import pryngles as pr\n",
    "    all_constants=[]\n",
    "    for key in Consts.__dict__.keys():\n",
    "        patterns = \"^[a-z]+$\"\n",
    "        if re.search(patterns,key):\n",
    "            all_constants+=[key]\n",
    "    return sorted(all_constants)\n",
    "\n",
    "def get_all():\n",
    "    import pryngles as pr\n",
    "    all_constants=[]\n",
    "    for key in pr.__dict__.keys():\n",
    "        patterns = \"^[A-Z_]+$\"\n",
    "        if re.search(patterns,key):\n",
    "            all_constants+=[key]\n",
    "    return sorted(all_constants)\n",
    "\n",
    "Consts.get_physical=get_physical\n",
    "Consts.get_all=get_all"
   ]
  },
  {
   "cell_type": "code",
   "execution_count": 33,
   "id": "570e64ab",
   "metadata": {
    "scrolled": true
   },
   "outputs": [
    {
     "name": "stderr",
     "output_type": "stream",
     "text": [
      "."
     ]
    },
    {
     "name": "stdout",
     "output_type": "stream",
     "text": [
      "['BODY_DEFAULTS', 'BODY_KINDS', 'DEG', 'FILE', 'GSI', 'HTML', 'IN_JUPYTER', 'LIMB_NORMALIZATIONS', 'PLANET_COLOR', 'PLANET_DEFAULTS', 'RAD', 'REBOUND_ORBITAL_PROPERTIES', 'RING_COLOR', 'RING_DEFAULTS', 'ROOTDIR', 'SAMPLER_CIRCLE_PRESETS', 'SAMPLER_GEOMETRY_CIRCLE', 'SAMPLER_GEOMETRY_SPHERE', 'SAMPLER_MIN_RING', 'SAMPLER_PRESETS', 'SAMPLER_SPHERE_PRESETS', 'SAMPLE_SHAPES', 'SHADOW_COLOR', 'SHADOW_COLOR_OBS', 'SPANGLER_AREAS', 'SPANGLER_COLUMNS', 'SPANGLER_COL_COPY', 'SPANGLER_COL_INT', 'SPANGLER_COL_LUZ', 'SPANGLER_COL_OBS', 'SPANGLER_EPS_BORDER', 'SPANGLER_EQUIV_COL', 'SPANGLER_KEY_FIELDS', 'SPANGLER_LENGTHS', 'SPANGLER_SOURCE_STATES', 'SPANGLER_VECTORS', 'SPANGLER_VISIBILITY_STATES', 'SPANGLES_DARKNESS_COLOR', 'SPANGLES_SEMITRANSPARENT', 'SPANGLE_ATMOSPHERIC', 'SPANGLE_COLORS', 'SPANGLE_GASEOUS', 'SPANGLE_GRANULAR', 'SPANGLE_LIQUID', 'SPANGLE_SOLID_ICE', 'SPANGLE_SOLID_ROCK', 'SPANGLE_STELLAR', 'STAR_COLOR', 'STAR_DEFAULTS', 'VERB_ALL', 'VERB_DEEP', 'VERB_NONE', 'VERB_SIMPLE', 'VERB_SYSTEM', 'VERB_VERIFY']\n",
      "['au', 'aus', 'cm', 'd', 'day', 'days', 'deg', 'g', 'gram', 'gyr', 'hr', 'jyr', 'kg', 'km', 'kyr', 'm', 'mearth', 'mjupiter', 'mmars', 'mmercury', 'mneptune', 'mpluto', 'msaturn', 'msolar', 'msun', 'muranus', 'mvenus', 'myr', 'parsec', 'pc', 'ppb', 'ppm', 'rad', 'rearth', 'rjupiter', 'rsaturn', 'rsun', 's', 'solarmass', 'sunmass', 'yr', 'yrs']\n"
     ]
    },
    {
     "name": "stderr",
     "output_type": "stream",
     "text": [
      "\n",
      "----------------------------------------------------------------------\n",
      "Ran 1 test in 0.001s\n",
      "\n",
      "OK\n"
     ]
    }
   ],
   "source": [
    "if IN_JUPYTER:\n",
    "    \n",
    "    def test_fun(self):\n",
    "        p=Consts.ppm\n",
    "        self.assertEqual([p],[1e6],[True]*1)\n",
    "        print(Consts.get_all())\n",
    "        print(Consts.get_physical())\n",
    "\n",
    "    class Test(unittest.TestCase):pass\n",
    "    Test.test_fun=test_fun\n",
    "    unittest.main(argv=['first-arg-is-ignored'],exit=False)"
   ]
  },
  {
   "cell_type": "markdown",
   "id": "7918ce69",
   "metadata": {},
   "source": [
    "--End--"
   ]
  }
 ],
 "metadata": {
  "kernelspec": {
   "display_name": "Python 3 (ipykernel)",
   "language": "python",
   "name": "python3"
  },
  "language_info": {
   "codemirror_mode": {
    "name": "ipython",
    "version": 3
   },
   "file_extension": ".py",
   "mimetype": "text/x-python",
   "name": "python",
   "nbconvert_exporter": "python",
   "pygments_lexer": "ipython3",
   "version": "3.9.7"
  }
 },
 "nbformat": 4,
 "nbformat_minor": 5
}
