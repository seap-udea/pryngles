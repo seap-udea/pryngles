{
 "cells": [
  {
   "cell_type": "markdown",
   "id": "5c9f509d",
   "metadata": {},
   "source": [
    "# Pryngles module: Constants and Enumerators\n",
    "\n",
    "This module contains all the constants required by other modules in the package."
   ]
  },
  {
   "cell_type": "code",
   "execution_count": 8,
   "id": "c9a439e5",
   "metadata": {},
   "outputs": [
    {
     "name": "stdout",
     "output_type": "stream",
     "text": [
      "The autoreload extension is already loaded. To reload it, use:\n",
      "  %reload_ext autoreload\n"
     ]
    }
   ],
   "source": [
    "from pryngles import *"
   ]
  },
  {
   "cell_type": "markdown",
   "id": "b3b68845",
   "metadata": {},
   "source": [
    "## External modules"
   ]
  },
  {
   "cell_type": "code",
   "execution_count": 9,
   "id": "aaa41b53",
   "metadata": {},
   "outputs": [],
   "source": [
    "import numpy as np\n",
    "from rebound import units\n",
    "import re"
   ]
  },
  {
   "cell_type": "markdown",
   "id": "f2c5e341",
   "metadata": {},
   "source": [
    "## Constants and enumerators by Module"
   ]
  },
  {
   "cell_type": "markdown",
   "id": "babadd30",
   "metadata": {},
   "source": [
    "### System related"
   ]
  },
  {
   "cell_type": "code",
   "execution_count": 12,
   "id": "48b3f9bb",
   "metadata": {},
   "outputs": [],
   "source": [
    "import os\n",
    "#Root directory\n",
    "try:\n",
    "    FILE=__file__\n",
    "    ROOTDIR=os.path.abspath(os.path.dirname(FILE))\n",
    "except:\n",
    "    import IPython\n",
    "    FILE=\"\"\n",
    "    ROOTDIR=os.path.abspath('')\n",
    "    \n",
    "IN_JUPYTER='ipykernel' in sys.modules"
   ]
  },
  {
   "cell_type": "markdown",
   "id": "983dc8ef",
   "metadata": {},
   "source": [
    "### Body related"
   ]
  },
  {
   "cell_type": "code",
   "execution_count": 13,
   "id": "3b737483",
   "metadata": {},
   "outputs": [],
   "source": [
    "BODY_KINDS=[]"
   ]
  },
  {
   "cell_type": "markdown",
   "id": "795bb6ee",
   "metadata": {},
   "source": [
    "### Spangle related"
   ]
  },
  {
   "cell_type": "code",
   "execution_count": 14,
   "id": "ed0c06cd",
   "metadata": {},
   "outputs": [],
   "source": [
    "#ENUMERATOR: Type of spangle\n",
    "SOLID_SPANGLE=0\n",
    "GRANULAR_SPANGLE=1\n",
    "ATMOSPHERIC_SPANGLE=2\n",
    "STAR_SPANGLE=3\n",
    "\n",
    "#ENUMERATOR: Reference system\n",
    "EQU=0\n",
    "ECL=1"
   ]
  },
  {
   "cell_type": "markdown",
   "id": "c2268fe1",
   "metadata": {},
   "source": [
    "## Constants class\n",
    "\n",
    "This class contains several physical and astronomical constants.  It takes constants from other packages (rebound, astropy) and define other constants based on reliable sources."
   ]
  },
  {
   "cell_type": "code",
   "execution_count": 15,
   "id": "b7020a29",
   "metadata": {},
   "outputs": [],
   "source": [
    "class Consts(object):pass\n",
    "\n",
    "#Mathematical constants\n",
    "Consts.rad=180/np.pi\n",
    "Consts.deg=1/Consts.rad\n",
    "Consts.ppm=1e6 #parts per million factor\n",
    "Consts.ppb=1e9 #parts per billion factor\n",
    "\n",
    "#Physical constants\n",
    "GSI=units.convert_G([\"m\",\"s\",\"kg\"]) # G constant in SI units\n",
    "for const in \"times\",\"lengths\",\"masses\":\n",
    "    values=eval(f\"units.{const}_SI.copy()\")\n",
    "    for key in values:\n",
    "        exec(f\"Consts.{key}=values[key]\")\n",
    "\n",
    "#Size of reference objects\n",
    "Consts.rearth=6378.137e3 #m, volumetric mean radius, source: \n",
    "Consts.rsun=695700e3 #m, nominal solar radius, source: \n",
    "Consts.rjupiter=71492e3 #m, equatorial radius, source: \n",
    "Consts.rsaturn=60268e3 #m, equatorial radius, source: \n",
    "\n",
    "#For compatibility purposes with legacy: remove when legacy is retired\n",
    "RAD=Consts.rad\n",
    "DEG=Consts.deg"
   ]
  },
  {
   "cell_type": "code",
   "execution_count": 16,
   "id": "570e64ab",
   "metadata": {},
   "outputs": [
    {
     "name": "stderr",
     "output_type": "stream",
     "text": [
      "."
     ]
    },
    {
     "name": "stdout",
     "output_type": "stream",
     "text": [
      "{'__module__': '__main__', '__dict__': <attribute '__dict__' of 'Consts' objects>, '__weakref__': <attribute '__weakref__' of 'Consts' objects>, '__doc__': None, 'rad': 57.29577951308232, 'deg': 0.017453292519943295, 'ppm': 1000000.0, 'ppb': 1000000000.0, 's': 1.0, 'hr': 3600.0, 'day': 86400.0, 'days': 86400.0, 'd': 86400.0, 'yr': 31557600.0, 'yrs': 31557600.0, 'jyr': 31557600.0, 'sidereal_yr': 31558149.7635, 'yr2pi': 5022642.89091303, 'kyr': 31557600000.0, 'myr': 31557600000000.0, 'gyr': 3.15576e+16, 'm': 1.0, 'cm': 0.01, 'km': 1000.0, 'au': 149597870700.0, 'aus': 149597870700.0, 'pc': 3.085677581e+16, 'parsec': 3.085677581e+16, 'kg': 1.0, 'g': 0.001, 'gram': 0.001, 'msun': 1.9884754159665356e+30, 'solarmass': 1.9884754159665356e+30, 'sunmass': 1.9884754159665356e+30, 'msolar': 1.9884754159665356e+30, 'mmercury': 3.301096181046679e+23, 'mvenus': 4.867466257521637e+24, 'mearth': 5.972365261370795e+24, 'mmars': 6.417120205436417e+23, 'mjupiter': 1.8981872396165582e+27, 'msaturn': 5.683361227113286e+26, 'muranus': 8.681273407389496e+25, 'mneptune': 1.0241260971459244e+26, 'mpluto': 1.3029718219752756e+22, 'rearth': 6378137.0, 'rsun': 695700000.0, 'rjupiter': 71492000.0, 'rsaturn': 60268000.0}\n"
     ]
    },
    {
     "name": "stderr",
     "output_type": "stream",
     "text": [
      "\n",
      "----------------------------------------------------------------------\n",
      "Ran 1 test in 0.001s\n",
      "\n",
      "OK\n"
     ]
    }
   ],
   "source": [
    "if IN_JUPYTER:\n",
    "    print(Consts.__dict__)\n",
    "    \n",
    "    def test_fun(self):\n",
    "        p=Consts.ppm\n",
    "        self.assertEqual([p],[1e6],[True]*1)\n",
    "\n",
    "    class Test(unittest.TestCase):pass\n",
    "    Test.test_fun=test_fun\n",
    "    unittest.main(argv=['first-arg-is-ignored'],exit=False)"
   ]
  },
  {
   "cell_type": "markdown",
   "id": "7918ce69",
   "metadata": {},
   "source": [
    "--End--"
   ]
  }
 ],
 "metadata": {
  "kernelspec": {
   "display_name": "Python 3 (ipykernel)",
   "language": "python",
   "name": "python3"
  },
  "language_info": {
   "codemirror_mode": {
    "name": "ipython",
    "version": 3
   },
   "file_extension": ".py",
   "mimetype": "text/x-python",
   "name": "python",
   "nbconvert_exporter": "python",
   "pygments_lexer": "ipython3",
   "version": "3.9.7"
  }
 },
 "nbformat": 4,
 "nbformat_minor": 5
}
