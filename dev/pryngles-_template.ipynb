{
 "cells": [
  {
   "cell_type": "markdown",
   "id": "5c9f509d",
   "metadata": {},
   "source": [
    "# Pryngles module"
   ]
  },
  {
   "cell_type": "markdown",
   "id": "307560c2",
   "metadata": {},
   "source": [
    "## Module template\n",
    "\n",
    "Goals of the module:\n",
    "- Template functions"
   ]
  },
  {
   "cell_type": "code",
   "execution_count": 62,
   "id": "c9a439e5",
   "metadata": {},
   "outputs": [],
   "source": [
    "##HEADER\n",
    "from pryngles import *"
   ]
  },
  {
   "cell_type": "code",
   "execution_count": 63,
   "id": "8ec556c4",
   "metadata": {},
   "outputs": [],
   "source": [
    "Example_doc=\\\n",
    "\"\"\"\n",
    "Class Example\n",
    "\"\"\""
   ]
  },
  {
   "cell_type": "code",
   "execution_count": 64,
   "id": "99657ffc",
   "metadata": {},
   "outputs": [],
   "source": [
    "class Example(object):\n",
    "    example=1\n",
    "    def __init__(self):\n",
    "        self.a=1\n",
    "Example.__doc__=Example_doc"
   ]
  },
  {
   "cell_type": "code",
   "execution_count": 65,
   "id": "4ac215e4",
   "metadata": {},
   "outputs": [],
   "source": [
    "Example_method_doc=\\\n",
    "\"\"\"\n",
    "    This is a test method of class Example.\n",
    "\"\"\"\n",
    "def method(self):\n",
    "    print(self.a)\n",
    "Example.method=method\n",
    "Example.method.__doc__=Example_method_doc"
   ]
  },
  {
   "cell_type": "markdown",
   "id": "68b7640b",
   "metadata": {},
   "source": [
    "--End--"
   ]
  },
  {
   "cell_type": "code",
   "execution_count": 66,
   "id": "a24126cb",
   "metadata": {},
   "outputs": [],
   "source": [
    "E=Example()"
   ]
  },
  {
   "cell_type": "code",
   "execution_count": 67,
   "id": "fba29401",
   "metadata": {},
   "outputs": [],
   "source": [
    "Example?"
   ]
  },
  {
   "cell_type": "markdown",
   "id": "5ac4ee6f",
   "metadata": {},
   "source": [
    "# Convert"
   ]
  },
  {
   "cell_type": "code",
   "execution_count": 60,
   "id": "5b6ca1b0",
   "metadata": {},
   "outputs": [
    {
     "data": {
      "application/javascript": [
       "IPython.notebook.kernel.execute('FILE=\\\"' + IPython.notebook.notebook_name + '\\\"')\n"
      ],
      "text/plain": [
       "<IPython.core.display.Javascript object>"
      ]
     },
     "metadata": {},
     "output_type": "display_data"
    }
   ],
   "source": [
    "%%javascript\n",
    "IPython.notebook.kernel.execute('FILE=\\\"' + IPython.notebook.notebook_name + '\\\"')"
   ]
  },
  {
   "cell_type": "code",
   "execution_count": 61,
   "id": "f9a41d61",
   "metadata": {
    "scrolled": true
   },
   "outputs": [
    {
     "name": "stdout",
     "output_type": "stream",
     "text": [
      "Converting iPython Notebooks dev/pryngles-_template.ipynb...\n",
      "Analysing file pryngles-_template.ipynb:\n",
      "\tDirectory: src//pryngles\n",
      "\tFilename: _template\n",
      "\tTarget object: src//pryngles/_template.py\n",
      "\tConverting from ipynb dev/pryngles-_template.ipynb to python src//pryngles/_template.py...\n",
      "\tProcessing magic commands...\n",
      "\tTriming end...\n",
      "\tTriming test...\n",
      "\tUsing as template src/.temp\n",
      "Completed.\n"
     ]
    }
   ],
   "source": [
    "!make -C .. DEVFILES=dev/{FILE} convert"
   ]
  },
  {
   "cell_type": "code",
   "execution_count": 3,
   "id": "10fc8e0a",
   "metadata": {},
   "outputs": [],
   "source": [
    "# Converted"
   ]
  }
 ],
 "metadata": {
  "kernelspec": {
   "display_name": "Python 3 (ipykernel)",
   "language": "python",
   "name": "python3"
  },
  "language_info": {
   "codemirror_mode": {
    "name": "ipython",
    "version": 3
   },
   "file_extension": ".py",
   "mimetype": "text/x-python",
   "name": "python",
   "nbconvert_exporter": "python",
   "pygments_lexer": "ipython3",
   "version": "3.9.7"
  }
 },
 "nbformat": 4,
 "nbformat_minor": 5
}
