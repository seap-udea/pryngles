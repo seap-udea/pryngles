{
 "cells": [
  {
   "cell_type": "markdown",
   "id": "5c9f509d",
   "metadata": {},
   "source": [
    "# Pryngles module"
   ]
  },
  {
   "cell_type": "code",
   "execution_count": 7,
   "id": "c9a439e5",
   "metadata": {},
   "outputs": [
    {
     "name": "stdout",
     "output_type": "stream",
     "text": [
      "The autoreload extension is already loaded. To reload it, use:\n",
      "  %reload_ext autoreload\n"
     ]
    }
   ],
   "source": [
    "from pryngles import *"
   ]
  },
  {
   "cell_type": "markdown",
   "id": "24046e8b",
   "metadata": {},
   "source": [
    "## External modules"
   ]
  },
  {
   "cell_type": "code",
   "execution_count": null,
   "id": "2f23f662",
   "metadata": {},
   "outputs": [],
   "source": []
  },
  {
   "cell_type": "markdown",
   "id": "02363fbd",
   "metadata": {},
   "source": [
    "## Planet class"
   ]
  },
  {
   "cell_type": "code",
   "execution_count": 8,
   "id": "238e26ed",
   "metadata": {},
   "outputs": [],
   "source": [
    "class PlanetDefaults(object):\n",
    "    \"\"\"\n",
    "    These are the default attributes for bodies of the kind 'Planet'.\n",
    "    \n",
    "    DEVELOPER:\n",
    "        You may add new attributes as the model gets more complex.\n",
    "        Please document properly each attribute.\n",
    "        \n",
    "    orbit:\n",
    "    \n",
    "        These attributes should be compatible with rebound.\n",
    "    \n",
    "        m: float [rebound mass units], default = 1\n",
    "            Mass of the body.  If m = 0 the body does not produce gravitation.\n",
    "            \n",
    "        a: float [rebound length units], default = 1.0\n",
    "            Semi major axis of the orbit with respect to primary.\n",
    "            \n",
    "        e: float [adimentional], default = 0.0\n",
    "            Eccentricity of the orbit with respect to primary.\n",
    "            \n",
    "    physics:\n",
    "    \n",
    "        radius: float [rebound length units], default = 1\n",
    "            Radius of the body.\n",
    "            \n",
    "        prot: float [rebound time units], default = 1\n",
    "            Period of rotation\n",
    "            \n",
    "    optics:\n",
    "    \n",
    "        nspangles: int, default = 1000\n",
    "            Number of spangles on which the object will be discretized.\n",
    "    \"\"\"\n",
    "\n",
    "    orbit=dict(m=1.0,a=1.0,e=0.0)\n",
    "    \n",
    "    physics=dict(radius=1.0,prot=1.0)\n",
    "    \n",
    "    optics=dict(nspangles=1000)"
   ]
  },
  {
   "cell_type": "code",
   "execution_count": 9,
   "id": "8f403997",
   "metadata": {},
   "outputs": [],
   "source": [
    "BODY_KINDS+=[\"Planet\"]\n",
    "\n",
    "class Planet(Body):\n",
    "    \"\"\"Class Planet.\n",
    "    \n",
    "    See Body class documentation.\n",
    "    \n",
    "    Additional public attributes:\n",
    "    \n",
    "        physics.wrot: float\n",
    "            Rotational angular velocity\n",
    "    \n",
    "    Override methods:\n",
    "    \n",
    "        update_body(**pars):\n",
    "            This method compute additional attributes like (see above).\n",
    "    \"\"\"\n",
    "    def __init__(self,\n",
    "                 primary=None,\n",
    "                 orbit=PlanetDefaults.orbit,\n",
    "                 physics=PlanetDefaults.physics,\n",
    "                 optics=PlanetDefaults.optics\n",
    "                ):\n",
    "        \n",
    "        \n",
    "        #Instantiate object with basic properties\n",
    "        Body.__init__(self,PlanetDefaults,\"Planet\",primary,orbit,physics,optics)\n",
    "        \n",
    "        #Check primary\n",
    "        if self.primary is None:\n",
    "            raise ValueError(f\"Primary not provided and it is mandatory for {self.kind}.\")\n",
    "        self.primary=primary\n",
    "        self.primary._update_childs(self)\n",
    "        self._update_parent(self.primary)\n",
    "        \n",
    "        #Update properties\n",
    "        self.update_body(**self.__dict__)\n",
    "        \n",
    "    def update_body(self,**pars):\n",
    "        Body.update_body(self,**pars)\n",
    "        \n",
    "        #Here place the commands to update this kind of body\n",
    "        self.physics.wrot=2*np.pi/self.physics.prot"
   ]
  },
  {
   "cell_type": "code",
   "execution_count": 10,
   "id": "83eee0ac",
   "metadata": {},
   "outputs": [
    {
     "name": "stderr",
     "output_type": "stream",
     "text": [
      "."
     ]
    },
    {
     "name": "stdout",
     "output_type": "stream",
     "text": [
      "{'radius': 1.0, 'prot': 1.0, 'wrot': 6.283185307179586}\n",
      "8776926439708\n",
      "{'m': 1.0, 'a': 5, 'e': 0.0} {'radius': 1.0, 'prot': 1.0, 'wrot': 6.283185307179586, 'rho': 0.2}\n"
     ]
    },
    {
     "name": "stderr",
     "output_type": "stream",
     "text": [
      "\n",
      "----------------------------------------------------------------------\n",
      "Ran 1 test in 0.002s\n",
      "\n",
      "OK\n"
     ]
    }
   ],
   "source": [
    "if IN_JUPYTER:\n",
    "    def test_planet(self):\n",
    "        S=Star()\n",
    "\n",
    "        #Check exception: primary is mandatory for planets\n",
    "        self.assertRaises(ValueError,lambda:Planet())\n",
    "\n",
    "        P=Planet(primary=S)\n",
    "        \n",
    "        print(P.physics)\n",
    "        print(P.hash)\n",
    "        \n",
    "        #Check derived properties\n",
    "        self.assertEqual(np.isclose([P.physics.wrot],\n",
    "                                    [2*np.pi/PlanetDefaults.physics[\"prot\"]],\n",
    "                                    rtol=1e-7),\n",
    "                         [True]*1)\n",
    "        \n",
    "        P.update_body(orbit=dict(a=5),physics=dict(rho=0.2))\n",
    "        print(P.orbit,P.physics)\n",
    "        \n",
    "        #Check exception: primary could not be different from None or Body\n",
    "        self.assertRaises(AssertionError,lambda:Planet(primary=\"Nada\"))\n",
    "        \n",
    "    class Test(unittest.TestCase):pass    \n",
    "    Test.test_planet=test_planet\n",
    "    unittest.main(argv=['first-arg-is-ignored'],exit=False)"
   ]
  },
  {
   "cell_type": "markdown",
   "id": "ef33b450",
   "metadata": {},
   "source": [
    "--End--"
   ]
  }
 ],
 "metadata": {
  "kernelspec": {
   "display_name": "Python 3 (ipykernel)",
   "language": "python",
   "name": "python3"
  },
  "language_info": {
   "codemirror_mode": {
    "name": "ipython",
    "version": 3
   },
   "file_extension": ".py",
   "mimetype": "text/x-python",
   "name": "python",
   "nbconvert_exporter": "python",
   "pygments_lexer": "ipython3",
   "version": "3.9.7"
  }
 },
 "nbformat": 4,
 "nbformat_minor": 5
}
