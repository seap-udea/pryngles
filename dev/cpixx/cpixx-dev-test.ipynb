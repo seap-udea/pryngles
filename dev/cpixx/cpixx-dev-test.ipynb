{
 "cells": [
  {
   "cell_type": "markdown",
   "id": "159e5928",
   "metadata": {},
   "source": [
    "# Developing and testing the pryngles `cpixx` extension"
   ]
  },
  {
   "cell_type": "markdown",
   "id": "afc990e2",
   "metadata": {},
   "source": [
    "In this notebook we want to test the `cpixx` extension using data collected from the application of the original `pixx` extension "
   ]
  },
  {
   "cell_type": "code",
   "execution_count": 1,
   "id": "d6c5897e",
   "metadata": {},
   "outputs": [],
   "source": [
    "import pickle\n",
    "import numpy as np\n",
    "import pandas as pd\n",
    "import os\n",
    "from pryngles import pixx\n",
    "from pryngles import *\n",
    "import ctypes\n",
    "import glob\n",
    "%load_ext wurlitzer"
   ]
  },
  {
   "cell_type": "markdown",
   "id": "14fc1e33",
   "metadata": {},
   "source": [
    "## Collecting data"
   ]
  },
  {
   "cell_type": "markdown",
   "id": "1abb77e6",
   "metadata": {},
   "source": [
    "You must first download file `reflection-test.pkl` from Google Drive and place it at `/tmp`"
   ]
  },
  {
   "cell_type": "code",
   "execution_count": 8,
   "id": "1ae65cff",
   "metadata": {},
   "outputs": [],
   "source": [
    "f=open(\"/tmp/reflection-test.pkl\",\"rb\")\n",
    "save_values=pickle.load(f)\n",
    "f.close()"
   ]
  },
  {
   "cell_type": "markdown",
   "id": "b1f044b0",
   "metadata": {},
   "source": [
    "Now let's read the values and:\n",
    "\n",
    "- Create a file with the fourier coefficient matrices (`<object>-ntot_nx_ny_nz.mat`)\n",
    "- Create a file with the gauss integrations points (`<object>-xmu.mat`)\n",
    "- Accumulate the data for a given object in a pandas dataframe."
   ]
  },
  {
   "cell_type": "code",
   "execution_count": 9,
   "id": "b9166603",
   "metadata": {},
   "outputs": [
    {
     "name": "stdout",
     "output_type": "stream",
     "text": [
      "Saving file planet-5292_63_21_4.mat...\n",
      "Saving file planet-xmu-21.mat...\n",
      "Saving file ring_forward-414000_60_20_345.mat...\n",
      "Saving file ring_forward-xmu-20.mat...\n",
      "Saving file ring_back-414000_60_20_345.mat...\n",
      "Saving file ring_back-xmu-20.mat...\n",
      "Done.\n"
     ]
    }
   ],
   "source": [
    "matrices=dict()\n",
    "columns=[\"delazim\",\"beta\",\"eta\",\"zeta\",\"nmugs\",\"nmat\",\"nfou\",\"af\",\"S1\",\"S2\",\"S3\",\"S4\"]\n",
    "for i,save in enumerate(save_values):\n",
    "    args=save[\"args\"]\n",
    "    obj=save[\"obj\"].replace(\" \",\"_\")\n",
    "    \"\"\"\n",
    "    args are:\n",
    "        0: Number of points (int)\n",
    "        1: Delta azim (array Nx1)\n",
    "        2: betas (array: Nx1)\n",
    "        3: etas (array: Nx1)\n",
    "        4: zetas\n",
    "        5: nmugs\n",
    "        6: nmat\n",
    "        7: nfou\n",
    "        8: xmu\n",
    "        9: rfou\n",
    "        10: af\n",
    "    \"\"\"\n",
    "    \n",
    "    #Read properties\n",
    "    npoints=args[0]\n",
    "    delta_azim=args[1]\n",
    "    betas=args[2]\n",
    "    etas=args[3]\n",
    "    zetas=args[4]\n",
    "    nmugs,nmat,nfou=args[5:8]\n",
    "    xmu=args[8]\n",
    "    rfou=args[9]\n",
    "    nx,ny,nz=rfou.shape\n",
    "    af=args[10]\n",
    "    hash_mat=hash(rfou.sum())\n",
    "    \n",
    "    #Read stokes\n",
    "    stokes=save[\"stokes\"]\n",
    "    \n",
    "    #Save in dataframe\n",
    "    data=pd.DataFrame(columns=columns)\n",
    "    data[\"delazim\"]=pd.Series(delta_azim)\n",
    "    data[\"beta\"]=pd.Series(betas)\n",
    "    data[\"eta\"]=pd.Series(etas)\n",
    "    data[\"zeta\"]=pd.Series(zetas)\n",
    "    data[\"nmugs\"]=nmugs\n",
    "    data[\"nmat\"]=nmat\n",
    "    data[\"nfou\"]=nfou\n",
    "    data[\"af\"]=pd.Series(af)\n",
    "    data[[\"S1\",\"S2\",\"S3\",\"S4\"]]=pd.DataFrame(stokes)\n",
    "    \n",
    "    #Save matrix\n",
    "    if not hash_mat in matrices.keys():    \n",
    "        #Save matrix\n",
    "        ntot=nx*ny*nz\n",
    "        filename=f\"{obj}-{ntot}_{nx}_{ny}_{nz}.mat\"\n",
    "        print(f\"Saving file {filename}...\")\n",
    "        np.savetxt(filename,rfou.reshape(ntot,1))\n",
    "\n",
    "        filename=f\"{obj}-xmu-{len(xmu)}.mat\"\n",
    "        print(f\"Saving file {filename}...\")\n",
    "        np.savetxt(filename,xmu)\n",
    "\n",
    "        matrices[hash_mat]=dict(\n",
    "            obj=obj,\n",
    "            data=pd.DataFrame(columns=columns),\n",
    "            rfou=rfou,\n",
    "        )\n",
    "    \n",
    "    #Store data\n",
    "    matrices[hash_mat][\"data\"]=pd.concat((matrices[hash_mat][\"data\"],data),ignore_index=True)\n",
    "    #break\n",
    "        \n",
    "print(\"Done.\")"
   ]
  },
  {
   "cell_type": "markdown",
   "id": "07cc9b83",
   "metadata": {},
   "source": [
    "Save the interpolation matrices (the unique values) into interpolation files:"
   ]
  },
  {
   "cell_type": "code",
   "execution_count": 10,
   "id": "35246e24",
   "metadata": {},
   "outputs": [
    {
     "name": "stdout",
     "output_type": "stream",
     "text": [
      "Saving interpolation matrix for planet\n",
      "Original number of interpolation points 696730\n",
      "Number of interpolation points after removing duplicates 193758\n",
      "Saving file planet-interpolation.mat...\n",
      "Saving interpolation matrix for ring_forward\n",
      "Original number of interpolation points 539136\n",
      "Number of interpolation points after removing duplicates 231\n",
      "Saving file ring_forward-interpolation.mat...\n",
      "Saving interpolation matrix for ring_back\n",
      "Original number of interpolation points 616535\n",
      "Number of interpolation points after removing duplicates 320\n",
      "Saving file ring_back-interpolation.mat...\n"
     ]
    }
   ],
   "source": [
    "for hash_mat,item in matrices.items():\n",
    "    obj=item[\"obj\"]\n",
    "    print(f\"Saving interpolation matrix for {obj}\")\n",
    "    data=item[\"data\"]\n",
    "    print(f\"Original number of interpolation points {len(data)}\")\n",
    "    data_clean=data.drop_duplicates()\n",
    "    print(f\"Number of interpolation points after removing duplicates {len(data_clean)}\")\n",
    "    filename=f\"{obj}-interpolation.mat\"\n",
    "    print(f\"Saving file {filename}...\")\n",
    "    np.savetxt(filename,data_clean)"
   ]
  },
  {
   "cell_type": "markdown",
   "id": "e8472302",
   "metadata": {},
   "source": [
    "## Check using pixx"
   ]
  },
  {
   "cell_type": "markdown",
   "id": "e693f208",
   "metadata": {},
   "source": [
    "Read data:"
   ]
  },
  {
   "cell_type": "code",
   "execution_count": 9,
   "id": "e071686d",
   "metadata": {},
   "outputs": [
    {
     "name": "stdout",
     "output_type": "stream",
     "text": [
      "planet-5292_63_21_4.mat\t\tring_back-xmu-20.mat\r\n",
      "planet-interpolation.mat\tring_forward-414000_60_20_345.mat\r\n",
      "planet-xmu-21.mat\t\tring_forward-interpolation.mat\r\n",
      "ring_back-414000_60_20_345.mat\tring_forward-xmu-20.mat\r\n",
      "ring_back-interpolation.mat\r\n"
     ]
    }
   ],
   "source": [
    "!ls *.mat"
   ]
  },
  {
   "cell_type": "markdown",
   "id": "0f922334",
   "metadata": {},
   "source": [
    "Read data:"
   ]
  },
  {
   "cell_type": "code",
   "execution_count": 10,
   "id": "d0bef579",
   "metadata": {},
   "outputs": [],
   "source": [
    "filename=\"planet-5292_63_21_4.mat\"\n",
    "ntot,nx,ny,nz=[int(v) for v in filename.split(\"-\")[1].split(\".\")[0].split(\"_\")]\n",
    "rfou=np.loadtxt(filename).reshape(nx,ny,nz)\n",
    "filename=\"planet-interpolation.mat\"\n",
    "interpolation=np.loadtxt(filename)\n",
    "filename=\"planet-xmu-21.mat\"\n",
    "xmu=np.loadtxt(filename)\n",
    "#Compare:\n",
    "#rfou_ori=matrices[401387150607385127][\"rfou\"]\n",
    "#abs(rfou-rfou_ori).mean()"
   ]
  },
  {
   "cell_type": "markdown",
   "id": "67b64a55",
   "metadata": {},
   "source": [
    "Check the first column:"
   ]
  },
  {
   "cell_type": "code",
   "execution_count": 11,
   "id": "ab034159",
   "metadata": {},
   "outputs": [
    {
     "data": {
      "text/plain": [
       "array([1.04484516e+00, 3.06939428e+00, 4.99032903e-02, 2.50967097e-02,\n",
       "       2.10000000e+01, 3.00000000e+00, 3.00000000e+00, 9.43232879e-05,\n",
       "       4.59785742e-07, 2.25122997e-07, 1.83440080e-09, 4.89642131e-01])"
      ]
     },
     "execution_count": 11,
     "metadata": {},
     "output_type": "execute_result"
    }
   ],
   "source": [
    "interpolation[0]"
   ]
  },
  {
   "cell_type": "markdown",
   "id": "70e9686f",
   "metadata": {},
   "source": [
    "Read the input parameter values:"
   ]
  },
  {
   "cell_type": "code",
   "execution_count": 12,
   "id": "2077591c",
   "metadata": {},
   "outputs": [
    {
     "data": {
      "text/plain": [
       "(1.0448451569439827,\n",
       " 3.069394277348945,\n",
       " 0.04990329026929557,\n",
       " 0.02509670973070432,\n",
       " 21.0,\n",
       " 3.0,\n",
       " 3.0,\n",
       " 9.432328787795567e-05)"
      ]
     },
     "execution_count": 12,
     "metadata": {},
     "output_type": "execute_result"
    }
   ],
   "source": [
    "delazim,beta,eta,zeta,nmugs,nmat,nfou,af=interpolation[0,:8]\n",
    "delazim,beta,eta,zeta,nmugs,nmat,nfou,af"
   ]
  },
  {
   "cell_type": "markdown",
   "id": "b33d2263",
   "metadata": {},
   "source": [
    "And the stokes vector components:"
   ]
  },
  {
   "cell_type": "code",
   "execution_count": 32,
   "id": "ad88581d",
   "metadata": {},
   "outputs": [
    {
     "data": {
      "text/plain": [
       "array([4.59785742e-07, 2.25122997e-07, 1.83440080e-09, 4.89642131e-01])"
      ]
     },
     "execution_count": 32,
     "metadata": {},
     "output_type": "execute_result"
    }
   ],
   "source": [
    "stokes=interpolation[0,8:]\n",
    "stokes"
   ]
  },
  {
   "cell_type": "markdown",
   "id": "3e968cbd",
   "metadata": {},
   "source": [
    "Let's calculate the stokes vector using the pixx.reflection routine:"
   ]
  },
  {
   "cell_type": "code",
   "execution_count": 33,
   "id": "bf73a2d1",
   "metadata": {},
   "outputs": [
    {
     "data": {
      "text/plain": [
       "array([[4.59785742e-07, 2.25122997e-07, 1.83440080e-09, 4.89642131e-01]])"
      ]
     },
     "execution_count": 33,
     "metadata": {},
     "output_type": "execute_result"
    }
   ],
   "source": [
    "stokes_rec=pixx.reflection(\n",
    "    1,#nvals\n",
    "    [delazim],\n",
    "    [beta],\n",
    "    [eta],\n",
    "    [zeta],\n",
    "    int(nmugs),\n",
    "    int(nmat),\n",
    "    int(nfou),\n",
    "    xmu,\n",
    "    rfou,\n",
    "    af\n",
    ")\n",
    "stokes_rec"
   ]
  },
  {
   "cell_type": "markdown",
   "id": "7a576d89",
   "metadata": {},
   "source": [
    "Which coincides with what is stored:"
   ]
  },
  {
   "cell_type": "code",
   "execution_count": 34,
   "id": "3117c924",
   "metadata": {},
   "outputs": [
    {
     "data": {
      "text/plain": [
       "array([[0., 0., 0., 0.]])"
      ]
     },
     "execution_count": 34,
     "metadata": {},
     "output_type": "execute_result"
    }
   ],
   "source": [
    "stokes-stokes_rec"
   ]
  },
  {
   "cell_type": "markdown",
   "id": "9b0f4b73",
   "metadata": {},
   "source": [
    "Let's do it for more stored interpolation values:"
   ]
  },
  {
   "cell_type": "code",
   "execution_count": 40,
   "id": "8deb102d",
   "metadata": {},
   "outputs": [
    {
     "name": "stdout",
     "output_type": "stream",
     "text": [
      "[[0. 0. 0. 0.]]\n",
      "[[0. 0. 0. 0.]]\n",
      "[[0. 0. 0. 0.]]\n",
      "[[0. 0. 0. 0.]]\n",
      "[[0. 0. 0. 0.]]\n",
      "[[0. 0. 0. 0.]]\n",
      "[[0. 0. 0. 0.]]\n",
      "[[0. 0. 0. 0.]]\n",
      "[[0. 0. 0. 0.]]\n",
      "[[0. 0. 0. 0.]]\n"
     ]
    }
   ],
   "source": [
    "for i in range(10):\n",
    "    delazim,beta,eta,zeta,nmugs,nmat,nfou,af=interpolation[i,:8]\n",
    "    stokes_sto=interpolation[i,8:]\n",
    "    stokes_rec=pixx.reflection(\n",
    "        1,#nvals\n",
    "        [delazim],\n",
    "        [beta],\n",
    "        [eta],\n",
    "        [zeta],\n",
    "        int(nmugs),\n",
    "        int(nmat),\n",
    "        int(nfou),\n",
    "        xmu,\n",
    "        rfou,\n",
    "        af\n",
    "    )\n",
    "    print(stokes_sto-stokes_rec)"
   ]
  },
  {
   "cell_type": "markdown",
   "id": "c7f1997e",
   "metadata": {},
   "source": [
    "Let's do it for all:"
   ]
  },
  {
   "cell_type": "code",
   "execution_count": 49,
   "id": "b8a0a804",
   "metadata": {},
   "outputs": [],
   "source": [
    "delazim=interpolation[:,0]\n",
    "beta=interpolation[:,1]\n",
    "eta=interpolation[:,2]\n",
    "zeta=interpolation[:,3]\n",
    "\n",
    "nmugs=int(interpolation[0,4])\n",
    "nmat=int(interpolation[0,5])\n",
    "nfou=int(interpolation[0,6])\n",
    "\n",
    "af=interpolation[:,7]\n",
    "nvals=len(af)"
   ]
  },
  {
   "cell_type": "code",
   "execution_count": 50,
   "id": "e559abcc",
   "metadata": {},
   "outputs": [],
   "source": [
    "stokes_rec=pixx.reflection(\n",
    "        nvals,\n",
    "        delazim,\n",
    "        beta,\n",
    "        eta,\n",
    "        zeta,\n",
    "        nmugs,\n",
    "        nmat,\n",
    "        nfou,\n",
    "        xmu,\n",
    "        rfou,\n",
    "        af\n",
    "    )"
   ]
  },
  {
   "cell_type": "code",
   "execution_count": 51,
   "id": "8f81bc54",
   "metadata": {},
   "outputs": [],
   "source": [
    "stokes_sto=interpolation[:,8:]"
   ]
  },
  {
   "cell_type": "code",
   "execution_count": 53,
   "id": "de07ce2d",
   "metadata": {},
   "outputs": [
    {
     "data": {
      "text/plain": [
       "0.0"
      ]
     },
     "execution_count": 53,
     "metadata": {},
     "output_type": "execute_result"
    }
   ],
   "source": [
    "abs(stokes_sto-stokes_rec).sum()"
   ]
  },
  {
   "cell_type": "markdown",
   "id": "5fb0e3cf",
   "metadata": {},
   "source": [
    "It works!"
   ]
  },
  {
   "cell_type": "markdown",
   "id": "9c551466",
   "metadata": {},
   "source": [
    "The same thing can be repeated for ring"
   ]
  },
  {
   "cell_type": "code",
   "execution_count": 54,
   "id": "7eb29954",
   "metadata": {},
   "outputs": [
    {
     "data": {
      "text/plain": [
       "0.0"
      ]
     },
     "execution_count": 54,
     "metadata": {},
     "output_type": "execute_result"
    }
   ],
   "source": [
    "filename=\"planet-5292_63_21_4.mat\"\n",
    "ntot,nx,ny,nz=[int(v) for v in filename.split(\"-\")[1].split(\".\")[0].split(\"_\")]\n",
    "rfou=np.loadtxt(filename).reshape(nx,ny,nz)\n",
    "filename=\"planet-interpolation.mat\"\n",
    "interpolation=np.loadtxt(filename)\n",
    "filename=\"planet-xmu-21.mat\"\n",
    "xmu=np.loadtxt(filename)\n",
    "\n",
    "delazim=interpolation[:,0]\n",
    "beta=interpolation[:,1]\n",
    "eta=interpolation[:,2]\n",
    "zeta=interpolation[:,3]\n",
    "\n",
    "nmugs=int(interpolation[0,4])\n",
    "nmat=int(interpolation[0,5])\n",
    "nfou=int(interpolation[0,6])\n",
    "\n",
    "af=interpolation[:,7]\n",
    "nvals=len(af)\n",
    "\n",
    "stokes_rec=pixx.reflection(\n",
    "        nvals,\n",
    "        delazim,\n",
    "        beta,\n",
    "        eta,\n",
    "        zeta,\n",
    "        nmugs,\n",
    "        nmat,\n",
    "        nfou,\n",
    "        xmu,\n",
    "        rfou,\n",
    "        af\n",
    "    )\n",
    "stokes_sto=interpolation[:,8:]\n",
    "abs(stokes_sto-stokes_rec).sum()"
   ]
  },
  {
   "cell_type": "code",
   "execution_count": 57,
   "id": "cb4421c2",
   "metadata": {},
   "outputs": [
    {
     "data": {
      "text/plain": [
       "0.0"
      ]
     },
     "execution_count": 57,
     "metadata": {},
     "output_type": "execute_result"
    }
   ],
   "source": [
    "filename=\"ring_forward-414000_60_20_345.mat\"\n",
    "ntot,nx,ny,nz=[int(v) for v in filename.split(\"-\")[1].split(\".\")[0].split(\"_\")]\n",
    "rfou=np.loadtxt(filename).reshape(nx,ny,nz)\n",
    "filename=\"ring_forward-interpolation.mat\"\n",
    "interpolation=np.loadtxt(filename)\n",
    "filename=\"ring_forward-xmu-20.mat\"\n",
    "xmu=np.loadtxt(filename)\n",
    "\n",
    "delazim=interpolation[:,0]\n",
    "beta=interpolation[:,1]\n",
    "eta=interpolation[:,2]\n",
    "zeta=interpolation[:,3]\n",
    "\n",
    "nmugs=int(interpolation[0,4])\n",
    "nmat=int(interpolation[0,5])\n",
    "nfou=int(interpolation[0,6])\n",
    "\n",
    "af=interpolation[:,7]\n",
    "nvals=len(af)\n",
    "\n",
    "stokes_rec=pixx.reflection(\n",
    "        nvals,\n",
    "        delazim,\n",
    "        beta,\n",
    "        eta,\n",
    "        zeta,\n",
    "        nmugs,\n",
    "        nmat,\n",
    "        nfou,\n",
    "        xmu,\n",
    "        rfou,\n",
    "        af\n",
    "    )\n",
    "stokes_sto=interpolation[:,8:]\n",
    "abs(stokes_sto-stokes_rec).sum()"
   ]
  },
  {
   "cell_type": "code",
   "execution_count": 60,
   "id": "951b858f",
   "metadata": {},
   "outputs": [
    {
     "data": {
      "text/plain": [
       "0.0"
      ]
     },
     "execution_count": 60,
     "metadata": {},
     "output_type": "execute_result"
    }
   ],
   "source": [
    "filename=\"ring_back-414000_60_20_345.mat\"\n",
    "ntot,nx,ny,nz=[int(v) for v in filename.split(\"-\")[1].split(\".\")[0].split(\"_\")]\n",
    "rfou=np.loadtxt(filename).reshape(nx,ny,nz)\n",
    "filename=\"ring_back-interpolation.mat\"\n",
    "interpolation=np.loadtxt(filename)\n",
    "filename=\"ring_back-xmu-20.mat\"\n",
    "xmu=np.loadtxt(filename)\n",
    "\n",
    "delazim=interpolation[:,0]\n",
    "beta=interpolation[:,1]\n",
    "eta=interpolation[:,2]\n",
    "zeta=interpolation[:,3]\n",
    "\n",
    "nmugs=int(interpolation[0,4])\n",
    "nmat=int(interpolation[0,5])\n",
    "nfou=int(interpolation[0,6])\n",
    "\n",
    "af=interpolation[:,7]\n",
    "nvals=len(af)\n",
    "\n",
    "stokes_rec=pixx.reflection(\n",
    "        nvals,\n",
    "        delazim,\n",
    "        beta,\n",
    "        eta,\n",
    "        zeta,\n",
    "        nmugs,\n",
    "        nmat,\n",
    "        nfou,\n",
    "        xmu,\n",
    "        rfou,\n",
    "        af\n",
    "    )\n",
    "stokes_sto=interpolation[:,8:]\n",
    "abs(stokes_sto-stokes_rec).sum()"
   ]
  },
  {
   "cell_type": "markdown",
   "id": "a8ea2795",
   "metadata": {},
   "source": [
    "## How reshape works"
   ]
  },
  {
   "cell_type": "code",
   "execution_count": 71,
   "id": "7777097f",
   "metadata": {},
   "outputs": [],
   "source": [
    "matrix=np.array([[[1,2,3,4],[5,6,7,8],[9,10,11,12]],[[-1,-2,-3,-4],[-6,-6,-7,-8],[-9,-10,-11,-12]]])"
   ]
  },
  {
   "cell_type": "code",
   "execution_count": 75,
   "id": "7da58b99",
   "metadata": {},
   "outputs": [
    {
     "data": {
      "text/plain": [
       "(2, 3, 4)"
      ]
     },
     "execution_count": 75,
     "metadata": {},
     "output_type": "execute_result"
    }
   ],
   "source": [
    "nx,ny,nz=matrix.shape\n",
    "ntot=nx*ny*nz\n",
    "nx,ny,nz"
   ]
  },
  {
   "cell_type": "code",
   "execution_count": 76,
   "id": "e954ef3c",
   "metadata": {},
   "outputs": [
    {
     "data": {
      "text/plain": [
       "array([[  1],\n",
       "       [  2],\n",
       "       [  3],\n",
       "       [  4],\n",
       "       [  5],\n",
       "       [  6],\n",
       "       [  7],\n",
       "       [  8],\n",
       "       [  9],\n",
       "       [ 10],\n",
       "       [ 11],\n",
       "       [ 12],\n",
       "       [ -1],\n",
       "       [ -2],\n",
       "       [ -3],\n",
       "       [ -4],\n",
       "       [ -6],\n",
       "       [ -6],\n",
       "       [ -7],\n",
       "       [ -8],\n",
       "       [ -9],\n",
       "       [-10],\n",
       "       [-11],\n",
       "       [-12]])"
      ]
     },
     "execution_count": 76,
     "metadata": {},
     "output_type": "execute_result"
    }
   ],
   "source": [
    "matrix_reshap=matrix.reshape(ntot,1)\n",
    "matrix_reshap"
   ]
  },
  {
   "cell_type": "code",
   "execution_count": 80,
   "id": "7d50f053",
   "metadata": {},
   "outputs": [],
   "source": [
    "matrix_recons=np.zeros((nx,ny,nz))\n",
    "n=0\n",
    "for i in range(nx):\n",
    "    for j in range(ny):\n",
    "        for k in range(nz):\n",
    "            matrix_recons[i][j][k]=matrix_reshap[n]\n",
    "            n+=1"
   ]
  },
  {
   "cell_type": "code",
   "execution_count": 84,
   "id": "7f81b7ab",
   "metadata": {},
   "outputs": [
    {
     "data": {
      "text/plain": [
       "array([[[  1.,   2.,   3.,   4.],\n",
       "        [  5.,   6.,   7.,   8.],\n",
       "        [  9.,  10.,  11.,  12.]],\n",
       "\n",
       "       [[ -1.,  -2.,  -3.,  -4.],\n",
       "        [ -6.,  -6.,  -7.,  -8.],\n",
       "        [ -9., -10., -11., -12.]]])"
      ]
     },
     "execution_count": 84,
     "metadata": {},
     "output_type": "execute_result"
    }
   ],
   "source": [
    "matrix_recons"
   ]
  },
  {
   "cell_type": "markdown",
   "id": "8cd15295",
   "metadata": {},
   "source": [
    "## CPIXX using ctypes"
   ]
  },
  {
   "cell_type": "code",
   "execution_count": 2,
   "id": "30baa2c9",
   "metadata": {},
   "outputs": [
    {
     "data": {
      "text/plain": [
       "'/Users/jorgezuluagacallejas/Dropbox/MiInvestigacion/PapersEnProceso/Exorings/pryngles/src/pryngles/data/../cpixx.cpython-311-darwin.so'"
      ]
     },
     "execution_count": 2,
     "metadata": {},
     "output_type": "execute_result"
    }
   ],
   "source": [
    "libfile=glob.glob(Misc.get_data(\"../cpixx.*.so\"))[0]\n",
    "libfile"
   ]
  },
  {
   "cell_type": "code",
   "execution_count": 3,
   "id": "c780d53e",
   "metadata": {},
   "outputs": [],
   "source": [
    "#cpixx=ctypes.CDLL(Misc.get_data(library))\n",
    "cpixx=ctypes.CDLL(libfile)"
   ]
  },
  {
   "cell_type": "code",
   "execution_count": 4,
   "id": "5454ad84",
   "metadata": {},
   "outputs": [],
   "source": [
    "#Global variables\n",
    "MAX_MAT=3\n",
    "MAX_MUS=22\n",
    "MAX_FOU=350\n",
    "MAX_PIX=1000\n",
    "def read_fourier(filename):\n",
    "    \"\"\"\n",
    "    Read a file containing fourier coefficients produced by PyMieDAP\n",
    "\n",
    "    Parameters:\n",
    "    \n",
    "        filename: string:\n",
    "            File with the fourier coefficients.\n",
    "\n",
    "    Returns:\n",
    "\n",
    "        nmugs: int:\n",
    "           Number of gaussian integration coefficients.\n",
    "\n",
    "        nmat: int:\n",
    "           Number of Fourier components.\n",
    "\n",
    "        nfou: int:\n",
    "           Number of Fourier coefficients.\n",
    "\n",
    "        rfout: array (nmugs*nmat,nmugs,nfou):\n",
    "           Matrix with the fourier coefficients for reflection.\n",
    "\n",
    "        rtra: array (nmugs*nmat,nmugs,nfou): \n",
    "           Matrix with the fourier coefficients for transmission (if apply).\n",
    "\n",
    "    \"\"\"\n",
    "    f=open(filename)\n",
    "\n",
    "    #Read header\n",
    "    nmat=0\n",
    "    imu=0\n",
    "    for i,line in enumerate(f):\n",
    "        if '#' in line:\n",
    "            continue\n",
    "        data=line.split()\n",
    "        if len(data)<3:\n",
    "            if len(data)==1:\n",
    "                if not nmat:\n",
    "                    nmat=int(data[0])\n",
    "                else:\n",
    "                    nmugs=int(data[0])\n",
    "                    xmu=np.zeros(nmugs)\n",
    "            else:\n",
    "                xmu[imu]=float(data[0])\n",
    "                imu+=1\n",
    "        else:\n",
    "            break\n",
    "\n",
    "    #Get core data\n",
    "    data=np.loadtxt(filename,skiprows=i)\n",
    "    nfou=int(data[:,0].max())+1\n",
    "\n",
    "    rfou=np.zeros((MAX_MAT*MAX_MUS,MAX_MUS,MAX_FOU))\n",
    "    rtra=np.zeros((MAX_MAT*MAX_MUS,MAX_MUS,MAX_FOU))\n",
    "\n",
    "    #Read fourier coefficients\n",
    "    for row in data:\n",
    "        m,i,j=int(row[0]),int(row[1])-1,int(row[2])-1\n",
    "        ibase=i*nmat\n",
    "        rfou[ibase:ibase+3,j,m]=row[3:3+nmat]\n",
    "        if len(row[3:])>nmat:\n",
    "            rtra[ibase:ibase+3,j,m]=row[3+nmat:3+2*nmat]\n",
    "            \n",
    "    return nmat,nmugs,nfou,xmu,rfou,rtra"
   ]
  },
  {
   "cell_type": "code",
   "execution_count": 5,
   "id": "64be1695",
   "metadata": {},
   "outputs": [],
   "source": [
    "filename=\"fou_gasplanet.dat\"\n",
    "nmat,nmugs,nfou,xmu,rfou,rtra=read_fourier(filename)"
   ]
  },
  {
   "cell_type": "code",
   "execution_count": 6,
   "id": "632f2983",
   "metadata": {},
   "outputs": [
    {
     "data": {
      "text/plain": [
       "(3, 21, 3)"
      ]
     },
     "execution_count": 6,
     "metadata": {},
     "output_type": "execute_result"
    }
   ],
   "source": [
    "nmat,nmugs,nfou"
   ]
  },
  {
   "cell_type": "code",
   "execution_count": 7,
   "id": "73d68b4a",
   "metadata": {},
   "outputs": [],
   "source": [
    "npix=1\n",
    "phi=np.zeros(npix)\n",
    "beta=np.zeros(npix)\n",
    "theta0=np.zeros(npix)\n",
    "theta=np.zeros(npix)\n",
    "apix=np.zeros(npix)\n",
    "Sarr=np.zeros((MAX_PIX,MAX_MAT+1))\n",
    "shape=np.array([nmat,nmugs,nfou],dtype=int)"
   ]
  },
  {
   "cell_type": "code",
   "execution_count": 8,
   "id": "56bfb63b",
   "metadata": {},
   "outputs": [],
   "source": [
    "phi[0]=1.0448451569439827;\n",
    "beta[0]=3.069394277348945;\n",
    "theta0[0]=0.04990329026929557;\n",
    "theta[0]=0.02509670973070432;\n",
    "apix[0]=9.432328787795567e-05;"
   ]
  },
  {
   "cell_type": "code",
   "execution_count": 9,
   "id": "a02f4a9e",
   "metadata": {},
   "outputs": [],
   "source": [
    "cpixx.reflection.argtypes = [\n",
    "    ctypes.c_int,\n",
    "    np.ctypeslib.ndpointer(dtype=float),\n",
    "    np.ctypeslib.ndpointer(dtype=float),\n",
    "    np.ctypeslib.ndpointer(dtype=float),\n",
    "    np.ctypeslib.ndpointer(dtype=float),\n",
    "    np.ctypeslib.ndpointer(dtype=int),\n",
    "    np.ctypeslib.ndpointer(dtype=float),\n",
    "    np.ctypeslib.ndpointer(dtype=float),\n",
    "    np.ctypeslib.ndpointer(dtype=float),\n",
    "    np.ctypeslib.ndpointer(dtype=float),\n",
    "]"
   ]
  },
  {
   "cell_type": "code",
   "execution_count": 10,
   "id": "131a35a2",
   "metadata": {},
   "outputs": [
    {
     "data": {
      "text/plain": [
       "0"
      ]
     },
     "execution_count": 10,
     "metadata": {},
     "output_type": "execute_result"
    },
    {
     "name": "stdout",
     "output_type": "stream",
     "text": [
      "4.5978574249025603e-07 2.2512299728721978e-07 1.8344008005631274e-09 4.8964213134249535e-01 \n"
     ]
    }
   ],
   "source": [
    "cpixx.reflection(npix,phi,beta,theta0,theta,shape,xmu,rfou,apix,Sarr)"
   ]
  },
  {
   "cell_type": "code",
   "execution_count": 11,
   "id": "6dfa3def",
   "metadata": {},
   "outputs": [
    {
     "data": {
      "text/plain": [
       "array([4.59785742e-07, 2.25122997e-07, 1.83440080e-09, 4.89642131e-01])"
      ]
     },
     "execution_count": 11,
     "metadata": {},
     "output_type": "execute_result"
    }
   ],
   "source": [
    "Sarr[0]"
   ]
  },
  {
   "cell_type": "markdown",
   "id": "c6843bce",
   "metadata": {},
   "source": [
    "Massive test:"
   ]
  },
  {
   "cell_type": "code",
   "execution_count": 12,
   "id": "bf237c55",
   "metadata": {},
   "outputs": [],
   "source": [
    "data=np.loadtxt(\"planet-interpolation.mat\")"
   ]
  },
  {
   "cell_type": "code",
   "execution_count": 13,
   "id": "b70b9c91",
   "metadata": {},
   "outputs": [],
   "source": [
    "npix=2\n",
    "phi=data[:npix,0]\n",
    "beta=data[:npix,1]\n",
    "theta0=data[:npix,2]\n",
    "theta=data[:npix,3]\n",
    "apix=data[:npix,7]\n",
    "Spixx=data[:npix,8:]"
   ]
  },
  {
   "cell_type": "code",
   "execution_count": 14,
   "id": "28e2e1db",
   "metadata": {},
   "outputs": [
    {
     "data": {
      "text/plain": [
       "(2, 4)"
      ]
     },
     "execution_count": 14,
     "metadata": {},
     "output_type": "execute_result"
    }
   ],
   "source": [
    "Spixx.shape"
   ]
  },
  {
   "cell_type": "code",
   "execution_count": 15,
   "id": "f645ff99",
   "metadata": {},
   "outputs": [
    {
     "name": "stdout",
     "output_type": "stream",
     "text": [
      "2\n"
     ]
    }
   ],
   "source": [
    "npix=len(phi)\n",
    "print(npix)"
   ]
  },
  {
   "cell_type": "code",
   "execution_count": 16,
   "id": "4cfd03a3",
   "metadata": {},
   "outputs": [],
   "source": [
    "Sarr=np.zeros((MAX_PIX,MAX_MAT+1))"
   ]
  },
  {
   "cell_type": "code",
   "execution_count": 17,
   "id": "b33c293b",
   "metadata": {},
   "outputs": [
    {
     "data": {
      "text/plain": [
       "0"
      ]
     },
     "execution_count": 17,
     "metadata": {},
     "output_type": "execute_result"
    },
    {
     "name": "stdout",
     "output_type": "stream",
     "text": [
      "4.5978574249025603e-07 2.2512299728721978e-07 1.8344008005631274e-09 4.8964213134249535e-01 \n",
      "3.0764298300968855e+00 3.1156269695201195e+00 -5.3939660300185432e-01 1.0278063400529971e+00 \n"
     ]
    }
   ],
   "source": [
    "cpixx.reflection(npix,phi,beta,theta0,theta,shape,xmu,rfou,apix,Sarr)"
   ]
  },
  {
   "cell_type": "code",
   "execution_count": 18,
   "id": "752dcd61",
   "metadata": {},
   "outputs": [
    {
     "data": {
      "text/plain": [
       "array([ 3.07642983,  3.11562697, -0.5393966 ,  1.02780634])"
      ]
     },
     "execution_count": 18,
     "metadata": {},
     "output_type": "execute_result"
    }
   ],
   "source": [
    "Sarr[1]"
   ]
  },
  {
   "cell_type": "code",
   "execution_count": 20,
   "id": "e17562b0",
   "metadata": {},
   "outputs": [
    {
     "data": {
      "text/plain": [
       "0.06713386589710574"
      ]
     },
     "execution_count": 20,
     "metadata": {},
     "output_type": "execute_result"
    }
   ],
   "source": []
  },
  {
   "cell_type": "code",
   "execution_count": 22,
   "id": "56f16ab3",
   "metadata": {},
   "outputs": [
    {
     "data": {
      "text/plain": [
       "array([[0.81487907, 0.24939891, 0.26122312, 0.52951497, 0.38251477,\n",
       "        0.7349349 , 0.63143151, 0.30621508, 0.32178908, 0.09923947],\n",
       "       [0.66509379, 0.65766778, 0.18032158, 0.89154235, 0.80931613,\n",
       "        0.13943851, 0.86482976, 0.43150413, 0.10495243, 0.60990477],\n",
       "       [0.13381602, 0.6564353 , 0.9151039 , 0.33814194, 0.99744972,\n",
       "        0.35854345, 0.69953885, 0.32775088, 0.34920686, 0.90224016],\n",
       "       [0.5978191 , 0.16936725, 0.40762404, 0.1817239 , 0.71449535,\n",
       "        0.18688713, 0.56509655, 0.30894284, 0.36862986, 0.32941899],\n",
       "       [0.9089598 , 0.31009955, 0.716284  , 0.71487116, 0.60366621,\n",
       "        0.40821321, 0.79954942, 0.9233474 , 0.93608776, 0.6123023 ],\n",
       "       [0.84788317, 0.72470247, 0.07010189, 0.44423283, 0.38355007,\n",
       "        0.19705982, 0.24949129, 0.75799769, 0.25960549, 0.43143455],\n",
       "       [0.86102735, 0.88586562, 0.46694527, 0.06156265, 0.48731098,\n",
       "        0.5580955 , 0.63909957, 0.22759504, 0.39378637, 0.80723318],\n",
       "       [0.00342398, 0.95340133, 0.10207007, 0.98730319, 0.00940843,\n",
       "        0.31716294, 0.152123  , 0.51500792, 0.65999848, 0.10151293],\n",
       "       [0.52456449, 0.63107155, 0.90957974, 0.99850289, 0.74787783,\n",
       "        0.61681713, 0.54279675, 0.38049437, 0.42208219, 0.61530922],\n",
       "       [0.25321767, 0.24209149, 0.7080689 , 0.77262125, 0.28587773,\n",
       "        0.66690993, 0.27773007, 0.39365818, 0.38478501, 0.82724648]])"
      ]
     },
     "execution_count": 22,
     "metadata": {},
     "output_type": "execute_result"
    }
   ],
   "source": [
    "np.random.rand(10,10)"
   ]
  },
  {
   "cell_type": "code",
   "execution_count": null,
   "id": "6540e331",
   "metadata": {},
   "outputs": [],
   "source": []
  }
 ],
 "metadata": {
  "kernelspec": {
   "display_name": "Python 3 (ipykernel)",
   "language": "python",
   "name": "python3"
  },
  "language_info": {
   "codemirror_mode": {
    "name": "ipython",
    "version": 3
   },
   "file_extension": ".py",
   "mimetype": "text/x-python",
   "name": "python",
   "nbconvert_exporter": "python",
   "pygments_lexer": "ipython3",
   "version": "3.9.7"
  }
 },
 "nbformat": 4,
 "nbformat_minor": 5
}
