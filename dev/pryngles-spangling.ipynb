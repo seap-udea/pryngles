{
 "cells": [
  {
   "cell_type": "markdown",
   "id": "5c9f509d",
   "metadata": {},
   "source": [
    "# Pryngles module: < template >"
   ]
  },
  {
   "cell_type": "code",
   "execution_count": 1,
   "id": "c9a439e5",
   "metadata": {},
   "outputs": [],
   "source": [
    "from pryngles import *"
   ]
  },
  {
   "cell_type": "markdown",
   "id": "b3b68845",
   "metadata": {},
   "source": [
    "## External modules"
   ]
  },
  {
   "cell_type": "code",
   "execution_count": null,
   "id": "aaa41b53",
   "metadata": {},
   "outputs": [],
   "source": []
  },
  {
   "cell_type": "markdown",
   "id": "c2268fe1",
   "metadata": {},
   "source": [
    "## The body class\n",
    "\n",
    "The Body class is one of the most important classes in the package. "
   ]
  },
  {
   "cell_type": "code",
   "execution_count": 5,
   "id": "9c56d3f1",
   "metadata": {},
   "outputs": [],
   "source": [
    "Class_doc=\\\n",
    "\"\"\"A general body.  This calss is not intended to be used independently, just for inheritance purposes.\n",
    "    \n",
    "Initialization attributes:\n",
    "\n",
    "    kind : string\n",
    "        One of the kind of bodies defined in the package (see _BODY_KINDS)\n",
    "\n",
    "Secondary attributes:\n",
    "\n",
    "    hash: string\n",
    "        Hash of the object, ie. a unique string identifying the object \n",
    "        (see hash Python function)\n",
    "\n",
    "Public methods:\n",
    "\n",
    "    update_body(props):\n",
    "        Update a given property.\n",
    "\"\"\""
   ]
  },
  {
   "cell_type": "code",
   "execution_count": 6,
   "id": "e814fdf8",
   "metadata": {},
   "outputs": [],
   "source": [
    "class Class(object):\n",
    "    \n",
    "    def __init__(self):\n",
    "        pass\n",
    "\n",
    "Class.__doc__=Class_doc"
   ]
  },
  {
   "cell_type": "markdown",
   "id": "8eeaea60",
   "metadata": {},
   "source": [
    "## Testing"
   ]
  },
  {
   "cell_type": "code",
   "execution_count": 7,
   "id": "71c6612c",
   "metadata": {},
   "outputs": [
    {
     "name": "stderr",
     "output_type": "stream",
     "text": [
      ".\n",
      "----------------------------------------------------------------------\n",
      "Ran 1 test in 0.002s\n",
      "\n",
      "OK\n"
     ]
    }
   ],
   "source": [
    "if IN_JUPYTER:\n",
    "    def test_fun(self):\n",
    "        \"\"\"\n",
    "        self.assertEqual(self.P.Nr,8,True)\n",
    "        self.assertEqual(np.isclose([P.physics.wrot],\n",
    "                                    [2*np.pi/PlanetDefaults.physics[\"prot\"]],\n",
    "                                    rtol=1e-7),\n",
    "                         [True]*1)\n",
    "        self.assertRaises(AssertionError,lambda:Observer(primary=\"Nada\"))\n",
    "        \"\"\"\n",
    "        \n",
    "    class Test(unittest.TestCase):pass\n",
    "    Test.test_fun=test_fun\n",
    "    unittest.main(argv=['first-arg-is-ignored'],exit=False)"
   ]
  },
  {
   "cell_type": "markdown",
   "id": "7918ce69",
   "metadata": {},
   "source": [
    "--End--"
   ]
  }
 ],
 "metadata": {
  "kernelspec": {
   "display_name": "Python 3 (ipykernel)",
   "language": "python",
   "name": "python3"
  },
  "language_info": {
   "codemirror_mode": {
    "name": "ipython",
    "version": 3
   },
   "file_extension": ".py",
   "mimetype": "text/x-python",
   "name": "python",
   "nbconvert_exporter": "python",
   "pygments_lexer": "ipython3",
   "version": "3.9.7"
  }
 },
 "nbformat": 4,
 "nbformat_minor": 5
}
