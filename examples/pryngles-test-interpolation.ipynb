{
 "cells": [
  {
   "cell_type": "code",
   "execution_count": 1,
   "id": "8c675ceb",
   "metadata": {},
   "outputs": [
    {
     "name": "stdout",
     "output_type": "stream",
     "text": [
      "The autoreload extension is already loaded. To reload it, use:\n",
      "  %reload_ext autoreload\n"
     ]
    }
   ],
   "source": [
    "%load_ext autoreload\n",
    "%autoreload 2\n",
    "from pryngles import *\n",
    "from pryngles import pixx\n",
    "extension=\"pixx\"\n"
   ]
  },
  {
   "cell_type": "code",
   "execution_count": 2,
   "id": "e123e575",
   "metadata": {},
   "outputs": [
    {
     "name": "stdout",
     "output_type": "stream",
     "text": [
      "Using extension:  pixx\n",
      "Fourier file used for the planet:  /home/allard/code/pryngles_fresh/src/pryngles/data/fou_gasplanet_optical_50.dat\n",
      "Fourier file used for the ring:  /home/allard/code/pryngles_fresh/src/pryngles/data/fou_ring_0_4_0_8_20gaus.dat\n",
      "Number of gauss points in the ring file 20\n",
      "Interpolation method for the planet spline\n",
      "Interpolation method for the ring bilinear\n",
      "Ring flux with bilinear:  0.05117746304834176\n",
      "Interpolation method for the ring spline\n"
     ]
    },
    {
     "name": "stderr",
     "output_type": "stream",
     "text": [
      "."
     ]
    },
    {
     "name": "stdout",
     "output_type": "stream",
     "text": [
      "Ring flux with spline:  0.05374437931031714\n",
      "Change in flux:  True\n"
     ]
    },
    {
     "name": "stderr",
     "output_type": "stream",
     "text": [
      "\n",
      "----------------------------------------------------------------------\n",
      "Ran 1 test in 3.515s\n",
      "\n",
      "OK\n"
     ]
    },
    {
     "data": {
      "text/plain": [
       "<unittest.main.TestProgram at 0x7f0b703ce240>"
      ]
     },
     "execution_count": 2,
     "metadata": {},
     "output_type": "execute_result"
    }
   ],
   "source": [
    "#@test:misc\n",
    "def test_interp(self):\n",
    "    extension = \"pixx\"\n",
    "    orbit_i = 30\n",
    "    ring_i = 60\n",
    "    ring_l = 0\n",
    "    gamma, beta_obs, lamb_obs, lamb_star = Util.calcStartingPosition(orbit_i,ring_i,ring_l)\n",
    "\n",
    "    pixx_sys = System()\n",
    "    s=pixx_sys.add(kind=\"Star\",physics=dict(radius=Consts.rsun/pixx_sys.ul),optics=dict(limb_coeffs=[0.65]))\n",
    "    p=pixx_sys.add(kind=\"Planet\", primary=s, \n",
    "                   radius=Consts.rsaturn/pixx_sys.ul,\n",
    "                   orbit=dict(a=1, e=0.0),\n",
    "                   physics=dict(radius=Consts.rsaturn/pixx_sys.ul),\n",
    "                   optics=dict(nspangles=2000))\n",
    "    r=pixx_sys.add(kind=\"Ring\", primary=p,\n",
    "                   physics=dict(fi=1.5, fe=2.25, i=gamma),\n",
    "                   optics=dict(nspangles=2000))\n",
    "\n",
    "    RP=pixx_sys.ensamble_system(extension=extension, \n",
    "                                fname_ring=Misc.get_data(\"fou_ring_0_4_0_8_20gaus.dat\"))\n",
    "    print(\"Using extension: \", RP.physics[\"extension\"])\n",
    "    \n",
    "    print(\"Fourier file used for the planet: \",RP.fname_planet)\n",
    "    print(\"Fourier file used for the ring: \",RP.fname_ring)\n",
    "    print(\"Number of gauss points in the ring file\",RP.nmugsr)\n",
    "    \n",
    "    print(\"Interpolation method for the planet\",RP.behavior[\"interp_method_planet\"])\n",
    "    print(\"Interpolation method for the ring\",RP.behavior[\"interp_method_ring\"])\n",
    "\n",
    "    lamb_initial = lamb_star + 180*Consts.deg\n",
    "    RP.changeObserver([lamb_obs,beta_obs])\n",
    "    RP.changeStellarPosition(lamb_initial)\n",
    "    RP._updateGeometricalFactors()\n",
    "    RP.updateReflection()\n",
    "    rflux_bilinear = RP.Stotr[0]\n",
    "    print(\"Ring flux with bilinear: \", rflux_bilinear)\n",
    "    \n",
    "    RP.behavior[\"interp_method_ring\"] = 'spline'\n",
    "    print(\"Interpolation method for the ring\", RP.behavior[\"interp_method_ring\"])\n",
    "    RP.updateReflection()\n",
    "    rflux_spline = RP.Stotr[0]\n",
    "    print(\"Ring flux with spline: \", rflux_spline)\n",
    "    \n",
    "    print(\"Change in flux: \", rflux_bilinear != rflux_spline)\n",
    "    \n",
    "class Test(unittest.TestCase):pass    \n",
    "Test.test_misc=test_interp\n",
    "unittest.main(argv=['first-arg-is-ignored'],exit=False)\n",
    "#@end:test"
   ]
  }
 ],
 "metadata": {
  "kernelspec": {
   "display_name": "Python 3",
   "language": "python",
   "name": "python3"
  },
  "language_info": {
   "codemirror_mode": {
    "name": "ipython",
    "version": 3
   },
   "file_extension": ".py",
   "mimetype": "text/x-python",
   "name": "python",
   "nbconvert_exporter": "python",
   "pygments_lexer": "ipython3",
   "version": "3.6.15"
  }
 },
 "nbformat": 4,
 "nbformat_minor": 5
}
