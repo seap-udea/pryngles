{
 "cells": [
  {
   "cell_type": "markdown",
   "id": "e0883a48",
   "metadata": {},
   "source": [
    "## Pryngles Development"
   ]
  },
  {
   "cell_type": "code",
   "execution_count": 62,
   "id": "e79cd628",
   "metadata": {},
   "outputs": [
    {
     "name": "stdout",
     "output_type": "stream",
     "text": [
      "The autoreload extension is already loaded. To reload it, use:\n",
      "  %reload_ext autoreload\n"
     ]
    }
   ],
   "source": [
    "%load_ext autoreload\n",
    "%autoreload 2\n",
    "import pryngles as pr"
   ]
  },
  {
   "cell_type": "code",
   "execution_count": 67,
   "id": "34cf77ff",
   "metadata": {},
   "outputs": [
    {
     "data": {
      "text/plain": [
       "'..'"
      ]
     },
     "execution_count": 67,
     "metadata": {},
     "output_type": "execute_result"
    }
   ],
   "source": [
    "pr.get_data(\"util\")\n",
    "pr._init.__rootdir__"
   ]
  },
  {
   "cell_type": "markdown",
   "id": "0c23fbce",
   "metadata": {},
   "source": [
    "![](pryngles-ideas-development.jpeg)"
   ]
  },
  {
   "cell_type": "markdown",
   "id": "ed36483b",
   "metadata": {},
   "source": [
    "How I will like to call package:"
   ]
  },
  {
   "cell_type": "code",
   "execution_count": 35,
   "id": "4719818e",
   "metadata": {},
   "outputs": [],
   "source": [
    "import pryngles as pr"
   ]
  },
  {
   "cell_type": "code",
   "execution_count": 7,
   "id": "e7403a91",
   "metadata": {},
   "outputs": [],
   "source": [
    "#Create the system\n",
    "\"\"\"\n",
    "\"\"\"\n",
    "sys=pr.System()\n",
    "#Set properties of objects\n",
    "\"\"\"\n",
    "\"\"\"\n",
    "S=sys.addStar()\n",
    "O=sys.addObserver()\n",
    "#Add objects\n",
    "\"\"\"\n",
    "\"\"\"\n",
    "P=sys.addPlanet(center=S)\n",
    "R=sys.addRing(center=P)"
   ]
  },
  {
   "cell_type": "code",
   "execution_count": 69,
   "id": "1add8f8b",
   "metadata": {},
   "outputs": [],
   "source": [
    "#Create the system\n",
    "\"\"\"\n",
    "You may also set the properties of the system providing the information of the \n",
    "\n",
    "All angles are provided in radians: 30*pr.deg\n",
    "\n",
    "By default units are in Msun,au,yr\n",
    "\n",
    "If no hash is provided then by default hash of rebound are used.\n",
    "\"\"\"\n",
    "sys=pr.System(stars=[dict(hash='primary',m=1,R=1)],\n",
    "              planets=[dict(center='planet',m=1e-3,R=0.1)],\n",
    "              rings=[dict(center='planet',fi=1.5,fe=2.4)],\n",
    "              observers=[dict(center='primary',kind='fixed',beta=30*pr.deg,lamb=50*pr.deg)],\n",
    "             )"
   ]
  },
  {
   "cell_type": "code",
   "execution_count": null,
   "id": "6ffd41bf",
   "metadata": {},
   "outputs": [],
   "source": [
    "#Alternative\n",
    "star=dict(hash='primary',m=1,R=1)\n",
    "planet=dict(center='planet',m=1e-3,R=0.1)\n",
    "ring=dict(center='planet',fi=1.5,fe=2.4))\n",
    "observer=dict(center='primary',kind='fixed',beta=30*pr.deg,lamb=50*pr.deg)\n",
    "\n",
    "pr.System(stars=star,planets=planet,rings=ring)\n",
    "\n",
    "#Or alternatively\n",
    "S=pr.System()\n",
    "pr.addStar(**star)\n",
    "pr.addPlanet(**planet)\n",
    "pr.addRing(**ring)\n",
    "pr.addObserver(**observer)"
   ]
  },
  {
   "cell_type": "code",
   "execution_count": null,
   "id": "50661c80",
   "metadata": {},
   "outputs": [],
   "source": [
    "#Units\n",
    "S=pr.System()\n",
    "S.units='Msun','au','yr'\n"
   ]
  },
  {
   "cell_type": "markdown",
   "id": "fc661be8",
   "metadata": {},
   "source": [
    "## Code in README"
   ]
  },
  {
   "cell_type": "code",
   "execution_count": 2,
   "id": "cd05ae09",
   "metadata": {},
   "outputs": [],
   "source": [
    "import pryngles as pr\n",
    "sys=pr.System()"
   ]
  },
  {
   "cell_type": "code",
   "execution_count": null,
   "id": "691d6fb8",
   "metadata": {},
   "outputs": [],
   "source": []
  }
 ],
 "metadata": {
  "kernelspec": {
   "display_name": "Python 3 (ipykernel)",
   "language": "python",
   "name": "python3"
  },
  "language_info": {
   "codemirror_mode": {
    "name": "ipython",
    "version": 3
   },
   "file_extension": ".py",
   "mimetype": "text/x-python",
   "name": "python",
   "nbconvert_exporter": "python",
   "pygments_lexer": "ipython3",
   "version": "3.9.7"
  }
 },
 "nbformat": 4,
 "nbformat_minor": 5
}
