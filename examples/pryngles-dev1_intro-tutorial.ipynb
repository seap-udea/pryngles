{
 "cells": [
  {
   "attachments": {},
   "cell_type": "markdown",
   "id": "9154807e",
   "metadata": {
    "id": "gSrYUMXmx5Hj"
   },
   "source": [
    "# Pryngles Tutorials: Developers\n",
    "## Part 1 - Presentation and general modules"
   ]
  },
  {
   "attachments": {},
   "cell_type": "markdown",
   "id": "d2840de4",
   "metadata": {},
   "source": [
    "This notebook illustrate in detail the interface of the `Pryngles` package. It is especially intended for developers.\n",
    "\n",
    "Authors:\n",
    "- Jorge I. Zuluaga, [jorge.zuluaga@udea.edu.co](mailto:jorge.zuluaga@udea.edu.co)\n",
    "\n",
    "Warnings:\n",
    "- This file was prepared using version 0.7.3.1 of `Pryngles`.\n",
    "- It works in version 0.9.0.\n",
    "- Matplotlib commands run in version 3.5.2."
   ]
  },
  {
   "attachments": {},
   "cell_type": "markdown",
   "id": "da3ab03d",
   "metadata": {},
   "source": [
    "<center><font color='red' size='8'><i>This tutorial is under construction.</i></font></center>"
   ]
  },
  {
   "attachments": {},
   "cell_type": "markdown",
   "id": "f02e2b09",
   "metadata": {},
   "source": [
    "## Preparation"
   ]
  },
  {
   "attachments": {},
   "cell_type": "markdown",
   "id": "23fff249",
   "metadata": {},
   "source": [
    "Before running this tutorial you need to install `Pryngles`:"
   ]
  },
  {
   "cell_type": "code",
   "execution_count": 1,
   "id": "16c64161",
   "metadata": {},
   "outputs": [],
   "source": [
    "#!python -m pip install -qU pryngles\n",
    "#!pip show pryngles"
   ]
  },
  {
   "attachments": {},
   "cell_type": "markdown",
   "id": "ca956f1a",
   "metadata": {},
   "source": [
    "If you are running this tutrial in `Google Colab` please run the following lines:"
   ]
  },
  {
   "cell_type": "code",
   "execution_count": 2,
   "id": "fb9c8eda",
   "metadata": {},
   "outputs": [],
   "source": [
    "\"\"\"\n",
    "import matplotlib.pyplot as plt\n",
    "RESOLUTION = 150\n",
    "%matplotlib inline\n",
    "plt.rcParams['figure.dpi'] = RESOLUTION\n",
    "# Sometimes you need to run twice this magic to be sure the backend is loaded\n",
    "%matplotlib inline\n",
    "#\"\"\";"
   ]
  },
  {
   "attachments": {},
   "cell_type": "markdown",
   "id": "cb9e0332",
   "metadata": {},
   "source": [
    "## Import useful packages"
   ]
  },
  {
   "cell_type": "code",
   "execution_count": 28,
   "id": "4df48092",
   "metadata": {},
   "outputs": [
    {
     "name": "stdout",
     "output_type": "stream",
     "text": [
      "The autoreload extension is already loaded. To reload it, use:\n",
      "  %reload_ext autoreload\n"
     ]
    }
   ],
   "source": [
    "%load_ext autoreload\n",
    "%autoreload 2\n",
    "import numpy as np\n",
    "import pandas as pd\n",
    "import matplotlib.pyplot as plt\n",
    "%matplotlib inline"
   ]
  },
  {
   "attachments": {},
   "cell_type": "markdown",
   "id": "be2bdfc7",
   "metadata": {},
   "source": [
    "Although it is not a good practice to import everything of a package, for this tutorial and to avoid excesively large names we will import everything from Pryngles:"
   ]
  },
  {
   "cell_type": "code",
   "execution_count": 2,
   "id": "d198219e",
   "metadata": {},
   "outputs": [
    {
     "name": "stdout",
     "output_type": "stream",
     "text": [
      "The autoreload extension is already loaded. To reload it, use:\n",
      "  %reload_ext autoreload\n"
     ]
    }
   ],
   "source": [
    "from pryngles import *"
   ]
  },
  {
   "attachments": {},
   "cell_type": "markdown",
   "id": "de43f834",
   "metadata": {},
   "source": [
    "# Structure of the package"
   ]
  },
  {
   "attachments": {},
   "cell_type": "markdown",
   "id": "e93e98ca",
   "metadata": {},
   "source": [
    "`Pryngles` is a highly modular package divided in modules and datafiles.  At designing the package we have followed the rule or convention of creating for each module a `Class` with the name of the module. Thus for instance, the module `plot` contains a general purpose class `Plot` containing routines intended for plotting purposes, eg. `Plot.pryngles_mark()`."
   ]
  },
  {
   "attachments": {},
   "cell_type": "markdown",
   "id": "055ebdda",
   "metadata": {},
   "source": [
    "`Pryngles` has two type of modules: \n",
    "\n",
    "- **General modules**: These modules contain *static classes*, i.e. classes that cannot be instantiated and their methods work as regular functions.  Example:\n",
    "\n",
    "  ```python\n",
    "     \n",
    "     #Definition\n",
    "     class Foo(object):\n",
    "        def test(x):\n",
    "            return not x\n",
    "\n",
    "     #Usage\n",
    "     Foo(True)\n",
    "  ```\n",
    "  \n",
    "- **Core modules**: These are the key modules in the package.  They contain regular classes and perform the most specialized functions in the package."
   ]
  },
  {
   "attachments": {},
   "cell_type": "markdown",
   "id": "13d91a6e",
   "metadata": {},
   "source": [
    "Pryngles has the following **general modules**:\n",
    "\n",
    "- `consts`: Constants and other methods associated to them.\n",
    "- `util`: Util and miscellaneous routines.\n",
    "- `plot`: Plotting methods and other miscelaneous routines.\n",
    "- `science`: Classes and methods involving useful scientific calculations."
   ]
  },
  {
   "attachments": {},
   "cell_type": "markdown",
   "id": "aa8debec",
   "metadata": {},
   "source": [
    "The most important modules, the **core modules**, implementing the core functionalities in the package are:\n",
    "\n",
    "- `sampler`: Module containing the classes and methods to generate sample of points.\n",
    "- `spangler`: Classes and methods to spangle bodies.\n",
    "- `body`: Classes and methods used to create and spangle astrophysical bodies.\n",
    "- `system`: This is the most important module.  It contains the classes and methods use to define a planetary system, spangle it and calculate light-curves.\n",
    "- `legacy`: This module contains all the classes and routines of the legacy `RingedPlanet` interface to Pryngles.  This interface will be deprecated in version 2.0."
   ]
  },
  {
   "attachments": {},
   "cell_type": "markdown",
   "id": "e395eed0",
   "metadata": {},
   "source": [
    "In this tutorial we will offer a detailed guide to each module."
   ]
  },
  {
   "attachments": {},
   "cell_type": "markdown",
   "id": "b061907e",
   "metadata": {},
   "source": [
    "## About Pryngles Interfaces"
   ]
  },
  {
   "attachments": {},
   "cell_type": "markdown",
   "id": "ee78ebc7",
   "metadata": {},
   "source": [
    "`Pryngles` is a research package, designed and released at the pace of research. For the same reason, it has evolved in a different way to professional software.\n",
    "\n",
    "Due to historical (the history of development) reasons `Pryngles` has two interfaces.  Interfaces differ in many aspects, some of them are superficial others are more deep and are related to the design of the package, even with the physics involved.  The interfaces are:\n",
    "\n",
    "- **System Interface**. This is the newest interface. In this interface we use the `snake_case` naming convention for methods. The interface is loaded using:\n",
    "\n",
    "  ```python\n",
    "  import pryngles as pr\n",
    "  sys=pr.System()\n",
    "  ```\n",
    "\n",
    "- **RingedPlaned Interface**. This was the first interface developed in Pryngles.  For the same reason is the most tested Interface and the one that has been currently used to produce research results.  This interface is loaded when the package is imported as:\n",
    "\n",
    "  ```python\n",
    "  import pryngles as pr\n",
    "  RP=pr.RingedPlanet()\n",
    "  ```"
   ]
  },
  {
   "attachments": {},
   "cell_type": "markdown",
   "id": "ee60f793",
   "metadata": {},
   "source": [
    "These interfaces are in the present version of the package somewhat compatible.  The following commands show how to define a RingedPlanet starting with the System interface:\n",
    "\n",
    "```python\n",
    "sys=pr.System()\n",
    "S=sys.add(kind=\"Star\",\n",
    "          physics=dict(radius=Consts.rsun/sys.ul),\n",
    "          optics=dict(limb_coeffs=[0.65])\n",
    "         )\n",
    "P=sys.add(kind=\"Planet\",primary=S,\n",
    "          orbit=dict(a=0.2,e=0.0),\n",
    "          physics=dict(radius=Consts.rsaturn/sys.ul)\n",
    "         )\n",
    "R=sys.add(kind=\"Ring\",primary=P,\n",
    "          physics=dict(fi=1.5,fe=2.5,i=30*Consts.deg)\n",
    "         )\n",
    "O=sys.add(kind=\"Observer\",\n",
    "          optics=dict(lamb=90*Consts.deg,beta=90*Consts.deg)\n",
    "         )\n",
    "RP=sys.ensamble_system()\n",
    "```\n",
    "  \n",
    "Although a complete guide to the RingedPlanet interface is at the end of this tutorial, we focus here on the System interface."
   ]
  },
  {
   "attachments": {},
   "cell_type": "markdown",
   "id": "550a24b9",
   "metadata": {},
   "source": [
    "## General modules"
   ]
  },
  {
   "attachments": {},
   "cell_type": "markdown",
   "id": "35c2ff82",
   "metadata": {},
   "source": [
    "### Constants (`consts`)"
   ]
  },
  {
   "attachments": {},
   "cell_type": "markdown",
   "id": "d3b5233f",
   "metadata": {},
   "source": [
    "The `Consts` class contains all the constants defined in `Pryngles`.  There are two types of constants in Pryngles: `physical` and `numerical`.  The `physical` constants are values of physical and astronomical constants.  They are all under the static class `Consts`:"
   ]
  },
  {
   "cell_type": "code",
   "execution_count": 3,
   "id": "9163aed3",
   "metadata": {},
   "outputs": [
    {
     "data": {
      "text/plain": [
       "695700000.0"
      ]
     },
     "execution_count": 3,
     "metadata": {},
     "output_type": "execute_result"
    }
   ],
   "source": [
    "Consts.rsun"
   ]
  },
  {
   "attachments": {},
   "cell_type": "markdown",
   "id": "e36c96eb",
   "metadata": {},
   "source": [
    "All physical constants are in SI units.  To get all physical constants use:"
   ]
  },
  {
   "cell_type": "code",
   "execution_count": 4,
   "id": "6fcd3285",
   "metadata": {},
   "outputs": [
    {
     "name": "stdout",
     "output_type": "stream",
     "text": [
      "['au', 'aus', 'cm', 'd', 'day', 'days', 'deg', 'g', 'gram', 'gyr', 'hr', 'jyr', 'kg', 'km', 'kyr', 'm', 'mearth', 'mjupiter', 'mmars', 'mmercury', 'mneptune', 'mpluto', 'msaturn', 'msolar', 'msun', 'muranus', 'mvenus', 'myr', 'parsec', 'pc', 'ppb', 'ppm', 'rad', 'rearth', 'rjupiter', 'rsaturn', 'rsun', 's', 'solarmass', 'sunmass', 'yr', 'yrs']\n"
     ]
    }
   ],
   "source": [
    "print(Consts.get_physical())"
   ]
  },
  {
   "attachments": {},
   "cell_type": "markdown",
   "id": "b5b408cf",
   "metadata": {},
   "source": [
    "Most `physical` constants in `Pryngles` comes from `Rebound` package."
   ]
  },
  {
   "attachments": {},
   "cell_type": "markdown",
   "id": "d02770db",
   "metadata": {},
   "source": [
    "`numerical` constants are quantities used across the package:"
   ]
  },
  {
   "cell_type": "code",
   "execution_count": 5,
   "id": "8d6b664f",
   "metadata": {},
   "outputs": [
    {
     "name": "stdout",
     "output_type": "stream",
     "text": [
      "['ABC', 'BODY_DEFAULTS', 'BODY_KINDS', 'DEG', 'DOUBLE', 'FILE', 'GSI', 'HASH_MAXSIZE', 'HTML', 'IN_JUPYTER', 'LEGACY_PHYSICAL_PROPERTIES', 'OBSERVER_DEFAULTS', 'PDOUBLE', 'PLANET_DEFAULTS', 'PPDOUBLE', 'PPPDOUBLE', 'RAD', 'REBOUND_CARTESIAN_PROPERTIES', 'REBOUND_ORBITAL_PROPERTIES', 'RING_DEFAULTS', 'ROOTDIR', 'SAMPLER_CIRCLE_PRESETS', 'SAMPLER_GEOMETRY_CIRCLE', 'SAMPLER_GEOMETRY_SPHERE', 'SAMPLER_MIN_RING', 'SAMPLER_PRESETS', 'SAMPLER_SPHERE_PRESETS', 'SAMPLE_SHAPES', 'SCATTERERS_CATALOGUE', 'SCIENCE_LIMB_NORMALIZATIONS', 'SHADOW_COLOR_LUZ', 'SHADOW_COLOR_OBS', 'SPANGLER_AREAS', 'SPANGLER_COLUMNS', 'SPANGLER_COLUMNS_DOC', 'SPANGLER_COL_COPY', 'SPANGLER_COL_INT', 'SPANGLER_COL_LUZ', 'SPANGLER_COL_OBS', 'SPANGLER_DEBUG_FIELDS', 'SPANGLER_EPS_BORDER', 'SPANGLER_EQUIV_COL', 'SPANGLER_KEY_ORDERING', 'SPANGLER_KEY_SUMMARY', 'SPANGLER_LENGTHS', 'SPANGLER_SOURCE_STATES', 'SPANGLER_VECTORS', 'SPANGLER_VISIBILITY_STATES', 'SPANGLES_DARKNESS_COLOR', 'SPANGLES_SEMITRANSPARENT', 'SPANGLE_ATMOSPHERIC', 'SPANGLE_COLORS', 'SPANGLE_GASEOUS', 'SPANGLE_GRANULAR', 'SPANGLE_LIQUID', 'SPANGLE_SOLID_ICE', 'SPANGLE_SOLID_ROCK', 'SPANGLE_STELLAR', 'STAR_DEFAULTS', 'VERB_ALL', 'VERB_DEEP', 'VERB_NONE', 'VERB_SIMPLE', 'VERB_SYSTEM', 'VERB_VERIFY']\n"
     ]
    }
   ],
   "source": [
    "print(Consts.get_all())"
   ]
  },
  {
   "attachments": {},
   "cell_type": "markdown",
   "id": "4570f950",
   "metadata": {},
   "source": [
    "Normally numerical constants are grouped by modules or classes, for instance:  "
   ]
  },
  {
   "cell_type": "code",
   "execution_count": 6,
   "id": "9194aefe",
   "metadata": {},
   "outputs": [
    {
     "name": "stdout",
     "output_type": "stream",
     "text": [
      "['SPANGLER_AREAS', 'SPANGLER_COLUMNS', 'SPANGLER_COLUMNS_DOC', 'SPANGLER_COL_COPY', 'SPANGLER_COL_INT', 'SPANGLER_COL_LUZ', 'SPANGLER_COL_OBS', 'SPANGLER_DEBUG_FIELDS', 'SPANGLER_EPS_BORDER', 'SPANGLER_EQUIV_COL', 'SPANGLER_KEY_ORDERING', 'SPANGLER_KEY_SUMMARY', 'SPANGLER_LENGTHS', 'SPANGLER_SOURCE_STATES', 'SPANGLER_VECTORS', 'SPANGLER_VISIBILITY_STATES']\n"
     ]
    }
   ],
   "source": [
    "print([const for const in Consts.get_all() if 'SPANGLER' in const])"
   ]
  },
  {
   "attachments": {},
   "cell_type": "markdown",
   "id": "4ef41fa9",
   "metadata": {},
   "source": [
    "Probably sometimes will be better if import the class `Consts` separately:"
   ]
  },
  {
   "cell_type": "code",
   "execution_count": 7,
   "id": "86f7529f",
   "metadata": {},
   "outputs": [
    {
     "name": "stdout",
     "output_type": "stream",
     "text": [
      "57.29577951308232\n"
     ]
    }
   ],
   "source": [
    "from pryngles import Consts as C\n",
    "print(C.rad)"
   ]
  },
  {
   "attachments": {},
   "cell_type": "markdown",
   "id": "6c3b8d10",
   "metadata": {},
   "source": [
    "### Pryngles Common (`__init__`)"
   ]
  },
  {
   "attachments": {},
   "cell_type": "markdown",
   "id": "a8a68660",
   "metadata": {},
   "source": [
    "This is the class from which every class in Pryngles is a daughter.  It contains several basic methods, including a method to save or load an object."
   ]
  },
  {
   "attachments": {},
   "cell_type": "markdown",
   "id": "18f55f19",
   "metadata": {},
   "source": [
    "Lets create an object:"
   ]
  },
  {
   "cell_type": "code",
   "execution_count": 8,
   "id": "79024140",
   "metadata": {},
   "outputs": [],
   "source": [
    "p=PrynglesCommon()"
   ]
  },
  {
   "attachments": {},
   "cell_type": "markdown",
   "id": "25f8c5ba",
   "metadata": {},
   "source": [
    "Populate it:"
   ]
  },
  {
   "cell_type": "code",
   "execution_count": 9,
   "id": "747047c7",
   "metadata": {},
   "outputs": [],
   "source": [
    "p.casa=dict(perro=0,gato=3)\n",
    "p.data=pd.DataFrame(np.random.rand(4000,100))"
   ]
  },
  {
   "attachments": {},
   "cell_type": "markdown",
   "id": "c68c62bf",
   "metadata": {},
   "source": [
    "One of the common methods is `__str__`:"
   ]
  },
  {
   "cell_type": "code",
   "execution_count": 10,
   "id": "a4ccc633",
   "metadata": {},
   "outputs": [
    {
     "name": "stdout",
     "output_type": "stream",
     "text": [
      "{'casa': {'perro': 0, 'gato': 3}, 'data':             0         1         2         3         4         5         6   \\\n",
      "0     0.519930  0.501620  0.528529  0.608515  0.195130  0.096090  0.783088   \n",
      "1     0.922588  0.879010  0.036846  0.673463  0.091653  0.279470  0.465723   \n",
      "2     0.817712  0.683443  0.811061  0.676553  0.693068  0.698059  0.044697   \n",
      "3     0.557819  0.015143  0.376750  0.464218  0.691278  0.796067  0.975394   \n",
      "4     0.288252  0.968452  0.133293  0.760337  0.054752  0.579030  0.810497   \n",
      "...        ...       ...       ...       ...       ...       ...       ...   \n",
      "3995  0.541779  0.945258  0.931239  0.037352  0.993690  0.370865  0.835013   \n",
      "3996  0.776688  0.812407  0.011772  0.939892  0.573809  0.177192  0.747009   \n",
      "3997  0.502340  0.573445  0.153785  0.529573  0.706794  0.369963  0.947436   \n",
      "3998  0.286130  0.255120  0.362958  0.779078  0.305117  0.380756  0.579289   \n",
      "3999  0.498633  0.301861  0.369674  0.957454  0.986911  0.303296  0.626563   \n",
      "\n",
      "            7         8         9   ...        90        91        92  \\\n",
      "0     0.210188  0.116752  0.672123  ...  0.847172  0.887271  0.106139   \n",
      "1     0.615677  0.957175  0.701871  ...  0.449121  0.896654  0.634749   \n",
      "2     0.859573  0.388399  0.540317  ...  0.289754  0.201807  0.003105   \n",
      "3     0.003964  0.452279  0.974092  ...  0.135075  0.046998  0.454404   \n",
      "4     0.615070  0.252821  0.665850  ...  0.501657  0.767288  0.938139   \n",
      "...        ...       ...       ...  ...       ...       ...       ...   \n",
      "3995  0.869768  0.516241  0.913623  ...  0.349365  0.140122  0.086866   \n",
      "3996  0.965596  0.091036  0.326826  ...  0.963103  0.859407  0.839506   \n",
      "3997  0.581369  0.610922  0.269964  ...  0.350523  0.388656  0.029429   \n",
      "3998  0.758326  0.184366  0.893303  ...  0.301328  0.579911  0.143257   \n",
      "3999  0.462546  0.980910  0.172051  ...  0.069915  0.708917  0.565631   \n",
      "\n",
      "            93        94        95        96        97        98        99  \n",
      "0     0.132137  0.306060  0.026701  0.863028  0.462875  0.445910  0.280165  \n",
      "1     0.006254  0.805517  0.059959  0.554299  0.926549  0.389137  0.755251  \n",
      "2     0.496910  0.196941  0.800528  0.031683  0.739655  0.349466  0.196933  \n",
      "3     0.380822  0.611734  0.640167  0.233258  0.106520  0.863372  0.908770  \n",
      "4     0.506943  0.311118  0.099898  0.438866  0.634115  0.287567  0.358098  \n",
      "...        ...       ...       ...       ...       ...       ...       ...  \n",
      "3995  0.821094  0.782250  0.042615  0.905458  0.588765  0.166232  0.970325  \n",
      "3996  0.630049  0.995645  0.867702  0.909019  0.172802  0.218298  0.094041  \n",
      "3997  0.865861  0.756288  0.835130  0.850017  0.604095  0.417645  0.578177  \n",
      "3998  0.856023  0.948514  0.189021  0.315591  0.357715  0.378641  0.027805  \n",
      "3999  0.611166  0.367727  0.612737  0.922930  0.086735  0.168641  0.484828  \n",
      "\n",
      "[4000 rows x 100 columns]}\n"
     ]
    }
   ],
   "source": [
    "print(p)"
   ]
  },
  {
   "attachments": {},
   "cell_type": "markdown",
   "id": "25346cf7",
   "metadata": {},
   "source": [
    "Now we can pickle (pack) and save the object to disk:"
   ]
  },
  {
   "cell_type": "code",
   "execution_count": 11,
   "id": "c02781f5",
   "metadata": {},
   "outputs": [],
   "source": [
    "p.save_to(\"/tmp/save.pck\")"
   ]
  },
  {
   "attachments": {},
   "cell_type": "markdown",
   "id": "db041bcb",
   "metadata": {},
   "source": [
    "Let's check the file size"
   ]
  },
  {
   "cell_type": "code",
   "execution_count": 12,
   "id": "f23d88c6",
   "metadata": {},
   "outputs": [
    {
     "name": "stdout",
     "output_type": "stream",
     "text": [
      "File size: 3.200709  Mb\n"
     ]
    }
   ],
   "source": [
    "import os\n",
    "print(\"File size:\",os.path.getsize(\"/tmp/save.pck\")/1e6,\" Mb\")"
   ]
  },
  {
   "attachments": {},
   "cell_type": "markdown",
   "id": "18f6a256",
   "metadata": {},
   "source": [
    "Now we can load the object from disk:"
   ]
  },
  {
   "cell_type": "code",
   "execution_count": 13,
   "id": "8bc436d6",
   "metadata": {},
   "outputs": [
    {
     "name": "stdout",
     "output_type": "stream",
     "text": [
      "{'perro': 0, 'gato': 3} (4000, 100)\n"
     ]
    }
   ],
   "source": [
    "g=PrynglesCommon()\n",
    "g.load_from(\"/tmp/save.pck\")\n",
    "print(g.casa,np.array(g.data).shape)"
   ]
  },
  {
   "attachments": {},
   "cell_type": "markdown",
   "id": "2a3fb45a",
   "metadata": {},
   "source": [
    "### Miscellaneous (`misc`)"
   ]
  },
  {
   "attachments": {},
   "cell_type": "markdown",
   "id": "5e5968a9",
   "metadata": {},
   "source": [
    "Miscelaneous routines are useful routines used by the package.  The methods defined so far are:"
   ]
  },
  {
   "cell_type": "code",
   "execution_count": 14,
   "id": "a70e1e4d",
   "metadata": {},
   "outputs": [
    {
     "data": {
      "text/plain": [
       "['calc_hash', 'flatten', 'get_data', 'get_methods', 'print_df']"
      ]
     },
     "execution_count": 14,
     "metadata": {},
     "output_type": "execute_result"
    }
   ],
   "source": [
    "Misc.get_methods(Misc)"
   ]
  },
  {
   "attachments": {},
   "cell_type": "markdown",
   "id": "eacd8105",
   "metadata": {},
   "source": [
    "#### Function `flatten`"
   ]
  },
  {
   "attachments": {},
   "cell_type": "markdown",
   "id": "dd0d121e",
   "metadata": {},
   "source": [
    "Flatten a list of objects"
   ]
  },
  {
   "cell_type": "code",
   "execution_count": 15,
   "id": "5890a8cc",
   "metadata": {
    "scrolled": true
   },
   "outputs": [
    {
     "name": "stdout",
     "output_type": "stream",
     "text": [
      "['cosa']\n",
      "['cosa']\n",
      "['cosa', 'perro']\n",
      "[1, 'perro', <class 'object'>, <class 'float'>]\n"
     ]
    }
   ],
   "source": [
    "print(list(Misc.flatten([\"cosa\"])))\n",
    "print(list(Misc.flatten([[\"cosa\"]])))\n",
    "print(list(Misc.flatten([[\"cosa\",\"perro\"]])))\n",
    "print(list(Misc.flatten([[1,\"perro\"],object,float])))"
   ]
  },
  {
   "attachments": {},
   "cell_type": "markdown",
   "id": "25d21da2",
   "metadata": {},
   "source": [
    "#### Funcion `get_data`\n"
   ]
  },
  {
   "attachments": {},
   "cell_type": "markdown",
   "id": "c79a18e4",
   "metadata": {},
   "source": [
    "One of the most important methods is the `get_data` method used to get the full path of a file contained in the data directory of the package:"
   ]
  },
  {
   "cell_type": "code",
   "execution_count": 16,
   "id": "eb44cd5a",
   "metadata": {},
   "outputs": [
    {
     "name": "stdout",
     "output_type": "stream",
     "text": [
      "#Taken from Sobolev (1975), Tab. (2.3), pag. 33\n",
      "-1  0.500 0.700 0.800 0.900 0.950 0.975 0.995 1.000\n",
      "0.0 1.000 1.000 1.000 1.000 1.000 1.000 1.000 1.000\n",
      "0.1 1.072 1.113 1.139 1.172 1.195 1.211 1.232 1.247\n",
      "0.2 1.113 1.183 1.229 1.291 1.337 1.370 1.415 1.450\n",
      "0.3 1.144 1.236 1.301 1.391 1.461 1.512 1.583 1.643\n",
      "0.4 1.168 1.281 1.361 1.478 1.571 1.641 1.742 1.829\n",
      "0.5 1.188 1.318 1.413 1.556 1.672 1.762 1.895 2.013\n",
      "0.6 1.204 1.350 1.459 1.626 1.765 1.875 2.042 2.194\n",
      "0.7 1.219 1.378 1.500 1.689 1.851 1.982 2.184 2.374\n",
      "0.8 1.231 1.403 1.536 1.747 1.931 2.083 2.322 2.553\n",
      "0.9 1.242 1.453 1.568 1.801 2.007 2.178 2.456 2.731\n",
      "1.0 1.251 1.445 1.598 1.850 2.077 2.271 2.587 2.908\n"
     ]
    }
   ],
   "source": [
    "data=Misc.get_data(\"diffuse_reflection_function.data\")\n",
    "!cat {data}"
   ]
  },
  {
   "attachments": {},
   "cell_type": "markdown",
   "id": "e7d08922",
   "metadata": {},
   "source": [
    "Some of the most important routines in `Pryngles` deal with DataFrames.  The routine `print_df` is intended to print DataFrames:"
   ]
  },
  {
   "attachments": {},
   "cell_type": "markdown",
   "id": "59254d7f",
   "metadata": {},
   "source": [
    "#### Funcition `print_df`"
   ]
  },
  {
   "cell_type": "code",
   "execution_count": 17,
   "id": "c62a290c",
   "metadata": {},
   "outputs": [
    {
     "data": {
      "text/html": [
       "<table border=\"1\" class=\"dataframe\">\n",
       "  <thead>\n",
       "    <tr style=\"text-align: right;\">\n",
       "      <th></th>\n",
       "      <th>0</th>\n",
       "      <th>1</th>\n",
       "      <th>2</th>\n",
       "      <th>3</th>\n",
       "      <th>4</th>\n",
       "      <th>5</th>\n",
       "      <th>6</th>\n",
       "      <th>7</th>\n",
       "      <th>8</th>\n",
       "      <th>9</th>\n",
       "      <th>10</th>\n",
       "      <th>11</th>\n",
       "      <th>12</th>\n",
       "      <th>13</th>\n",
       "      <th>14</th>\n",
       "      <th>15</th>\n",
       "      <th>16</th>\n",
       "      <th>17</th>\n",
       "      <th>18</th>\n",
       "      <th>19</th>\n",
       "      <th>20</th>\n",
       "      <th>21</th>\n",
       "      <th>22</th>\n",
       "      <th>23</th>\n",
       "      <th>24</th>\n",
       "      <th>25</th>\n",
       "      <th>26</th>\n",
       "      <th>27</th>\n",
       "      <th>28</th>\n",
       "      <th>29</th>\n",
       "      <th>30</th>\n",
       "      <th>31</th>\n",
       "      <th>32</th>\n",
       "      <th>33</th>\n",
       "      <th>34</th>\n",
       "      <th>35</th>\n",
       "      <th>36</th>\n",
       "      <th>37</th>\n",
       "      <th>38</th>\n",
       "      <th>39</th>\n",
       "      <th>40</th>\n",
       "      <th>41</th>\n",
       "      <th>42</th>\n",
       "      <th>43</th>\n",
       "      <th>44</th>\n",
       "      <th>45</th>\n",
       "      <th>46</th>\n",
       "      <th>47</th>\n",
       "      <th>48</th>\n",
       "      <th>49</th>\n",
       "      <th>50</th>\n",
       "      <th>51</th>\n",
       "      <th>52</th>\n",
       "      <th>53</th>\n",
       "      <th>54</th>\n",
       "      <th>55</th>\n",
       "      <th>56</th>\n",
       "      <th>57</th>\n",
       "      <th>58</th>\n",
       "      <th>59</th>\n",
       "      <th>60</th>\n",
       "      <th>61</th>\n",
       "      <th>62</th>\n",
       "      <th>63</th>\n",
       "      <th>64</th>\n",
       "      <th>65</th>\n",
       "      <th>66</th>\n",
       "      <th>67</th>\n",
       "      <th>68</th>\n",
       "      <th>69</th>\n",
       "      <th>70</th>\n",
       "      <th>71</th>\n",
       "      <th>72</th>\n",
       "      <th>73</th>\n",
       "      <th>74</th>\n",
       "      <th>75</th>\n",
       "      <th>76</th>\n",
       "      <th>77</th>\n",
       "      <th>78</th>\n",
       "      <th>79</th>\n",
       "      <th>80</th>\n",
       "      <th>81</th>\n",
       "      <th>82</th>\n",
       "      <th>83</th>\n",
       "      <th>84</th>\n",
       "      <th>85</th>\n",
       "      <th>86</th>\n",
       "      <th>87</th>\n",
       "      <th>88</th>\n",
       "      <th>89</th>\n",
       "      <th>90</th>\n",
       "      <th>91</th>\n",
       "      <th>92</th>\n",
       "      <th>93</th>\n",
       "      <th>94</th>\n",
       "      <th>95</th>\n",
       "      <th>96</th>\n",
       "      <th>97</th>\n",
       "      <th>98</th>\n",
       "      <th>99</th>\n",
       "    </tr>\n",
       "  </thead>\n",
       "  <tbody>\n",
       "    <tr>\n",
       "      <th>0</th>\n",
       "      <td>0.0</td>\n",
       "      <td>0.0</td>\n",
       "      <td>0.0</td>\n",
       "      <td>0.0</td>\n",
       "      <td>0.0</td>\n",
       "      <td>0.0</td>\n",
       "      <td>0.0</td>\n",
       "      <td>0.0</td>\n",
       "      <td>0.0</td>\n",
       "      <td>0.0</td>\n",
       "      <td>0.0</td>\n",
       "      <td>0.0</td>\n",
       "      <td>0.0</td>\n",
       "      <td>0.0</td>\n",
       "      <td>0.0</td>\n",
       "      <td>0.0</td>\n",
       "      <td>0.0</td>\n",
       "      <td>0.0</td>\n",
       "      <td>0.0</td>\n",
       "      <td>0.0</td>\n",
       "      <td>0.0</td>\n",
       "      <td>0.0</td>\n",
       "      <td>0.0</td>\n",
       "      <td>0.0</td>\n",
       "      <td>0.0</td>\n",
       "      <td>0.0</td>\n",
       "      <td>0.0</td>\n",
       "      <td>0.0</td>\n",
       "      <td>0.0</td>\n",
       "      <td>0.0</td>\n",
       "      <td>0.0</td>\n",
       "      <td>0.0</td>\n",
       "      <td>0.0</td>\n",
       "      <td>0.0</td>\n",
       "      <td>0.0</td>\n",
       "      <td>0.0</td>\n",
       "      <td>0.0</td>\n",
       "      <td>0.0</td>\n",
       "      <td>0.0</td>\n",
       "      <td>0.0</td>\n",
       "      <td>0.0</td>\n",
       "      <td>0.0</td>\n",
       "      <td>0.0</td>\n",
       "      <td>0.0</td>\n",
       "      <td>0.0</td>\n",
       "      <td>0.0</td>\n",
       "      <td>0.0</td>\n",
       "      <td>0.0</td>\n",
       "      <td>0.0</td>\n",
       "      <td>0.0</td>\n",
       "      <td>0.0</td>\n",
       "      <td>0.0</td>\n",
       "      <td>0.0</td>\n",
       "      <td>0.0</td>\n",
       "      <td>0.0</td>\n",
       "      <td>0.0</td>\n",
       "      <td>0.0</td>\n",
       "      <td>0.0</td>\n",
       "      <td>0.0</td>\n",
       "      <td>0.0</td>\n",
       "      <td>0.0</td>\n",
       "      <td>0.0</td>\n",
       "      <td>0.0</td>\n",
       "      <td>0.0</td>\n",
       "      <td>0.0</td>\n",
       "      <td>0.0</td>\n",
       "      <td>0.0</td>\n",
       "      <td>0.0</td>\n",
       "      <td>0.0</td>\n",
       "      <td>0.0</td>\n",
       "      <td>0.0</td>\n",
       "      <td>0.0</td>\n",
       "      <td>0.0</td>\n",
       "      <td>0.0</td>\n",
       "      <td>0.0</td>\n",
       "      <td>0.0</td>\n",
       "      <td>0.0</td>\n",
       "      <td>0.0</td>\n",
       "      <td>0.0</td>\n",
       "      <td>0.0</td>\n",
       "      <td>0.0</td>\n",
       "      <td>0.0</td>\n",
       "      <td>0.0</td>\n",
       "      <td>0.0</td>\n",
       "      <td>0.0</td>\n",
       "      <td>0.0</td>\n",
       "      <td>0.0</td>\n",
       "      <td>0.0</td>\n",
       "      <td>0.0</td>\n",
       "      <td>0.0</td>\n",
       "      <td>0.0</td>\n",
       "      <td>0.0</td>\n",
       "      <td>0.0</td>\n",
       "      <td>0.0</td>\n",
       "      <td>0.0</td>\n",
       "      <td>0.0</td>\n",
       "      <td>0.0</td>\n",
       "      <td>0.0</td>\n",
       "      <td>0.0</td>\n",
       "      <td>0.0</td>\n",
       "    </tr>\n",
       "    <tr>\n",
       "      <th>1</th>\n",
       "      <td>0.0</td>\n",
       "      <td>0.0</td>\n",
       "      <td>0.0</td>\n",
       "      <td>0.0</td>\n",
       "      <td>0.0</td>\n",
       "      <td>0.0</td>\n",
       "      <td>0.0</td>\n",
       "      <td>0.0</td>\n",
       "      <td>0.0</td>\n",
       "      <td>0.0</td>\n",
       "      <td>0.0</td>\n",
       "      <td>0.0</td>\n",
       "      <td>0.0</td>\n",
       "      <td>0.0</td>\n",
       "      <td>0.0</td>\n",
       "      <td>0.0</td>\n",
       "      <td>0.0</td>\n",
       "      <td>0.0</td>\n",
       "      <td>0.0</td>\n",
       "      <td>0.0</td>\n",
       "      <td>0.0</td>\n",
       "      <td>0.0</td>\n",
       "      <td>0.0</td>\n",
       "      <td>0.0</td>\n",
       "      <td>0.0</td>\n",
       "      <td>0.0</td>\n",
       "      <td>0.0</td>\n",
       "      <td>0.0</td>\n",
       "      <td>0.0</td>\n",
       "      <td>0.0</td>\n",
       "      <td>0.0</td>\n",
       "      <td>0.0</td>\n",
       "      <td>0.0</td>\n",
       "      <td>0.0</td>\n",
       "      <td>0.0</td>\n",
       "      <td>0.0</td>\n",
       "      <td>0.0</td>\n",
       "      <td>0.0</td>\n",
       "      <td>0.0</td>\n",
       "      <td>0.0</td>\n",
       "      <td>0.0</td>\n",
       "      <td>0.0</td>\n",
       "      <td>0.0</td>\n",
       "      <td>0.0</td>\n",
       "      <td>0.0</td>\n",
       "      <td>0.0</td>\n",
       "      <td>0.0</td>\n",
       "      <td>0.0</td>\n",
       "      <td>0.0</td>\n",
       "      <td>0.0</td>\n",
       "      <td>0.0</td>\n",
       "      <td>0.0</td>\n",
       "      <td>0.0</td>\n",
       "      <td>0.0</td>\n",
       "      <td>0.0</td>\n",
       "      <td>0.0</td>\n",
       "      <td>0.0</td>\n",
       "      <td>0.0</td>\n",
       "      <td>0.0</td>\n",
       "      <td>0.0</td>\n",
       "      <td>0.0</td>\n",
       "      <td>0.0</td>\n",
       "      <td>0.0</td>\n",
       "      <td>0.0</td>\n",
       "      <td>0.0</td>\n",
       "      <td>0.0</td>\n",
       "      <td>0.0</td>\n",
       "      <td>0.0</td>\n",
       "      <td>0.0</td>\n",
       "      <td>0.0</td>\n",
       "      <td>0.0</td>\n",
       "      <td>0.0</td>\n",
       "      <td>0.0</td>\n",
       "      <td>0.0</td>\n",
       "      <td>0.0</td>\n",
       "      <td>0.0</td>\n",
       "      <td>0.0</td>\n",
       "      <td>0.0</td>\n",
       "      <td>0.0</td>\n",
       "      <td>0.0</td>\n",
       "      <td>0.0</td>\n",
       "      <td>0.0</td>\n",
       "      <td>0.0</td>\n",
       "      <td>0.0</td>\n",
       "      <td>0.0</td>\n",
       "      <td>0.0</td>\n",
       "      <td>0.0</td>\n",
       "      <td>0.0</td>\n",
       "      <td>0.0</td>\n",
       "      <td>0.0</td>\n",
       "      <td>0.0</td>\n",
       "      <td>0.0</td>\n",
       "      <td>0.0</td>\n",
       "      <td>0.0</td>\n",
       "      <td>0.0</td>\n",
       "      <td>0.0</td>\n",
       "      <td>0.0</td>\n",
       "      <td>0.0</td>\n",
       "      <td>0.0</td>\n",
       "      <td>0.0</td>\n",
       "    </tr>\n",
       "    <tr>\n",
       "      <th>2</th>\n",
       "      <td>0.0</td>\n",
       "      <td>0.0</td>\n",
       "      <td>0.0</td>\n",
       "      <td>0.0</td>\n",
       "      <td>0.0</td>\n",
       "      <td>0.0</td>\n",
       "      <td>0.0</td>\n",
       "      <td>0.0</td>\n",
       "      <td>0.0</td>\n",
       "      <td>0.0</td>\n",
       "      <td>0.0</td>\n",
       "      <td>0.0</td>\n",
       "      <td>0.0</td>\n",
       "      <td>0.0</td>\n",
       "      <td>0.0</td>\n",
       "      <td>0.0</td>\n",
       "      <td>0.0</td>\n",
       "      <td>0.0</td>\n",
       "      <td>0.0</td>\n",
       "      <td>0.0</td>\n",
       "      <td>0.0</td>\n",
       "      <td>0.0</td>\n",
       "      <td>0.0</td>\n",
       "      <td>0.0</td>\n",
       "      <td>0.0</td>\n",
       "      <td>0.0</td>\n",
       "      <td>0.0</td>\n",
       "      <td>0.0</td>\n",
       "      <td>0.0</td>\n",
       "      <td>0.0</td>\n",
       "      <td>0.0</td>\n",
       "      <td>0.0</td>\n",
       "      <td>0.0</td>\n",
       "      <td>0.0</td>\n",
       "      <td>0.0</td>\n",
       "      <td>0.0</td>\n",
       "      <td>0.0</td>\n",
       "      <td>0.0</td>\n",
       "      <td>0.0</td>\n",
       "      <td>0.0</td>\n",
       "      <td>0.0</td>\n",
       "      <td>0.0</td>\n",
       "      <td>0.0</td>\n",
       "      <td>0.0</td>\n",
       "      <td>0.0</td>\n",
       "      <td>0.0</td>\n",
       "      <td>0.0</td>\n",
       "      <td>0.0</td>\n",
       "      <td>0.0</td>\n",
       "      <td>0.0</td>\n",
       "      <td>0.0</td>\n",
       "      <td>0.0</td>\n",
       "      <td>0.0</td>\n",
       "      <td>0.0</td>\n",
       "      <td>0.0</td>\n",
       "      <td>0.0</td>\n",
       "      <td>0.0</td>\n",
       "      <td>0.0</td>\n",
       "      <td>0.0</td>\n",
       "      <td>0.0</td>\n",
       "      <td>0.0</td>\n",
       "      <td>0.0</td>\n",
       "      <td>0.0</td>\n",
       "      <td>0.0</td>\n",
       "      <td>0.0</td>\n",
       "      <td>0.0</td>\n",
       "      <td>0.0</td>\n",
       "      <td>0.0</td>\n",
       "      <td>0.0</td>\n",
       "      <td>0.0</td>\n",
       "      <td>0.0</td>\n",
       "      <td>0.0</td>\n",
       "      <td>0.0</td>\n",
       "      <td>0.0</td>\n",
       "      <td>0.0</td>\n",
       "      <td>0.0</td>\n",
       "      <td>0.0</td>\n",
       "      <td>0.0</td>\n",
       "      <td>0.0</td>\n",
       "      <td>0.0</td>\n",
       "      <td>0.0</td>\n",
       "      <td>0.0</td>\n",
       "      <td>0.0</td>\n",
       "      <td>0.0</td>\n",
       "      <td>0.0</td>\n",
       "      <td>0.0</td>\n",
       "      <td>0.0</td>\n",
       "      <td>0.0</td>\n",
       "      <td>0.0</td>\n",
       "      <td>0.0</td>\n",
       "      <td>0.0</td>\n",
       "      <td>0.0</td>\n",
       "      <td>0.0</td>\n",
       "      <td>0.0</td>\n",
       "      <td>0.0</td>\n",
       "      <td>0.0</td>\n",
       "      <td>0.0</td>\n",
       "      <td>0.0</td>\n",
       "      <td>0.0</td>\n",
       "      <td>0.0</td>\n",
       "    </tr>\n",
       "    <tr>\n",
       "      <th>3</th>\n",
       "      <td>0.0</td>\n",
       "      <td>0.0</td>\n",
       "      <td>0.0</td>\n",
       "      <td>0.0</td>\n",
       "      <td>0.0</td>\n",
       "      <td>0.0</td>\n",
       "      <td>0.0</td>\n",
       "      <td>0.0</td>\n",
       "      <td>0.0</td>\n",
       "      <td>0.0</td>\n",
       "      <td>0.0</td>\n",
       "      <td>0.0</td>\n",
       "      <td>0.0</td>\n",
       "      <td>0.0</td>\n",
       "      <td>0.0</td>\n",
       "      <td>0.0</td>\n",
       "      <td>0.0</td>\n",
       "      <td>0.0</td>\n",
       "      <td>0.0</td>\n",
       "      <td>0.0</td>\n",
       "      <td>0.0</td>\n",
       "      <td>0.0</td>\n",
       "      <td>0.0</td>\n",
       "      <td>0.0</td>\n",
       "      <td>0.0</td>\n",
       "      <td>0.0</td>\n",
       "      <td>0.0</td>\n",
       "      <td>0.0</td>\n",
       "      <td>0.0</td>\n",
       "      <td>0.0</td>\n",
       "      <td>0.0</td>\n",
       "      <td>0.0</td>\n",
       "      <td>0.0</td>\n",
       "      <td>0.0</td>\n",
       "      <td>0.0</td>\n",
       "      <td>0.0</td>\n",
       "      <td>0.0</td>\n",
       "      <td>0.0</td>\n",
       "      <td>0.0</td>\n",
       "      <td>0.0</td>\n",
       "      <td>0.0</td>\n",
       "      <td>0.0</td>\n",
       "      <td>0.0</td>\n",
       "      <td>0.0</td>\n",
       "      <td>0.0</td>\n",
       "      <td>0.0</td>\n",
       "      <td>0.0</td>\n",
       "      <td>0.0</td>\n",
       "      <td>0.0</td>\n",
       "      <td>0.0</td>\n",
       "      <td>0.0</td>\n",
       "      <td>0.0</td>\n",
       "      <td>0.0</td>\n",
       "      <td>0.0</td>\n",
       "      <td>0.0</td>\n",
       "      <td>0.0</td>\n",
       "      <td>0.0</td>\n",
       "      <td>0.0</td>\n",
       "      <td>0.0</td>\n",
       "      <td>0.0</td>\n",
       "      <td>0.0</td>\n",
       "      <td>0.0</td>\n",
       "      <td>0.0</td>\n",
       "      <td>0.0</td>\n",
       "      <td>0.0</td>\n",
       "      <td>0.0</td>\n",
       "      <td>0.0</td>\n",
       "      <td>0.0</td>\n",
       "      <td>0.0</td>\n",
       "      <td>0.0</td>\n",
       "      <td>0.0</td>\n",
       "      <td>0.0</td>\n",
       "      <td>0.0</td>\n",
       "      <td>0.0</td>\n",
       "      <td>0.0</td>\n",
       "      <td>0.0</td>\n",
       "      <td>0.0</td>\n",
       "      <td>0.0</td>\n",
       "      <td>0.0</td>\n",
       "      <td>0.0</td>\n",
       "      <td>0.0</td>\n",
       "      <td>0.0</td>\n",
       "      <td>0.0</td>\n",
       "      <td>0.0</td>\n",
       "      <td>0.0</td>\n",
       "      <td>0.0</td>\n",
       "      <td>0.0</td>\n",
       "      <td>0.0</td>\n",
       "      <td>0.0</td>\n",
       "      <td>0.0</td>\n",
       "      <td>0.0</td>\n",
       "      <td>0.0</td>\n",
       "      <td>0.0</td>\n",
       "      <td>0.0</td>\n",
       "      <td>0.0</td>\n",
       "      <td>0.0</td>\n",
       "      <td>0.0</td>\n",
       "      <td>0.0</td>\n",
       "      <td>0.0</td>\n",
       "      <td>0.0</td>\n",
       "    </tr>\n",
       "  </tbody>\n",
       "</table>"
      ],
      "text/plain": [
       "<IPython.core.display.HTML object>"
      ]
     },
     "metadata": {},
     "output_type": "display_data"
    }
   ],
   "source": [
    "df=pd.DataFrame(np.zeros((4,100)))\n",
    "Misc.print_df(df)"
   ]
  },
  {
   "attachments": {},
   "cell_type": "markdown",
   "id": "771e46bd",
   "metadata": {},
   "source": [
    "This version is even better than the previsualization of DataFrames in Jupyter.  You may even show a small part"
   ]
  },
  {
   "cell_type": "code",
   "execution_count": 18,
   "id": "c29f7f19",
   "metadata": {},
   "outputs": [
    {
     "data": {
      "text/html": [
       "<table border=\"1\" class=\"dataframe\">\n",
       "  <thead>\n",
       "    <tr style=\"text-align: right;\">\n",
       "      <th></th>\n",
       "      <th>0</th>\n",
       "      <th>1</th>\n",
       "      <th>2</th>\n",
       "      <th>3</th>\n",
       "      <th>4</th>\n",
       "      <th>5</th>\n",
       "      <th>6</th>\n",
       "      <th>7</th>\n",
       "      <th>8</th>\n",
       "      <th>9</th>\n",
       "      <th>10</th>\n",
       "      <th>11</th>\n",
       "      <th>12</th>\n",
       "      <th>13</th>\n",
       "      <th>14</th>\n",
       "      <th>15</th>\n",
       "      <th>16</th>\n",
       "      <th>17</th>\n",
       "      <th>18</th>\n",
       "      <th>19</th>\n",
       "      <th>20</th>\n",
       "      <th>21</th>\n",
       "      <th>22</th>\n",
       "      <th>23</th>\n",
       "      <th>24</th>\n",
       "      <th>25</th>\n",
       "      <th>26</th>\n",
       "      <th>27</th>\n",
       "      <th>28</th>\n",
       "      <th>29</th>\n",
       "      <th>30</th>\n",
       "      <th>31</th>\n",
       "      <th>32</th>\n",
       "      <th>33</th>\n",
       "      <th>34</th>\n",
       "      <th>35</th>\n",
       "      <th>36</th>\n",
       "      <th>37</th>\n",
       "      <th>38</th>\n",
       "      <th>39</th>\n",
       "      <th>40</th>\n",
       "      <th>41</th>\n",
       "      <th>42</th>\n",
       "      <th>43</th>\n",
       "      <th>44</th>\n",
       "      <th>45</th>\n",
       "      <th>46</th>\n",
       "      <th>47</th>\n",
       "      <th>48</th>\n",
       "      <th>49</th>\n",
       "      <th>50</th>\n",
       "      <th>51</th>\n",
       "      <th>52</th>\n",
       "      <th>53</th>\n",
       "      <th>54</th>\n",
       "      <th>55</th>\n",
       "      <th>56</th>\n",
       "      <th>57</th>\n",
       "      <th>58</th>\n",
       "      <th>59</th>\n",
       "      <th>60</th>\n",
       "      <th>61</th>\n",
       "      <th>62</th>\n",
       "      <th>63</th>\n",
       "      <th>64</th>\n",
       "      <th>65</th>\n",
       "      <th>66</th>\n",
       "      <th>67</th>\n",
       "      <th>68</th>\n",
       "      <th>69</th>\n",
       "      <th>70</th>\n",
       "      <th>71</th>\n",
       "      <th>72</th>\n",
       "      <th>73</th>\n",
       "      <th>74</th>\n",
       "      <th>75</th>\n",
       "      <th>76</th>\n",
       "      <th>77</th>\n",
       "      <th>78</th>\n",
       "      <th>79</th>\n",
       "      <th>80</th>\n",
       "      <th>81</th>\n",
       "      <th>82</th>\n",
       "      <th>83</th>\n",
       "      <th>84</th>\n",
       "      <th>85</th>\n",
       "      <th>86</th>\n",
       "      <th>87</th>\n",
       "      <th>88</th>\n",
       "      <th>89</th>\n",
       "      <th>90</th>\n",
       "      <th>91</th>\n",
       "      <th>92</th>\n",
       "      <th>93</th>\n",
       "      <th>94</th>\n",
       "      <th>95</th>\n",
       "      <th>96</th>\n",
       "      <th>97</th>\n",
       "      <th>98</th>\n",
       "      <th>99</th>\n",
       "    </tr>\n",
       "  </thead>\n",
       "  <tbody>\n",
       "    <tr>\n",
       "      <th>0</th>\n",
       "      <td>0.0</td>\n",
       "      <td>0.0</td>\n",
       "      <td>0.0</td>\n",
       "      <td>0.0</td>\n",
       "      <td>0.0</td>\n",
       "      <td>0.0</td>\n",
       "      <td>0.0</td>\n",
       "      <td>0.0</td>\n",
       "      <td>0.0</td>\n",
       "      <td>0.0</td>\n",
       "      <td>0.0</td>\n",
       "      <td>0.0</td>\n",
       "      <td>0.0</td>\n",
       "      <td>0.0</td>\n",
       "      <td>0.0</td>\n",
       "      <td>0.0</td>\n",
       "      <td>0.0</td>\n",
       "      <td>0.0</td>\n",
       "      <td>0.0</td>\n",
       "      <td>0.0</td>\n",
       "      <td>0.0</td>\n",
       "      <td>0.0</td>\n",
       "      <td>0.0</td>\n",
       "      <td>0.0</td>\n",
       "      <td>0.0</td>\n",
       "      <td>0.0</td>\n",
       "      <td>0.0</td>\n",
       "      <td>0.0</td>\n",
       "      <td>0.0</td>\n",
       "      <td>0.0</td>\n",
       "      <td>0.0</td>\n",
       "      <td>0.0</td>\n",
       "      <td>0.0</td>\n",
       "      <td>0.0</td>\n",
       "      <td>0.0</td>\n",
       "      <td>0.0</td>\n",
       "      <td>0.0</td>\n",
       "      <td>0.0</td>\n",
       "      <td>0.0</td>\n",
       "      <td>0.0</td>\n",
       "      <td>0.0</td>\n",
       "      <td>0.0</td>\n",
       "      <td>0.0</td>\n",
       "      <td>0.0</td>\n",
       "      <td>0.0</td>\n",
       "      <td>0.0</td>\n",
       "      <td>0.0</td>\n",
       "      <td>0.0</td>\n",
       "      <td>0.0</td>\n",
       "      <td>0.0</td>\n",
       "      <td>0.0</td>\n",
       "      <td>0.0</td>\n",
       "      <td>0.0</td>\n",
       "      <td>0.0</td>\n",
       "      <td>0.0</td>\n",
       "      <td>0.0</td>\n",
       "      <td>0.0</td>\n",
       "      <td>0.0</td>\n",
       "      <td>0.0</td>\n",
       "      <td>0.0</td>\n",
       "      <td>0.0</td>\n",
       "      <td>0.0</td>\n",
       "      <td>0.0</td>\n",
       "      <td>0.0</td>\n",
       "      <td>0.0</td>\n",
       "      <td>0.0</td>\n",
       "      <td>0.0</td>\n",
       "      <td>0.0</td>\n",
       "      <td>0.0</td>\n",
       "      <td>0.0</td>\n",
       "      <td>0.0</td>\n",
       "      <td>0.0</td>\n",
       "      <td>0.0</td>\n",
       "      <td>0.0</td>\n",
       "      <td>0.0</td>\n",
       "      <td>0.0</td>\n",
       "      <td>0.0</td>\n",
       "      <td>0.0</td>\n",
       "      <td>0.0</td>\n",
       "      <td>0.0</td>\n",
       "      <td>0.0</td>\n",
       "      <td>0.0</td>\n",
       "      <td>0.0</td>\n",
       "      <td>0.0</td>\n",
       "      <td>0.0</td>\n",
       "      <td>0.0</td>\n",
       "      <td>0.0</td>\n",
       "      <td>0.0</td>\n",
       "      <td>0.0</td>\n",
       "      <td>0.0</td>\n",
       "      <td>0.0</td>\n",
       "      <td>0.0</td>\n",
       "      <td>0.0</td>\n",
       "      <td>0.0</td>\n",
       "      <td>0.0</td>\n",
       "      <td>0.0</td>\n",
       "      <td>0.0</td>\n",
       "      <td>0.0</td>\n",
       "      <td>0.0</td>\n",
       "      <td>0.0</td>\n",
       "    </tr>\n",
       "    <tr>\n",
       "      <th>1</th>\n",
       "      <td>0.0</td>\n",
       "      <td>0.0</td>\n",
       "      <td>0.0</td>\n",
       "      <td>0.0</td>\n",
       "      <td>0.0</td>\n",
       "      <td>0.0</td>\n",
       "      <td>0.0</td>\n",
       "      <td>0.0</td>\n",
       "      <td>0.0</td>\n",
       "      <td>0.0</td>\n",
       "      <td>0.0</td>\n",
       "      <td>0.0</td>\n",
       "      <td>0.0</td>\n",
       "      <td>0.0</td>\n",
       "      <td>0.0</td>\n",
       "      <td>0.0</td>\n",
       "      <td>0.0</td>\n",
       "      <td>0.0</td>\n",
       "      <td>0.0</td>\n",
       "      <td>0.0</td>\n",
       "      <td>0.0</td>\n",
       "      <td>0.0</td>\n",
       "      <td>0.0</td>\n",
       "      <td>0.0</td>\n",
       "      <td>0.0</td>\n",
       "      <td>0.0</td>\n",
       "      <td>0.0</td>\n",
       "      <td>0.0</td>\n",
       "      <td>0.0</td>\n",
       "      <td>0.0</td>\n",
       "      <td>0.0</td>\n",
       "      <td>0.0</td>\n",
       "      <td>0.0</td>\n",
       "      <td>0.0</td>\n",
       "      <td>0.0</td>\n",
       "      <td>0.0</td>\n",
       "      <td>0.0</td>\n",
       "      <td>0.0</td>\n",
       "      <td>0.0</td>\n",
       "      <td>0.0</td>\n",
       "      <td>0.0</td>\n",
       "      <td>0.0</td>\n",
       "      <td>0.0</td>\n",
       "      <td>0.0</td>\n",
       "      <td>0.0</td>\n",
       "      <td>0.0</td>\n",
       "      <td>0.0</td>\n",
       "      <td>0.0</td>\n",
       "      <td>0.0</td>\n",
       "      <td>0.0</td>\n",
       "      <td>0.0</td>\n",
       "      <td>0.0</td>\n",
       "      <td>0.0</td>\n",
       "      <td>0.0</td>\n",
       "      <td>0.0</td>\n",
       "      <td>0.0</td>\n",
       "      <td>0.0</td>\n",
       "      <td>0.0</td>\n",
       "      <td>0.0</td>\n",
       "      <td>0.0</td>\n",
       "      <td>0.0</td>\n",
       "      <td>0.0</td>\n",
       "      <td>0.0</td>\n",
       "      <td>0.0</td>\n",
       "      <td>0.0</td>\n",
       "      <td>0.0</td>\n",
       "      <td>0.0</td>\n",
       "      <td>0.0</td>\n",
       "      <td>0.0</td>\n",
       "      <td>0.0</td>\n",
       "      <td>0.0</td>\n",
       "      <td>0.0</td>\n",
       "      <td>0.0</td>\n",
       "      <td>0.0</td>\n",
       "      <td>0.0</td>\n",
       "      <td>0.0</td>\n",
       "      <td>0.0</td>\n",
       "      <td>0.0</td>\n",
       "      <td>0.0</td>\n",
       "      <td>0.0</td>\n",
       "      <td>0.0</td>\n",
       "      <td>0.0</td>\n",
       "      <td>0.0</td>\n",
       "      <td>0.0</td>\n",
       "      <td>0.0</td>\n",
       "      <td>0.0</td>\n",
       "      <td>0.0</td>\n",
       "      <td>0.0</td>\n",
       "      <td>0.0</td>\n",
       "      <td>0.0</td>\n",
       "      <td>0.0</td>\n",
       "      <td>0.0</td>\n",
       "      <td>0.0</td>\n",
       "      <td>0.0</td>\n",
       "      <td>0.0</td>\n",
       "      <td>0.0</td>\n",
       "      <td>0.0</td>\n",
       "      <td>0.0</td>\n",
       "      <td>0.0</td>\n",
       "      <td>0.0</td>\n",
       "    </tr>\n",
       "  </tbody>\n",
       "</table>"
      ],
      "text/plain": [
       "<IPython.core.display.HTML object>"
      ]
     },
     "metadata": {},
     "output_type": "display_data"
    }
   ],
   "source": [
    "Misc.print_df(df.head(2))"
   ]
  },
  {
   "attachments": {},
   "cell_type": "markdown",
   "id": "ffcc4086",
   "metadata": {},
   "source": [
    "Or get a description of the DataFrame:"
   ]
  },
  {
   "cell_type": "code",
   "execution_count": 19,
   "id": "80def6b6",
   "metadata": {},
   "outputs": [
    {
     "data": {
      "text/html": [
       "<table border=\"1\" class=\"dataframe\">\n",
       "  <thead>\n",
       "    <tr style=\"text-align: right;\">\n",
       "      <th></th>\n",
       "      <th>0</th>\n",
       "      <th>1</th>\n",
       "      <th>2</th>\n",
       "      <th>3</th>\n",
       "      <th>4</th>\n",
       "      <th>5</th>\n",
       "      <th>6</th>\n",
       "      <th>7</th>\n",
       "      <th>8</th>\n",
       "      <th>9</th>\n",
       "      <th>10</th>\n",
       "      <th>11</th>\n",
       "      <th>12</th>\n",
       "      <th>13</th>\n",
       "      <th>14</th>\n",
       "      <th>15</th>\n",
       "      <th>16</th>\n",
       "      <th>17</th>\n",
       "      <th>18</th>\n",
       "      <th>19</th>\n",
       "      <th>20</th>\n",
       "      <th>21</th>\n",
       "      <th>22</th>\n",
       "      <th>23</th>\n",
       "      <th>24</th>\n",
       "      <th>25</th>\n",
       "      <th>26</th>\n",
       "      <th>27</th>\n",
       "      <th>28</th>\n",
       "      <th>29</th>\n",
       "      <th>30</th>\n",
       "      <th>31</th>\n",
       "      <th>32</th>\n",
       "      <th>33</th>\n",
       "      <th>34</th>\n",
       "      <th>35</th>\n",
       "      <th>36</th>\n",
       "      <th>37</th>\n",
       "      <th>38</th>\n",
       "      <th>39</th>\n",
       "      <th>40</th>\n",
       "      <th>41</th>\n",
       "      <th>42</th>\n",
       "      <th>43</th>\n",
       "      <th>44</th>\n",
       "      <th>45</th>\n",
       "      <th>46</th>\n",
       "      <th>47</th>\n",
       "      <th>48</th>\n",
       "      <th>49</th>\n",
       "      <th>50</th>\n",
       "      <th>51</th>\n",
       "      <th>52</th>\n",
       "      <th>53</th>\n",
       "      <th>54</th>\n",
       "      <th>55</th>\n",
       "      <th>56</th>\n",
       "      <th>57</th>\n",
       "      <th>58</th>\n",
       "      <th>59</th>\n",
       "      <th>60</th>\n",
       "      <th>61</th>\n",
       "      <th>62</th>\n",
       "      <th>63</th>\n",
       "      <th>64</th>\n",
       "      <th>65</th>\n",
       "      <th>66</th>\n",
       "      <th>67</th>\n",
       "      <th>68</th>\n",
       "      <th>69</th>\n",
       "      <th>70</th>\n",
       "      <th>71</th>\n",
       "      <th>72</th>\n",
       "      <th>73</th>\n",
       "      <th>74</th>\n",
       "      <th>75</th>\n",
       "      <th>76</th>\n",
       "      <th>77</th>\n",
       "      <th>78</th>\n",
       "      <th>79</th>\n",
       "      <th>80</th>\n",
       "      <th>81</th>\n",
       "      <th>82</th>\n",
       "      <th>83</th>\n",
       "      <th>84</th>\n",
       "      <th>85</th>\n",
       "      <th>86</th>\n",
       "      <th>87</th>\n",
       "      <th>88</th>\n",
       "      <th>89</th>\n",
       "      <th>90</th>\n",
       "      <th>91</th>\n",
       "      <th>92</th>\n",
       "      <th>93</th>\n",
       "      <th>94</th>\n",
       "      <th>95</th>\n",
       "      <th>96</th>\n",
       "      <th>97</th>\n",
       "      <th>98</th>\n",
       "      <th>99</th>\n",
       "    </tr>\n",
       "  </thead>\n",
       "  <tbody>\n",
       "    <tr>\n",
       "      <th>count</th>\n",
       "      <td>4.0</td>\n",
       "      <td>4.0</td>\n",
       "      <td>4.0</td>\n",
       "      <td>4.0</td>\n",
       "      <td>4.0</td>\n",
       "      <td>4.0</td>\n",
       "      <td>4.0</td>\n",
       "      <td>4.0</td>\n",
       "      <td>4.0</td>\n",
       "      <td>4.0</td>\n",
       "      <td>4.0</td>\n",
       "      <td>4.0</td>\n",
       "      <td>4.0</td>\n",
       "      <td>4.0</td>\n",
       "      <td>4.0</td>\n",
       "      <td>4.0</td>\n",
       "      <td>4.0</td>\n",
       "      <td>4.0</td>\n",
       "      <td>4.0</td>\n",
       "      <td>4.0</td>\n",
       "      <td>4.0</td>\n",
       "      <td>4.0</td>\n",
       "      <td>4.0</td>\n",
       "      <td>4.0</td>\n",
       "      <td>4.0</td>\n",
       "      <td>4.0</td>\n",
       "      <td>4.0</td>\n",
       "      <td>4.0</td>\n",
       "      <td>4.0</td>\n",
       "      <td>4.0</td>\n",
       "      <td>4.0</td>\n",
       "      <td>4.0</td>\n",
       "      <td>4.0</td>\n",
       "      <td>4.0</td>\n",
       "      <td>4.0</td>\n",
       "      <td>4.0</td>\n",
       "      <td>4.0</td>\n",
       "      <td>4.0</td>\n",
       "      <td>4.0</td>\n",
       "      <td>4.0</td>\n",
       "      <td>4.0</td>\n",
       "      <td>4.0</td>\n",
       "      <td>4.0</td>\n",
       "      <td>4.0</td>\n",
       "      <td>4.0</td>\n",
       "      <td>4.0</td>\n",
       "      <td>4.0</td>\n",
       "      <td>4.0</td>\n",
       "      <td>4.0</td>\n",
       "      <td>4.0</td>\n",
       "      <td>4.0</td>\n",
       "      <td>4.0</td>\n",
       "      <td>4.0</td>\n",
       "      <td>4.0</td>\n",
       "      <td>4.0</td>\n",
       "      <td>4.0</td>\n",
       "      <td>4.0</td>\n",
       "      <td>4.0</td>\n",
       "      <td>4.0</td>\n",
       "      <td>4.0</td>\n",
       "      <td>4.0</td>\n",
       "      <td>4.0</td>\n",
       "      <td>4.0</td>\n",
       "      <td>4.0</td>\n",
       "      <td>4.0</td>\n",
       "      <td>4.0</td>\n",
       "      <td>4.0</td>\n",
       "      <td>4.0</td>\n",
       "      <td>4.0</td>\n",
       "      <td>4.0</td>\n",
       "      <td>4.0</td>\n",
       "      <td>4.0</td>\n",
       "      <td>4.0</td>\n",
       "      <td>4.0</td>\n",
       "      <td>4.0</td>\n",
       "      <td>4.0</td>\n",
       "      <td>4.0</td>\n",
       "      <td>4.0</td>\n",
       "      <td>4.0</td>\n",
       "      <td>4.0</td>\n",
       "      <td>4.0</td>\n",
       "      <td>4.0</td>\n",
       "      <td>4.0</td>\n",
       "      <td>4.0</td>\n",
       "      <td>4.0</td>\n",
       "      <td>4.0</td>\n",
       "      <td>4.0</td>\n",
       "      <td>4.0</td>\n",
       "      <td>4.0</td>\n",
       "      <td>4.0</td>\n",
       "      <td>4.0</td>\n",
       "      <td>4.0</td>\n",
       "      <td>4.0</td>\n",
       "      <td>4.0</td>\n",
       "      <td>4.0</td>\n",
       "      <td>4.0</td>\n",
       "      <td>4.0</td>\n",
       "      <td>4.0</td>\n",
       "      <td>4.0</td>\n",
       "      <td>4.0</td>\n",
       "    </tr>\n",
       "    <tr>\n",
       "      <th>mean</th>\n",
       "      <td>0.0</td>\n",
       "      <td>0.0</td>\n",
       "      <td>0.0</td>\n",
       "      <td>0.0</td>\n",
       "      <td>0.0</td>\n",
       "      <td>0.0</td>\n",
       "      <td>0.0</td>\n",
       "      <td>0.0</td>\n",
       "      <td>0.0</td>\n",
       "      <td>0.0</td>\n",
       "      <td>0.0</td>\n",
       "      <td>0.0</td>\n",
       "      <td>0.0</td>\n",
       "      <td>0.0</td>\n",
       "      <td>0.0</td>\n",
       "      <td>0.0</td>\n",
       "      <td>0.0</td>\n",
       "      <td>0.0</td>\n",
       "      <td>0.0</td>\n",
       "      <td>0.0</td>\n",
       "      <td>0.0</td>\n",
       "      <td>0.0</td>\n",
       "      <td>0.0</td>\n",
       "      <td>0.0</td>\n",
       "      <td>0.0</td>\n",
       "      <td>0.0</td>\n",
       "      <td>0.0</td>\n",
       "      <td>0.0</td>\n",
       "      <td>0.0</td>\n",
       "      <td>0.0</td>\n",
       "      <td>0.0</td>\n",
       "      <td>0.0</td>\n",
       "      <td>0.0</td>\n",
       "      <td>0.0</td>\n",
       "      <td>0.0</td>\n",
       "      <td>0.0</td>\n",
       "      <td>0.0</td>\n",
       "      <td>0.0</td>\n",
       "      <td>0.0</td>\n",
       "      <td>0.0</td>\n",
       "      <td>0.0</td>\n",
       "      <td>0.0</td>\n",
       "      <td>0.0</td>\n",
       "      <td>0.0</td>\n",
       "      <td>0.0</td>\n",
       "      <td>0.0</td>\n",
       "      <td>0.0</td>\n",
       "      <td>0.0</td>\n",
       "      <td>0.0</td>\n",
       "      <td>0.0</td>\n",
       "      <td>0.0</td>\n",
       "      <td>0.0</td>\n",
       "      <td>0.0</td>\n",
       "      <td>0.0</td>\n",
       "      <td>0.0</td>\n",
       "      <td>0.0</td>\n",
       "      <td>0.0</td>\n",
       "      <td>0.0</td>\n",
       "      <td>0.0</td>\n",
       "      <td>0.0</td>\n",
       "      <td>0.0</td>\n",
       "      <td>0.0</td>\n",
       "      <td>0.0</td>\n",
       "      <td>0.0</td>\n",
       "      <td>0.0</td>\n",
       "      <td>0.0</td>\n",
       "      <td>0.0</td>\n",
       "      <td>0.0</td>\n",
       "      <td>0.0</td>\n",
       "      <td>0.0</td>\n",
       "      <td>0.0</td>\n",
       "      <td>0.0</td>\n",
       "      <td>0.0</td>\n",
       "      <td>0.0</td>\n",
       "      <td>0.0</td>\n",
       "      <td>0.0</td>\n",
       "      <td>0.0</td>\n",
       "      <td>0.0</td>\n",
       "      <td>0.0</td>\n",
       "      <td>0.0</td>\n",
       "      <td>0.0</td>\n",
       "      <td>0.0</td>\n",
       "      <td>0.0</td>\n",
       "      <td>0.0</td>\n",
       "      <td>0.0</td>\n",
       "      <td>0.0</td>\n",
       "      <td>0.0</td>\n",
       "      <td>0.0</td>\n",
       "      <td>0.0</td>\n",
       "      <td>0.0</td>\n",
       "      <td>0.0</td>\n",
       "      <td>0.0</td>\n",
       "      <td>0.0</td>\n",
       "      <td>0.0</td>\n",
       "      <td>0.0</td>\n",
       "      <td>0.0</td>\n",
       "      <td>0.0</td>\n",
       "      <td>0.0</td>\n",
       "      <td>0.0</td>\n",
       "      <td>0.0</td>\n",
       "    </tr>\n",
       "    <tr>\n",
       "      <th>std</th>\n",
       "      <td>0.0</td>\n",
       "      <td>0.0</td>\n",
       "      <td>0.0</td>\n",
       "      <td>0.0</td>\n",
       "      <td>0.0</td>\n",
       "      <td>0.0</td>\n",
       "      <td>0.0</td>\n",
       "      <td>0.0</td>\n",
       "      <td>0.0</td>\n",
       "      <td>0.0</td>\n",
       "      <td>0.0</td>\n",
       "      <td>0.0</td>\n",
       "      <td>0.0</td>\n",
       "      <td>0.0</td>\n",
       "      <td>0.0</td>\n",
       "      <td>0.0</td>\n",
       "      <td>0.0</td>\n",
       "      <td>0.0</td>\n",
       "      <td>0.0</td>\n",
       "      <td>0.0</td>\n",
       "      <td>0.0</td>\n",
       "      <td>0.0</td>\n",
       "      <td>0.0</td>\n",
       "      <td>0.0</td>\n",
       "      <td>0.0</td>\n",
       "      <td>0.0</td>\n",
       "      <td>0.0</td>\n",
       "      <td>0.0</td>\n",
       "      <td>0.0</td>\n",
       "      <td>0.0</td>\n",
       "      <td>0.0</td>\n",
       "      <td>0.0</td>\n",
       "      <td>0.0</td>\n",
       "      <td>0.0</td>\n",
       "      <td>0.0</td>\n",
       "      <td>0.0</td>\n",
       "      <td>0.0</td>\n",
       "      <td>0.0</td>\n",
       "      <td>0.0</td>\n",
       "      <td>0.0</td>\n",
       "      <td>0.0</td>\n",
       "      <td>0.0</td>\n",
       "      <td>0.0</td>\n",
       "      <td>0.0</td>\n",
       "      <td>0.0</td>\n",
       "      <td>0.0</td>\n",
       "      <td>0.0</td>\n",
       "      <td>0.0</td>\n",
       "      <td>0.0</td>\n",
       "      <td>0.0</td>\n",
       "      <td>0.0</td>\n",
       "      <td>0.0</td>\n",
       "      <td>0.0</td>\n",
       "      <td>0.0</td>\n",
       "      <td>0.0</td>\n",
       "      <td>0.0</td>\n",
       "      <td>0.0</td>\n",
       "      <td>0.0</td>\n",
       "      <td>0.0</td>\n",
       "      <td>0.0</td>\n",
       "      <td>0.0</td>\n",
       "      <td>0.0</td>\n",
       "      <td>0.0</td>\n",
       "      <td>0.0</td>\n",
       "      <td>0.0</td>\n",
       "      <td>0.0</td>\n",
       "      <td>0.0</td>\n",
       "      <td>0.0</td>\n",
       "      <td>0.0</td>\n",
       "      <td>0.0</td>\n",
       "      <td>0.0</td>\n",
       "      <td>0.0</td>\n",
       "      <td>0.0</td>\n",
       "      <td>0.0</td>\n",
       "      <td>0.0</td>\n",
       "      <td>0.0</td>\n",
       "      <td>0.0</td>\n",
       "      <td>0.0</td>\n",
       "      <td>0.0</td>\n",
       "      <td>0.0</td>\n",
       "      <td>0.0</td>\n",
       "      <td>0.0</td>\n",
       "      <td>0.0</td>\n",
       "      <td>0.0</td>\n",
       "      <td>0.0</td>\n",
       "      <td>0.0</td>\n",
       "      <td>0.0</td>\n",
       "      <td>0.0</td>\n",
       "      <td>0.0</td>\n",
       "      <td>0.0</td>\n",
       "      <td>0.0</td>\n",
       "      <td>0.0</td>\n",
       "      <td>0.0</td>\n",
       "      <td>0.0</td>\n",
       "      <td>0.0</td>\n",
       "      <td>0.0</td>\n",
       "      <td>0.0</td>\n",
       "      <td>0.0</td>\n",
       "      <td>0.0</td>\n",
       "      <td>0.0</td>\n",
       "    </tr>\n",
       "    <tr>\n",
       "      <th>min</th>\n",
       "      <td>0.0</td>\n",
       "      <td>0.0</td>\n",
       "      <td>0.0</td>\n",
       "      <td>0.0</td>\n",
       "      <td>0.0</td>\n",
       "      <td>0.0</td>\n",
       "      <td>0.0</td>\n",
       "      <td>0.0</td>\n",
       "      <td>0.0</td>\n",
       "      <td>0.0</td>\n",
       "      <td>0.0</td>\n",
       "      <td>0.0</td>\n",
       "      <td>0.0</td>\n",
       "      <td>0.0</td>\n",
       "      <td>0.0</td>\n",
       "      <td>0.0</td>\n",
       "      <td>0.0</td>\n",
       "      <td>0.0</td>\n",
       "      <td>0.0</td>\n",
       "      <td>0.0</td>\n",
       "      <td>0.0</td>\n",
       "      <td>0.0</td>\n",
       "      <td>0.0</td>\n",
       "      <td>0.0</td>\n",
       "      <td>0.0</td>\n",
       "      <td>0.0</td>\n",
       "      <td>0.0</td>\n",
       "      <td>0.0</td>\n",
       "      <td>0.0</td>\n",
       "      <td>0.0</td>\n",
       "      <td>0.0</td>\n",
       "      <td>0.0</td>\n",
       "      <td>0.0</td>\n",
       "      <td>0.0</td>\n",
       "      <td>0.0</td>\n",
       "      <td>0.0</td>\n",
       "      <td>0.0</td>\n",
       "      <td>0.0</td>\n",
       "      <td>0.0</td>\n",
       "      <td>0.0</td>\n",
       "      <td>0.0</td>\n",
       "      <td>0.0</td>\n",
       "      <td>0.0</td>\n",
       "      <td>0.0</td>\n",
       "      <td>0.0</td>\n",
       "      <td>0.0</td>\n",
       "      <td>0.0</td>\n",
       "      <td>0.0</td>\n",
       "      <td>0.0</td>\n",
       "      <td>0.0</td>\n",
       "      <td>0.0</td>\n",
       "      <td>0.0</td>\n",
       "      <td>0.0</td>\n",
       "      <td>0.0</td>\n",
       "      <td>0.0</td>\n",
       "      <td>0.0</td>\n",
       "      <td>0.0</td>\n",
       "      <td>0.0</td>\n",
       "      <td>0.0</td>\n",
       "      <td>0.0</td>\n",
       "      <td>0.0</td>\n",
       "      <td>0.0</td>\n",
       "      <td>0.0</td>\n",
       "      <td>0.0</td>\n",
       "      <td>0.0</td>\n",
       "      <td>0.0</td>\n",
       "      <td>0.0</td>\n",
       "      <td>0.0</td>\n",
       "      <td>0.0</td>\n",
       "      <td>0.0</td>\n",
       "      <td>0.0</td>\n",
       "      <td>0.0</td>\n",
       "      <td>0.0</td>\n",
       "      <td>0.0</td>\n",
       "      <td>0.0</td>\n",
       "      <td>0.0</td>\n",
       "      <td>0.0</td>\n",
       "      <td>0.0</td>\n",
       "      <td>0.0</td>\n",
       "      <td>0.0</td>\n",
       "      <td>0.0</td>\n",
       "      <td>0.0</td>\n",
       "      <td>0.0</td>\n",
       "      <td>0.0</td>\n",
       "      <td>0.0</td>\n",
       "      <td>0.0</td>\n",
       "      <td>0.0</td>\n",
       "      <td>0.0</td>\n",
       "      <td>0.0</td>\n",
       "      <td>0.0</td>\n",
       "      <td>0.0</td>\n",
       "      <td>0.0</td>\n",
       "      <td>0.0</td>\n",
       "      <td>0.0</td>\n",
       "      <td>0.0</td>\n",
       "      <td>0.0</td>\n",
       "      <td>0.0</td>\n",
       "      <td>0.0</td>\n",
       "      <td>0.0</td>\n",
       "      <td>0.0</td>\n",
       "    </tr>\n",
       "    <tr>\n",
       "      <th>25%</th>\n",
       "      <td>0.0</td>\n",
       "      <td>0.0</td>\n",
       "      <td>0.0</td>\n",
       "      <td>0.0</td>\n",
       "      <td>0.0</td>\n",
       "      <td>0.0</td>\n",
       "      <td>0.0</td>\n",
       "      <td>0.0</td>\n",
       "      <td>0.0</td>\n",
       "      <td>0.0</td>\n",
       "      <td>0.0</td>\n",
       "      <td>0.0</td>\n",
       "      <td>0.0</td>\n",
       "      <td>0.0</td>\n",
       "      <td>0.0</td>\n",
       "      <td>0.0</td>\n",
       "      <td>0.0</td>\n",
       "      <td>0.0</td>\n",
       "      <td>0.0</td>\n",
       "      <td>0.0</td>\n",
       "      <td>0.0</td>\n",
       "      <td>0.0</td>\n",
       "      <td>0.0</td>\n",
       "      <td>0.0</td>\n",
       "      <td>0.0</td>\n",
       "      <td>0.0</td>\n",
       "      <td>0.0</td>\n",
       "      <td>0.0</td>\n",
       "      <td>0.0</td>\n",
       "      <td>0.0</td>\n",
       "      <td>0.0</td>\n",
       "      <td>0.0</td>\n",
       "      <td>0.0</td>\n",
       "      <td>0.0</td>\n",
       "      <td>0.0</td>\n",
       "      <td>0.0</td>\n",
       "      <td>0.0</td>\n",
       "      <td>0.0</td>\n",
       "      <td>0.0</td>\n",
       "      <td>0.0</td>\n",
       "      <td>0.0</td>\n",
       "      <td>0.0</td>\n",
       "      <td>0.0</td>\n",
       "      <td>0.0</td>\n",
       "      <td>0.0</td>\n",
       "      <td>0.0</td>\n",
       "      <td>0.0</td>\n",
       "      <td>0.0</td>\n",
       "      <td>0.0</td>\n",
       "      <td>0.0</td>\n",
       "      <td>0.0</td>\n",
       "      <td>0.0</td>\n",
       "      <td>0.0</td>\n",
       "      <td>0.0</td>\n",
       "      <td>0.0</td>\n",
       "      <td>0.0</td>\n",
       "      <td>0.0</td>\n",
       "      <td>0.0</td>\n",
       "      <td>0.0</td>\n",
       "      <td>0.0</td>\n",
       "      <td>0.0</td>\n",
       "      <td>0.0</td>\n",
       "      <td>0.0</td>\n",
       "      <td>0.0</td>\n",
       "      <td>0.0</td>\n",
       "      <td>0.0</td>\n",
       "      <td>0.0</td>\n",
       "      <td>0.0</td>\n",
       "      <td>0.0</td>\n",
       "      <td>0.0</td>\n",
       "      <td>0.0</td>\n",
       "      <td>0.0</td>\n",
       "      <td>0.0</td>\n",
       "      <td>0.0</td>\n",
       "      <td>0.0</td>\n",
       "      <td>0.0</td>\n",
       "      <td>0.0</td>\n",
       "      <td>0.0</td>\n",
       "      <td>0.0</td>\n",
       "      <td>0.0</td>\n",
       "      <td>0.0</td>\n",
       "      <td>0.0</td>\n",
       "      <td>0.0</td>\n",
       "      <td>0.0</td>\n",
       "      <td>0.0</td>\n",
       "      <td>0.0</td>\n",
       "      <td>0.0</td>\n",
       "      <td>0.0</td>\n",
       "      <td>0.0</td>\n",
       "      <td>0.0</td>\n",
       "      <td>0.0</td>\n",
       "      <td>0.0</td>\n",
       "      <td>0.0</td>\n",
       "      <td>0.0</td>\n",
       "      <td>0.0</td>\n",
       "      <td>0.0</td>\n",
       "      <td>0.0</td>\n",
       "      <td>0.0</td>\n",
       "      <td>0.0</td>\n",
       "      <td>0.0</td>\n",
       "    </tr>\n",
       "    <tr>\n",
       "      <th>50%</th>\n",
       "      <td>0.0</td>\n",
       "      <td>0.0</td>\n",
       "      <td>0.0</td>\n",
       "      <td>0.0</td>\n",
       "      <td>0.0</td>\n",
       "      <td>0.0</td>\n",
       "      <td>0.0</td>\n",
       "      <td>0.0</td>\n",
       "      <td>0.0</td>\n",
       "      <td>0.0</td>\n",
       "      <td>0.0</td>\n",
       "      <td>0.0</td>\n",
       "      <td>0.0</td>\n",
       "      <td>0.0</td>\n",
       "      <td>0.0</td>\n",
       "      <td>0.0</td>\n",
       "      <td>0.0</td>\n",
       "      <td>0.0</td>\n",
       "      <td>0.0</td>\n",
       "      <td>0.0</td>\n",
       "      <td>0.0</td>\n",
       "      <td>0.0</td>\n",
       "      <td>0.0</td>\n",
       "      <td>0.0</td>\n",
       "      <td>0.0</td>\n",
       "      <td>0.0</td>\n",
       "      <td>0.0</td>\n",
       "      <td>0.0</td>\n",
       "      <td>0.0</td>\n",
       "      <td>0.0</td>\n",
       "      <td>0.0</td>\n",
       "      <td>0.0</td>\n",
       "      <td>0.0</td>\n",
       "      <td>0.0</td>\n",
       "      <td>0.0</td>\n",
       "      <td>0.0</td>\n",
       "      <td>0.0</td>\n",
       "      <td>0.0</td>\n",
       "      <td>0.0</td>\n",
       "      <td>0.0</td>\n",
       "      <td>0.0</td>\n",
       "      <td>0.0</td>\n",
       "      <td>0.0</td>\n",
       "      <td>0.0</td>\n",
       "      <td>0.0</td>\n",
       "      <td>0.0</td>\n",
       "      <td>0.0</td>\n",
       "      <td>0.0</td>\n",
       "      <td>0.0</td>\n",
       "      <td>0.0</td>\n",
       "      <td>0.0</td>\n",
       "      <td>0.0</td>\n",
       "      <td>0.0</td>\n",
       "      <td>0.0</td>\n",
       "      <td>0.0</td>\n",
       "      <td>0.0</td>\n",
       "      <td>0.0</td>\n",
       "      <td>0.0</td>\n",
       "      <td>0.0</td>\n",
       "      <td>0.0</td>\n",
       "      <td>0.0</td>\n",
       "      <td>0.0</td>\n",
       "      <td>0.0</td>\n",
       "      <td>0.0</td>\n",
       "      <td>0.0</td>\n",
       "      <td>0.0</td>\n",
       "      <td>0.0</td>\n",
       "      <td>0.0</td>\n",
       "      <td>0.0</td>\n",
       "      <td>0.0</td>\n",
       "      <td>0.0</td>\n",
       "      <td>0.0</td>\n",
       "      <td>0.0</td>\n",
       "      <td>0.0</td>\n",
       "      <td>0.0</td>\n",
       "      <td>0.0</td>\n",
       "      <td>0.0</td>\n",
       "      <td>0.0</td>\n",
       "      <td>0.0</td>\n",
       "      <td>0.0</td>\n",
       "      <td>0.0</td>\n",
       "      <td>0.0</td>\n",
       "      <td>0.0</td>\n",
       "      <td>0.0</td>\n",
       "      <td>0.0</td>\n",
       "      <td>0.0</td>\n",
       "      <td>0.0</td>\n",
       "      <td>0.0</td>\n",
       "      <td>0.0</td>\n",
       "      <td>0.0</td>\n",
       "      <td>0.0</td>\n",
       "      <td>0.0</td>\n",
       "      <td>0.0</td>\n",
       "      <td>0.0</td>\n",
       "      <td>0.0</td>\n",
       "      <td>0.0</td>\n",
       "      <td>0.0</td>\n",
       "      <td>0.0</td>\n",
       "      <td>0.0</td>\n",
       "      <td>0.0</td>\n",
       "    </tr>\n",
       "    <tr>\n",
       "      <th>75%</th>\n",
       "      <td>0.0</td>\n",
       "      <td>0.0</td>\n",
       "      <td>0.0</td>\n",
       "      <td>0.0</td>\n",
       "      <td>0.0</td>\n",
       "      <td>0.0</td>\n",
       "      <td>0.0</td>\n",
       "      <td>0.0</td>\n",
       "      <td>0.0</td>\n",
       "      <td>0.0</td>\n",
       "      <td>0.0</td>\n",
       "      <td>0.0</td>\n",
       "      <td>0.0</td>\n",
       "      <td>0.0</td>\n",
       "      <td>0.0</td>\n",
       "      <td>0.0</td>\n",
       "      <td>0.0</td>\n",
       "      <td>0.0</td>\n",
       "      <td>0.0</td>\n",
       "      <td>0.0</td>\n",
       "      <td>0.0</td>\n",
       "      <td>0.0</td>\n",
       "      <td>0.0</td>\n",
       "      <td>0.0</td>\n",
       "      <td>0.0</td>\n",
       "      <td>0.0</td>\n",
       "      <td>0.0</td>\n",
       "      <td>0.0</td>\n",
       "      <td>0.0</td>\n",
       "      <td>0.0</td>\n",
       "      <td>0.0</td>\n",
       "      <td>0.0</td>\n",
       "      <td>0.0</td>\n",
       "      <td>0.0</td>\n",
       "      <td>0.0</td>\n",
       "      <td>0.0</td>\n",
       "      <td>0.0</td>\n",
       "      <td>0.0</td>\n",
       "      <td>0.0</td>\n",
       "      <td>0.0</td>\n",
       "      <td>0.0</td>\n",
       "      <td>0.0</td>\n",
       "      <td>0.0</td>\n",
       "      <td>0.0</td>\n",
       "      <td>0.0</td>\n",
       "      <td>0.0</td>\n",
       "      <td>0.0</td>\n",
       "      <td>0.0</td>\n",
       "      <td>0.0</td>\n",
       "      <td>0.0</td>\n",
       "      <td>0.0</td>\n",
       "      <td>0.0</td>\n",
       "      <td>0.0</td>\n",
       "      <td>0.0</td>\n",
       "      <td>0.0</td>\n",
       "      <td>0.0</td>\n",
       "      <td>0.0</td>\n",
       "      <td>0.0</td>\n",
       "      <td>0.0</td>\n",
       "      <td>0.0</td>\n",
       "      <td>0.0</td>\n",
       "      <td>0.0</td>\n",
       "      <td>0.0</td>\n",
       "      <td>0.0</td>\n",
       "      <td>0.0</td>\n",
       "      <td>0.0</td>\n",
       "      <td>0.0</td>\n",
       "      <td>0.0</td>\n",
       "      <td>0.0</td>\n",
       "      <td>0.0</td>\n",
       "      <td>0.0</td>\n",
       "      <td>0.0</td>\n",
       "      <td>0.0</td>\n",
       "      <td>0.0</td>\n",
       "      <td>0.0</td>\n",
       "      <td>0.0</td>\n",
       "      <td>0.0</td>\n",
       "      <td>0.0</td>\n",
       "      <td>0.0</td>\n",
       "      <td>0.0</td>\n",
       "      <td>0.0</td>\n",
       "      <td>0.0</td>\n",
       "      <td>0.0</td>\n",
       "      <td>0.0</td>\n",
       "      <td>0.0</td>\n",
       "      <td>0.0</td>\n",
       "      <td>0.0</td>\n",
       "      <td>0.0</td>\n",
       "      <td>0.0</td>\n",
       "      <td>0.0</td>\n",
       "      <td>0.0</td>\n",
       "      <td>0.0</td>\n",
       "      <td>0.0</td>\n",
       "      <td>0.0</td>\n",
       "      <td>0.0</td>\n",
       "      <td>0.0</td>\n",
       "      <td>0.0</td>\n",
       "      <td>0.0</td>\n",
       "      <td>0.0</td>\n",
       "      <td>0.0</td>\n",
       "    </tr>\n",
       "    <tr>\n",
       "      <th>max</th>\n",
       "      <td>0.0</td>\n",
       "      <td>0.0</td>\n",
       "      <td>0.0</td>\n",
       "      <td>0.0</td>\n",
       "      <td>0.0</td>\n",
       "      <td>0.0</td>\n",
       "      <td>0.0</td>\n",
       "      <td>0.0</td>\n",
       "      <td>0.0</td>\n",
       "      <td>0.0</td>\n",
       "      <td>0.0</td>\n",
       "      <td>0.0</td>\n",
       "      <td>0.0</td>\n",
       "      <td>0.0</td>\n",
       "      <td>0.0</td>\n",
       "      <td>0.0</td>\n",
       "      <td>0.0</td>\n",
       "      <td>0.0</td>\n",
       "      <td>0.0</td>\n",
       "      <td>0.0</td>\n",
       "      <td>0.0</td>\n",
       "      <td>0.0</td>\n",
       "      <td>0.0</td>\n",
       "      <td>0.0</td>\n",
       "      <td>0.0</td>\n",
       "      <td>0.0</td>\n",
       "      <td>0.0</td>\n",
       "      <td>0.0</td>\n",
       "      <td>0.0</td>\n",
       "      <td>0.0</td>\n",
       "      <td>0.0</td>\n",
       "      <td>0.0</td>\n",
       "      <td>0.0</td>\n",
       "      <td>0.0</td>\n",
       "      <td>0.0</td>\n",
       "      <td>0.0</td>\n",
       "      <td>0.0</td>\n",
       "      <td>0.0</td>\n",
       "      <td>0.0</td>\n",
       "      <td>0.0</td>\n",
       "      <td>0.0</td>\n",
       "      <td>0.0</td>\n",
       "      <td>0.0</td>\n",
       "      <td>0.0</td>\n",
       "      <td>0.0</td>\n",
       "      <td>0.0</td>\n",
       "      <td>0.0</td>\n",
       "      <td>0.0</td>\n",
       "      <td>0.0</td>\n",
       "      <td>0.0</td>\n",
       "      <td>0.0</td>\n",
       "      <td>0.0</td>\n",
       "      <td>0.0</td>\n",
       "      <td>0.0</td>\n",
       "      <td>0.0</td>\n",
       "      <td>0.0</td>\n",
       "      <td>0.0</td>\n",
       "      <td>0.0</td>\n",
       "      <td>0.0</td>\n",
       "      <td>0.0</td>\n",
       "      <td>0.0</td>\n",
       "      <td>0.0</td>\n",
       "      <td>0.0</td>\n",
       "      <td>0.0</td>\n",
       "      <td>0.0</td>\n",
       "      <td>0.0</td>\n",
       "      <td>0.0</td>\n",
       "      <td>0.0</td>\n",
       "      <td>0.0</td>\n",
       "      <td>0.0</td>\n",
       "      <td>0.0</td>\n",
       "      <td>0.0</td>\n",
       "      <td>0.0</td>\n",
       "      <td>0.0</td>\n",
       "      <td>0.0</td>\n",
       "      <td>0.0</td>\n",
       "      <td>0.0</td>\n",
       "      <td>0.0</td>\n",
       "      <td>0.0</td>\n",
       "      <td>0.0</td>\n",
       "      <td>0.0</td>\n",
       "      <td>0.0</td>\n",
       "      <td>0.0</td>\n",
       "      <td>0.0</td>\n",
       "      <td>0.0</td>\n",
       "      <td>0.0</td>\n",
       "      <td>0.0</td>\n",
       "      <td>0.0</td>\n",
       "      <td>0.0</td>\n",
       "      <td>0.0</td>\n",
       "      <td>0.0</td>\n",
       "      <td>0.0</td>\n",
       "      <td>0.0</td>\n",
       "      <td>0.0</td>\n",
       "      <td>0.0</td>\n",
       "      <td>0.0</td>\n",
       "      <td>0.0</td>\n",
       "      <td>0.0</td>\n",
       "      <td>0.0</td>\n",
       "      <td>0.0</td>\n",
       "    </tr>\n",
       "  </tbody>\n",
       "</table>"
      ],
      "text/plain": [
       "<IPython.core.display.HTML object>"
      ]
     },
     "metadata": {},
     "output_type": "display_data"
    }
   ],
   "source": [
    "Misc.print_df(df.describe())"
   ]
  },
  {
   "attachments": {},
   "cell_type": "markdown",
   "id": "708054b1",
   "metadata": {},
   "source": [
    "### Verbosity (`__init__`)"
   ]
  },
  {
   "attachments": {},
   "cell_type": "markdown",
   "id": "9dd94870",
   "metadata": {},
   "source": [
    "Some routines in the code has optional messages (debugging messagess) that can be displayed using a property of the `Verbose` class.\n",
    "\n",
    "Debbuging messages use the following routine:"
   ]
  },
  {
   "cell_type": "code",
   "execution_count": 20,
   "id": "7a34eb7e",
   "metadata": {},
   "outputs": [
    {
     "name": "stdout",
     "output_type": "stream",
     "text": [
      "VERB0::<module>:: Hello world\n"
     ]
    }
   ],
   "source": [
    "Verbose.VERBOSITY=0\n",
    "Verbose.print(0,\"Hello world\")"
   ]
  },
  {
   "attachments": {},
   "cell_type": "markdown",
   "id": "498864dc",
   "metadata": {},
   "source": [
    "You may enable verbosity messages using:"
   ]
  },
  {
   "cell_type": "code",
   "execution_count": 21,
   "id": "1c6113f3",
   "metadata": {},
   "outputs": [
    {
     "name": "stdout",
     "output_type": "stream",
     "text": [
      "  VERB1::<module>:: Hello world\n"
     ]
    }
   ],
   "source": [
    "Verbose.VERBOSITY=1\n",
    "Verbose.print(1,\"Hello world\")"
   ]
  },
  {
   "attachments": {},
   "cell_type": "markdown",
   "id": "3ebd0ee3",
   "metadata": {},
   "source": [
    "Let's leave verbosity to minimum:"
   ]
  },
  {
   "cell_type": "code",
   "execution_count": 22,
   "id": "276597ba",
   "metadata": {},
   "outputs": [],
   "source": [
    "Verbose.VERBOSITY=0"
   ]
  },
  {
   "attachments": {},
   "cell_type": "markdown",
   "id": "fb5a90a4",
   "metadata": {},
   "source": [
    "### Science ( `science`)"
   ]
  },
  {
   "attachments": {},
   "cell_type": "markdown",
   "id": "db7f88b1",
   "metadata": {},
   "source": [
    "The class `Science` contains useful scientific routines:"
   ]
  },
  {
   "cell_type": "code",
   "execution_count": 23,
   "id": "decdaeb0",
   "metadata": {},
   "outputs": [
    {
     "data": {
      "text/plain": [
       "['cartesian',\n",
       " 'cospherical',\n",
       " 'direction',\n",
       " 'get_convexhull',\n",
       " 'limb_darkening',\n",
       " 'load_from',\n",
       " 'pcylindrical',\n",
       " 'points_in_hull',\n",
       " 'rotation_matrix',\n",
       " 'save_to',\n",
       " 'spherical']"
      ]
     },
     "execution_count": 23,
     "metadata": {},
     "output_type": "execute_result"
    }
   ],
   "source": [
    "Misc.get_methods(Science)"
   ]
  },
  {
   "attachments": {},
   "cell_type": "markdown",
   "id": "73022d62",
   "metadata": {},
   "source": [
    "#### Class `Plane`:"
   ]
  },
  {
   "attachments": {},
   "cell_type": "markdown",
   "id": "2084e048",
   "metadata": {},
   "source": [
    "A plane in 3d"
   ]
  },
  {
   "cell_type": "code",
   "execution_count": 24,
   "id": "1e2c6b8e",
   "metadata": {},
   "outputs": [
    {
     "name": "stdout",
     "output_type": "stream",
     "text": [
      "{'a': 26, 'b': 7, 'c': 9, 'd': 3, 'p1x': -1, 'p1y': 2, 'p1z': 1, 'p2x': 0, 'p2y': -3, 'p2z': 2, 'p3x': 1, 'p3y': 1, 'p3z': -4, 'normal': 28.39013913315678, 'nx': 0.915810939779251, 'ny': 0.2465644837867214, 'nz': 0.3170114791543561}\n"
     ]
    }
   ],
   "source": [
    "#Test plane\n",
    "p1=[-1,2,1]\n",
    "p2=[0,-3,2]\n",
    "p3=[1,1,-4]\n",
    "plane=Plane(p1,p2,p3)\n",
    "print(plane)"
   ]
  },
  {
   "attachments": {},
   "cell_type": "markdown",
   "id": "0ee840c2",
   "metadata": {},
   "source": [
    "Check if point is above with respect to a direction"
   ]
  },
  {
   "cell_type": "code",
   "execution_count": 25,
   "id": "5bf77092",
   "metadata": {},
   "outputs": [
    {
     "name": "stdout",
     "output_type": "stream",
     "text": [
      "Is above:  False\n"
     ]
    }
   ],
   "source": [
    "p=[2,2,5]\n",
    "print(\"Is above: \",plane.is_above(p,[0,0,-1]))"
   ]
  },
  {
   "attachments": {},
   "cell_type": "markdown",
   "id": "950576b4",
   "metadata": {},
   "source": [
    "Get plane projection:"
   ]
  },
  {
   "cell_type": "code",
   "execution_count": 26,
   "id": "e85652b3",
   "metadata": {},
   "outputs": [
    {
     "name": "stdout",
     "output_type": "stream",
     "text": [
      "Projection: [-1.67741935483871, 1.0099255583126552, 3.727047146401985], distance: 4.015478735955178\n"
     ]
    }
   ],
   "source": [
    "v,dist=plane.get_projection(p)\n",
    "print(f\"Projection: {v}, distance: {dist}\")"
   ]
  },
  {
   "attachments": {},
   "cell_type": "markdown",
   "id": "5a45aa2f",
   "metadata": {},
   "source": [
    "Plot plane:"
   ]
  },
  {
   "cell_type": "code",
   "execution_count": 29,
   "id": "998c4e13",
   "metadata": {},
   "outputs": [
    {
     "data": {
      "image/png": "[encoded data removed]",
      "text/plain": [
       "<Figure size 640x480 with 1 Axes>"
      ]
     },
     "metadata": {},
     "output_type": "display_data"
    }
   ],
   "source": [
    "plane.plot_plane(p=p,alpha=0.1,color='r')"
   ]
  },
  {
   "attachments": {},
   "cell_type": "markdown",
   "id": "40e6486e",
   "metadata": {},
   "source": [
    "#### Coordinates transformation"
   ]
  },
  {
   "attachments": {},
   "cell_type": "markdown",
   "id": "4a341791",
   "metadata": {},
   "source": [
    "From cartesian to spherical:"
   ]
  },
  {
   "cell_type": "code",
   "execution_count": 30,
   "id": "d6bf2725",
   "metadata": {},
   "outputs": [
    {
     "name": "stdout",
     "output_type": "stream",
     "text": [
      "Axis 1:\n",
      "\tSpherical: 1.0 0.0 0.0\n",
      "\tCospherical: [1. 0. 0.]\n",
      "\tVerify: 1.0 0.0 0.0\n",
      "\tPseudo cilyndrical: [1.         6.28318531 0.        ]\n",
      "\tVerify: 1.0 0.0 0.0\n",
      "Axis 2:\n",
      "\tSpherical: 1.0 180.0 0.0\n",
      "\tCospherical: [-1.  0.  0.]\n",
      "\tVerify: -1.0 1.2246467991473532e-16 0.0\n",
      "\tPseudo cilyndrical: [1.         3.14159265 0.        ]\n",
      "\tVerify: 1.0 3.141592653589793 0.0\n",
      "Axis 3:\n",
      "\tSpherical: 1.0 90.0 0.0\n",
      "\tCospherical: [0. 1. 0.]\n",
      "\tVerify: 6.123233995736766e-17 1.0 0.0\n",
      "\tPseudo cilyndrical: [1.         1.57079633 0.        ]\n",
      "\tVerify: 1.0 1.5707963267948966 0.0\n",
      "Axis 4:\n",
      "\tSpherical: 1.0 270.0 0.0\n",
      "\tCospherical: [ 0. -1.  0.]\n",
      "\tVerify: -1.8369701987210297e-16 -1.0 0.0\n",
      "\tPseudo cilyndrical: [1.         4.71238898 0.        ]\n",
      "\tVerify: 1.0 4.71238898038469 0.0\n",
      "Axis 5:\n",
      "\tSpherical: 1.0 0.0 90.0\n",
      "\tCospherical: [1. 0. 1.]\n",
      "\tVerify: 1.0 0.0 1.0\n",
      "\tPseudo cilyndrical: [0.         6.28318531 1.        ]\n",
      "\tVerify: 6.123233995736766e-17 0.0 1.0\n",
      "Axis 6:\n",
      "\tSpherical: 1.0 0.0 -90.0\n",
      "\tCospherical: [ 1.  0. -1.]\n",
      "\tVerify: 1.0 0.0 -1.0\n",
      "\tPseudo cilyndrical: [ 0.          6.28318531 -1.        ]\n",
      "\tVerify: 6.123233995736766e-17 0.0 -1.0\n"
     ]
    }
   ],
   "source": [
    "#Test axis\n",
    "axis=[\n",
    "    [+1,+0,+0],[-1,+0,+0],\n",
    "    [+0,+1,+0],[+0,-1,+0],\n",
    "    [+0,+0,+1],[+0,+0,-1],\n",
    "]\n",
    "for i,xyz in enumerate(axis):\n",
    "    rqf=Science.spherical(xyz)\n",
    "    cqsqsf=Science.cospherical(xyz)\n",
    "    rhofct=Science.pcylindrical(xyz)\n",
    "    print(f\"Axis {i+1}:\")\n",
    "    print(\"\\tSpherical:\",rqf[0],rqf[1]*Consts.rad,rqf[2]*Consts.rad)\n",
    "    print(\"\\tCospherical:\",cqsqsf)\n",
    "    print(\"\\tVerify:\",mh.cos(rqf[1]),mh.sin(rqf[1]),mh.sin(rqf[2]))\n",
    "    print(\"\\tPseudo cilyndrical:\",rhofct)\n",
    "    print(\"\\tVerify:\",rqf[0]*np.cos(rqf[2]),rqf[1],mh.sin(rqf[2]))"
   ]
  },
  {
   "attachments": {},
   "cell_type": "markdown",
   "id": "62bf7bf0",
   "metadata": {},
   "source": [
    "From spherical to cartesian:"
   ]
  },
  {
   "cell_type": "code",
   "execution_count": 31,
   "id": "e9de76cc",
   "metadata": {},
   "outputs": [
    {
     "name": "stdout",
     "output_type": "stream",
     "text": [
      "Octant 1: [0.5        0.5        0.70710678]\n",
      "Octant 2: [-0.5         0.5         0.70710678]\n",
      "Octant 3: [-0.5        -0.5         0.70710678]\n",
      "Octant 4: [ 0.5        -0.5         0.70710678]\n",
      "Octant 5: [ 0.5         0.5        -0.70710678]\n",
      "Octant 6: [-0.5         0.5        -0.70710678]\n",
      "Octant 7: [-0.5        -0.5        -0.70710678]\n",
      "Octant 8: [ 0.5        -0.5        -0.70710678]\n"
     ]
    }
   ],
   "source": [
    "octants=[\n",
    "    [1,45*Consts.deg,45*Consts.deg],[1,135*Consts.deg,45*Consts.deg],\n",
    "    [1,225*Consts.deg,45*Consts.deg],[1,315*Consts.deg,45*Consts.deg],\n",
    "    [1,45*Consts.deg,-45*Consts.deg],[1,135*Consts.deg,-45*Consts.deg],\n",
    "    [1,225*Consts.deg,-45*Consts.deg],[1,315*Consts.deg,-45*Consts.deg]\n",
    "]\n",
    "for i,rqf in enumerate(octants):\n",
    "    xyz=Science.cartesian(rqf)\n",
    "    print(f\"Octant {i+1}:\",xyz) "
   ]
  },
  {
   "attachments": {},
   "cell_type": "markdown",
   "id": "b462818b",
   "metadata": {},
   "source": [
    "In order to ease transformation from direction to cartesian we have defined the `direction` routine:"
   ]
  },
  {
   "cell_type": "code",
   "execution_count": 32,
   "id": "49b6eb4b",
   "metadata": {},
   "outputs": [
    {
     "data": {
      "text/plain": [
       "array([0.4330127, 0.25     , 0.8660254])"
      ]
     },
     "execution_count": 32,
     "metadata": {},
     "output_type": "execute_result"
    }
   ],
   "source": [
    "#Unitary vector in the direction long = 30, lat = 60\n",
    "Science.direction(30,60)"
   ]
  },
  {
   "attachments": {},
   "cell_type": "markdown",
   "id": "c92612de",
   "metadata": {},
   "source": [
    "And the inverse:"
   ]
  },
  {
   "cell_type": "code",
   "execution_count": 33,
   "id": "2e213d71",
   "metadata": {},
   "outputs": [
    {
     "data": {
      "text/plain": [
       "(45.0, 0.0)"
      ]
     },
     "execution_count": 33,
     "metadata": {},
     "output_type": "execute_result"
    }
   ],
   "source": [
    "Science.direction(1,1,0)"
   ]
  },
  {
   "attachments": {},
   "cell_type": "markdown",
   "id": "6dceb567",
   "metadata": {},
   "source": [
    "#### Method `rotation_matrix`"
   ]
  },
  {
   "attachments": {},
   "cell_type": "markdown",
   "id": "ab4f8cc8",
   "metadata": {},
   "source": [
    "Compute rotation matrices starting from the direction of the z-axis and a roll in the x-y plane:"
   ]
  },
  {
   "cell_type": "code",
   "execution_count": 34,
   "id": "d52d9324",
   "metadata": {},
   "outputs": [
    {
     "name": "stdout",
     "output_type": "stream",
     "text": [
      "[[1. 0. 0.]\n",
      " [0. 1. 0.]\n",
      " [0. 0. 1.]]\n",
      "[[-1.  0.  0.]\n",
      " [ 0.  1.  0.]\n",
      " [ 0.  0. -1.]]\n"
     ]
    }
   ],
   "source": [
    "#Test rotation\n",
    "Msys2uni,Muni2sys=Science.rotation_matrix([0,0,1],0)\n",
    "print(Msys2uni)\n",
    "\n",
    "Msys2uni,Muni2sys=Science.rotation_matrix([0,0,-1],0)\n",
    "print(Msys2uni)"
   ]
  },
  {
   "attachments": {},
   "cell_type": "markdown",
   "id": "d9e64e75",
   "metadata": {},
   "source": [
    "#### Method `limb_darkening`"
   ]
  },
  {
   "attachments": {},
   "cell_type": "markdown",
   "id": "a720e050",
   "metadata": {},
   "source": [
    "This routine can calculate the value of a limb-darkened surface up until fourth-order:"
   ]
  },
  {
   "cell_type": "code",
   "execution_count": 35,
   "id": "dd7cf32b",
   "metadata": {},
   "outputs": [
    {
     "name": "stdout",
     "output_type": "stream",
     "text": [
      "      VERB3::limb_darkening:: Normalization of limb darkening function for cs = [0.655], N = 2.45567825755602\n",
      "      VERB3::limb_darkening:: Normalization of limb darkening function for cs = [0.6022, 0.0654], N = 2.4767269283350726\n",
      "      VERB3::limb_darkening:: Normalization of limb darkening function for cs = [0.9724, -0.4962, 0.2029], N = 2.472665297844586\n",
      "      VERB3::limb_darkening:: Normalization of limb darkening function for cs = [-0.2018, 2.1, -2.0247, 0.7567], N = 2.606700599122972\n"
     ]
    },
    {
     "data": {
      "image/png": "[encoded data removed]",
      "text/plain": [
       "<Figure size 640x480 with 1 Axes>"
      ]
     },
     "metadata": {},
     "output_type": "display_data"
    }
   ],
   "source": [
    "Verbose.VERBOSITY=VERB_ALL\n",
    "fig=plt.figure()\n",
    "ax=fig.gca()\n",
    "\n",
    "rhos=np.linspace(0,1,100)\n",
    "coefs=[0.6550]\n",
    "ax.plot(rhos,Science.limb_darkening(rhos,coefs),label=f\"coefs = {coefs}\")\n",
    "coefs=[0.6022,0.0654]\n",
    "ax.plot(rhos,Science.limb_darkening(rhos,coefs),label=f\"coefs = {coefs}\")\n",
    "coefs=[0.9724,-0.4962,0.2029]\n",
    "ax.plot(rhos,Science.limb_darkening(rhos,coefs),label=f\"coefs = {coefs}\")    \n",
    "coefs=[-0.2018,2.1000,-2.0247,0.7567]\n",
    "ax.plot(rhos,Science.limb_darkening(rhos,coefs),label=f\"coefs = {coefs}\")\n",
    "ax.legend()\n",
    "ax.set_xlabel(r\"$\\rho$\")\n",
    "ax.set_ylabel(r\"$I(\\rho)/I(0)$\")\n",
    "Plot.pryngles_mark(ax);\n",
    "Verbose.VERBOSITY=VERB_NONE"
   ]
  },
  {
   "attachments": {},
   "cell_type": "markdown",
   "id": "4acf08f3",
   "metadata": {},
   "source": [
    "Normalizations for each coefficient set is stored at:"
   ]
  },
  {
   "cell_type": "code",
   "execution_count": 36,
   "id": "82287b19",
   "metadata": {},
   "outputs": [
    {
     "data": {
      "text/plain": [
       "{-8145817878717057878: 2.45567825755602,\n",
       " 6394508155116276254: 2.4767269283350726,\n",
       " 5730772039920043893: 2.472665297844586,\n",
       " 1260437475972070811: 2.606700599122972}"
      ]
     },
     "execution_count": 36,
     "metadata": {},
     "output_type": "execute_result"
    }
   ],
   "source": [
    "SCIENCE_LIMB_NORMALIZATIONS"
   ]
  },
  {
   "attachments": {},
   "cell_type": "markdown",
   "id": "905bdf83",
   "metadata": {},
   "source": [
    "#### Routine `convex_hull`"
   ]
  },
  {
   "attachments": {},
   "cell_type": "markdown",
   "id": "4427a170",
   "metadata": {},
   "source": [
    "Convex hulls are fundamental geometrical entitie to compute the intersection between objects in Pryngles.  These are the basic routines required:"
   ]
  },
  {
   "cell_type": "code",
   "execution_count": 37,
   "id": "46dbf63f",
   "metadata": {},
   "outputs": [
    {
     "name": "stdout",
     "output_type": "stream",
     "text": [
      "30 30\n"
     ]
    },
    {
     "data": {
      "image/png": "[encoded data removed]",
      "text/plain": [
       "<Figure size 640x480 with 1 Axes>"
      ]
     },
     "metadata": {},
     "output_type": "display_data"
    }
   ],
   "source": [
    "rng = np.random.default_rng()\n",
    "points = rng.random((30, 2))\n",
    "\n",
    "#Given a set of points calculate the convex hull containing them\n",
    "hull = Science.get_convexhull(points)\n",
    "\n",
    "ps = rng.random((30, 2))-0.2\n",
    "\n",
    "#Determine which points are inside the convex hull\n",
    "cond=Science.points_in_hull(ps,hull)\n",
    "\n",
    "print(len(cond),len(ps))\n",
    "\n",
    "import matplotlib.pyplot as plt\n",
    "plt.figure()\n",
    "for simplex in hull.simplices:\n",
    "    plt.plot(points[simplex, 0], points[simplex, 1], 'k-')\n",
    "\n",
    "for p in ps[cond]:\n",
    "    plt.plot(p[0],p[1],'r*')\n",
    "\n",
    "for p in ps[~cond]:\n",
    "    plt.plot(p[0],p[1],'co')"
   ]
  },
  {
   "attachments": {},
   "cell_type": "markdown",
   "id": "27f4d154",
   "metadata": {},
   "source": [
    "### Plotting routines (`plot`)"
   ]
  },
  {
   "attachments": {},
   "cell_type": "markdown",
   "id": "58aefff9",
   "metadata": {},
   "source": [
    "The class `Plot` contains useful plotting routines:"
   ]
  },
  {
   "cell_type": "code",
   "execution_count": 38,
   "id": "9f3b30bd",
   "metadata": {},
   "outputs": [
    {
     "data": {
      "text/plain": [
       "['_pathpatch_2d_to_3d',\n",
       " 'animate_rebound',\n",
       " 'calc_flyby',\n",
       " 'circle3d',\n",
       " 'draw_pryngles',\n",
       " 'pryngles_mark',\n",
       " 'rgb',\n",
       " 'rgb_sample']"
      ]
     },
     "execution_count": 38,
     "metadata": {},
     "output_type": "execute_result"
    }
   ],
   "source": [
    "Misc.get_methods(Plot)"
   ]
  },
  {
   "attachments": {},
   "cell_type": "markdown",
   "id": "d7a24ee2",
   "metadata": {},
   "source": [
    "#### Method `circle3d` and `pryngles_mark`"
   ]
  },
  {
   "attachments": {},
   "cell_type": "markdown",
   "id": "65dccbe0",
   "metadata": {},
   "source": [
    "In order to plot spangles you may use:"
   ]
  },
  {
   "cell_type": "code",
   "execution_count": 39,
   "id": "07d02798",
   "metadata": {},
   "outputs": [
    {
     "data": {
      "image/png": "[encoded data removed]",
      "text/plain": [
       "<Figure size 640x480 with 1 Axes>"
      ]
     },
     "metadata": {},
     "output_type": "display_data"
    }
   ],
   "source": [
    "fig=plt.figure()\n",
    "ax=fig.add_subplot(111,projection='3d')\n",
    "ax.plot([0],[0],[0],'ko',markersize=5)\n",
    "\n",
    "#This is a routine to plot a spangle\n",
    "normal=[1,1,1]\n",
    "Plot.circle3d(ax,(0,0,0),0.5,zDir=normal,fill='None',alpha=0.3)\n",
    "\n",
    "\n",
    "ax.quiver(0,0,0,normal[0],normal[1],normal[2])\n",
    "#Decoration\n",
    "ax.set_xlim(-1,1)\n",
    "ax.set_ylim(-1,1)\n",
    "ax.set_zlim(-1,1)\n",
    "ax.set_box_aspect([1,1,1])\n",
    "ax.set_xlabel(\"$x_{ecl}$\")\n",
    "ax.set_ylabel(\"$y_{ecl}$\")\n",
    "ax.set_zlabel(\"$z_{ecl}$\")\n",
    "ax.view_init(elev=15,azim=1)\n",
    "Plot.pryngles_mark(ax);"
   ]
  },
  {
   "attachments": {},
   "cell_type": "markdown",
   "id": "588ce027",
   "metadata": {},
   "source": [
    "#### Method `draw_pryngles`"
   ]
  },
  {
   "attachments": {},
   "cell_type": "markdown",
   "id": "2de1a1cf",
   "metadata": {},
   "source": [
    "The logo of Pryngles can be generated with:"
   ]
  },
  {
   "cell_type": "code",
   "execution_count": 40,
   "id": "918d8024",
   "metadata": {},
   "outputs": [
    {
     "ename": "NameError",
     "evalue": "name 'RingedPlanet' is not defined",
     "output_type": "error",
     "traceback": [
      "\u001b[0;31m---------------------------------------------------------------------------\u001b[0m",
      "\u001b[0;31mNameError\u001b[0m                                 Traceback (most recent call last)",
      "Cell \u001b[0;32mIn[40], line 1\u001b[0m\n\u001b[0;32m----> 1\u001b[0m Plot\u001b[39m.\u001b[39;49mdraw_pryngles()\n",
      "File \u001b[0;32m~/pryngles/src/pryngles/plot.py:169\u001b[0m, in \u001b[0;36mPlot.draw_pryngles\u001b[0;34m(iobs, dark)\u001b[0m\n\u001b[1;32m    164\u001b[0m \u001b[39mdef\u001b[39;00m \u001b[39mdraw_pryngles\u001b[39m(iobs\u001b[39m=\u001b[39m\u001b[39m1\u001b[39m,dark\u001b[39m=\u001b[39m\u001b[39mFalse\u001b[39;00m):\n\u001b[1;32m    165\u001b[0m     \u001b[39m############################################################\u001b[39;00m\n\u001b[1;32m    166\u001b[0m     \u001b[39m# Simulation\u001b[39;00m\n\u001b[1;32m    167\u001b[0m     \u001b[39m############################################################\u001b[39;00m\n\u001b[1;32m    168\u001b[0m     no\u001b[39m=\u001b[39m\u001b[39m10000\u001b[39m\n\u001b[0;32m--> 169\u001b[0m     P\u001b[39m=\u001b[39mRingedPlanet(Nr\u001b[39m=\u001b[39m\u001b[39m500\u001b[39m,Np\u001b[39m=\u001b[39m\u001b[39m500\u001b[39m,Nb\u001b[39m=\u001b[39m\u001b[39m0\u001b[39m,\n\u001b[1;32m    170\u001b[0m                    Rint\u001b[39m=\u001b[39m\u001b[39m1.2\u001b[39m,Rext\u001b[39m=\u001b[39m\u001b[39m2.0\u001b[39m, i\u001b[39m=\u001b[39m\u001b[39m45\u001b[39m\u001b[39m*\u001b[39mDEG,\n\u001b[1;32m    171\u001b[0m                    a\u001b[39m=\u001b[39m\u001b[39m0.1\u001b[39m,e\u001b[39m=\u001b[39m\u001b[39m0.1\u001b[39m,lambq\u001b[39m=\u001b[39m\u001b[39m70\u001b[39m\u001b[39m*\u001b[39mDEG,\n\u001b[1;32m    172\u001b[0m                    physics\u001b[39m=\u001b[39m\u001b[39mdict\u001b[39m(AL\u001b[39m=\u001b[39m\u001b[39m1\u001b[39m,AS\u001b[39m=\u001b[39m\u001b[39m1\u001b[39m,taug\u001b[39m=\u001b[39m\u001b[39m1\u001b[39m),\n\u001b[1;32m    173\u001b[0m                    behavior\u001b[39m=\u001b[39m\u001b[39mdict\u001b[39m(shadows\u001b[39m=\u001b[39m\u001b[39m0\u001b[39m))\n\u001b[1;32m    174\u001b[0m     P\u001b[39m.\u001b[39mchangeObserver([\u001b[39m90\u001b[39m\u001b[39m*\u001b[39mDEG,iobs\u001b[39m*\u001b[39mDEG]) \u001b[39m#LOGO\u001b[39;00m\n\u001b[1;32m    175\u001b[0m     lamb_initial \u001b[39m=\u001b[39m \u001b[39m0.0\u001b[39m\u001b[39m*\u001b[39mDEG\n",
      "\u001b[0;31mNameError\u001b[0m: name 'RingedPlanet' is not defined"
     ]
    }
   ],
   "source": [
    "Plot.draw_pryngles()"
   ]
  },
  {
   "attachments": {},
   "cell_type": "markdown",
   "id": "71c0d52d",
   "metadata": {},
   "source": [
    "#### Method `rgb`"
   ]
  },
  {
   "attachments": {},
   "cell_type": "markdown",
   "id": "9663ee1a",
   "metadata": {},
   "source": [
    "Convert from hls to rgb:"
   ]
  },
  {
   "cell_type": "code",
   "execution_count": 41,
   "id": "910b9b7a",
   "metadata": {},
   "outputs": [
    {
     "name": "stdout",
     "output_type": "stream",
     "text": [
      "Help on function rgb in module pryngles.plot:\n",
      "\n",
      "rgb(hls, to_hex=False)\n",
      "    Convert from hue (0-360), level (0-1) and saturation (0-1) to RGB\n",
      "    \n",
      "    Parameters:\n",
      "    \n",
      "        hls: array(3):\n",
      "            Array with values of color:\n",
      "                hls[0]: hue, 0-360, see https://pythonfordesigners.com/tutorials/hsl-color-wheel/\n",
      "                hls[1]: level, 0: black, 1: white\n",
      "                hls[2]: saturation, 0: gray, 1: full-color\n",
      "                \n",
      "    Return:\n",
      "    \n",
      "        rgb: array(3):\n",
      "            Array with rgb values (R: red, G: green, B: blue)\n",
      "\n"
     ]
    }
   ],
   "source": [
    "help(Plot.rgb)"
   ]
  },
  {
   "cell_type": "code",
   "execution_count": 42,
   "id": "ed76ec82",
   "metadata": {},
   "outputs": [
    {
     "name": "stdout",
     "output_type": "stream",
     "text": [
      "(0.75, 0.475, 0.25)\n"
     ]
    }
   ],
   "source": [
    "print(Plot.rgb([27,0.5,0.5]))"
   ]
  },
  {
   "attachments": {},
   "cell_type": "markdown",
   "id": "7a7d81d9",
   "metadata": {},
   "source": [
    "#### Method `rgb_sample`"
   ]
  },
  {
   "attachments": {},
   "cell_type": "markdown",
   "id": "a1de1ecd",
   "metadata": {},
   "source": [
    "Generate a color chart of a given hue:"
   ]
  },
  {
   "cell_type": "code",
   "execution_count": 43,
   "id": "b5314a63",
   "metadata": {},
   "outputs": [
    {
     "data": {
      "image/png": "[encoded data removed]",
      "text/plain": [
       "<Figure size 900x900 with 1 Axes>"
      ]
     },
     "metadata": {},
     "output_type": "display_data"
    }
   ],
   "source": [
    "Plot.rgb_sample(27)"
   ]
  },
  {
   "attachments": {},
   "cell_type": "markdown",
   "id": "cd07fb7c",
   "metadata": {},
   "source": [
    "#### Routine `calc_flyby`"
   ]
  },
  {
   "attachments": {},
   "cell_type": "markdown",
   "id": "2115dd65",
   "metadata": {},
   "source": [
    "Fly byes are used to create animations:"
   ]
  },
  {
   "cell_type": "code",
   "execution_count": 44,
   "id": "a5f2451a",
   "metadata": {
    "scrolled": false
   },
   "outputs": [
    {
     "data": {
      "image/png": "[encoded data removed]",
      "text/plain": [
       "<Figure size 640x480 with 1 Axes>"
      ]
     },
     "metadata": {},
     "output_type": "display_data"
    }
   ],
   "source": [
    "nvecs=Plot.calc_flyby(normal=[1,1,0],lat=60)\n",
    "\n",
    "fig=plt.figure()\n",
    "ax=fig.add_subplot(111,projection='3d')\n",
    "\n",
    "for i in range(len(nvecs)):\n",
    "    ax.scatter(nvecs[i,0],nvecs[i,1],nvecs[i,2],c='r',s=5)\n",
    "    ax.text(nvecs[i,0],nvecs[i,1],nvecs[i,2],i)\n",
    "\n",
    "ax.set_xlabel(\"x\");\n",
    "ax.set_ylabel(\"y\");\n",
    "ax.set_zlabel(\"z\");"
   ]
  },
  {
   "attachments": {},
   "cell_type": "markdown",
   "id": "f29f705f",
   "metadata": {},
   "source": [
    "#### Routine `animate_rebound`"
   ]
  },
  {
   "attachments": {},
   "cell_type": "markdown",
   "id": "3075c9ad",
   "metadata": {},
   "source": [
    "It is important to know if a rebound simultation has some future:"
   ]
  },
  {
   "cell_type": "code",
   "execution_count": 45,
   "id": "79b49c3a",
   "metadata": {},
   "outputs": [
    {
     "name": "stderr",
     "output_type": "stream",
     "text": [
      " 36%|███▌      | 36/100 [00:00<00:00, 344.89it/s]"
     ]
    },
    {
     "name": "stderr",
     "output_type": "stream",
     "text": [
      "100%|██████████| 100/100 [00:00<00:00, 307.59it/s]\n",
      "MovieWriter ffmpeg unavailable; using Pillow instead.\n"
     ]
    },
    {
     "data": {
      "image/png": "[encoded data removed]",
      "text/plain": [
       "<Figure size 640x480 with 1 Axes>"
      ]
     },
     "metadata": {},
     "output_type": "display_data"
    }
   ],
   "source": [
    "sim=rb.Simulation()\n",
    "ms=1\n",
    "sim.add(m=1)\n",
    "mp=1e-3\n",
    "xp=0.3\n",
    "vp=np.sqrt(sim.G*ms/xp)\n",
    "sim.add(m=mp,x=xp,vy=vp)\n",
    "mm=1e-8\n",
    "xm=0.01\n",
    "vm=np.sqrt(sim.G*mp/xm)\n",
    "sim.add(m=mm,x=xp+xm,vy=vp+vm)\n",
    "P=sim.particles[1].P\n",
    "\n",
    "anim=Plot.animate_rebound(sim,filename=\"/tmp/animate-rebound.gif\",tend=P,nsnap=100,interval=20)  "
   ]
  },
  {
   "attachments": {},
   "cell_type": "markdown",
   "id": "3eaa4ed2",
   "metadata": {},
   "source": [
    "--- \n",
    "*The authors*, Last update: october, 2022."
   ]
  }
 ],
 "metadata": {
  "kernelspec": {
   "display_name": "Python 3 (ipykernel)",
   "language": "python",
   "name": "python3"
  },
  "language_info": {
   "codemirror_mode": {
    "name": "ipython",
    "version": 3
   },
   "file_extension": ".py",
   "mimetype": "text/x-python",
   "name": "python",
   "nbconvert_exporter": "python",
   "pygments_lexer": "ipython3",
   "version": "3.11.2"
  }
 },
 "nbformat": 4,
 "nbformat_minor": 5
}
