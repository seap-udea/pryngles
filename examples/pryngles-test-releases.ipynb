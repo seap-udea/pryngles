{
 "cells": [
  {
   "cell_type": "markdown",
   "metadata": {
    "id": "gSrYUMXmx5Hj"
   },
   "source": [
    "# Pryngles: test releases"
   ]
  },
  {
   "cell_type": "code",
   "execution_count": 1,
   "metadata": {},
   "outputs": [
    {
     "data": {
      "text/plain": [
       "['/Users/jorgezuluagacallejas/opt/anaconda3/lib/python3.9/site-packages']"
      ]
     },
     "execution_count": 1,
     "metadata": {},
     "output_type": "execute_result"
    }
   ],
   "source": [
    "import site\n",
    "site.getsitepackages()"
   ]
  },
  {
   "cell_type": "markdown",
   "metadata": {
    "id": "I5LuXvAQx5Hs"
   },
   "source": [
    "## Loading the package"
   ]
  },
  {
   "cell_type": "markdown",
   "metadata": {
    "id": "Z-PMksnyx5Hs"
   },
   "source": [
    "The first thing you need to do is to load the package.  The `load_ext` and `autoreload` magics are useful if you update the package and want to "
   ]
  },
  {
   "cell_type": "code",
   "execution_count": 2,
   "metadata": {},
   "outputs": [
    {
     "ename": "DistributionNotFound",
     "evalue": "The 'pryngles' distribution was not found and is required by the application",
     "output_type": "error",
     "traceback": [
      "\u001b[0;31m---------------------------------------------------------------------------\u001b[0m",
      "\u001b[0;31mDistributionNotFound\u001b[0m                      Traceback (most recent call last)",
      "Input \u001b[0;32mIn [2]\u001b[0m, in \u001b[0;36m<module>\u001b[0;34m\u001b[0m\n\u001b[1;32m      1\u001b[0m get_ipython()\u001b[38;5;241m.\u001b[39mrun_line_magic(\u001b[38;5;124m'\u001b[39m\u001b[38;5;124mload_ext\u001b[39m\u001b[38;5;124m'\u001b[39m, \u001b[38;5;124m'\u001b[39m\u001b[38;5;124mautoreload\u001b[39m\u001b[38;5;124m'\u001b[39m)\n\u001b[1;32m      2\u001b[0m get_ipython()\u001b[38;5;241m.\u001b[39mrun_line_magic(\u001b[38;5;124m'\u001b[39m\u001b[38;5;124mautoreload\u001b[39m\u001b[38;5;124m'\u001b[39m, \u001b[38;5;124m'\u001b[39m\u001b[38;5;124m2\u001b[39m\u001b[38;5;124m'\u001b[39m)\n\u001b[0;32m----> 3\u001b[0m \u001b[38;5;28;01mimport\u001b[39;00m \u001b[38;5;21;01mpryngles\u001b[39;00m \u001b[38;5;28;01mas\u001b[39;00m \u001b[38;5;21;01mpr\u001b[39;00m\n\u001b[1;32m      4\u001b[0m \u001b[38;5;28;01mfrom\u001b[39;00m \u001b[38;5;21;01mpryngles\u001b[39;00m \u001b[38;5;28;01mimport\u001b[39;00m Consts\n\u001b[1;32m      5\u001b[0m \u001b[38;5;28;01mimport\u001b[39;00m \u001b[38;5;21;01mmatplotlib\u001b[39;00m\u001b[38;5;21;01m.\u001b[39;00m\u001b[38;5;21;01mpyplot\u001b[39;00m \u001b[38;5;28;01mas\u001b[39;00m \u001b[38;5;21;01mplt\u001b[39;00m\n",
      "File \u001b[0;32m~/Dropbox/MiInvestigacion/PapersEnProceso/Exorings/pryngles/src/pryngles/__init__.py:35\u001b[0m, in \u001b[0;36m<module>\u001b[0;34m\u001b[0m\n\u001b[1;32m     33\u001b[0m warnings\u001b[38;5;241m.\u001b[39mfilterwarnings(\u001b[38;5;124m'\u001b[39m\u001b[38;5;124mignore\u001b[39m\u001b[38;5;124m'\u001b[39m)\n\u001b[1;32m     34\u001b[0m \u001b[38;5;28;01mimport\u001b[39;00m \u001b[38;5;21;01mpkg_resources\u001b[39;00m\n\u001b[0;32m---> 35\u001b[0m __version__\u001b[38;5;241m=\u001b[39m\u001b[43mpkg_resources\u001b[49m\u001b[38;5;241;43m.\u001b[39;49m\u001b[43mrequire\u001b[49m\u001b[43m(\u001b[49m\u001b[38;5;124;43m'\u001b[39;49m\u001b[38;5;124;43mpryngles\u001b[39;49m\u001b[38;5;124;43m'\u001b[39;49m\u001b[43m)\u001b[49m[\u001b[38;5;241m0\u001b[39m]\u001b[38;5;241m.\u001b[39mversion\n\u001b[1;32m     37\u001b[0m \u001b[38;5;66;03m#################################################################################\u001b[39;00m\n\u001b[1;32m     38\u001b[0m \u001b[38;5;66;03m#This code is used only for development purposes in Jupyter\u001b[39;00m\n\u001b[1;32m     39\u001b[0m \u001b[38;5;66;03m#################################################################################\u001b[39;00m\n\u001b[1;32m     40\u001b[0m \u001b[38;5;124;03m\"\"\"\u001b[39;00m\n\u001b[1;32m     41\u001b[0m \u001b[38;5;124;03mFor the developer:\u001b[39;00m\n\u001b[1;32m     42\u001b[0m \u001b[38;5;124;03m    The purpose of the get_ipython class is to provide some response in the python \u001b[39;00m\n\u001b[0;32m   (...)\u001b[0m\n\u001b[1;32m     53\u001b[0m \u001b[38;5;124;03m        \u001b[39;00m\n\u001b[1;32m     54\u001b[0m \u001b[38;5;124;03m\"\"\"\u001b[39;00m\n",
      "File \u001b[0;32m~/opt/anaconda3/lib/python3.9/site-packages/pkg_resources/__init__.py:891\u001b[0m, in \u001b[0;36mWorkingSet.require\u001b[0;34m(self, *requirements)\u001b[0m\n\u001b[1;32m    882\u001b[0m \u001b[38;5;28;01mdef\u001b[39;00m \u001b[38;5;21mrequire\u001b[39m(\u001b[38;5;28mself\u001b[39m, \u001b[38;5;241m*\u001b[39mrequirements):\n\u001b[1;32m    883\u001b[0m     \u001b[38;5;124;03m\"\"\"Ensure that distributions matching `requirements` are activated\u001b[39;00m\n\u001b[1;32m    884\u001b[0m \n\u001b[1;32m    885\u001b[0m \u001b[38;5;124;03m    `requirements` must be a string or a (possibly-nested) sequence\u001b[39;00m\n\u001b[0;32m   (...)\u001b[0m\n\u001b[1;32m    889\u001b[0m \u001b[38;5;124;03m    included, even if they were already activated in this working set.\u001b[39;00m\n\u001b[1;32m    890\u001b[0m \u001b[38;5;124;03m    \"\"\"\u001b[39;00m\n\u001b[0;32m--> 891\u001b[0m     needed \u001b[38;5;241m=\u001b[39m \u001b[38;5;28;43mself\u001b[39;49m\u001b[38;5;241;43m.\u001b[39;49m\u001b[43mresolve\u001b[49m\u001b[43m(\u001b[49m\u001b[43mparse_requirements\u001b[49m\u001b[43m(\u001b[49m\u001b[43mrequirements\u001b[49m\u001b[43m)\u001b[49m\u001b[43m)\u001b[49m\n\u001b[1;32m    893\u001b[0m     \u001b[38;5;28;01mfor\u001b[39;00m dist \u001b[38;5;129;01min\u001b[39;00m needed:\n\u001b[1;32m    894\u001b[0m         \u001b[38;5;28mself\u001b[39m\u001b[38;5;241m.\u001b[39madd(dist)\n",
      "File \u001b[0;32m~/opt/anaconda3/lib/python3.9/site-packages/pkg_resources/__init__.py:777\u001b[0m, in \u001b[0;36mWorkingSet.resolve\u001b[0;34m(self, requirements, env, installer, replace_conflicting, extras)\u001b[0m\n\u001b[1;32m    775\u001b[0m         \u001b[38;5;28;01mif\u001b[39;00m dist \u001b[38;5;129;01mis\u001b[39;00m \u001b[38;5;28;01mNone\u001b[39;00m:\n\u001b[1;32m    776\u001b[0m             requirers \u001b[38;5;241m=\u001b[39m required_by\u001b[38;5;241m.\u001b[39mget(req, \u001b[38;5;28;01mNone\u001b[39;00m)\n\u001b[0;32m--> 777\u001b[0m             \u001b[38;5;28;01mraise\u001b[39;00m DistributionNotFound(req, requirers)\n\u001b[1;32m    778\u001b[0m     to_activate\u001b[38;5;241m.\u001b[39mappend(dist)\n\u001b[1;32m    779\u001b[0m \u001b[38;5;28;01mif\u001b[39;00m dist \u001b[38;5;129;01mnot\u001b[39;00m \u001b[38;5;129;01min\u001b[39;00m req:\n\u001b[1;32m    780\u001b[0m     \u001b[38;5;66;03m# Oops, the \"best\" so far conflicts with a dependency\u001b[39;00m\n",
      "\u001b[0;31mDistributionNotFound\u001b[0m: The 'pryngles' distribution was not found and is required by the application"
     ]
    }
   ],
   "source": [
    "%load_ext autoreload\n",
    "%autoreload 2\n",
    "import pryngles as pr\n",
    "from pryngles import Consts\n",
    "import matplotlib.pyplot as plt\n",
    "pr.__version__"
   ]
  },
  {
   "cell_type": "markdown",
   "metadata": {
    "id": "XTvr83NAx5Ht"
   },
   "source": [
    "## Creating a planetary system"
   ]
  },
  {
   "cell_type": "markdown",
   "metadata": {
    "id": "TMYVlTedx5Ht"
   },
   "source": [
    "In order to create a planetary system you need first to create an object implementing all the required functionalities of the packages:"
   ]
  },
  {
   "cell_type": "code",
   "execution_count": null,
   "metadata": {},
   "outputs": [],
   "source": [
    "sys=pr.System()\n",
    "S=sys.add(kind=\"Star\",\n",
    "          physics=dict(radius=Consts.rsun/sys.ul),\n",
    "          optics=dict(limb_coeffs=[0.65])\n",
    "         )\n",
    "P=sys.add(kind=\"Planet\",primary=S,\n",
    "          orbit=dict(a=0.2,e=0.0),\n",
    "          physics=dict(radius=Consts.rsaturn/sys.ul)\n",
    "         )\n",
    "R=sys.add(kind=\"Ring\",primary=P,\n",
    "          physics=dict(fi=1.5,fe=2.5,i=30*Consts.deg)\n",
    "         )\n",
    "O=sys.add(kind=\"Observer\",\n",
    "          optics=dict(lamb=90*Consts.deg,beta=90*Consts.deg)\n",
    "         )\n",
    "RP=sys.ensamble_system()"
   ]
  },
  {
   "cell_type": "markdown",
   "metadata": {
    "id": "8KdyepFDx5Ht"
   },
   "source": [
    "Let's see the planet:"
   ]
  },
  {
   "cell_type": "code",
   "execution_count": null,
   "metadata": {
    "colab": {
     "base_uri": "https://localhost:8080/",
     "height": 1000
    },
    "id": "ArZ4rptKx5Ht",
    "outputId": "4c1c5917-fe35-4b17-f0bb-55e9345279fc",
    "scrolled": false
   },
   "outputs": [],
   "source": [
    "ecliptic,observer,star=RP.plotRingedPlanet(showfig=0)\n",
    "observer"
   ]
  },
  {
   "cell_type": "markdown",
   "metadata": {},
   "source": [
    "You may change stellar position:"
   ]
  },
  {
   "cell_type": "code",
   "execution_count": null,
   "metadata": {
    "id": "hp9p4biFx5Hv"
   },
   "outputs": [],
   "source": [
    "RP.changeStellarPosition(45*Consts.deg)"
   ]
  },
  {
   "cell_type": "markdown",
   "metadata": {
    "id": "Q9CREg7bx5Hv"
   },
   "source": [
    "Let's see the effect:"
   ]
  },
  {
   "cell_type": "code",
   "execution_count": null,
   "metadata": {
    "colab": {
     "base_uri": "https://localhost:8080/",
     "height": 787
    },
    "id": "plMa_7oWx5Hv",
    "outputId": "fa71365e-267d-4e03-9dc3-3bf093c88423"
   },
   "outputs": [],
   "source": [
    "ecliptic,observer,star=RP.plotRingedPlanet(showfig=0)\n",
    "observer"
   ]
  },
  {
   "cell_type": "markdown",
   "metadata": {
    "id": "fpwz13oTx5Hv"
   },
   "source": [
    "Please notice how the illuminated side of the planet and the shadow casted on the ring are now rotated.\n",
    "\n",
    "To understand why we talk about *stellar position* see the following diagram:\n",
    "\n",
    "![Stellar orientation](https://raw.githubusercontent.com/seap-udea/pryngles-public/master/gallery/orbit_ring_orientation.png)"
   ]
  },
  {
   "cell_type": "markdown",
   "metadata": {
    "id": "L-hVA4wNx5Hw"
   },
   "source": [
    "As you see we consider that the star is who is actually orbiting the planet (this is a planeto-centric) model."
   ]
  },
  {
   "cell_type": "markdown",
   "metadata": {
    "id": "g4Rghc2Ux5Hw"
   },
   "source": [
    "`fig1` (in the list of figures that `plotRingedPlanet` method produce) is a view in the *Ecliptic* {ecl} system of coordinates.\n",
    "\n",
    "Actually we recognize other four systems of coordinates (see Figure below):\n",
    "\n",
    "![System of coordinates in the model](https://raw.githubusercontent.com/seap-udea/pryngles-public/master/gallery/reference_frames.png)"
   ]
  },
  {
   "cell_type": "markdown",
   "metadata": {
    "id": "AhUxhKPpx5Hw"
   },
   "source": [
    "Let's change the position of the observer.  This is done by specifying the spherical coordinates in the `{ecl}` system (ecliptical longitude and latitude).  For instance:"
   ]
  },
  {
   "cell_type": "code",
   "execution_count": null,
   "metadata": {
    "id": "LkW-5Hfvx5Hw"
   },
   "outputs": [],
   "source": [
    "RP.changeObserver([90.0*Consts.deg,0.0*Consts.deg])"
   ]
  },
  {
   "cell_type": "markdown",
   "metadata": {
    "id": "nCpejdiEx5Hw"
   },
   "source": [
    "This coordinates places the observer on the x-y plane of the ecliptic (orbital plane) and looking towards the -y axis.  Let's see what the observer sees:"
   ]
  },
  {
   "cell_type": "code",
   "execution_count": null,
   "metadata": {
    "colab": {
     "base_uri": "https://localhost:8080/",
     "height": 787
    },
    "id": "bBSpTt0bx5Hw",
    "outputId": "08f38ccf-50cc-440c-8a72-e71248fbf493"
   },
   "outputs": [],
   "source": [
    "ecliptic,observer,star=RP.plotRingedPlanet(showfig=0)\n",
    "observer"
   ]
  },
  {
   "cell_type": "markdown",
   "metadata": {
    "id": "TjxFGz7_x5Hw"
   },
   "source": [
    "Oh yeah! You may probably realize that in this view the model simulates the fact that the observer cannot see part of the ring because the planet is in the middle.  This is not only a graphical attribute of the model, it is very omportant at calculating the light-curve of the system."
   ]
  },
  {
   "cell_type": "markdown",
   "metadata": {
    "id": "Big9musix5Hw"
   },
   "source": [
    "You may play around with `P.changeObserver` to understand the meaning of both angles in the argument (remember, they are the ecliptic longitude and latitude of the observer) and with `P.changeStellarPosition`."
   ]
  },
  {
   "cell_type": "code",
   "execution_count": null,
   "metadata": {
    "colab": {
     "base_uri": "https://localhost:8080/",
     "height": 787
    },
    "id": "Z1gTDJSrx5Hw",
    "outputId": "451adf3a-7701-49d9-b69e-f8dc96e8a82e"
   },
   "outputs": [],
   "source": [
    "RP.changeObserver([180.0*Consts.deg,0.0,Consts.deg])\n",
    "RP.changeStellarPosition(90*Consts.deg)\n",
    "ecliptic,observer,star=RP.plotRingedPlanet(showfig=0)\n",
    "observer"
   ]
  },
  {
   "cell_type": "markdown",
   "metadata": {
    "id": "4HlG_HQBx5Hw"
   },
   "source": [
    "## Transits and occultations"
   ]
  },
  {
   "cell_type": "markdown",
   "metadata": {
    "id": "8yEsVyWpx5Hw"
   },
   "source": [
    "Of course in certain star-planet-observer configurations you may see the planet occulting behind the stellar disk or transiting in front of it.  See for instance:"
   ]
  },
  {
   "cell_type": "code",
   "execution_count": null,
   "metadata": {
    "colab": {
     "base_uri": "https://localhost:8080/",
     "height": 787
    },
    "id": "m-3pnlhwx5Hw",
    "outputId": "1a9409f5-a124-4ba1-ba97-a9f2f6ee9b34"
   },
   "outputs": [],
   "source": [
    "RP.changeObserver([90.0*Consts.deg,0.0*Consts.deg])\n",
    "RP.changeStellarPosition(270*Consts.deg+RP.thetas)\n",
    "ecliptic,observer,star=RP.plotRingedPlanet(showfig=0,showstar=1)\n",
    "observer"
   ]
  },
  {
   "cell_type": "markdown",
   "metadata": {
    "id": "-Pwh00xXx5Hw"
   },
   "source": [
    "In this case the planet is transiting the star.  And in this case is being occulted by it:"
   ]
  },
  {
   "cell_type": "code",
   "execution_count": null,
   "metadata": {
    "colab": {
     "base_uri": "https://localhost:8080/",
     "height": 787
    },
    "id": "rJlvj5tex5Hw",
    "outputId": "271e12aa-3a7f-412d-a783-f3b03e2144f3"
   },
   "outputs": [],
   "source": [
    "RP.changeObserver([90.0*Consts.deg,0.0*Consts.deg])\n",
    "RP.changeStellarPosition(90*Consts.deg+RP.thetas)\n",
    "ecliptic,observer,star=RP.plotRingedPlanet(showfig=0,showstar=1)\n",
    "observer"
   ]
  },
  {
   "cell_type": "markdown",
   "metadata": {
    "id": "1Ki6KPm1x5Hx"
   },
   "source": [
    "Notice that in both the ecliptic longitude of the star is slightly (a few degrees) different thant that of the observer (in the occultation case) or that of 180+ecliptic longitude of the observer (in the case of transit)."
   ]
  },
  {
   "cell_type": "markdown",
   "metadata": {},
   "source": [
    "## Light curve "
   ]
  },
  {
   "cell_type": "markdown",
   "metadata": {
    "id": "6fdsdbYNx5H7"
   },
   "source": [
    "The units in the horizontal axis are not very undertandable.  They are radians and we are used to time since middle transit.  On the other hand we are used to see T as a negative quantity.  \n",
    "\n",
    "This is how we can make this plot similar to what we have been used to:"
   ]
  },
  {
   "cell_type": "code",
   "execution_count": null,
   "metadata": {
    "colab": {
     "base_uri": "https://localhost:8080/",
     "height": 579
    },
    "id": "sTpaFyfKx5H7",
    "outputId": "9f9fba57-abed-4d20-9a3c-2d64ea5809b9"
   },
   "outputs": [],
   "source": [
    "import numpy as np\n",
    "RP.changeObserver([90.0*Consts.deg,0.0*Consts.deg])\n",
    "\n",
    "lamb_initial=270*Consts.deg-RP.thetas-2*RP.fe*RP.thetap\n",
    "lamb_final=270*Consts.deg+RP.thetas+2*RP.fe*RP.thetap\n",
    "lambs=np.linspace(lamb_initial,lamb_final,100)\n",
    "Tps=[]\n",
    "Ts=[]\n",
    "ts=[]\n",
    "for lamb in lambs:\n",
    "    RP.changeStellarPosition(lamb)\n",
    "    #This attribute keeps the value of time\n",
    "    t=RP.t*RP.CU.UT\n",
    "    \n",
    "    #Compute transit\n",
    "    RP.updateOpticalFactors()\n",
    "    RP.updateTransit()\n",
    "    Tp=RP.Tip.sum()\n",
    "    T=Tp+RP.Tir.sum()\n",
    "    \n",
    "    ts+=[t]\n",
    "    Tps+=[Tp]\n",
    "    Ts+=[T]\n",
    "    \n",
    "ts=np.array(ts)\n",
    "Ts=np.array(Ts)\n",
    "Tps=np.array(Tps)\n",
    "\n",
    "#Middle transit\n",
    "tmed=(ts[-1]+ts[0])/2\n",
    "ts=(ts-tmed)/Consts.hr\n",
    "\n",
    "\n",
    "#Plot\n",
    "fig=plt.figure()\n",
    "ax=fig.gca()    \n",
    "ax.plot(ts,1-Tps,label=\"Planet\")\n",
    "ax.plot(ts,1-Ts,label=\"Ring+Planet\")\n",
    "\n",
    "ax.set_xlabel(\"Time since middle transit [hours]\")\n",
    "ax.set_ylabel(\"Flux anomaly [ppm]\")\n",
    "\n",
    "ax.legend()"
   ]
  },
  {
   "cell_type": "markdown",
   "metadata": {
    "id": "wvSY31KOx5H7"
   },
   "source": [
    "### Occultation light-curve"
   ]
  },
  {
   "cell_type": "code",
   "execution_count": null,
   "metadata": {
    "colab": {
     "base_uri": "https://localhost:8080/",
     "height": 579
    },
    "id": "j_jebyo5x5H7",
    "outputId": "ac1f8c79-f0f9-4d6f-ac95-b872ebc7d213",
    "scrolled": false
   },
   "outputs": [],
   "source": [
    "import numpy as np\n",
    "RP.changeObserver([90.0*Consts.deg,0.0*Consts.deg])\n",
    "\n",
    "lamb_initial=+90.0*Consts.deg-(RP.thetas+3*RP.fe*RP.thetap)\n",
    "lamb_final=+90.0*Consts.deg+(RP.thetas+3*RP.fe*RP.thetap)\n",
    "lambs=np.linspace(lamb_initial,lamb_final,100)\n",
    "Rs=[]\n",
    "ts=[]\n",
    "for lamb in lambs:\n",
    "    RP.changeStellarPosition(lamb)\n",
    "    #This attribute keeps the value of time\n",
    "    t=RP.t*RP.CU.UT\n",
    "    \n",
    "    #Compute transit\n",
    "    RP.updateOpticalFactors()\n",
    "    RP.updateDiffuseReflection()\n",
    "    \n",
    "    ts+=[t]\n",
    "    Rs+=[RP.Rip.sum()+RP.Rir.sum()]\n",
    "    \n",
    "ts=np.array(ts)\n",
    "Rs=np.array(Rs)\n",
    "\n",
    "#Middle transit\n",
    "tmed=(ts[-1]+ts[0])/2\n",
    "ts=(ts-tmed)/Consts.hr\n",
    "\n",
    "\n",
    "#Plot\n",
    "fig=plt.figure()\n",
    "ax=fig.gca()    \n",
    "ax.plot(ts,1e6*Rs)\n",
    "\n",
    "ax.set_xlabel(\"Time since middle transit [hours]\")\n",
    "ax.set_ylabel(\"Flux anomaly [ppm] \")"
   ]
  },
  {
   "cell_type": "markdown",
   "metadata": {
    "id": "0HmpGV1cx5H7"
   },
   "source": [
    "### Diffuse reflection light-curve\n"
   ]
  },
  {
   "cell_type": "markdown",
   "metadata": {
    "id": "7YXOT5w6x5H7"
   },
   "source": [
    "Let's compute a light-curve:"
   ]
  },
  {
   "cell_type": "code",
   "execution_count": null,
   "metadata": {
    "colab": {
     "base_uri": "https://localhost:8080/",
     "height": 562
    },
    "id": "HvWaZT2ex5H7",
    "outputId": "df7e26cf-b255-4009-e3b9-abd036de2b4e"
   },
   "outputs": [],
   "source": [
    "RP.changeObserver([90*Consts.deg,30*Consts.deg])\n",
    "\n",
    "lamb_initial=+0.0*Consts.deg\n",
    "lamb_final=+360*Consts.deg\n",
    "lambs=np.linspace(lamb_initial,lamb_final,100)\n",
    "Rps=[]\n",
    "Rrs=[]\n",
    "ts=[]\n",
    "for lamb in lambs:\n",
    "    RP.changeStellarPosition(lamb)\n",
    "    ts+=[RP.t*RP.CU.UT]\n",
    "    RP.updateOpticalFactors()\n",
    "    RP.updateDiffuseReflection()\n",
    "    Rps+=[RP.Rip.sum()]\n",
    "    Rrs+=[RP.Rir.sum()]\n",
    "    \n",
    "ts=np.array(ts)\n",
    "Rps=np.array(Rps)\n",
    "Rrs=np.array(Rrs)\n",
    "\n",
    "#Middle transit\n",
    "ts=(ts-ts[0])/Consts.day\n",
    "\n",
    "#Plot\n",
    "fig=plt.figure()\n",
    "ax=fig.gca()    \n",
    "ax.plot(ts,1e6*Rps,label=\"Planet\")\n",
    "ax.plot(ts,1e6*Rrs,label=\"Ring\")\n",
    "ax.plot(ts,1e6*(Rps+Rrs),label=\"Planet+Ring\")\n",
    "\n",
    "ax.set_xlabel(\"Time since VE [days]\")\n",
    "ax.set_ylabel(\"Flux anomaly [ppm]\")\n",
    "\n",
    "ax.legend();"
   ]
  },
  {
   "cell_type": "markdown",
   "metadata": {
    "id": "pE0ATF2Ux5H7"
   },
   "source": [
    "Now you have the basics! Let's play and do some science!"
   ]
  },
  {
   "cell_type": "markdown",
   "metadata": {
    "id": "1Qr4YQ32x5H7"
   },
   "source": [
    "--- \n",
    "*The authors*, Last update: july 19, 2022."
   ]
  }
 ],
 "metadata": {
  "colab": {
   "collapsed_sections": [
    "6ozhv48Cx5Ho",
    "I5LuXvAQx5Hs",
    "XTvr83NAx5Ht",
    "xsf0PCSPx5Hu",
    "4HlG_HQBx5Hw",
    "quh1rTvXx5Hx",
    "m1vgY5xnx5Hx",
    "YzvVL0ogx5H2",
    "0MgRG0GUx5H3",
    "5bg9tbYXx5H5",
    "qOrGyvA_x5H6",
    "WerOzFxjx5H6",
    "SHspdC2Qx5H6",
    "wvSY31KOx5H7",
    "0HmpGV1cx5H7"
   ],
   "name": "pryngles-tutorial-exploration.ipynb",
   "provenance": []
  },
  "kernelspec": {
   "display_name": "Python 3 (ipykernel)",
   "language": "python",
   "name": "python3"
  },
  "language_info": {
   "codemirror_mode": {
    "name": "ipython",
    "version": 3
   },
   "file_extension": ".py",
   "mimetype": "text/x-python",
   "name": "python",
   "nbconvert_exporter": "python",
   "pygments_lexer": "ipython3",
   "version": "3.9.7"
  }
 },
 "nbformat": 4,
 "nbformat_minor": 1
}
