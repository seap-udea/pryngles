{
 "cells": [
  {
   "cell_type": "markdown",
   "id": "9154807e",
   "metadata": {
    "id": "gSrYUMXmx5Hj"
   },
   "source": [
    "# Pryngles Tutorials: Developers\n",
    "## Part 4 - Modules Body and System"
   ]
  },
  {
   "cell_type": "markdown",
   "id": "d2840de4",
   "metadata": {},
   "source": [
    "This notebook illustrate in detail the interface of the `Pryngles` package. It is especially intended for developers.\n",
    "\n",
    "Authors:\n",
    "- Jorge I. Zuluaga, [jorge.zuluaga@udea.edu.co](mailto:jorge.zuluaga@udea.edu.co)\n",
    "\n",
    "Warnings:\n",
    "- This file was prepared using version 0.7.3.1 of `Pryngles`.\n",
    "- Matplotlib commands run in version 3.5.2."
   ]
  },
  {
   "cell_type": "markdown",
   "id": "da3ab03d",
   "metadata": {},
   "source": [
    "<center><font color='red' size='8'><i>This tutorial is under construction.</i></font></center>"
   ]
  },
  {
   "cell_type": "markdown",
   "id": "f02e2b09",
   "metadata": {},
   "source": [
    "## Preparation"
   ]
  },
  {
   "cell_type": "markdown",
   "id": "23fff249",
   "metadata": {},
   "source": [
    "Before running this tutorial you need to install `Pryngles`:"
   ]
  },
  {
   "cell_type": "code",
   "execution_count": 1,
   "id": "16c64161",
   "metadata": {},
   "outputs": [],
   "source": [
    "#!python -m pip install -qU pryngles\n",
    "#!pip show pryngles"
   ]
  },
  {
   "cell_type": "markdown",
   "id": "ca956f1a",
   "metadata": {},
   "source": [
    "If you are running this tutrial in `Google Colab` please run the following lines:"
   ]
  },
  {
   "cell_type": "code",
   "execution_count": 2,
   "id": "fb9c8eda",
   "metadata": {},
   "outputs": [],
   "source": [
    "\"\"\"\n",
    "import matplotlib.pyplot as plt\n",
    "RESOLUTION = 150\n",
    "%matplotlib inline\n",
    "plt.rcParams['figure.dpi'] = RESOLUTION\n",
    "# Sometimes you need to run twice this magic to be sure the backend is loaded\n",
    "%matplotlib inline\n",
    "#\"\"\";"
   ]
  },
  {
   "cell_type": "markdown",
   "id": "cb9e0332",
   "metadata": {},
   "source": [
    "## Import useful packages"
   ]
  },
  {
   "cell_type": "code",
   "execution_count": 3,
   "id": "4df48092",
   "metadata": {},
   "outputs": [],
   "source": [
    "%load_ext autoreload\n",
    "%autoreload 2\n",
    "import numpy as np\n",
    "import pandas as pd\n",
    "import matplotlib.pyplot as plt"
   ]
  },
  {
   "cell_type": "markdown",
   "id": "be2bdfc7",
   "metadata": {},
   "source": [
    "Although it is not a good practice to import everything of a package, for this tutorial and to avoid excesively large names we will import everything from Pryngles:"
   ]
  },
  {
   "cell_type": "code",
   "execution_count": 4,
   "id": "d198219e",
   "metadata": {},
   "outputs": [
    {
     "name": "stdout",
     "output_type": "stream",
     "text": [
      "The autoreload extension is already loaded. To reload it, use:\n",
      "  %reload_ext autoreload\n"
     ]
    }
   ],
   "source": [
    "from pryngles import *"
   ]
  },
  {
   "cell_type": "markdown",
   "id": "402779c4",
   "metadata": {},
   "source": [
    "## Core modules"
   ]
  },
  {
   "cell_type": "markdown",
   "id": "d8d58aeb",
   "metadata": {},
   "source": [
    "## System"
   ]
  },
  {
   "cell_type": "code",
   "execution_count": 5,
   "id": "6ef73b1d",
   "metadata": {},
   "outputs": [],
   "source": [
    "from pryngles import Consts"
   ]
  },
  {
   "cell_type": "markdown",
   "id": "355f1a1b",
   "metadata": {
    "id": "TMYVlTedx5Ht"
   },
   "source": [
    "In order to create a planetary system you need first to create an object implementing all the required functionalities of the packages:"
   ]
  },
  {
   "cell_type": "code",
   "execution_count": 7,
   "id": "13c6126f",
   "metadata": {},
   "outputs": [],
   "source": [
    "sys=System()"
   ]
  },
  {
   "cell_type": "markdown",
   "id": "b37514c6",
   "metadata": {},
   "source": [
    "The system is at first empty (no star, no planets, no rings).  This command simply create a container.  It will be always useful to know what the object contains:"
   ]
  },
  {
   "cell_type": "code",
   "execution_count": 32,
   "id": "28df8936",
   "metadata": {},
   "outputs": [
    {
     "name": "stdout",
     "output_type": "stream",
     "text": [
      "{'rebound': False, '_sim': <rebound.simulation.Simulation object at 0x7f9b43d86140, N=0, t=0.0>, 'units': ['au', 'msun', 'yr'], '_ul': 'au', '_um': 'msun', '_ut': 'yr', 'ul': 149597870700.0, 'um': 1.9884754159665356e+30, 'ut': 31557600.0, 'hashes': {}, 'stars': [], 'planets': [], 'rings': [], 'observers': [], 'Stars': 0, 'Planets': 0, 'Rings': 0, 'Observers': 0, 'nstars': 0, 'nplanets': 0, 'nrings': 0, 'nobservers': 0, 'nbodies': 0}\n"
     ]
    }
   ],
   "source": [
    "print(sys)"
   ]
  },
  {
   "cell_type": "code",
   "execution_count": 33,
   "id": "42f60205",
   "metadata": {},
   "outputs": [
    {
     "data": {
      "text/plain": [
       "{'rebound': False,\n",
       " '_sim': <rebound.simulation.Simulation object at 0x7f9b43d86140, N=0, t=0.0>,\n",
       " 'units': ['au', 'msun', 'yr'],\n",
       " '_ul': 'au',\n",
       " '_um': 'msun',\n",
       " '_ut': 'yr',\n",
       " 'ul': 149597870700.0,\n",
       " 'um': 1.9884754159665356e+30,\n",
       " 'ut': 31557600.0,\n",
       " 'hashes': {},\n",
       " 'stars': [],\n",
       " 'planets': [],\n",
       " 'rings': [],\n",
       " 'observers': [],\n",
       " 'Stars': 0,\n",
       " 'Planets': 0,\n",
       " 'Rings': 0,\n",
       " 'Observers': 0,\n",
       " 'nstars': 0,\n",
       " 'nplanets': 0,\n",
       " 'nrings': 0,\n",
       " 'nobservers': 0,\n",
       " 'nbodies': 0}"
      ]
     },
     "execution_count": 33,
     "metadata": {},
     "output_type": "execute_result"
    }
   ],
   "source": [
    "sys.__dict__"
   ]
  },
  {
   "cell_type": "markdown",
   "id": "1c6f409b",
   "metadata": {},
   "source": [
    "Here, you may change the units by instantiating the object as:\n",
    "\n",
    "```python \n",
    "    sys=pr.System(['km','mearth','day'])\n",
    "```"
   ]
  },
  {
   "cell_type": "markdown",
   "id": "af9cfd5b",
   "metadata": {},
   "source": [
    "Now we have a system we may add a star:"
   ]
  },
  {
   "cell_type": "code",
   "execution_count": 34,
   "id": "580c1faa",
   "metadata": {},
   "outputs": [],
   "source": [
    "S=sys.add(kind=\"Star\")"
   ]
  },
  {
   "cell_type": "markdown",
   "id": "39e37a83",
   "metadata": {},
   "source": [
    "The default properties of the star may be checked in its properties `orbit`, `physics` and `optics`:"
   ]
  },
  {
   "cell_type": "code",
   "execution_count": 35,
   "id": "07f5f5d2",
   "metadata": {},
   "outputs": [
    {
     "name": "stdout",
     "output_type": "stream",
     "text": [
      "Orbital properties: {'m': 1}\n",
      "Physical properties: {'radius': 1, 'prot': 1, 'wrot': 6.283185307179586}\n",
      "Optical properties: {'limb_coeffs': [], 'nspangles': 1000}\n"
     ]
    }
   ],
   "source": [
    "print(f\"Orbital properties: {S.orbit}\")\n",
    "print(f\"Physical properties: {S.physics}\")\n",
    "print(f\"Optical properties: {S.optics}\")"
   ]
  },
  {
   "cell_type": "markdown",
   "id": "138e2468",
   "metadata": {},
   "source": [
    "As you may verify the star is assummed to have a set of default values.  Please recall that all quantities are in the units chosen when the system was defined.  If you want to change the properties, use:"
   ]
  },
  {
   "cell_type": "code",
   "execution_count": 36,
   "id": "16bc0675",
   "metadata": {},
   "outputs": [],
   "source": [
    "S.update_body(physics=dict(radius=Consts.rsun/sys.ul,prot=25*Consts.day/sys.ut))"
   ]
  },
  {
   "cell_type": "code",
   "execution_count": 37,
   "id": "99539f9c",
   "metadata": {},
   "outputs": [
    {
     "name": "stdout",
     "output_type": "stream",
     "text": [
      "{'radius': 0.004650467260962157, 'prot': 0.06844626967830253, 'wrot': 91.79733733789377}\n"
     ]
    }
   ],
   "source": [
    "print(S.physics)"
   ]
  },
  {
   "cell_type": "markdown",
   "id": "a11c6021",
   "metadata": {},
   "source": [
    "Now add a planet:"
   ]
  },
  {
   "cell_type": "code",
   "execution_count": 38,
   "id": "fcddc71c",
   "metadata": {},
   "outputs": [],
   "source": [
    "P=sys.add(kind=\"Planet\",\n",
    "          primary=S,\n",
    "          orbit=dict(m=Consts.mearth/sys.um),\n",
    "          physics=dict(radius=Consts.rearth/sys.ul,prot=24*Consts.hr/sys.ut))"
   ]
  },
  {
   "cell_type": "code",
   "execution_count": 39,
   "id": "2a67e0ab",
   "metadata": {
    "id": "DrVWfZRLx5Ht"
   },
   "outputs": [
    {
     "name": "stdout",
     "output_type": "stream",
     "text": [
      "Orbital properties: {'m': 3.0034896149157645e-06, 'a': 1.0, 'e': 0.0}\n",
      "Physical properties: {'radius': 4.26352124542639e-05, 'prot': 0.0027378507871321013, 'wrot': 2294.9334334473438}\n",
      "Optical properties: {'nspangles': 1000}\n"
     ]
    }
   ],
   "source": [
    "print(f\"Orbital properties: {P.orbit}\")\n",
    "print(f\"Physical properties: {P.physics}\")\n",
    "print(f\"Optical properties: {P.optics}\")"
   ]
  },
  {
   "cell_type": "markdown",
   "id": "0640722c",
   "metadata": {},
   "source": [
    "Now add a ring around the planet:"
   ]
  },
  {
   "cell_type": "code",
   "execution_count": 40,
   "id": "8fd9f81f",
   "metadata": {},
   "outputs": [
    {
     "name": "stdout",
     "output_type": "stream",
     "text": [
      "Orbital properties: {}\n",
      "Physical properties: {'fi': 1.5, 'fe': 2.5, 'i': 0.5235987755982988, 'ri': 6.395281868139586e-05, 're': 0.00010658803113565974}\n",
      "Optical properties: {'nspangles': 1000}\n"
     ]
    }
   ],
   "source": [
    "R=sys.add(kind=\"Ring\",\n",
    "          primary=P,\n",
    "          physics=dict(fi=1.5,fe=2.5,i=30*Consts.deg)\n",
    "         )\n",
    "print(f\"Orbital properties: {R.orbit}\")\n",
    "print(f\"Physical properties: {R.physics}\")\n",
    "print(f\"Optical properties: {R.optics}\")"
   ]
  },
  {
   "cell_type": "markdown",
   "id": "98a3e17b",
   "metadata": {},
   "source": [
    "Finally you need an observer:"
   ]
  },
  {
   "cell_type": "code",
   "execution_count": 41,
   "id": "a59545f7",
   "metadata": {},
   "outputs": [
    {
     "name": "stdout",
     "output_type": "stream",
     "text": [
      "Orbital properties: {}\n",
      "Physical properties: {}\n",
      "Optical properties: {'distance': 1, 'beta': 0, 'lamb': 0, 'inclination': 1.5707963267948966}\n"
     ]
    }
   ],
   "source": [
    "O=sys.add(kind=\"Observer\")\n",
    "print(f\"Orbital properties: {O.orbit}\")\n",
    "print(f\"Physical properties: {O.physics}\")\n",
    "print(f\"Optical properties: {O.optics}\")"
   ]
  },
  {
   "cell_type": "markdown",
   "id": "3eaa4ed2",
   "metadata": {},
   "source": [
    "--- \n",
    "*The authors*, Last update: september, 2022."
   ]
  }
 ],
 "metadata": {
  "kernelspec": {
   "display_name": "Python 3 (ipykernel)",
   "language": "python",
   "name": "python3"
  },
  "language_info": {
   "codemirror_mode": {
    "name": "ipython",
    "version": 3
   },
   "file_extension": ".py",
   "mimetype": "text/x-python",
   "name": "python",
   "nbconvert_exporter": "python",
   "pygments_lexer": "ipython3",
   "version": "3.9.7"
  }
 },
 "nbformat": 4,
 "nbformat_minor": 5
}
