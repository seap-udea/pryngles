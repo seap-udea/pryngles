{
 "cells": [
  {
   "cell_type": "markdown",
   "id": "159e5928",
   "metadata": {},
   "source": [
    "# Developing and testing the pryngles `cpixx` extension"
   ]
  },
  {
   "cell_type": "markdown",
   "id": "afc990e2",
   "metadata": {},
   "source": [
    "In this notebook we want to test the `cpixx` extension using data collected from the application of the original `pixx` extension "
   ]
  },
  {
   "cell_type": "code",
   "execution_count": 5,
   "id": "d6c5897e",
   "metadata": {},
   "outputs": [],
   "source": [
    "import pickle\n",
    "import numpy as np\n",
    "import pandas as pd\n",
    "import os\n",
    "from pryngles import pixx"
   ]
  },
  {
   "cell_type": "markdown",
   "id": "14fc1e33",
   "metadata": {},
   "source": [
    "## Collecting data"
   ]
  },
  {
   "cell_type": "markdown",
   "id": "1abb77e6",
   "metadata": {},
   "source": [
    "You must first download file `reflection-test.pkl` from Google Drive and place it at `/tmp`"
   ]
  },
  {
   "cell_type": "code",
   "execution_count": 6,
   "id": "1ae65cff",
   "metadata": {},
   "outputs": [],
   "source": [
    "f=open(\"/tmp/reflection-test.pkl\",\"rb\")\n",
    "save_values=pickle.load(f)\n",
    "f.close()"
   ]
  },
  {
   "cell_type": "markdown",
   "id": "b1f044b0",
   "metadata": {},
   "source": [
    "Now let's read the values and:\n",
    "\n",
    "- Create a file with the fourier coefficient matrices (`<object>-ntot_nx_ny_nz.mat`)\n",
    "- Create a file with the gauss integrations points (`<object>-xmu.mat`)\n",
    "- Accumulate the data for a given object in a pandas dataframe."
   ]
  },
  {
   "cell_type": "code",
   "execution_count": 7,
   "id": "b9166603",
   "metadata": {},
   "outputs": [
    {
     "name": "stdout",
     "output_type": "stream",
     "text": [
      "Saving file planet-5292_63_21_4.mat...\n",
      "Saving file planet-xmu-21.mat...\n",
      "Saving file ring_forward-414000_60_20_345.mat...\n",
      "Saving file ring_forward-xmu-20.mat...\n",
      "Saving file ring_back-414000_60_20_345.mat...\n",
      "Saving file ring_back-xmu-20.mat...\n",
      "Done.\n"
     ]
    }
   ],
   "source": [
    "matrices=dict()\n",
    "columns=[\"delazim\",\"beta\",\"eta\",\"zeta\",\"nmugs\",\"nmat\",\"nfou\",\"af\",\"S1\",\"S2\",\"S3\",\"S4\"]\n",
    "for i,save in enumerate(save_values):\n",
    "    args=save[\"args\"]\n",
    "    obj=save[\"obj\"].replace(\" \",\"_\")\n",
    "    \"\"\"\n",
    "    args are:\n",
    "        0: Number of points (int)\n",
    "        1: Delta azim (array Nx1)\n",
    "        2: betas (array: Nx1)\n",
    "        3: etas (array: Nx1)\n",
    "        4: zetas\n",
    "        5: nmugs\n",
    "        6: nmat\n",
    "        7: nfou\n",
    "        8: xmu\n",
    "        9: rfou\n",
    "        10: af\n",
    "    \"\"\"\n",
    "    \n",
    "    #Read properties\n",
    "    npoints=args[0]\n",
    "    delta_azim=args[1]\n",
    "    betas=args[2]\n",
    "    etas=args[3]\n",
    "    zetas=args[4]\n",
    "    nmugs,nmat,nfou=args[5:8]\n",
    "    xmu=args[8]\n",
    "    rfou=args[9]\n",
    "    nx,ny,nz=rfou.shape\n",
    "    af=args[10]\n",
    "    hash_mat=hash(rfou.sum())\n",
    "    \n",
    "    #Read stokes\n",
    "    stokes=save[\"stokes\"]\n",
    "    \n",
    "    #Save in dataframe\n",
    "    data=pd.DataFrame(columns=columns)\n",
    "    data[\"delazim\"]=pd.Series(delta_azim)\n",
    "    data[\"beta\"]=pd.Series(betas)\n",
    "    data[\"eta\"]=pd.Series(etas)\n",
    "    data[\"zeta\"]=pd.Series(zetas)\n",
    "    data[\"nmugs\"]=nmugs\n",
    "    data[\"nmat\"]=nmat\n",
    "    data[\"nfou\"]=nfou\n",
    "    data[\"af\"]=pd.Series(af)\n",
    "    data[[\"S1\",\"S2\",\"S3\",\"S4\"]]=pd.DataFrame(stokes)\n",
    "    \n",
    "    #Save matrix\n",
    "    if not hash_mat in matrices.keys():    \n",
    "        #Save matrix\n",
    "        ntot=nx*ny*nz\n",
    "        filename=f\"{obj}-{ntot}_{nx}_{ny}_{nz}.mat\"\n",
    "        print(f\"Saving file {filename}...\")\n",
    "        np.savetxt(filename,rfou.reshape(ntot,1))\n",
    "\n",
    "        filename=f\"{obj}-xmu-{len(xmu)}.mat\"\n",
    "        print(f\"Saving file {filename}...\")\n",
    "        np.savetxt(filename,xmu)\n",
    "\n",
    "        matrices[hash_mat]=dict(\n",
    "            obj=obj,\n",
    "            data=pd.DataFrame(columns=columns),\n",
    "            rfou=rfou,\n",
    "        )\n",
    "    \n",
    "    #Store data\n",
    "    matrices[hash_mat][\"data\"]=pd.concat((matrices[hash_mat][\"data\"],data),ignore_index=True)\n",
    "    #break\n",
    "        \n",
    "print(\"Done.\")"
   ]
  },
  {
   "cell_type": "markdown",
   "id": "07cc9b83",
   "metadata": {},
   "source": [
    "Save the interpolation matrices (the unique values) into interpolation files:"
   ]
  },
  {
   "cell_type": "code",
   "execution_count": 8,
   "id": "35246e24",
   "metadata": {},
   "outputs": [
    {
     "name": "stdout",
     "output_type": "stream",
     "text": [
      "Saving interpolation matrix for planet\n",
      "Original number of interpolation points 696730\n",
      "Number of interpolation points after removing duplicates 193758\n",
      "Saving file planet-interpolation.mat...\n",
      "Saving interpolation matrix for ring_forward\n",
      "Original number of interpolation points 539136\n",
      "Number of interpolation points after removing duplicates 231\n",
      "Saving file ring_forward-interpolation.mat...\n",
      "Saving interpolation matrix for ring_back\n",
      "Original number of interpolation points 616535\n",
      "Number of interpolation points after removing duplicates 320\n",
      "Saving file ring_back-interpolation.mat...\n"
     ]
    }
   ],
   "source": [
    "for hash_mat,item in matrices.items():\n",
    "    obj=item[\"obj\"]\n",
    "    print(f\"Saving interpolation matrix for {obj}\")\n",
    "    data=item[\"data\"]\n",
    "    print(f\"Original number of interpolation points {len(data)}\")\n",
    "    data_clean=data.drop_duplicates()\n",
    "    print(f\"Number of interpolation points after removing duplicates {len(data_clean)}\")\n",
    "    filename=f\"{obj}-interpolation.mat\"\n",
    "    print(f\"Saving file {filename}...\")\n",
    "    np.savetxt(filename,data_clean)"
   ]
  },
  {
   "cell_type": "markdown",
   "id": "e8472302",
   "metadata": {},
   "source": [
    "## Check using pixx"
   ]
  },
  {
   "cell_type": "markdown",
   "id": "e693f208",
   "metadata": {},
   "source": [
    "Read data:"
   ]
  },
  {
   "cell_type": "code",
   "execution_count": 9,
   "id": "e071686d",
   "metadata": {},
   "outputs": [
    {
     "name": "stdout",
     "output_type": "stream",
     "text": [
      "planet-5292_63_21_4.mat\t\tring_back-xmu-20.mat\r\n",
      "planet-interpolation.mat\tring_forward-414000_60_20_345.mat\r\n",
      "planet-xmu-21.mat\t\tring_forward-interpolation.mat\r\n",
      "ring_back-414000_60_20_345.mat\tring_forward-xmu-20.mat\r\n",
      "ring_back-interpolation.mat\r\n"
     ]
    }
   ],
   "source": [
    "!ls *.mat"
   ]
  },
  {
   "cell_type": "markdown",
   "id": "0f922334",
   "metadata": {},
   "source": [
    "Read data:"
   ]
  },
  {
   "cell_type": "code",
   "execution_count": 10,
   "id": "d0bef579",
   "metadata": {},
   "outputs": [],
   "source": [
    "filename=\"planet-5292_63_21_4.mat\"\n",
    "ntot,nx,ny,nz=[int(v) for v in filename.split(\"-\")[1].split(\".\")[0].split(\"_\")]\n",
    "rfou=np.loadtxt(filename).reshape(nx,ny,nz)\n",
    "filename=\"planet-interpolation.mat\"\n",
    "interpolation=np.loadtxt(filename)\n",
    "filename=\"planet-xmu-21.mat\"\n",
    "xmu=np.loadtxt(filename)\n",
    "#Compare:\n",
    "#rfou_ori=matrices[401387150607385127][\"rfou\"]\n",
    "#abs(rfou-rfou_ori).mean()"
   ]
  },
  {
   "cell_type": "markdown",
   "id": "67b64a55",
   "metadata": {},
   "source": [
    "Check the first column:"
   ]
  },
  {
   "cell_type": "code",
   "execution_count": 11,
   "id": "ab034159",
   "metadata": {},
   "outputs": [
    {
     "data": {
      "text/plain": [
       "array([1.04484516e+00, 3.06939428e+00, 4.99032903e-02, 2.50967097e-02,\n",
       "       2.10000000e+01, 3.00000000e+00, 3.00000000e+00, 9.43232879e-05,\n",
       "       4.59785742e-07, 2.25122997e-07, 1.83440080e-09, 4.89642131e-01])"
      ]
     },
     "execution_count": 11,
     "metadata": {},
     "output_type": "execute_result"
    }
   ],
   "source": [
    "interpolation[0]"
   ]
  },
  {
   "cell_type": "markdown",
   "id": "70e9686f",
   "metadata": {},
   "source": [
    "Read the input parameter values:"
   ]
  },
  {
   "cell_type": "code",
   "execution_count": 12,
   "id": "2077591c",
   "metadata": {},
   "outputs": [
    {
     "data": {
      "text/plain": [
       "(1.0448451569439827,\n",
       " 3.069394277348945,\n",
       " 0.04990329026929557,\n",
       " 0.02509670973070432,\n",
       " 21.0,\n",
       " 3.0,\n",
       " 3.0,\n",
       " 9.432328787795567e-05)"
      ]
     },
     "execution_count": 12,
     "metadata": {},
     "output_type": "execute_result"
    }
   ],
   "source": [
    "delazim,beta,eta,zeta,nmugs,nmat,nfou,af=interpolation[0,:8]\n",
    "delazim,beta,eta,zeta,nmugs,nmat,nfou,af"
   ]
  },
  {
   "cell_type": "markdown",
   "id": "b33d2263",
   "metadata": {},
   "source": [
    "And the stokes vector components:"
   ]
  },
  {
   "cell_type": "code",
   "execution_count": 32,
   "id": "ad88581d",
   "metadata": {},
   "outputs": [
    {
     "data": {
      "text/plain": [
       "array([4.59785742e-07, 2.25122997e-07, 1.83440080e-09, 4.89642131e-01])"
      ]
     },
     "execution_count": 32,
     "metadata": {},
     "output_type": "execute_result"
    }
   ],
   "source": [
    "stokes=interpolation[0,8:]\n",
    "stokes"
   ]
  },
  {
   "cell_type": "markdown",
   "id": "3e968cbd",
   "metadata": {},
   "source": [
    "Let's calculate the stokes vector using the pixx.reflection routine:"
   ]
  },
  {
   "cell_type": "code",
   "execution_count": 33,
   "id": "bf73a2d1",
   "metadata": {},
   "outputs": [
    {
     "data": {
      "text/plain": [
       "array([[4.59785742e-07, 2.25122997e-07, 1.83440080e-09, 4.89642131e-01]])"
      ]
     },
     "execution_count": 33,
     "metadata": {},
     "output_type": "execute_result"
    }
   ],
   "source": [
    "stokes_rec=pixx.reflection(\n",
    "    1,#nvals\n",
    "    [delazim],\n",
    "    [beta],\n",
    "    [eta],\n",
    "    [zeta],\n",
    "    int(nmugs),\n",
    "    int(nmat),\n",
    "    int(nfou),\n",
    "    xmu,\n",
    "    rfou,\n",
    "    af\n",
    ")\n",
    "stokes_rec"
   ]
  },
  {
   "cell_type": "markdown",
   "id": "7a576d89",
   "metadata": {},
   "source": [
    "Which coincides with what is stored:"
   ]
  },
  {
   "cell_type": "code",
   "execution_count": 34,
   "id": "3117c924",
   "metadata": {},
   "outputs": [
    {
     "data": {
      "text/plain": [
       "array([[0., 0., 0., 0.]])"
      ]
     },
     "execution_count": 34,
     "metadata": {},
     "output_type": "execute_result"
    }
   ],
   "source": [
    "stokes-stokes_rec"
   ]
  },
  {
   "cell_type": "markdown",
   "id": "9b0f4b73",
   "metadata": {},
   "source": [
    "Let's do it for more stored interpolation values:"
   ]
  },
  {
   "cell_type": "code",
   "execution_count": 40,
   "id": "8deb102d",
   "metadata": {},
   "outputs": [
    {
     "name": "stdout",
     "output_type": "stream",
     "text": [
      "[[0. 0. 0. 0.]]\n",
      "[[0. 0. 0. 0.]]\n",
      "[[0. 0. 0. 0.]]\n",
      "[[0. 0. 0. 0.]]\n",
      "[[0. 0. 0. 0.]]\n",
      "[[0. 0. 0. 0.]]\n",
      "[[0. 0. 0. 0.]]\n",
      "[[0. 0. 0. 0.]]\n",
      "[[0. 0. 0. 0.]]\n",
      "[[0. 0. 0. 0.]]\n"
     ]
    }
   ],
   "source": [
    "for i in range(10):\n",
    "    delazim,beta,eta,zeta,nmugs,nmat,nfou,af=interpolation[i,:8]\n",
    "    stokes_sto=interpolation[i,8:]\n",
    "    stokes_rec=pixx.reflection(\n",
    "        1,#nvals\n",
    "        [delazim],\n",
    "        [beta],\n",
    "        [eta],\n",
    "        [zeta],\n",
    "        int(nmugs),\n",
    "        int(nmat),\n",
    "        int(nfou),\n",
    "        xmu,\n",
    "        rfou,\n",
    "        af\n",
    "    )\n",
    "    print(stokes_sto-stokes_rec)"
   ]
  },
  {
   "cell_type": "markdown",
   "id": "c7f1997e",
   "metadata": {},
   "source": [
    "Let's do it for all:"
   ]
  },
  {
   "cell_type": "code",
   "execution_count": 49,
   "id": "b8a0a804",
   "metadata": {},
   "outputs": [],
   "source": [
    "delazim=interpolation[:,0]\n",
    "beta=interpolation[:,1]\n",
    "eta=interpolation[:,2]\n",
    "zeta=interpolation[:,3]\n",
    "\n",
    "nmugs=int(interpolation[0,4])\n",
    "nmat=int(interpolation[0,5])\n",
    "nfou=int(interpolation[0,6])\n",
    "\n",
    "af=interpolation[:,7]\n",
    "nvals=len(af)"
   ]
  },
  {
   "cell_type": "code",
   "execution_count": 50,
   "id": "e559abcc",
   "metadata": {},
   "outputs": [],
   "source": [
    "stokes_rec=pixx.reflection(\n",
    "        nvals,\n",
    "        delazim,\n",
    "        beta,\n",
    "        eta,\n",
    "        zeta,\n",
    "        nmugs,\n",
    "        nmat,\n",
    "        nfou,\n",
    "        xmu,\n",
    "        rfou,\n",
    "        af\n",
    "    )"
   ]
  },
  {
   "cell_type": "code",
   "execution_count": 51,
   "id": "8f81bc54",
   "metadata": {},
   "outputs": [],
   "source": [
    "stokes_sto=interpolation[:,8:]"
   ]
  },
  {
   "cell_type": "code",
   "execution_count": 53,
   "id": "de07ce2d",
   "metadata": {},
   "outputs": [
    {
     "data": {
      "text/plain": [
       "0.0"
      ]
     },
     "execution_count": 53,
     "metadata": {},
     "output_type": "execute_result"
    }
   ],
   "source": [
    "abs(stokes_sto-stokes_rec).sum()"
   ]
  },
  {
   "cell_type": "markdown",
   "id": "5fb0e3cf",
   "metadata": {},
   "source": [
    "It works!"
   ]
  },
  {
   "cell_type": "markdown",
   "id": "9c551466",
   "metadata": {},
   "source": [
    "The same thing can be repeated for ring"
   ]
  },
  {
   "cell_type": "code",
   "execution_count": 54,
   "id": "7eb29954",
   "metadata": {},
   "outputs": [
    {
     "data": {
      "text/plain": [
       "0.0"
      ]
     },
     "execution_count": 54,
     "metadata": {},
     "output_type": "execute_result"
    }
   ],
   "source": [
    "filename=\"planet-5292_63_21_4.mat\"\n",
    "ntot,nx,ny,nz=[int(v) for v in filename.split(\"-\")[1].split(\".\")[0].split(\"_\")]\n",
    "rfou=np.loadtxt(filename).reshape(nx,ny,nz)\n",
    "filename=\"planet-interpolation.mat\"\n",
    "interpolation=np.loadtxt(filename)\n",
    "filename=\"planet-xmu-21.mat\"\n",
    "xmu=np.loadtxt(filename)\n",
    "\n",
    "delazim=interpolation[:,0]\n",
    "beta=interpolation[:,1]\n",
    "eta=interpolation[:,2]\n",
    "zeta=interpolation[:,3]\n",
    "\n",
    "nmugs=int(interpolation[0,4])\n",
    "nmat=int(interpolation[0,5])\n",
    "nfou=int(interpolation[0,6])\n",
    "\n",
    "af=interpolation[:,7]\n",
    "nvals=len(af)\n",
    "\n",
    "stokes_rec=pixx.reflection(\n",
    "        nvals,\n",
    "        delazim,\n",
    "        beta,\n",
    "        eta,\n",
    "        zeta,\n",
    "        nmugs,\n",
    "        nmat,\n",
    "        nfou,\n",
    "        xmu,\n",
    "        rfou,\n",
    "        af\n",
    "    )\n",
    "stokes_sto=interpolation[:,8:]\n",
    "abs(stokes_sto-stokes_rec).sum()"
   ]
  },
  {
   "cell_type": "code",
   "execution_count": 57,
   "id": "cb4421c2",
   "metadata": {},
   "outputs": [
    {
     "data": {
      "text/plain": [
       "0.0"
      ]
     },
     "execution_count": 57,
     "metadata": {},
     "output_type": "execute_result"
    }
   ],
   "source": [
    "filename=\"ring_forward-414000_60_20_345.mat\"\n",
    "ntot,nx,ny,nz=[int(v) for v in filename.split(\"-\")[1].split(\".\")[0].split(\"_\")]\n",
    "rfou=np.loadtxt(filename).reshape(nx,ny,nz)\n",
    "filename=\"ring_forward-interpolation.mat\"\n",
    "interpolation=np.loadtxt(filename)\n",
    "filename=\"ring_forward-xmu-20.mat\"\n",
    "xmu=np.loadtxt(filename)\n",
    "\n",
    "delazim=interpolation[:,0]\n",
    "beta=interpolation[:,1]\n",
    "eta=interpolation[:,2]\n",
    "zeta=interpolation[:,3]\n",
    "\n",
    "nmugs=int(interpolation[0,4])\n",
    "nmat=int(interpolation[0,5])\n",
    "nfou=int(interpolation[0,6])\n",
    "\n",
    "af=interpolation[:,7]\n",
    "nvals=len(af)\n",
    "\n",
    "stokes_rec=pixx.reflection(\n",
    "        nvals,\n",
    "        delazim,\n",
    "        beta,\n",
    "        eta,\n",
    "        zeta,\n",
    "        nmugs,\n",
    "        nmat,\n",
    "        nfou,\n",
    "        xmu,\n",
    "        rfou,\n",
    "        af\n",
    "    )\n",
    "stokes_sto=interpolation[:,8:]\n",
    "abs(stokes_sto-stokes_rec).sum()"
   ]
  },
  {
   "cell_type": "code",
   "execution_count": 60,
   "id": "951b858f",
   "metadata": {},
   "outputs": [
    {
     "data": {
      "text/plain": [
       "0.0"
      ]
     },
     "execution_count": 60,
     "metadata": {},
     "output_type": "execute_result"
    }
   ],
   "source": [
    "filename=\"ring_back-414000_60_20_345.mat\"\n",
    "ntot,nx,ny,nz=[int(v) for v in filename.split(\"-\")[1].split(\".\")[0].split(\"_\")]\n",
    "rfou=np.loadtxt(filename).reshape(nx,ny,nz)\n",
    "filename=\"ring_back-interpolation.mat\"\n",
    "interpolation=np.loadtxt(filename)\n",
    "filename=\"ring_back-xmu-20.mat\"\n",
    "xmu=np.loadtxt(filename)\n",
    "\n",
    "delazim=interpolation[:,0]\n",
    "beta=interpolation[:,1]\n",
    "eta=interpolation[:,2]\n",
    "zeta=interpolation[:,3]\n",
    "\n",
    "nmugs=int(interpolation[0,4])\n",
    "nmat=int(interpolation[0,5])\n",
    "nfou=int(interpolation[0,6])\n",
    "\n",
    "af=interpolation[:,7]\n",
    "nvals=len(af)\n",
    "\n",
    "stokes_rec=pixx.reflection(\n",
    "        nvals,\n",
    "        delazim,\n",
    "        beta,\n",
    "        eta,\n",
    "        zeta,\n",
    "        nmugs,\n",
    "        nmat,\n",
    "        nfou,\n",
    "        xmu,\n",
    "        rfou,\n",
    "        af\n",
    "    )\n",
    "stokes_sto=interpolation[:,8:]\n",
    "abs(stokes_sto-stokes_rec).sum()"
   ]
  },
  {
   "cell_type": "markdown",
   "id": "a8ea2795",
   "metadata": {},
   "source": [
    "## How reshape works"
   ]
  },
  {
   "cell_type": "code",
   "execution_count": 71,
   "id": "7777097f",
   "metadata": {},
   "outputs": [],
   "source": [
    "matrix=np.array([[[1,2,3,4],[5,6,7,8],[9,10,11,12]],[[-1,-2,-3,-4],[-6,-6,-7,-8],[-9,-10,-11,-12]]])"
   ]
  },
  {
   "cell_type": "code",
   "execution_count": 75,
   "id": "7da58b99",
   "metadata": {},
   "outputs": [
    {
     "data": {
      "text/plain": [
       "(2, 3, 4)"
      ]
     },
     "execution_count": 75,
     "metadata": {},
     "output_type": "execute_result"
    }
   ],
   "source": [
    "nx,ny,nz=matrix.shape\n",
    "ntot=nx*ny*nz\n",
    "nx,ny,nz"
   ]
  },
  {
   "cell_type": "code",
   "execution_count": 76,
   "id": "e954ef3c",
   "metadata": {},
   "outputs": [
    {
     "data": {
      "text/plain": [
       "array([[  1],\n",
       "       [  2],\n",
       "       [  3],\n",
       "       [  4],\n",
       "       [  5],\n",
       "       [  6],\n",
       "       [  7],\n",
       "       [  8],\n",
       "       [  9],\n",
       "       [ 10],\n",
       "       [ 11],\n",
       "       [ 12],\n",
       "       [ -1],\n",
       "       [ -2],\n",
       "       [ -3],\n",
       "       [ -4],\n",
       "       [ -6],\n",
       "       [ -6],\n",
       "       [ -7],\n",
       "       [ -8],\n",
       "       [ -9],\n",
       "       [-10],\n",
       "       [-11],\n",
       "       [-12]])"
      ]
     },
     "execution_count": 76,
     "metadata": {},
     "output_type": "execute_result"
    }
   ],
   "source": [
    "matrix_reshap=matrix.reshape(ntot,1)\n",
    "matrix_reshap"
   ]
  },
  {
   "cell_type": "code",
   "execution_count": 80,
   "id": "7d50f053",
   "metadata": {},
   "outputs": [],
   "source": [
    "matrix_recons=np.zeros((nx,ny,nz))\n",
    "n=0\n",
    "for i in range(nx):\n",
    "    for j in range(ny):\n",
    "        for k in range(nz):\n",
    "            matrix_recons[i][j][k]=matrix_reshap[n]\n",
    "            n+=1"
   ]
  },
  {
   "cell_type": "code",
   "execution_count": 84,
   "id": "7f81b7ab",
   "metadata": {},
   "outputs": [
    {
     "data": {
      "text/plain": [
       "array([[[  1.,   2.,   3.,   4.],\n",
       "        [  5.,   6.,   7.,   8.],\n",
       "        [  9.,  10.,  11.,  12.]],\n",
       "\n",
       "       [[ -1.,  -2.,  -3.,  -4.],\n",
       "        [ -6.,  -6.,  -7.,  -8.],\n",
       "        [ -9., -10., -11., -12.]]])"
      ]
     },
     "execution_count": 84,
     "metadata": {},
     "output_type": "execute_result"
    }
   ],
   "source": [
    "matrix_recons"
   ]
  },
  {
   "cell_type": "code",
   "execution_count": null,
   "id": "85517ca4",
   "metadata": {},
   "outputs": [],
   "source": []
  }
 ],
 "metadata": {
  "kernelspec": {
   "display_name": "Python 3 (ipykernel)",
   "language": "python",
   "name": "python3"
  },
  "language_info": {
   "codemirror_mode": {
    "name": "ipython",
    "version": 3
   },
   "file_extension": ".py",
   "mimetype": "text/x-python",
   "name": "python",
   "nbconvert_exporter": "python",
   "pygments_lexer": "ipython3",
   "version": "3.10.6"
  }
 },
 "nbformat": 4,
 "nbformat_minor": 5
}
