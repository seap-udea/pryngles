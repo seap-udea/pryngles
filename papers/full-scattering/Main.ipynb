{
 "cells": [
  {
   "cell_type": "code",
   "execution_count": 1,
   "metadata": {},
   "outputs": [],
   "source": [
    "%load_ext autoreload\n",
    "%autoreload 2\n",
    "import numpy as np\n",
    "import pandas as pd\n",
    "import matplotlib.pyplot as plt"
   ]
  },
  {
   "cell_type": "code",
   "execution_count": 2,
   "metadata": {},
   "outputs": [
    {
     "name": "stdout",
     "output_type": "stream",
     "text": [
      "The autoreload extension is already loaded. To reload it, use:\n",
      "  %reload_ext autoreload\n"
     ]
    }
   ],
   "source": [
    "from pryngles import *\n",
    "from pryngles import pixx\n",
    "import time\n",
    "extension=\"pixx\"\n",
    "#extension=\"cpixx\"\n",
    "import multiprocessing as mp\n",
    "import os,sys,glob\n",
    "import importlib\n",
    "\n",
    "# Import local functions\n",
    "import extra_func as efunc\n",
    "# importlib.reload(sys.modules['extra_func'])"
   ]
  },
  {
   "cell_type": "markdown",
   "metadata": {},
   "source": [
    "## Geometry Sweep"
   ]
  },
  {
   "cell_type": "code",
   "execution_count": 8,
   "metadata": {
    "scrolled": true
   },
   "outputs": [
    {
     "name": "stdout",
     "output_type": "stream",
     "text": [
      "\n",
      "\n",
      " start run with: orbit i = 20, ring l = 0\n",
      "\n",
      "\n",
      " start run with: orbit i = 20, ring l = 30\n",
      "\n",
      "\n",
      " start run with: orbit i = 20, ring l = 60\n",
      "\n",
      "\n",
      " start run with: orbit i = 20, ring l = 90\n",
      "\n",
      "\n",
      " start run with: orbit i = 90, ring l = 0\n",
      "\n",
      "\n",
      " start run with: orbit i = 90, ring l = 30\n",
      "\n",
      "\n",
      " start run with: orbit i = 90, ring l = 60\n",
      "\n",
      "\n",
      " start run with: orbit i = 90, ring l = 90\n"
     ]
    }
   ],
   "source": [
    "\"\"\"\n",
    "ring_i_arr: np.ndarray,\n",
    "fou_file_ring: str,\n",
    "fou_file_planet: str,\n",
    "orbit_i: float,\n",
    "ring_l: float,\n",
    "ring_ri: float,\n",
    "ring_re: float,\n",
    "tau_ring: float = 0.4,\n",
    "interpr: str = \"spline\",\n",
    "reference_plane: str = \"Detector\", # \"Detector\" or \"Planetary\"\n",
    "Ns: int = 30,\n",
    "Nb: int = 0,\n",
    "Np: int = 10000,\n",
    "Nr: int = 10000\n",
    "\"\"\"\n",
    "fou_file_ring = \"./fou_files/Ring/fou_ring_1_0_0_8.dat\"\n",
    "fou_file_planet = \"./fou_files/Planet/fou_bmsca10.0_asurf0.5.dat\"\n",
    "ring_i_arr = np.array([0,30,60,90]) # 90 is edge-on, 0 is face-on\n",
    "ring_l_arr = np.array([0,30,60,90])\n",
    "orbit_i_arr = np.array([20,90]) # 90 is edge-on, 0 is face-on\n",
    "ring_ri = 1.2\n",
    "ring_re = 2.25\n",
    "tau_ring = 1.0\n",
    "\n",
    "params = []\n",
    "for orbit_i in orbit_i_arr:\n",
    "    for ring_l in ring_l_arr:\n",
    "        params.append([ring_i_arr, fou_file_ring, fou_file_planet, \n",
    "                       orbit_i, ring_l, ring_ri, ring_re, tau_ring])\n",
    "    \n",
    "if __name__ == '__main__':\n",
    "    efunc.pool_handler(len(params),params,efunc.parametersweepGeom,1)"
   ]
  },
  {
   "cell_type": "markdown",
   "metadata": {},
   "source": [
    "## Radius Sweep"
   ]
  },
  {
   "cell_type": "code",
   "execution_count": 7,
   "metadata": {},
   "outputs": [
    {
     "name": "stdout",
     "output_type": "stream",
     "text": [
      "\n",
      "\n",
      " start run with: Radius = 1.75\n",
      "\n",
      "\n",
      " start run with: Radius = 2.0\n",
      "\n",
      "\n",
      " start run with: Radius = 2.25\n",
      "\n",
      "\n",
      " start run with: Radius = 2.5\n",
      "\n",
      "\n",
      " start run with: Radius = 3.0\n",
      "\n",
      "\n",
      " start run with: Radius = 4.0\n",
      "\n",
      "\n",
      " start run with: Radius = 5.0\n"
     ]
    }
   ],
   "source": [
    "\"\"\"\n",
    "fou_file_ring: str,\n",
    "fou_file_planet: str,\n",
    "orbit_i: float,\n",
    "ring_i: float,\n",
    "ring_l: float,\n",
    "ring_ri: float,\n",
    "ring_re: float,\n",
    "name: str,\n",
    "value,\n",
    "tau_ring: float = 0.4,\n",
    "interpr: str = \"spline\",\n",
    "reference_plane: str = \"Detector\", # \"Detector\" or \"Planetary\"\n",
    "Ns: int = 30,\n",
    "Nb: int = 0,\n",
    "Np: int = 10000,\n",
    "Nr: int = 10000\n",
    "Nr: int = 10000\n",
    "\n",
    "f\"/home/allard/Data/{name}_Series/{name}_{value}\"\n",
    "\"\"\"\n",
    "fou_file_ring = \"./fou_files/Ring/fou_ring_1_0_0_8.dat\"\n",
    "fou_file_planet = \"./fou_files/Planet/fou_bmsca10.0_asurf0.5.dat\"\n",
    "ring_i = 60 # 90 is edge-on, 0 is face-on\n",
    "ring_l = 30\n",
    "orbit_i = 20 # 90 is edge-on, 0 is face-on\n",
    "ring_ri = 1.2\n",
    "ring_re_arr = np.array([1.75,2.00,2.25,2.50,3.00,4.00,5.00])\n",
    "name = \"Radius\"\n",
    "tau_ring = 1.0\n",
    "\n",
    "params = []\n",
    "for ring_re in ring_re_arr:\n",
    "    params.append([fou_file_ring, fou_file_planet, \n",
    "                   orbit_i, ring_i, ring_l, ring_ri, ring_re, name, ring_re, tau_ring])\n",
    "    \n",
    "if __name__ == '__main__':\n",
    "    efunc.pool_handler(len(params),params,efunc.parameterSweep,1)"
   ]
  },
  {
   "cell_type": "markdown",
   "metadata": {},
   "source": [
    "## Optical thickness Sweep"
   ]
  },
  {
   "cell_type": "code",
   "execution_count": 5,
   "metadata": {
    "scrolled": true
   },
   "outputs": [
    {
     "name": "stdout",
     "output_type": "stream",
     "text": [
      "\n",
      "\n",
      " start run with: Ring_optical_thickness = 0_005\n",
      "\n",
      "\n",
      " start run with: Ring_optical_thickness = 0_01\n",
      "\n",
      "\n",
      " start run with: Ring_optical_thickness = 0_05\n",
      "\n",
      "\n",
      " start run with: Ring_optical_thickness = 0_1\n",
      "\n",
      "\n",
      " start run with: Ring_optical_thickness = 0_2\n",
      "\n",
      "\n",
      " start run with: Ring_optical_thickness = 0_4\n",
      "\n",
      "\n",
      " start run with: Ring_optical_thickness = 0_8\n",
      "\n",
      "\n",
      " start run with: Ring_optical_thickness = 1_2\n",
      "\n",
      "\n",
      " start run with: Ring_optical_thickness = 1_6\n",
      "\n",
      "\n",
      " start run with: Ring_optical_thickness = 2_0\n",
      "\n",
      "\n",
      " start run with: Ring_optical_thickness = 4_0\n",
      "\n",
      "\n",
      " start run with: Ring_optical_thickness = 20_0\n"
     ]
    }
   ],
   "source": [
    "\"\"\"\n",
    "fou_file_ring: str,\n",
    "fou_file_planet: str,\n",
    "orbit_i: float,\n",
    "ring_i: float,\n",
    "ring_l: float,\n",
    "ring_ri: float,\n",
    "ring_re: float,\n",
    "name: str,\n",
    "value,\n",
    "tau_ring: float = 0.4,\n",
    "interpr: str = \"spline\",\n",
    "reference_plane: str = \"Detector\", # \"Detector\" or \"Planetary\"\n",
    "Ns: int = 30,\n",
    "Nb: int = 0,\n",
    "Np: int = 10000,\n",
    "Nr: int = 10000\n",
    "\n",
    "f\"/home/allard/Data/{name}_Series/{name}_{value}\"\n",
    "\"\"\"\n",
    "ring_o_thickness = np.array([\"0_005\",\"0_01\",\"0_05\",\"0_1\",\"0_2\",\"0_4\",\"0_8\",\"1_2\",\"1_6\",\"2_0\",\"4_0\",\"20_0\"])\n",
    "fou_file_planet = \"./fou_files/Planet/fou_bmsca10.0_asurf0.5.dat\"\n",
    "ring_i = 60 # 90 is edge-on, 0 is face-on\n",
    "ring_l = 30\n",
    "orbit_i = 20 # 90 is edge-on, 0 is face-on\n",
    "ring_ri = 1.2\n",
    "ring_re = 2.25\n",
    "tau_ring = [float(string.replace(\"_\",\".\")) for string in ring_o_thickness]\n",
    "name = \"Ring_optical_thickness\"\n",
    "\n",
    "params = []\n",
    "for ii,r_o in enumerate(ring_o_thickness):\n",
    "    params.append([f\"./fou_files/Ring/fou_ring_{r_o}_0_8.dat\", fou_file_planet, \n",
    "                   orbit_i, ring_i, ring_l, ring_ri, ring_re, name, r_o, tau_ring[ii]])\n",
    "    \n",
    "if __name__ == '__main__':\n",
    "    efunc.pool_handler(len(params),params,efunc.parameterSweep,1)"
   ]
  },
  {
   "cell_type": "markdown",
   "metadata": {},
   "source": [
    "## Particle albedo Sweep"
   ]
  },
  {
   "cell_type": "code",
   "execution_count": 6,
   "metadata": {},
   "outputs": [
    {
     "name": "stdout",
     "output_type": "stream",
     "text": [
      "\n",
      "\n",
      " start run with: Ring_particle_albedo = 0_05\n",
      "\n",
      "\n",
      " start run with: Ring_particle_albedo = 0_1\n",
      "\n",
      "\n",
      " start run with: Ring_particle_albedo = 0_3\n",
      "\n",
      "\n",
      " start run with: Ring_particle_albedo = 0_5\n",
      "\n",
      "\n",
      " start run with: Ring_particle_albedo = 0_8\n"
     ]
    }
   ],
   "source": [
    "\"\"\"\n",
    "fou_file_ring: str,\n",
    "fou_file_planet: str,\n",
    "orbit_i: float,\n",
    "ring_i: float,\n",
    "ring_l: float,\n",
    "ring_ri: float,\n",
    "ring_re: float,\n",
    "name: str,\n",
    "value,\n",
    "tau_ring: float = 0.4,\n",
    "interpr: str = \"spline\",\n",
    "reference_plane: str = \"Detector\", # \"Detector\" or \"Planetary\"\n",
    "Ns: int = 30,\n",
    "Nb: int = 0,\n",
    "Np: int = 10000,\n",
    "Nr: int = 10000\n",
    "\n",
    "f\"/home/allard/Data/{name}_Series/{name}_{value}\"\n",
    "\"\"\"\n",
    "particle_a = np.array([\"0_05\",\"0_1\",\"0_3\",\"0_5\",\"0_8\"])\n",
    "fou_file_planet = \"./fou_files/Planet/fou_bmsca10.0_asurf0.5.dat\"\n",
    "ring_i = 60 # 90 is edge-on, 0 is face-on\n",
    "ring_l = 30\n",
    "orbit_i = 20 # 90 is edge-on, 0 is face-on\n",
    "ring_ri = 1.2\n",
    "ring_re = 2.25\n",
    "tau_ring = 1.0\n",
    "name = \"Ring_particle_albedo\"\n",
    "\n",
    "params = []\n",
    "for ii,a_p in enumerate(particle_a):\n",
    "    params.append([f\"./fou_files/Ring/fou_ring_1_0_{a_p}.dat\", fou_file_planet, \n",
    "                   orbit_i, ring_i, ring_l, ring_ri, ring_re, name, a_p, tau_ring])\n",
    "    \n",
    "if __name__ == '__main__':\n",
    "    efunc.pool_handler(len(params),params,efunc.parameterSweep,1)"
   ]
  },
  {
   "cell_type": "markdown",
   "metadata": {},
   "source": [
    "## Optical thickness comparison"
   ]
  },
  {
   "cell_type": "code",
   "execution_count": null,
   "metadata": {},
   "outputs": [],
   "source": [
    "num_array = np.array([\"0_001\",\"0_002\",\"0_005\",\"0_01\",\"0_02\",\"0_05\",\"0_1\",\"0_2\",\"0_4\",\"0_6\",\"0_8\",\n",
    "                      \"1_0\",\"1_2\",\"1_4\",\"1_6\",\"1_8\",\"2_0\",\"4_0\",\"6_0\",\"8_0\",\"10_0\",\"20_0\"])\n",
    "ring_i = 0 # 90 is edge-on, 0 is face-on\n",
    "ring_l = 0\n",
    "orbit_i_arr = np.linspace(10,90,9)# 90 is edge-on, 0 is face-on\n",
    "reflection = True\n",
    "\n",
    "params = []\n",
    "for i,fou_file_num in enumerate(num_array):\n",
    "    params.append([fou_file_num,orbit_i_arr,ring_i,ring_l,reflection])\n",
    "    \n",
    "if __name__ == '__main__':\n",
    "    efunc.pool_handler(len(num_array),params,efunc.opticalThicknessTest,1)"
   ]
  },
  {
   "cell_type": "markdown",
   "metadata": {},
   "source": [
    "## Effect of planet optical thickness and albedo"
   ]
  },
  {
   "cell_type": "code",
   "execution_count": 3,
   "metadata": {
    "scrolled": true
   },
   "outputs": [
    {
     "name": "stdout",
     "output_type": "stream",
     "text": [
      "\n",
      "\n",
      " start run with: bmsca_10.0_asurf = 0.0\n",
      "\n",
      "\n",
      " start run with: bmsca_10.0_asurf = 0.5\n",
      "\n",
      "\n",
      " start run with: bmsca_10.0_asurf = 1.0\n",
      "\n",
      "\n",
      " start run with: bmsca_20.0_asurf = 0.0\n",
      "\n",
      "\n",
      " start run with: bmsca_20.0_asurf = 0.5\n",
      "\n",
      "\n",
      " start run with: bmsca_20.0_asurf = 1.0\n",
      "\n",
      "\n",
      " start run with: bmsca_40.0_asurf = 0.0\n",
      "\n",
      "\n",
      " start run with: bmsca_40.0_asurf = 0.5\n",
      "\n",
      "\n",
      " start run with: bmsca_40.0_asurf = 1.0\n",
      "\n",
      "\n",
      " start run with: bmsca_60.0_asurf = 0.0\n",
      "\n",
      "\n",
      " start run with: bmsca_60.0_asurf = 0.5\n",
      "\n",
      "\n",
      " start run with: bmsca_60.0_asurf = 1.0\n",
      "\n",
      "\n",
      " start run with: bmsca_80.0_asurf = 0.0\n",
      "\n",
      "\n",
      " start run with: bmsca_80.0_asurf = 0.5\n",
      "\n",
      "\n",
      " start run with: bmsca_80.0_asurf = 1.0\n"
     ]
    }
   ],
   "source": [
    "\"\"\"\n",
    "fou_file_ring: str,\n",
    "fou_file_planet: str,\n",
    "orbit_i: float,\n",
    "ring_i: float,\n",
    "ring_l: float,\n",
    "ring_ri: float,\n",
    "ring_re: float,\n",
    "name: str,\n",
    "value,\n",
    "tau_ring: float = 0.4,\n",
    "interpr: str = \"spline\",\n",
    "reference_plane: str = \"Detector\", # \"Detector\" or \"Planetary\"\n",
    "Ns: int = 30,\n",
    "Nb: int = 0,\n",
    "Np: int = 10000,\n",
    "Nr: int = 10000\n",
    "\n",
    "f\"/home/allard/Data/{name}_Series/{name}_{value}\"\n",
    "\"\"\"\n",
    "fou_file_ring = \"./fou_files/Ring/fou_ring_0_4_0_8.dat\"\n",
    "planet_o_thickness = np.array([\"10.0\",\"20.0\",\"40.0\",\"60.0\",\"80.0\"])\n",
    "planet_s_albedo = np.array([\"0.0\",\"0.5\",\"1.0\"])\n",
    "ring_i = 0 # 90 is edge-on, 0 is face-on\n",
    "ring_l = 0\n",
    "orbit_i = 60 # 90 is edge-on, 0 is face-on\n",
    "ring_ri = 1.5\n",
    "ring_re = 2.25\n",
    "tau_ring = 0.0\n",
    "\n",
    "params = []\n",
    "for p_o in planet_o_thickness:\n",
    "    for s_a in planet_s_albedo:\n",
    "        params.append([fou_file_ring, f\"./fou_files/Planet/fou_bmsca{p_o}_asurf{s_a}.dat\", \n",
    "                       orbit_i, ring_i, ring_l, ring_ri, ring_re, f\"bmsca_{p_o}_asurf\", s_a, tau_ring])\n",
    "    \n",
    "if __name__ == '__main__':\n",
    "    efunc.pool_handler(len(params),params,efunc.parameterSweep,1)"
   ]
  },
  {
   "cell_type": "markdown",
   "metadata": {},
   "source": [
    "## Effect of orbital inclination"
   ]
  },
  {
   "cell_type": "code",
   "execution_count": 3,
   "metadata": {
    "scrolled": true
   },
   "outputs": [
    {
     "name": "stdout",
     "output_type": "stream",
     "text": [
      "\n",
      "\n",
      " start run with: Orbit_incl80_fix = 0\n",
      "\n",
      "\n",
      " start run with: Orbit_incl80_fix = 10\n",
      "\n",
      "\n",
      " start run with: Orbit_incl80_fix = 20\n",
      "\n",
      "\n",
      " start run with: Orbit_incl80_fix = 30\n",
      "\n",
      "\n",
      " start run with: Orbit_incl80_fix = 40\n",
      "\n",
      "\n",
      " start run with: Orbit_incl80_fix = 50\n",
      "\n",
      "\n",
      " start run with: Orbit_incl80_fix = 60\n",
      "\n",
      "\n",
      " start run with: Orbit_incl80_fix = 70\n",
      "\n",
      "\n",
      " start run with: Orbit_incl80_fix = 80\n",
      "\n",
      "\n",
      " start run with: Orbit_incl80_fix = 90\n"
     ]
    }
   ],
   "source": [
    "\"\"\"\n",
    "fou_file_ring: str,\n",
    "fou_file_planet: str,\n",
    "orbit_i: float,\n",
    "ring_i: float,\n",
    "ring_l: float,\n",
    "ring_ri: float,\n",
    "ring_re: float,\n",
    "name: str,\n",
    "value,\n",
    "tau_ring: float = 0.4,\n",
    "interpr: str = \"spline\",\n",
    "reference_plane: str = \"Detector\", # \"Detector\" or \"Planetary\"\n",
    "Ns: int = 30,\n",
    "Nb: int = 0,\n",
    "Np: int = 10000,\n",
    "Nr: int = 10000\n",
    "\n",
    "f\"/home/allard/Data/{name}_Series/{name}_{value}\"\n",
    "\"\"\"\n",
    "fou_file_ring = \"./fou_files/Ring/fou_ring_0_4_0_8.dat\"\n",
    "fou_file_planet = \"./fou_files/Planet/fou_bmsca10.0_asurf0.5.dat\"\n",
    "ring_i = 80 # 90 is edge-on, 0 is face-on\n",
    "ring_l = 0\n",
    "orbit_i_arr = np.array([0,10,20,30,40,50,60,70,80,90]) # 90 is edge-on, 0 is face-on\n",
    "ring_ri = 2.0\n",
    "ring_re = 2.25\n",
    "tau_ring = 0.0\n",
    "interp = \"spline\"\n",
    "reference_plane = \"Detector\"\n",
    "Ns = 30\n",
    "Nb = 0\n",
    "Np = 12000\n",
    "Nr = 100\n",
    "\n",
    "params = []\n",
    "for orbit_i in orbit_i_arr:\n",
    "    params.append([fou_file_ring, fou_file_planet, orbit_i, ring_i, ring_l, \n",
    "                   ring_ri, ring_re, f\"Orbit_incl80_fix\", orbit_i, tau_ring, interp,\n",
    "                   reference_plane,Ns,Nb,Np,Nr])\n",
    "    \n",
    "if __name__ == '__main__':\n",
    "    efunc.pool_handler(len(params),params,efunc.parameterSweep,1)"
   ]
  },
  {
   "cell_type": "markdown",
   "metadata": {},
   "source": [
    "## Case-study"
   ]
  },
  {
   "cell_type": "code",
   "execution_count": 9,
   "metadata": {},
   "outputs": [
    {
     "name": "stdout",
     "output_type": "stream",
     "text": [
      "\n",
      "\n",
      " start run with: Case_study = 1\n"
     ]
    }
   ],
   "source": [
    "\"\"\"\n",
    "fou_file_ring: str,\n",
    "fou_file_planet: str,\n",
    "orbit_i: float,\n",
    "ring_i: float,\n",
    "ring_l: float,\n",
    "ring_ri: float,\n",
    "ring_re: float,\n",
    "name: str,\n",
    "value,\n",
    "tau_ring: float = 0.4,\n",
    "interpr: str = \"spline\",\n",
    "reference_plane: str = \"Detector\", # \"Detector\" or \"Planetary\"\n",
    "Ns: int = 30,\n",
    "Nb: int = 0,\n",
    "Np: int = 10000,\n",
    "Nr: int = 10000\n",
    "\n",
    "f\"/home/allard/Data/{name}_Series/{name}_{value}\"\n",
    "\"\"\"\n",
    "fou_file_ring = \"./fou_files/Ring/fou_file_mie_1.5_080_4500_2.0_0.3.dat\"#\"./fou_files/Ring/fou_ring_2_0_0_5.dat\"\n",
    "fou_file_planet = \"./fou_files/Planet/fou_bmsca10.0_asurf0.5.dat\"\n",
    "ring_i = 0 # 90 is edge-on, 0 is face-on\n",
    "ring_l = 0\n",
    "orbit_i = 90 # 90 is edge-on, 0 is face-on\n",
    "ring_ri = 1.05\n",
    "ring_re = 2.6\n",
    "tau_ring = 2.0\n",
    "case_num = 2\n",
    "interpr = \"bilinear\"\n",
    "\n",
    "params = [[fou_file_ring, fou_file_planet, \n",
    "          orbit_i, ring_i, ring_l, ring_ri, ring_re, \"Case_study\", case_num, tau_ring,interpr]]\n",
    "    \n",
    "if __name__ == '__main__':\n",
    "    efunc.pool_handler(len(params),params,efunc.parameterSweep,1)"
   ]
  }
 ],
 "metadata": {
  "kernelspec": {
   "display_name": "pryngles-lab",
   "language": "python",
   "name": "pryngles-lab"
  },
  "language_info": {
   "codemirror_mode": {
    "name": "ipython",
    "version": 3
   },
   "file_extension": ".py",
   "mimetype": "text/x-python",
   "name": "python",
   "nbconvert_exporter": "python",
   "pygments_lexer": "ipython3",
   "version": "3.9.16"
  }
 },
 "nbformat": 4,
 "nbformat_minor": 5
}
