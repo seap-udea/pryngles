{
 "cells": [
  {
   "cell_type": "markdown",
   "id": "5c9f509d",
   "metadata": {},
   "source": [
    "# Pryngles module: base module"
   ]
  },
  {
   "cell_type": "code",
   "execution_count": 5,
   "id": "aaa41b53",
   "metadata": {},
   "outputs": [
    {
     "name": "stdout",
     "output_type": "stream",
     "text": [
      "The autoreload extension is already loaded. To reload it, use:\n",
      "  %reload_ext autoreload\n"
     ]
    }
   ],
   "source": [
    "from pryngles import *\n",
    "%load_ext autoreload\n",
    "%autoreload 2"
   ]
  },
  {
   "cell_type": "code",
   "execution_count": 6,
   "id": "3159b274",
   "metadata": {
    "scrolled": true
   },
   "outputs": [
    {
     "name": "stderr",
     "output_type": "stream",
     "text": [
      "."
     ]
    },
    {
     "name": "stdout",
     "output_type": "stream",
     "text": [
      "    VERB2::save_to:: Saving object to /tmp/save.pck\n",
      "File size: 3.200686  Mb\n",
      "    VERB2::load_from:: Loading object from /tmp/save.pck\n",
      "      VERB3::load_from:: Transferring data to new object\n",
      "{'perro': 0, 'gato': 3} (4000, 100)\n"
     ]
    },
    {
     "name": "stderr",
     "output_type": "stream",
     "text": [
      "\n",
      "----------------------------------------------------------------------\n",
      "Ran 1 test in 0.040s\n",
      "\n",
      "OK\n"
     ]
    },
    {
     "data": {
      "text/plain": [
       "<unittest.main.TestProgram at 0x7fc88407aa30>"
      ]
     },
     "execution_count": 6,
     "metadata": {},
     "output_type": "execute_result"
    }
   ],
   "source": [
    "#@test:__init__\n",
    "def test_common(self):\n",
    "    import numpy as np\n",
    "    import pandas as pd\n",
    "    import os\n",
    "\n",
    "    Verbose.VERBOSITY=VERB_ALL\n",
    "\n",
    "    p=PrynglesCommon()\n",
    "    p.casa=dict(perro=0,gato=3)\n",
    "    p.data=pd.DataFrame(np.random.rand(4000,100))\n",
    "    p.save_to(\"/tmp/save.pck\")\n",
    "    print(\"File size:\",os.path.getsize(\"/tmp/save.pck\")/1e6,\" Mb\")\n",
    "    g=PrynglesCommon()\n",
    "    g.load_from(\"/tmp/save.pck\")\n",
    "    print(g.casa,np.array(g.data).shape)\n",
    "\n",
    "    Verbose.VERBOSITY=VERB_NONE\n",
    "\n",
    "class Test(unittest.TestCase):pass    \n",
    "Test.test_common=test_common\n",
    "unittest.main(argv=['first-arg-is-ignored'],exit=False)\n",
    "#@end:test"
   ]
  },
  {
   "cell_type": "markdown",
   "id": "a3d7b371",
   "metadata": {},
   "source": [
    "### The end"
   ]
  },
  {
   "cell_type": "code",
   "execution_count": 8,
   "id": "b36e296c",
   "metadata": {},
   "outputs": [],
   "source": [
    "#@end:module"
   ]
  }
 ],
 "metadata": {
  "kernelspec": {
   "display_name": "pryngles-lab",
   "language": "python",
   "name": "pryngles-lab"
  },
  "language_info": {
   "codemirror_mode": {
    "name": "ipython",
    "version": 3
   },
   "file_extension": ".py",
   "mimetype": "text/x-python",
   "name": "python",
   "nbconvert_exporter": "python",
   "pygments_lexer": "ipython3",
   "version": "3.9.7"
  }
 },
 "nbformat": 4,
 "nbformat_minor": 5
}
