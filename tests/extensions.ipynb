{
 "cells": [
  {
   "cell_type": "markdown",
   "id": "5c9f509d",
   "metadata": {},
   "source": [
    "# Pryngles module: extensions"
   ]
  },
  {
   "cell_type": "code",
   "execution_count": 1,
   "id": "8b059a4b",
   "metadata": {},
   "outputs": [
    {
     "name": "stdout",
     "output_type": "stream",
     "text": [
      "The autoreload extension is already loaded. To reload it, use:\n",
      "  %reload_ext autoreload\n"
     ]
    }
   ],
   "source": [
    "from pryngles import *\n",
    "%load_ext autoreload\n",
    "%autoreload 2"
   ]
  },
  {
   "cell_type": "code",
   "execution_count": 2,
   "id": "55a85854",
   "metadata": {},
   "outputs": [
    {
     "name": "stderr",
     "output_type": "stream",
     "text": [
      "."
     ]
    },
    {
     "name": "stdout",
     "output_type": "stream",
     "text": [
      "  VERB1::read_fourier:: Checksum '/Users/jorgezuluagacallejas/Dropbox/MiInvestigacion/PapersEnProceso/Exorings/pryngles/src/pryngles/data/fou_gasplanet.dat': 5.5117407392827840e+02\n"
     ]
    },
    {
     "name": "stderr",
     "output_type": "stream",
     "text": [
      "\n",
      "----------------------------------------------------------------------\n",
      "Ran 1 test in 0.142s\n",
      "\n",
      "OK\n"
     ]
    },
    {
     "data": {
      "text/plain": [
       "<unittest.main.TestProgram at 0x7faed88f2eb0>"
      ]
     },
     "execution_count": 2,
     "metadata": {},
     "output_type": "execute_result"
    }
   ],
   "source": [
    "#@test:template\n",
    "def test_readf(self):\n",
    "    Verbose.VERBOSITY=VERB_SIMPLE\n",
    "    \n",
    "    filename=Misc.get_data(\"fou_gasplanet.dat\")\n",
    "    S=StokesScatterer(filename)\n",
    "    Verbose.VERBOSITY=VERB_NONE\n",
    "    pass\n",
    "\n",
    "class Test(unittest.TestCase):pass\n",
    "Test.test_readf=test_readf\n",
    "unittest.main(argv=['first-arg-is-ignored'],exit=False)\n",
    "#@end:test"
   ]
  },
  {
   "cell_type": "code",
   "execution_count": null,
   "id": "490a7559",
   "metadata": {},
   "outputs": [],
   "source": []
  },
  {
   "cell_type": "code",
   "execution_count": 4,
   "id": "ec487f22",
   "metadata": {},
   "outputs": [
    {
     "name": "stderr",
     "output_type": "stream",
     "text": [
      "."
     ]
    },
    {
     "name": "stdout",
     "output_type": "stream",
     "text": [
      "[[[0.34677908 0.33901732 0.80710682]\n",
      "  [0.26198082 0.11872647 0.19301749]\n",
      "  [0.48565832 0.93138371 0.83103498]]\n",
      "\n",
      " [[0.96756479 0.61451319 0.62644641]\n",
      "  [0.66920775 0.85290224 0.56206343]\n",
      "  [0.59286733 0.17259942 0.32388823]]\n",
      "\n",
      " [[0.26113428 0.8988871  0.68002844]\n",
      "  [0.28708081 0.68291116 0.80371501]\n",
      "  [0.25320474 0.188904   0.95435975]]]\n",
      "14.70698309082004\n",
      "[[[0.34677908 0.33901732 0.80710682]\n",
      "  [0.26198082 0.11872647 0.19301749]\n",
      "  [0.48565832 0.93138371 0.83103498]]\n",
      "\n",
      " [[0.96756479 0.61451319 0.62644641]\n",
      "  [0.66920775 0.85290224 0.56206343]\n",
      "  [0.59286733 0.17259942 0.32388823]]\n",
      "\n",
      " [[0.26113428 0.8988871  0.68002844]\n",
      "  [0.28708081 0.68291116 0.80371501]\n",
      "  [0.25320474 0.188904   0.95435975]]]\n"
     ]
    },
    {
     "name": "stderr",
     "output_type": "stream",
     "text": [
      "\n",
      "----------------------------------------------------------------------\n",
      "Ran 1 test in 0.002s\n",
      "\n",
      "OK\n"
     ]
    },
    {
     "data": {
      "text/plain": [
       "<unittest.main.TestProgram at 0x7faed82e6f10>"
      ]
     },
     "execution_count": 4,
     "metadata": {},
     "output_type": "execute_result"
    }
   ],
   "source": [
    "#@test:template\n",
    "def test_fun(self):\n",
    "    global cpixx_ext\n",
    "    \n",
    "    Verbose.VERBOSITY=VERB_SIMPLE\n",
    "    \n",
    "    #Test routines\n",
    "    n=3\n",
    "    m=3\n",
    "    p=3\n",
    "    xmu=np.random.rand(m)\n",
    "    rfou=np.random.rand(n,m,p)\n",
    "    rtra=np.random.rand(n,m,p)\n",
    "    print(rfou)\n",
    "    print(rfou.sum())\n",
    "    F=FourierCoefficients(n,m,p,xmu,rfou,rtra)\n",
    "    #suma=cpixx_ext.sum_structure(F,n,m,p)\n",
    "    #print(suma)\n",
    "    C=ExtensionUtil.ptr2cub(F.rfou,*rfou.shape)\n",
    "    print(C)\n",
    "    \n",
    "    Verbose.VERBOSITY=VERB_NONE\n",
    "    pass\n",
    "\n",
    "class Test(unittest.TestCase):pass\n",
    "Test.test_fun=test_fun\n",
    "unittest.main(argv=['first-arg-is-ignored'],exit=False)\n",
    "#@end:test"
   ]
  },
  {
   "cell_type": "code",
   "execution_count": 5,
   "id": "2b7d97c0",
   "metadata": {},
   "outputs": [
    {
     "name": "stdout",
     "output_type": "stream",
     "text": [
      "  VERB1::read_fourier:: Checksum '/Users/jorgezuluagacallejas/Dropbox/MiInvestigacion/PapersEnProceso/Exorings/pryngles/src/pryngles/data/fou_gasplanet.dat': 5.5117407392827840e+02\n",
      "Expected values:\n",
      "4.597857424902560283e-07 2.251229972872198058e-07 1.834400800563127439e-09 4.896421313424954569e-01\n",
      "[[4.59785742e-07 2.25122997e-07 1.83440080e-09 4.89642131e-01]]\n",
      "  VERB1::read_fourier:: Checksum '/Users/jorgezuluagacallejas/Dropbox/MiInvestigacion/PapersEnProceso/Exorings/pryngles/src/pryngles/data/fou_ring_0_4_0_8.dat': 9.2558439926478186e+03\n"
     ]
    },
    {
     "name": "stderr",
     "output_type": "stream",
     "text": [
      "."
     ]
    },
    {
     "name": "stdout",
     "output_type": "stream",
     "text": [
      "Expected:\n",
      "6.193646058775441171e-06 -3.046132218287162406e-07 -9.759550180589223642e-15 4.918156751904256135e-02\n",
      "[[ 6.18886412e-06 -3.04824143e-07 -9.75183636e-15  4.92536494e-02]]\n",
      "Expected:\n",
      "1.688771016436214060e-07 -1.485273114913191718e-08 2.674513729889046925e-09 8.936444506313186154e-02\n",
      "[[ 1.67645746e-07 -1.48273790e-08  2.67354873e-09  8.98709770e-02]]\n"
     ]
    },
    {
     "name": "stderr",
     "output_type": "stream",
     "text": [
      "\n",
      "----------------------------------------------------------------------\n",
      "Ran 1 test in 4.081s\n",
      "\n",
      "OK\n"
     ]
    },
    {
     "data": {
      "text/plain": [
       "<unittest.main.TestProgram at 0x7faec96f0d60>"
      ]
     },
     "execution_count": 5,
     "metadata": {},
     "output_type": "execute_result"
    }
   ],
   "source": [
    "#@test:template\n",
    "def test_stokes(self):\n",
    "    global S,phi,beta,theta0,theta,apix\n",
    "    Verbose.VERBOSITY=VERB_SIMPLE\n",
    "\n",
    "    #Test values\n",
    "    npix=1\n",
    "    phi=np.zeros(npix)\n",
    "    beta=np.zeros(npix)\n",
    "    theta0=np.zeros(npix)\n",
    "    theta=np.zeros(npix)\n",
    "    apix=np.zeros(npix)\n",
    "\n",
    "    #######################\n",
    "    #Planet\n",
    "    #######################\n",
    "    #Scatterer\n",
    "    filename=Misc.get_data(\"fou_gasplanet.dat\")\n",
    "    S=StokesScatterer(filename)\n",
    "    \n",
    "    phi[0]=1.0448451569439827;\n",
    "    beta[0]=3.069394277348945;\n",
    "    theta0[0]=0.04990329026929557;\n",
    "    theta[0]=0.02509670973070432;\n",
    "    apix[0]=9.432328787795567e-05;\n",
    "    print(\"Expected values:\\n4.597857424902560283e-07 2.251229972872198058e-07 1.834400800563127439e-09 4.896421313424954569e-01\");\n",
    "    \n",
    "    #Calculate albedo\n",
    "    stokes=S.calculate_stokes(phi,beta,theta0,theta,apix)\n",
    "    print(stokes)\n",
    "    \n",
    "    #######################\n",
    "    #Ring\n",
    "    #######################\n",
    "    #Scatterer\n",
    "    filename=Misc.get_data(\"fou_ring_0_4_0_8.dat\")\n",
    "    S=StokesScatterer(filename)\n",
    "    \n",
    "    #Test values for backscattering\n",
    "    phi[0]=1.490116119384765625e-08;\n",
    "    beta[0]=0.000000000000000000e+00;\n",
    "    theta0[0]=4.999999999999998890e-01;\n",
    "    theta[0]=5.000000000000000000e-01;\n",
    "    apix[0]=1.163314390931110409e-04;\n",
    "    print(\"Expected:\\n6.193646058775441171e-06 -3.046132218287162406e-07 -9.759550180589223642e-15 4.918156751904256135e-02\");  \n",
    "\n",
    "    #Calculate albedo\n",
    "    stokes=S.calculate_stokes(phi,beta,theta0,theta,apix)\n",
    "    print(stokes)\n",
    "    \n",
    "    #Test values for forwardscattering\n",
    "    phi[0]=1.601029385538801364e+00;\n",
    "    beta[0]=1.601029385538801364e+00;\n",
    "    theta0[0]=1.744974835125044643e-02;\n",
    "    theta[0]=5.000000000000000000e-01;\n",
    "    apix[0]=1.163314390931110409e-04;\n",
    "    print(\"Expected:\\n1.688771016436214060e-07 -1.485273114913191718e-08 2.674513729889046925e-09 8.936444506313186154e-02\");  \n",
    "\n",
    "    #Calculate albedo\n",
    "    stokes=S.calculate_stokes(phi,beta,theta0,theta,apix,qreflection=0)\n",
    "    print(stokes)\n",
    "\n",
    "    Verbose.VERBOSITY=VERB_NONE\n",
    "    pass\n",
    "\n",
    "class Test(unittest.TestCase):pass\n",
    "Test.test_stokes=test_stokes\n",
    "unittest.main(argv=['first-arg-is-ignored'],exit=False)\n",
    "#@end:test"
   ]
  },
  {
   "cell_type": "code",
   "execution_count": 6,
   "id": "3ae6e3cc",
   "metadata": {},
   "outputs": [
    {
     "name": "stdout",
     "output_type": "stream",
     "text": [
      "  VERB1::read_fourier:: Checksum '/Users/jorgezuluagacallejas/Dropbox/MiInvestigacion/PapersEnProceso/Exorings/pryngles/src/pryngles/data/fou_ring_0_4_0_8.dat': 9.2558439926478186e+03\n"
     ]
    },
    {
     "name": "stderr",
     "output_type": "stream",
     "text": [
      "."
     ]
    },
    {
     "name": "stdout",
     "output_type": "stream",
     "text": [
      "Maximum difference: 0.0005922943417094317\n",
      "Calculation time (per vector): 1.940233882887539 ms\n"
     ]
    },
    {
     "name": "stderr",
     "output_type": "stream",
     "text": [
      "\n",
      "----------------------------------------------------------------------\n",
      "Ran 1 test in 4.432s\n",
      "\n",
      "OK\n"
     ]
    },
    {
     "data": {
      "text/plain": [
       "<unittest.main.TestProgram at 0x7faeb9a77280>"
      ]
     },
     "execution_count": 6,
     "metadata": {},
     "output_type": "execute_result"
    }
   ],
   "source": [
    "#@test:template\n",
    "def test_stokes_mass(self):\n",
    "    from time import time\n",
    "    global S,phi,beta,theta0,theta,apix\n",
    "    Verbose.VERBOSITY=VERB_SIMPLE\n",
    "\n",
    "    #Interpolation file\n",
    "    filename=Misc.get_data(\"fou_ring_0_4_0_8.dat\")\n",
    "    fileinterp=Misc.get_data(\"ring-interpolation.mat\")\n",
    "    \n",
    "    data=np.loadtxt(fileinterp)\n",
    "    npix=len(data)\n",
    "    phi=data[:npix,0].copy()\n",
    "    beta=data[:npix,1].copy()\n",
    "    theta0=data[:npix,2].copy()\n",
    "    theta=data[:npix,3].copy()\n",
    "    apix=data[:npix,7].copy()\n",
    "    spixx=data[:npix,8:]\n",
    "\n",
    "    #Scatterer\n",
    "    S=StokesScatterer(filename)\n",
    "    \n",
    "    #Calculate albedo\n",
    "    st=time()\n",
    "    stokes=S.calculate_stokes(phi,beta,theta0,theta,apix)\n",
    "    et=time()\n",
    "    print(\"Maximum difference:\",abs(spixx-stokes).max())\n",
    "    print(f\"Calculation time (per vector): {(et-st)/npix*1e3} ms\")\n",
    "    \n",
    "    Verbose.VERBOSITY=VERB_NONE\n",
    "    pass\n",
    "\n",
    "class Test(unittest.TestCase):pass\n",
    "Test.test_stokes_mass=test_stokes_mass\n",
    "unittest.main(argv=['first-arg-is-ignored'],exit=False)\n",
    "#@end:test"
   ]
  },
  {
   "cell_type": "markdown",
   "id": "2e766d58",
   "metadata": {},
   "source": [
    "### The end"
   ]
  },
  {
   "cell_type": "code",
   "execution_count": 13,
   "id": "92bec2ab",
   "metadata": {},
   "outputs": [],
   "source": [
    "#@end:module"
   ]
  }
 ],
 "metadata": {
  "kernelspec": {
   "display_name": "Python 3 (ipykernel)",
   "language": "python",
   "name": "python3"
  },
  "language_info": {
   "codemirror_mode": {
    "name": "ipython",
    "version": 3
   },
   "file_extension": ".py",
   "mimetype": "text/x-python",
   "name": "python",
   "nbconvert_exporter": "python",
   "pygments_lexer": "ipython3",
   "version": "3.9.7"
  }
 },
 "nbformat": 4,
 "nbformat_minor": 5
}
