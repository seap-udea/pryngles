{
 "cells": [
  {
   "cell_type": "markdown",
   "id": "5c9f509d",
   "metadata": {},
   "source": [
    "# Pryngles module: Miscellaneous"
   ]
  },
  {
   "cell_type": "code",
   "execution_count": 2,
   "id": "c745b692",
   "metadata": {},
   "outputs": [],
   "source": [
    "from pryngles import *\n",
    "%load_ext autoreload\n",
    "%autoreload 2"
   ]
  },
  {
   "cell_type": "code",
   "execution_count": 3,
   "id": "10dcf758",
   "metadata": {
    "scrolled": false
   },
   "outputs": [
    {
     "name": "stdout",
     "output_type": "stream",
     "text": [
      "/Users/jorgezuluagacallejas/Dropbox/MiInvestigacion/PapersEnProceso/Exorings/pryngles/src/pryngles/data/diffuse_reflection_function.data\n"
     ]
    },
    {
     "data": {
      "text/html": [
       "<table border=\"1\" class=\"dataframe\">\n",
       "  <thead>\n",
       "    <tr style=\"text-align: right;\">\n",
       "      <th></th>\n",
       "      <th>a</th>\n",
       "      <th>b</th>\n",
       "      <th>c</th>\n",
       "    </tr>\n",
       "  </thead>\n",
       "  <tbody>\n",
       "    <tr>\n",
       "      <th>0</th>\n",
       "      <td>0.0</td>\n",
       "      <td>0.0</td>\n",
       "      <td>0.0</td>\n",
       "    </tr>\n",
       "    <tr>\n",
       "      <th>1</th>\n",
       "      <td>0.0</td>\n",
       "      <td>0.0</td>\n",
       "      <td>0.0</td>\n",
       "    </tr>\n",
       "    <tr>\n",
       "      <th>2</th>\n",
       "      <td>0.0</td>\n",
       "      <td>0.0</td>\n",
       "      <td>0.0</td>\n",
       "    </tr>\n",
       "    <tr>\n",
       "      <th>3</th>\n",
       "      <td>0.0</td>\n",
       "      <td>0.0</td>\n",
       "      <td>0.0</td>\n",
       "    </tr>\n",
       "    <tr>\n",
       "      <th>4</th>\n",
       "      <td>0.0</td>\n",
       "      <td>0.0</td>\n",
       "      <td>0.0</td>\n",
       "    </tr>\n",
       "  </tbody>\n",
       "</table>"
      ],
      "text/plain": [
       "<IPython.core.display.HTML object>"
      ]
     },
     "metadata": {},
     "output_type": "display_data"
    },
    {
     "name": "stderr",
     "output_type": "stream",
     "text": [
      "."
     ]
    },
    {
     "name": "stdout",
     "output_type": "stream",
     "text": [
      "['hola']\n",
      "['hola', 'perro', 'gato']\n",
      "['TIME_FIRST', 'TIME_IMPORT', 'TIME_LAST', 'calc_hash', 'elapsed_time', 'flatten', 'get_data', 'get_methods', 'print_df', 'retrieve_data']\n",
      "15119491816990996367\n",
      "8774437079471\n",
      "8774413852052\n"
     ]
    },
    {
     "name": "stderr",
     "output_type": "stream",
     "text": [
      "\n",
      "----------------------------------------------------------------------\n",
      "Ran 1 test in 0.015s\n",
      "\n",
      "OK\n"
     ]
    },
    {
     "data": {
      "text/plain": [
       "<unittest.main.TestProgram at 0x7faf53489bb0>"
      ]
     },
     "execution_count": 3,
     "metadata": {},
     "output_type": "execute_result"
    }
   ],
   "source": [
    "#@test:misc\n",
    "def test_misc(self):\n",
    "\n",
    "    #Get path\n",
    "    filepath=Misc.get_data(\"diffuse_reflection_function.data\")\n",
    "    print(filepath)\n",
    "\n",
    "    #print_df dataframe\n",
    "    import pandas as pd\n",
    "    import numpy as np\n",
    "    df=pd.DataFrame(np.zeros((5,3)),columns=[\"a\",\"b\",\"c\"])\n",
    "    Misc.print_df(df)\n",
    "\n",
    "    #Flatten\n",
    "    print(list(Misc.flatten([\"hola\"])))\n",
    "    print(list(Misc.flatten([\"hola\",[\"perro\",\"gato\"]])))\n",
    "\n",
    "    #Get methods\n",
    "    print(Misc.get_methods(Misc))\n",
    "    \n",
    "    #Hash\n",
    "    d=dict(a=1,b=3,c=np)\n",
    "    print(Misc.calc_hash(d))\n",
    "    P=PrynglesCommon()\n",
    "    print(Misc.calc_hash(P))\n",
    "    print(Misc.calc_hash(PrynglesCommon))\n",
    "\n",
    "class Test(unittest.TestCase):pass    \n",
    "Test.test_misc=test_misc\n",
    "unittest.main(argv=['first-arg-is-ignored'],exit=False)\n",
    "#@end:test"
   ]
  },
  {
   "cell_type": "code",
   "execution_count": 8,
   "id": "29546c90",
   "metadata": {},
   "outputs": [
    {
     "name": "stdout",
     "output_type": "stream",
     "text": [
      "-1\n",
      "VERB0::elapsed_time:: None: 1.6884e+09 s = 469000.72 h\n"
     ]
    },
    {
     "name": "stderr",
     "output_type": "stream",
     "text": [
      "."
     ]
    },
    {
     "name": "stdout",
     "output_type": "stream",
     "text": [
      "VERB0::elapsed_time:: None: 2.00121 s = 2.00 s\n",
      "VERB0::elapsed_time:: None: 2.02374 s = 2.02 s\n"
     ]
    },
    {
     "name": "stderr",
     "output_type": "stream",
     "text": [
      "\n",
      "----------------------------------------------------------------------\n",
      "Ran 1 test in 2.034s\n",
      "\n",
      "OK\n"
     ]
    },
    {
     "data": {
      "text/plain": [
       "<unittest.main.TestProgram at 0x7faf713567f0>"
      ]
     },
     "execution_count": 8,
     "metadata": {},
     "output_type": "execute_result"
    }
   ],
   "source": [
    "#@test:misc\n",
    "def test_time(self):\n",
    "    Verbose.VERBOSITY=VERB_ALL\n",
    "    \n",
    "    print(Misc.TIME_IMPORT)\n",
    "    Misc.elapsed_time()\n",
    "\n",
    "    Misc.elapsed_time(show=False)\n",
    "    time.sleep(2)\n",
    "    Misc.elapsed_time(total=True)\n",
    "\n",
    "    Misc.elapsed_time(imp=True)\n",
    "    Verbose.VERBOSITY=VERB_NONE    \n",
    "    \n",
    "class Test(unittest.TestCase):pass    \n",
    "Test.test_time=test_time\n",
    "unittest.main(argv=['first-arg-is-ignored'],exit=False)\n",
    "#@end:test"
   ]
  },
  {
   "cell_type": "markdown",
   "id": "150b0a66",
   "metadata": {},
   "source": [
    "### Test"
   ]
  },
  {
   "cell_type": "code",
   "execution_count": 33,
   "id": "46fdcad7",
   "metadata": {},
   "outputs": [],
   "source": [
    "#@end:module"
   ]
  }
 ],
 "metadata": {
  "kernelspec": {
   "display_name": "Python 3 (ipykernel)",
   "language": "python",
   "name": "python3"
  },
  "language_info": {
   "codemirror_mode": {
    "name": "ipython",
    "version": 3
   },
   "file_extension": ".py",
   "mimetype": "text/x-python",
   "name": "python",
   "nbconvert_exporter": "python",
   "pygments_lexer": "ipython3",
   "version": "3.9.7"
  }
 },
 "nbformat": 4,
 "nbformat_minor": 5
}
