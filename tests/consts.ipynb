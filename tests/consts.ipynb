{
 "cells": [
  {
   "cell_type": "markdown",
   "id": "5c9f509d",
   "metadata": {},
   "source": [
    "# Pryngles module: Constants and Enumerators\n",
    "\n",
    "This module contains all the constants required by other modules in the package."
   ]
  },
  {
   "cell_type": "code",
   "execution_count": 2,
   "id": "aaa41b53",
   "metadata": {},
   "outputs": [
    {
     "name": "stdout",
     "output_type": "stream",
     "text": [
      "The autoreload extension is already loaded. To reload it, use:\n",
      "  %reload_ext autoreload\n"
     ]
    }
   ],
   "source": [
    "from pryngles import *\n",
    "%load_ext autoreload\n",
    "%autoreload 2"
   ]
  },
  {
   "cell_type": "code",
   "execution_count": 3,
   "id": "570e64ab",
   "metadata": {
    "scrolled": false
   },
   "outputs": [
    {
     "name": "stderr",
     "output_type": "stream",
     "text": [
      "."
     ]
    },
    {
     "name": "stdout",
     "output_type": "stream",
     "text": [
      "['ABC', 'BODY_DEFAULTS', 'BODY_KINDS', 'DATA_INDEX', 'DEG', 'DOUBLE', 'FILE', 'GSI', 'HASH_MAXSIZE', 'HTML', 'IN_JUPYTER', 'LEGACY_PHYSICAL_PROPERTIES', 'NORMFACTOR', 'OBSERVER_DEFAULTS', 'PDOUBLE', 'PLANET_DEFAULTS', 'PPDOUBLE', 'PPPDOUBLE', 'RAD', 'REBOUND_CARTESIAN_PROPERTIES', 'REBOUND_ORBITAL_PROPERTIES', 'RING_DEFAULTS', 'ROOTDIR', 'SAMPLER_CIRCLE_PRESETS', 'SAMPLER_GEOMETRY_CIRCLE', 'SAMPLER_GEOMETRY_SPHERE', 'SAMPLER_MIN_RING', 'SAMPLER_PRESETS', 'SAMPLER_SPHERE_PRESETS', 'SAMPLE_SHAPES', 'SCATTERERS_CATALOGUE', 'SCIENCE_LIMB_NORMALIZATIONS', 'SHADOW_COLOR_LUZ', 'SHADOW_COLOR_OBS', 'SPANGLER_AREAS', 'SPANGLER_COLUMNS', 'SPANGLER_COLUMNS_DOC', 'SPANGLER_COL_COPY', 'SPANGLER_COL_INT', 'SPANGLER_COL_LUZ', 'SPANGLER_COL_OBS', 'SPANGLER_DEBUG_FIELDS', 'SPANGLER_EPS_BORDER', 'SPANGLER_EQUIV_COL', 'SPANGLER_KEY_ORDERING', 'SPANGLER_KEY_SUMMARY', 'SPANGLER_LENGTHS', 'SPANGLER_SOURCE_STATES', 'SPANGLER_VECTORS', 'SPANGLER_VISIBILITY_STATES', 'SPANGLES_DARKNESS_COLOR', 'SPANGLES_SEMITRANSPARENT', 'SPANGLE_ATMOSPHERIC', 'SPANGLE_COLORS', 'SPANGLE_GASEOUS', 'SPANGLE_GRANULAR', 'SPANGLE_LIQUID', 'SPANGLE_SOLID_ICE', 'SPANGLE_SOLID_ROCK', 'SPANGLE_STELLAR', 'STAR_DEFAULTS', 'VERB_ALL', 'VERB_DEEP', 'VERB_NONE', 'VERB_SIMPLE', 'VERB_SYSTEM', 'VERB_VERIFY']\n",
      "['au', 'aus', 'cm', 'd', 'day', 'days', 'deg', 'g', 'gram', 'gyr', 'hr', 'jyr', 'kg', 'km', 'kyr', 'm', 'mearth', 'mjupiter', 'mmars', 'mmercury', 'mneptune', 'mpluto', 'msaturn', 'msolar', 'msun', 'muranus', 'mvenus', 'myr', 'parsec', 'pc', 'ppb', 'ppm', 'rad', 'rearth', 'rjupiter', 'rsaturn', 'rsun', 's', 'solarmass', 'sunmass', 'yr', 'yrs']\n"
     ]
    },
    {
     "name": "stderr",
     "output_type": "stream",
     "text": [
      "\n",
      "----------------------------------------------------------------------\n",
      "Ran 1 test in 0.002s\n",
      "\n",
      "OK\n"
     ]
    },
    {
     "data": {
      "text/plain": [
       "<unittest.main.TestProgram at 0x7f8439615f10>"
      ]
     },
     "execution_count": 3,
     "metadata": {},
     "output_type": "execute_result"
    }
   ],
   "source": [
    "#@test:consts\n",
    "def test_fun(self):\n",
    "    p=Consts.ppm\n",
    "    self.assertEqual([p],[1e6],[True]*1)\n",
    "    print(Consts.get_all())\n",
    "    print(Consts.get_physical())\n",
    "\n",
    "class Test(unittest.TestCase):pass\n",
    "Test.test_fun=test_fun\n",
    "unittest.main(argv=['first-arg-is-ignored'],exit=False)\n",
    "#@end:test"
   ]
  },
  {
   "cell_type": "markdown",
   "id": "7918ce69",
   "metadata": {},
   "source": [
    "### The end"
   ]
  },
  {
   "cell_type": "code",
   "execution_count": 5,
   "id": "3b07c4b8",
   "metadata": {},
   "outputs": [],
   "source": [
    "#@end:module"
   ]
  }
 ],
 "metadata": {
  "kernelspec": {
   "display_name": "Python 3 (ipykernel)",
   "language": "python",
   "name": "python3"
  },
  "language_info": {
   "codemirror_mode": {
    "name": "ipython",
    "version": 3
   },
   "file_extension": ".py",
   "mimetype": "text/x-python",
   "name": "python",
   "nbconvert_exporter": "python",
   "pygments_lexer": "ipython3",
   "version": "3.9.7"
  }
 },
 "nbformat": 4,
 "nbformat_minor": 5
}
